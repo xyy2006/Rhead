{
 "cells": [
  {
   "cell_type": "markdown",
   "metadata": {},
   "source": [
    "# load tools"
   ]
  },
  {
   "cell_type": "code",
   "execution_count": 1,
   "metadata": {},
   "outputs": [],
   "source": [
    "# Request Java Memory\n",
    "options(java.mem = 1024*64)"
   ]
  },
  {
   "cell_type": "code",
   "execution_count": 286,
   "metadata": {},
   "outputs": [],
   "source": [
    "# REFS Libraries\n",
    "library(GNSRE)\n",
    "library(REFSfs)\n",
    "library(gnsutils)\n",
    "library(refsfsutils)\n",
    "\n",
    "# Data-Handling Libraries\n",
    "library(data.table)\n",
    "library(plyr)\n",
    "library(dplyr)\n",
    "library(caret)\n",
    "library(magrittr)"
   ]
  },
  {
   "cell_type": "code",
   "execution_count": 282,
   "metadata": {},
   "outputs": [],
   "source": [
    "'%!in%' = Negate('%in%')"
   ]
  },
  {
   "cell_type": "markdown",
   "metadata": {},
   "source": [
    "# data processing"
   ]
  },
  {
   "cell_type": "code",
   "execution_count": 890,
   "metadata": {},
   "outputs": [],
   "source": [
    "rm(list=ls())"
   ]
  },
  {
   "cell_type": "code",
   "execution_count": 891,
   "metadata": {},
   "outputs": [],
   "source": [
    "setwd(\"/gnshealthcare/shared/nli/models/M4\")"
   ]
  },
  {
   "cell_type": "code",
   "execution_count": 892,
   "metadata": {},
   "outputs": [],
   "source": [
    "dt <- fread(\"/gnshealthcare/shared/nli/dataframe/puller/gns200496v1_anycase_engage_cap.csv\",\n",
    "           drop=c('personId','IndexDate')\n",
    "           #select=c('origId','case_subtype_comp_oncology_R12M')\n",
    "           )"
   ]
  },
  {
   "cell_type": "code",
   "execution_count": 893,
   "metadata": {},
   "outputs": [
    {
     "data": {
      "text/html": [
       "<ol class=list-inline>\n",
       "\t<li>17711</li>\n",
       "\t<li>730</li>\n",
       "</ol>\n"
      ],
      "text/latex": [
       "\\begin{enumerate*}\n",
       "\\item 17711\n",
       "\\item 730\n",
       "\\end{enumerate*}\n"
      ],
      "text/markdown": [
       "1. 17711\n",
       "2. 730\n",
       "\n",
       "\n"
      ],
      "text/plain": [
       "[1] 17711   730"
      ]
     },
     "metadata": {},
     "output_type": "display_data"
    }
   ],
   "source": [
    "dim(dt)"
   ]
  },
  {
   "cell_type": "code",
   "execution_count": 894,
   "metadata": {},
   "outputs": [
    {
     "data": {
      "text/plain": [
       "   Min. 1st Qu.  Median    Mean 3rd Qu.    Max.    NA's \n",
       "   1.00   36.00   51.00   46.79   59.00   85.00     198 "
      ]
     },
     "metadata": {},
     "output_type": "display_data"
    }
   ],
   "source": [
    "summary(dt$MEMBR_AGE)"
   ]
  },
  {
   "cell_type": "code",
   "execution_count": 895,
   "metadata": {},
   "outputs": [
    {
     "data": {
      "text/html": [
       "<ol class=list-inline>\n",
       "\t<li>17711</li>\n",
       "\t<li>730</li>\n",
       "</ol>\n"
      ],
      "text/latex": [
       "\\begin{enumerate*}\n",
       "\\item 17711\n",
       "\\item 730\n",
       "\\end{enumerate*}\n"
      ],
      "text/markdown": [
       "1. 17711\n",
       "2. 730\n",
       "\n",
       "\n"
      ],
      "text/plain": [
       "[1] 17711   730"
      ]
     },
     "metadata": {},
     "output_type": "display_data"
    },
    {
     "data": {
      "text/html": [
       "<ol class=list-inline>\n",
       "\t<li>17513</li>\n",
       "\t<li>730</li>\n",
       "</ol>\n"
      ],
      "text/latex": [
       "\\begin{enumerate*}\n",
       "\\item 17513\n",
       "\\item 730\n",
       "\\end{enumerate*}\n"
      ],
      "text/markdown": [
       "1. 17513\n",
       "2. 730\n",
       "\n",
       "\n"
      ],
      "text/plain": [
       "[1] 17513   730"
      ]
     },
     "metadata": {},
     "output_type": "display_data"
    }
   ],
   "source": [
    "dim(dt)\n",
    "dim(dt[dt$MEMBR_AGE>0])"
   ]
  },
  {
   "cell_type": "code",
   "execution_count": 896,
   "metadata": {},
   "outputs": [],
   "source": [
    "dt <- dt[dt$MEMBR_AGE>0]"
   ]
  },
  {
   "cell_type": "code",
   "execution_count": 897,
   "metadata": {},
   "outputs": [
    {
     "data": {
      "text/html": [
       "<ol class=list-inline>\n",
       "\t<li>17513</li>\n",
       "\t<li>730</li>\n",
       "</ol>\n"
      ],
      "text/latex": [
       "\\begin{enumerate*}\n",
       "\\item 17513\n",
       "\\item 730\n",
       "\\end{enumerate*}\n"
      ],
      "text/markdown": [
       "1. 17513\n",
       "2. 730\n",
       "\n",
       "\n"
      ],
      "text/plain": [
       "[1] 17513   730"
      ]
     },
     "metadata": {},
     "output_type": "display_data"
    }
   ],
   "source": [
    "dim(dt)"
   ]
  },
  {
   "cell_type": "code",
   "execution_count": 898,
   "metadata": {},
   "outputs": [
    {
     "data": {
      "text/plain": [
       "   Min. 1st Qu.  Median    Mean 3rd Qu.    Max. \n",
       "   1.00   36.00   51.00   46.79   59.00   85.00 "
      ]
     },
     "metadata": {},
     "output_type": "display_data"
    }
   ],
   "source": [
    "summary(dt$MEMBR_AGE)"
   ]
  },
  {
   "cell_type": "code",
   "execution_count": 899,
   "metadata": {},
   "outputs": [
    {
     "data": {
      "text/plain": [
       " log_medcost_R12M med_cost_R12M    log_medcost_R6M   med_cost_R6M   \n",
       " Min.   : 0.000   Min.   :     0   Min.   : 0.000   Min.   :     0  \n",
       " 1st Qu.: 8.925   1st Qu.:  7774   1st Qu.: 8.042   1st Qu.:  3593  \n",
       " Median :10.138   Median : 25505   Median : 9.741   Median : 17746  \n",
       " Mean   : 9.824   Mean   : 50287   Mean   : 9.204   Mean   : 37188  \n",
       " 3rd Qu.:11.060   3rd Qu.: 63950   3rd Qu.:10.702   3rd Qu.: 45519  \n",
       " Max.   :12.429   Max.   :250000   Max.   :12.429   Max.   :250000  \n",
       "                  NA's   :88                        NA's   :344     \n",
       " log_medcost_F12M med_cost_F12M   \n",
       " Min.   : 0.000   Min.   :     0  \n",
       " 1st Qu.: 7.926   1st Qu.:  2935  \n",
       " Median : 9.439   Median : 12909  \n",
       " Mean   : 9.201   Mean   : 40297  \n",
       " 3rd Qu.:10.655   3rd Qu.: 43088  \n",
       " Max.   :12.429   Max.   :250000  \n",
       "                  NA's   :189     "
      ]
     },
     "metadata": {},
     "output_type": "display_data"
    }
   ],
   "source": [
    "summary(dt[,grep('cost',colnames(dt)),with=F])"
   ]
  },
  {
   "cell_type": "code",
   "execution_count": 900,
   "metadata": {},
   "outputs": [
    {
     "data": {
      "text/plain": [
       "   Min. 1st Qu.  Median    Mean 3rd Qu.    Max. \n",
       " 0.0000  0.0000  0.0000  0.3858  1.0000  1.0000 "
      ]
     },
     "metadata": {},
     "output_type": "display_data"
    }
   ],
   "source": [
    "summary(dt$GENDER_CD_M)"
   ]
  },
  {
   "cell_type": "code",
   "execution_count": 824,
   "metadata": {},
   "outputs": [],
   "source": [
    "#dt[is.na(dt)] <- 0"
   ]
  },
  {
   "cell_type": "code",
   "execution_count": 901,
   "metadata": {},
   "outputs": [
    {
     "data": {
      "text/html": [
       "<table>\n",
       "<thead><tr><th scope=col>origId</th><th scope=col>RxElig_R12M</th><th scope=col>MEMBR_AGE</th><th scope=col>GENDER_CD_M</th><th scope=col>case_type_core_complex_catastrophic_R12M</th><th scope=col>case_type_oncology_R12M</th><th scope=col>case_type_other_R12M</th><th scope=col>case_type_pregnancy_R12M</th><th scope=col>case_subtype_catastrophic_cm_R12M</th><th scope=col>case_subtype_ckd_R12M</th><th scope=col>⋯</th><th scope=col>ERCount_R12M</th><th scope=col>ERCount_R6M</th><th scope=col>OPCount_R12M</th><th scope=col>OPCount_R6M</th><th scope=col>log_medcost_R12M</th><th scope=col>med_cost_R12M</th><th scope=col>log_medcost_R6M</th><th scope=col>med_cost_R6M</th><th scope=col>log_medcost_F12M</th><th scope=col>med_cost_F12M</th></tr></thead>\n",
       "<tbody>\n",
       "\t<tr><td>26297637 </td><td>NA       </td><td>48       </td><td>0        </td><td> 1       </td><td>NA       </td><td>NA       </td><td>NA       </td><td>NA       </td><td>NA       </td><td>⋯        </td><td>NA       </td><td>NA       </td><td>10       </td><td> 5       </td><td> 6.9799  </td><td>  1073.83</td><td> 6.3298  </td><td>  560.02 </td><td> 6.8832  </td><td>   974.75</td></tr>\n",
       "\t<tr><td>  293380 </td><td>NA       </td><td>45       </td><td>0        </td><td> 1       </td><td>NA       </td><td>NA       </td><td>NA       </td><td>NA       </td><td>NA       </td><td>⋯        </td><td>NA       </td><td>NA       </td><td>44       </td><td>22       </td><td>11.9722  </td><td>158286.83</td><td>11.3265  </td><td>82988.95 </td><td> 8.1415  </td><td>  3432.91</td></tr>\n",
       "\t<tr><td>73339515 </td><td> 1       </td><td>32       </td><td>0        </td><td>NA       </td><td>NA       </td><td>NA       </td><td> 1       </td><td>NA       </td><td>NA       </td><td>⋯        </td><td>NA       </td><td>NA       </td><td>31       </td><td>18       </td><td> 9.2477  </td><td> 10380.01</td><td> 9.1535  </td><td> 9446.49 </td><td> 3.2910  </td><td>    25.87</td></tr>\n",
       "\t<tr><td>  920165 </td><td> 1       </td><td>49       </td><td>1        </td><td> 1       </td><td>NA       </td><td>NA       </td><td>NA       </td><td>NA       </td><td>NA       </td><td>⋯        </td><td> 2       </td><td> 2       </td><td> 6       </td><td> 3       </td><td> 7.8581  </td><td>  2585.65</td><td> 7.7371  </td><td> 2290.78 </td><td> 7.2065  </td><td>  1347.18</td></tr>\n",
       "\t<tr><td>49534436 </td><td> 1       </td><td>28       </td><td>1        </td><td> 1       </td><td>NA       </td><td>NA       </td><td>NA       </td><td>NA       </td><td>NA       </td><td>⋯        </td><td>NA       </td><td>NA       </td><td> 4       </td><td> 4       </td><td> 6.3614  </td><td>   578.03</td><td> 6.3614  </td><td>  578.03 </td><td> 5.2646  </td><td>   192.36</td></tr>\n",
       "\t<tr><td>37162268 </td><td>NA       </td><td>38       </td><td>1        </td><td> 1       </td><td>NA       </td><td>NA       </td><td>NA       </td><td>NA       </td><td>NA       </td><td>⋯        </td><td>NA       </td><td>NA       </td><td> 3       </td><td> 2       </td><td> 5.3414  </td><td>   207.80</td><td> 4.9283  </td><td>  137.15 </td><td>11.8426  </td><td>139053.18</td></tr>\n",
       "</tbody>\n",
       "</table>\n"
      ],
      "text/latex": [
       "\\begin{tabular}{r|llllllllllllllllllllllllllllllllllllllllllllllllllllllllllllllllllllllllllllllllllllllllllllllllllllllllllllllllllllllllllllllllllllllllllllllllllllllllllllllllllllllllllllllllllllllllllllllllllllllllllllllllllllllllllllllllllllllllllllllllllllllllllllllllllllllllllllllllllllllllllllllllllllllllllllllllllllllllllllllllllllllllllllllllllllllllllllllllllllllllllllllllllllllllllllllllllllllllllllllllllllllllllllllllllllllllllllllllllllllllllllllllllllllllllllllllllllllllllllllllllllllllllllllllllllllllllllllllllllllllllllllllllllllllllllllllllllllllllllllllllllllllllllllllllllllllllllllllllllllllllllllllllllllllllllllllllllllllllllllllllllllllllllllllllllllllllllllllllllllllllllllllllllllllllllllllllllllllllllllllllllllllll}\n",
       " origId & RxElig\\_R12M & MEMBR\\_AGE & GENDER\\_CD\\_M & case\\_type\\_core\\_complex\\_catastrophic\\_R12M & case\\_type\\_oncology\\_R12M & case\\_type\\_other\\_R12M & case\\_type\\_pregnancy\\_R12M & case\\_subtype\\_catastrophic\\_cm\\_R12M & case\\_subtype\\_ckd\\_R12M & ⋯ & ERCount\\_R12M & ERCount\\_R6M & OPCount\\_R12M & OPCount\\_R6M & log\\_medcost\\_R12M & med\\_cost\\_R12M & log\\_medcost\\_R6M & med\\_cost\\_R6M & log\\_medcost\\_F12M & med\\_cost\\_F12M\\\\\n",
       "\\hline\n",
       "\t 26297637  & NA        & 48        & 0         &  1        & NA        & NA        & NA        & NA        & NA        & ⋯         & NA        & NA        & 10        &  5        &  6.9799   &   1073.83 &  6.3298   &   560.02  &  6.8832   &    974.75\\\\\n",
       "\t   293380  & NA        & 45        & 0         &  1        & NA        & NA        & NA        & NA        & NA        & ⋯         & NA        & NA        & 44        & 22        & 11.9722   & 158286.83 & 11.3265   & 82988.95  &  8.1415   &   3432.91\\\\\n",
       "\t 73339515  &  1        & 32        & 0         & NA        & NA        & NA        &  1        & NA        & NA        & ⋯         & NA        & NA        & 31        & 18        &  9.2477   &  10380.01 &  9.1535   &  9446.49  &  3.2910   &     25.87\\\\\n",
       "\t   920165  &  1        & 49        & 1         &  1        & NA        & NA        & NA        & NA        & NA        & ⋯         &  2        &  2        &  6        &  3        &  7.8581   &   2585.65 &  7.7371   &  2290.78  &  7.2065   &   1347.18\\\\\n",
       "\t 49534436  &  1        & 28        & 1         &  1        & NA        & NA        & NA        & NA        & NA        & ⋯         & NA        & NA        &  4        &  4        &  6.3614   &    578.03 &  6.3614   &   578.03  &  5.2646   &    192.36\\\\\n",
       "\t 37162268  & NA        & 38        & 1         &  1        & NA        & NA        & NA        & NA        & NA        & ⋯         & NA        & NA        &  3        &  2        &  5.3414   &    207.80 &  4.9283   &   137.15  & 11.8426   & 139053.18\\\\\n",
       "\\end{tabular}\n"
      ],
      "text/markdown": [
       "\n",
       "origId | RxElig_R12M | MEMBR_AGE | GENDER_CD_M | case_type_core_complex_catastrophic_R12M | case_type_oncology_R12M | case_type_other_R12M | case_type_pregnancy_R12M | case_subtype_catastrophic_cm_R12M | case_subtype_ckd_R12M | ⋯ | ERCount_R12M | ERCount_R6M | OPCount_R12M | OPCount_R6M | log_medcost_R12M | med_cost_R12M | log_medcost_R6M | med_cost_R6M | log_medcost_F12M | med_cost_F12M | \n",
       "|---|---|---|---|---|---|\n",
       "| 26297637  | NA        | 48        | 0         |  1        | NA        | NA        | NA        | NA        | NA        | ⋯         | NA        | NA        | 10        |  5        |  6.9799   |   1073.83 |  6.3298   |   560.02  |  6.8832   |    974.75 | \n",
       "|   293380  | NA        | 45        | 0         |  1        | NA        | NA        | NA        | NA        | NA        | ⋯         | NA        | NA        | 44        | 22        | 11.9722   | 158286.83 | 11.3265   | 82988.95  |  8.1415   |   3432.91 | \n",
       "| 73339515  |  1        | 32        | 0         | NA        | NA        | NA        |  1        | NA        | NA        | ⋯         | NA        | NA        | 31        | 18        |  9.2477   |  10380.01 |  9.1535   |  9446.49  |  3.2910   |     25.87 | \n",
       "|   920165  |  1        | 49        | 1         |  1        | NA        | NA        | NA        | NA        | NA        | ⋯         |  2        |  2        |  6        |  3        |  7.8581   |   2585.65 |  7.7371   |  2290.78  |  7.2065   |   1347.18 | \n",
       "| 49534436  |  1        | 28        | 1         |  1        | NA        | NA        | NA        | NA        | NA        | ⋯         | NA        | NA        |  4        |  4        |  6.3614   |    578.03 |  6.3614   |   578.03  |  5.2646   |    192.36 | \n",
       "| 37162268  | NA        | 38        | 1         |  1        | NA        | NA        | NA        | NA        | NA        | ⋯         | NA        | NA        |  3        |  2        |  5.3414   |    207.80 |  4.9283   |   137.15  | 11.8426   | 139053.18 | \n",
       "\n",
       "\n"
      ],
      "text/plain": [
       "  origId   RxElig_R12M MEMBR_AGE GENDER_CD_M\n",
       "1 26297637 NA          48        0          \n",
       "2   293380 NA          45        0          \n",
       "3 73339515  1          32        0          \n",
       "4   920165  1          49        1          \n",
       "5 49534436  1          28        1          \n",
       "6 37162268 NA          38        1          \n",
       "  case_type_core_complex_catastrophic_R12M case_type_oncology_R12M\n",
       "1  1                                       NA                     \n",
       "2  1                                       NA                     \n",
       "3 NA                                       NA                     \n",
       "4  1                                       NA                     \n",
       "5  1                                       NA                     \n",
       "6  1                                       NA                     \n",
       "  case_type_other_R12M case_type_pregnancy_R12M\n",
       "1 NA                   NA                      \n",
       "2 NA                   NA                      \n",
       "3 NA                    1                      \n",
       "4 NA                   NA                      \n",
       "5 NA                   NA                      \n",
       "6 NA                   NA                      \n",
       "  case_subtype_catastrophic_cm_R12M case_subtype_ckd_R12M ⋯ ERCount_R12M\n",
       "1 NA                                NA                    ⋯ NA          \n",
       "2 NA                                NA                    ⋯ NA          \n",
       "3 NA                                NA                    ⋯ NA          \n",
       "4 NA                                NA                    ⋯  2          \n",
       "5 NA                                NA                    ⋯ NA          \n",
       "6 NA                                NA                    ⋯ NA          \n",
       "  ERCount_R6M OPCount_R12M OPCount_R6M log_medcost_R12M med_cost_R12M\n",
       "1 NA          10            5           6.9799            1073.83    \n",
       "2 NA          44           22          11.9722          158286.83    \n",
       "3 NA          31           18           9.2477           10380.01    \n",
       "4  2           6            3           7.8581            2585.65    \n",
       "5 NA           4            4           6.3614             578.03    \n",
       "6 NA           3            2           5.3414             207.80    \n",
       "  log_medcost_R6M med_cost_R6M log_medcost_F12M med_cost_F12M\n",
       "1  6.3298           560.02      6.8832             974.75    \n",
       "2 11.3265         82988.95      8.1415            3432.91    \n",
       "3  9.1535          9446.49      3.2910              25.87    \n",
       "4  7.7371          2290.78      7.2065            1347.18    \n",
       "5  6.3614           578.03      5.2646             192.36    \n",
       "6  4.9283           137.15     11.8426          139053.18    "
      ]
     },
     "metadata": {},
     "output_type": "display_data"
    }
   ],
   "source": [
    "head(dt)"
   ]
  },
  {
   "cell_type": "code",
   "execution_count": null,
   "metadata": {},
   "outputs": [],
   "source": []
  },
  {
   "cell_type": "code",
   "execution_count": null,
   "metadata": {},
   "outputs": [],
   "source": []
  },
  {
   "cell_type": "code",
   "execution_count": 479,
   "metadata": {},
   "outputs": [],
   "source": [
    "coderange = 11:47#cancer related single CCS dx"
   ]
  },
  {
   "cell_type": "code",
   "execution_count": 480,
   "metadata": {},
   "outputs": [
    {
     "data": {
      "text/html": [
       "<ol class=list-inline>\n",
       "\t<li>11</li>\n",
       "\t<li>12</li>\n",
       "\t<li>13</li>\n",
       "\t<li>14</li>\n",
       "\t<li>15</li>\n",
       "\t<li>16</li>\n",
       "\t<li>17</li>\n",
       "\t<li>18</li>\n",
       "\t<li>19</li>\n",
       "\t<li>20</li>\n",
       "\t<li>21</li>\n",
       "\t<li>22</li>\n",
       "\t<li>23</li>\n",
       "\t<li>24</li>\n",
       "\t<li>25</li>\n",
       "\t<li>26</li>\n",
       "\t<li>27</li>\n",
       "\t<li>28</li>\n",
       "\t<li>29</li>\n",
       "\t<li>30</li>\n",
       "\t<li>31</li>\n",
       "\t<li>32</li>\n",
       "\t<li>33</li>\n",
       "\t<li>34</li>\n",
       "\t<li>35</li>\n",
       "\t<li>36</li>\n",
       "\t<li>37</li>\n",
       "\t<li>38</li>\n",
       "\t<li>39</li>\n",
       "\t<li>40</li>\n",
       "\t<li>41</li>\n",
       "\t<li>42</li>\n",
       "\t<li>43</li>\n",
       "\t<li>44</li>\n",
       "\t<li>45</li>\n",
       "\t<li>46</li>\n",
       "\t<li>47</li>\n",
       "</ol>\n"
      ],
      "text/latex": [
       "\\begin{enumerate*}\n",
       "\\item 11\n",
       "\\item 12\n",
       "\\item 13\n",
       "\\item 14\n",
       "\\item 15\n",
       "\\item 16\n",
       "\\item 17\n",
       "\\item 18\n",
       "\\item 19\n",
       "\\item 20\n",
       "\\item 21\n",
       "\\item 22\n",
       "\\item 23\n",
       "\\item 24\n",
       "\\item 25\n",
       "\\item 26\n",
       "\\item 27\n",
       "\\item 28\n",
       "\\item 29\n",
       "\\item 30\n",
       "\\item 31\n",
       "\\item 32\n",
       "\\item 33\n",
       "\\item 34\n",
       "\\item 35\n",
       "\\item 36\n",
       "\\item 37\n",
       "\\item 38\n",
       "\\item 39\n",
       "\\item 40\n",
       "\\item 41\n",
       "\\item 42\n",
       "\\item 43\n",
       "\\item 44\n",
       "\\item 45\n",
       "\\item 46\n",
       "\\item 47\n",
       "\\end{enumerate*}\n"
      ],
      "text/markdown": [
       "1. 11\n",
       "2. 12\n",
       "3. 13\n",
       "4. 14\n",
       "5. 15\n",
       "6. 16\n",
       "7. 17\n",
       "8. 18\n",
       "9. 19\n",
       "10. 20\n",
       "11. 21\n",
       "12. 22\n",
       "13. 23\n",
       "14. 24\n",
       "15. 25\n",
       "16. 26\n",
       "17. 27\n",
       "18. 28\n",
       "19. 29\n",
       "20. 30\n",
       "21. 31\n",
       "22. 32\n",
       "23. 33\n",
       "24. 34\n",
       "25. 35\n",
       "26. 36\n",
       "27. 37\n",
       "28. 38\n",
       "29. 39\n",
       "30. 40\n",
       "31. 41\n",
       "32. 42\n",
       "33. 43\n",
       "34. 44\n",
       "35. 45\n",
       "36. 46\n",
       "37. 47\n",
       "\n",
       "\n"
      ],
      "text/plain": [
       " [1] 11 12 13 14 15 16 17 18 19 20 21 22 23 24 25 26 27 28 29 30 31 32 33 34 35\n",
       "[26] 36 37 38 39 40 41 42 43 44 45 46 47"
      ]
     },
     "metadata": {},
     "output_type": "display_data"
    }
   ],
   "source": [
    "coderange"
   ]
  },
  {
   "cell_type": "code",
   "execution_count": 506,
   "metadata": {},
   "outputs": [],
   "source": [
    "ccsrange = paste0('DIAG_CCS_',as.character(coderange),'_')"
   ]
  },
  {
   "cell_type": "code",
   "execution_count": 507,
   "metadata": {},
   "outputs": [
    {
     "data": {
      "text/html": [
       "<ol class=list-inline>\n",
       "\t<li>'DIAG_CCS_11_'</li>\n",
       "\t<li>'DIAG_CCS_12_'</li>\n",
       "\t<li>'DIAG_CCS_13_'</li>\n",
       "\t<li>'DIAG_CCS_14_'</li>\n",
       "\t<li>'DIAG_CCS_15_'</li>\n",
       "\t<li>'DIAG_CCS_16_'</li>\n",
       "\t<li>'DIAG_CCS_17_'</li>\n",
       "\t<li>'DIAG_CCS_18_'</li>\n",
       "\t<li>'DIAG_CCS_19_'</li>\n",
       "\t<li>'DIAG_CCS_20_'</li>\n",
       "\t<li>'DIAG_CCS_21_'</li>\n",
       "\t<li>'DIAG_CCS_22_'</li>\n",
       "\t<li>'DIAG_CCS_23_'</li>\n",
       "\t<li>'DIAG_CCS_24_'</li>\n",
       "\t<li>'DIAG_CCS_25_'</li>\n",
       "\t<li>'DIAG_CCS_26_'</li>\n",
       "\t<li>'DIAG_CCS_27_'</li>\n",
       "\t<li>'DIAG_CCS_28_'</li>\n",
       "\t<li>'DIAG_CCS_29_'</li>\n",
       "\t<li>'DIAG_CCS_30_'</li>\n",
       "\t<li>'DIAG_CCS_31_'</li>\n",
       "\t<li>'DIAG_CCS_32_'</li>\n",
       "\t<li>'DIAG_CCS_33_'</li>\n",
       "\t<li>'DIAG_CCS_34_'</li>\n",
       "\t<li>'DIAG_CCS_35_'</li>\n",
       "\t<li>'DIAG_CCS_36_'</li>\n",
       "\t<li>'DIAG_CCS_37_'</li>\n",
       "\t<li>'DIAG_CCS_38_'</li>\n",
       "\t<li>'DIAG_CCS_39_'</li>\n",
       "\t<li>'DIAG_CCS_40_'</li>\n",
       "\t<li>'DIAG_CCS_41_'</li>\n",
       "\t<li>'DIAG_CCS_42_'</li>\n",
       "\t<li>'DIAG_CCS_43_'</li>\n",
       "\t<li>'DIAG_CCS_44_'</li>\n",
       "\t<li>'DIAG_CCS_45_'</li>\n",
       "\t<li>'DIAG_CCS_46_'</li>\n",
       "\t<li>'DIAG_CCS_47_'</li>\n",
       "</ol>\n"
      ],
      "text/latex": [
       "\\begin{enumerate*}\n",
       "\\item 'DIAG\\_CCS\\_11\\_'\n",
       "\\item 'DIAG\\_CCS\\_12\\_'\n",
       "\\item 'DIAG\\_CCS\\_13\\_'\n",
       "\\item 'DIAG\\_CCS\\_14\\_'\n",
       "\\item 'DIAG\\_CCS\\_15\\_'\n",
       "\\item 'DIAG\\_CCS\\_16\\_'\n",
       "\\item 'DIAG\\_CCS\\_17\\_'\n",
       "\\item 'DIAG\\_CCS\\_18\\_'\n",
       "\\item 'DIAG\\_CCS\\_19\\_'\n",
       "\\item 'DIAG\\_CCS\\_20\\_'\n",
       "\\item 'DIAG\\_CCS\\_21\\_'\n",
       "\\item 'DIAG\\_CCS\\_22\\_'\n",
       "\\item 'DIAG\\_CCS\\_23\\_'\n",
       "\\item 'DIAG\\_CCS\\_24\\_'\n",
       "\\item 'DIAG\\_CCS\\_25\\_'\n",
       "\\item 'DIAG\\_CCS\\_26\\_'\n",
       "\\item 'DIAG\\_CCS\\_27\\_'\n",
       "\\item 'DIAG\\_CCS\\_28\\_'\n",
       "\\item 'DIAG\\_CCS\\_29\\_'\n",
       "\\item 'DIAG\\_CCS\\_30\\_'\n",
       "\\item 'DIAG\\_CCS\\_31\\_'\n",
       "\\item 'DIAG\\_CCS\\_32\\_'\n",
       "\\item 'DIAG\\_CCS\\_33\\_'\n",
       "\\item 'DIAG\\_CCS\\_34\\_'\n",
       "\\item 'DIAG\\_CCS\\_35\\_'\n",
       "\\item 'DIAG\\_CCS\\_36\\_'\n",
       "\\item 'DIAG\\_CCS\\_37\\_'\n",
       "\\item 'DIAG\\_CCS\\_38\\_'\n",
       "\\item 'DIAG\\_CCS\\_39\\_'\n",
       "\\item 'DIAG\\_CCS\\_40\\_'\n",
       "\\item 'DIAG\\_CCS\\_41\\_'\n",
       "\\item 'DIAG\\_CCS\\_42\\_'\n",
       "\\item 'DIAG\\_CCS\\_43\\_'\n",
       "\\item 'DIAG\\_CCS\\_44\\_'\n",
       "\\item 'DIAG\\_CCS\\_45\\_'\n",
       "\\item 'DIAG\\_CCS\\_46\\_'\n",
       "\\item 'DIAG\\_CCS\\_47\\_'\n",
       "\\end{enumerate*}\n"
      ],
      "text/markdown": [
       "1. 'DIAG_CCS_11_'\n",
       "2. 'DIAG_CCS_12_'\n",
       "3. 'DIAG_CCS_13_'\n",
       "4. 'DIAG_CCS_14_'\n",
       "5. 'DIAG_CCS_15_'\n",
       "6. 'DIAG_CCS_16_'\n",
       "7. 'DIAG_CCS_17_'\n",
       "8. 'DIAG_CCS_18_'\n",
       "9. 'DIAG_CCS_19_'\n",
       "10. 'DIAG_CCS_20_'\n",
       "11. 'DIAG_CCS_21_'\n",
       "12. 'DIAG_CCS_22_'\n",
       "13. 'DIAG_CCS_23_'\n",
       "14. 'DIAG_CCS_24_'\n",
       "15. 'DIAG_CCS_25_'\n",
       "16. 'DIAG_CCS_26_'\n",
       "17. 'DIAG_CCS_27_'\n",
       "18. 'DIAG_CCS_28_'\n",
       "19. 'DIAG_CCS_29_'\n",
       "20. 'DIAG_CCS_30_'\n",
       "21. 'DIAG_CCS_31_'\n",
       "22. 'DIAG_CCS_32_'\n",
       "23. 'DIAG_CCS_33_'\n",
       "24. 'DIAG_CCS_34_'\n",
       "25. 'DIAG_CCS_35_'\n",
       "26. 'DIAG_CCS_36_'\n",
       "27. 'DIAG_CCS_37_'\n",
       "28. 'DIAG_CCS_38_'\n",
       "29. 'DIAG_CCS_39_'\n",
       "30. 'DIAG_CCS_40_'\n",
       "31. 'DIAG_CCS_41_'\n",
       "32. 'DIAG_CCS_42_'\n",
       "33. 'DIAG_CCS_43_'\n",
       "34. 'DIAG_CCS_44_'\n",
       "35. 'DIAG_CCS_45_'\n",
       "36. 'DIAG_CCS_46_'\n",
       "37. 'DIAG_CCS_47_'\n",
       "\n",
       "\n"
      ],
      "text/plain": [
       " [1] \"DIAG_CCS_11_\" \"DIAG_CCS_12_\" \"DIAG_CCS_13_\" \"DIAG_CCS_14_\" \"DIAG_CCS_15_\"\n",
       " [6] \"DIAG_CCS_16_\" \"DIAG_CCS_17_\" \"DIAG_CCS_18_\" \"DIAG_CCS_19_\" \"DIAG_CCS_20_\"\n",
       "[11] \"DIAG_CCS_21_\" \"DIAG_CCS_22_\" \"DIAG_CCS_23_\" \"DIAG_CCS_24_\" \"DIAG_CCS_25_\"\n",
       "[16] \"DIAG_CCS_26_\" \"DIAG_CCS_27_\" \"DIAG_CCS_28_\" \"DIAG_CCS_29_\" \"DIAG_CCS_30_\"\n",
       "[21] \"DIAG_CCS_31_\" \"DIAG_CCS_32_\" \"DIAG_CCS_33_\" \"DIAG_CCS_34_\" \"DIAG_CCS_35_\"\n",
       "[26] \"DIAG_CCS_36_\" \"DIAG_CCS_37_\" \"DIAG_CCS_38_\" \"DIAG_CCS_39_\" \"DIAG_CCS_40_\"\n",
       "[31] \"DIAG_CCS_41_\" \"DIAG_CCS_42_\" \"DIAG_CCS_43_\" \"DIAG_CCS_44_\" \"DIAG_CCS_45_\"\n",
       "[36] \"DIAG_CCS_46_\" \"DIAG_CCS_47_\""
      ]
     },
     "metadata": {},
     "output_type": "display_data"
    }
   ],
   "source": [
    "ccsrange"
   ]
  },
  {
   "cell_type": "code",
   "execution_count": 485,
   "metadata": {},
   "outputs": [],
   "source": [
    "engonc <- dt[dt$assess_engaged_core_oncology_R12M==1]"
   ]
  },
  {
   "cell_type": "code",
   "execution_count": 486,
   "metadata": {},
   "outputs": [
    {
     "data": {
      "text/html": [
       "<ol class=list-inline>\n",
       "\t<li>327</li>\n",
       "\t<li>730</li>\n",
       "</ol>\n"
      ],
      "text/latex": [
       "\\begin{enumerate*}\n",
       "\\item 327\n",
       "\\item 730\n",
       "\\end{enumerate*}\n"
      ],
      "text/markdown": [
       "1. 327\n",
       "2. 730\n",
       "\n",
       "\n"
      ],
      "text/plain": [
       "[1] 327 730"
      ]
     },
     "metadata": {},
     "output_type": "display_data"
    }
   ],
   "source": [
    "dim(engonc)"
   ]
  },
  {
   "cell_type": "code",
   "execution_count": 487,
   "metadata": {},
   "outputs": [
    {
     "data": {
      "text/html": [
       "<table>\n",
       "<thead><tr><th scope=col>risklvl</th><th scope=col>n</th></tr></thead>\n",
       "<tbody>\n",
       "\t<tr><td>    </td><td>305 </td></tr>\n",
       "\t<tr><td>STR2</td><td>  1 </td></tr>\n",
       "\t<tr><td>STR3</td><td> 18 </td></tr>\n",
       "\t<tr><td>STR4</td><td>  3 </td></tr>\n",
       "</tbody>\n",
       "</table>\n"
      ],
      "text/latex": [
       "\\begin{tabular}{r|ll}\n",
       " risklvl & n\\\\\n",
       "\\hline\n",
       "\t      & 305 \\\\\n",
       "\t STR2 &   1 \\\\\n",
       "\t STR3 &  18 \\\\\n",
       "\t STR4 &   3 \\\\\n",
       "\\end{tabular}\n"
      ],
      "text/markdown": [
       "\n",
       "risklvl | n | \n",
       "|---|---|---|---|\n",
       "|      | 305  | \n",
       "| STR2 |   1  | \n",
       "| STR3 |  18  | \n",
       "| STR4 |   3  | \n",
       "\n",
       "\n"
      ],
      "text/plain": [
       "  risklvl n  \n",
       "1         305\n",
       "2 STR2      1\n",
       "3 STR3     18\n",
       "4 STR4      3"
      ]
     },
     "metadata": {},
     "output_type": "display_data"
    }
   ],
   "source": [
    "count(engonc,risklvl)"
   ]
  },
  {
   "cell_type": "code",
   "execution_count": 536,
   "metadata": {},
   "outputs": [],
   "source": [
    "engonc <- dt[dt$assess_engaged_comp_oncology_R12M==1 & dt$risklvl %!in% c('STR1','STR2')]"
   ]
  },
  {
   "cell_type": "code",
   "execution_count": 537,
   "metadata": {},
   "outputs": [
    {
     "data": {
      "text/html": [
       "<ol class=list-inline>\n",
       "\t<li>241</li>\n",
       "\t<li>730</li>\n",
       "</ol>\n"
      ],
      "text/latex": [
       "\\begin{enumerate*}\n",
       "\\item 241\n",
       "\\item 730\n",
       "\\end{enumerate*}\n"
      ],
      "text/markdown": [
       "1. 241\n",
       "2. 730\n",
       "\n",
       "\n"
      ],
      "text/plain": [
       "[1] 241 730"
      ]
     },
     "metadata": {},
     "output_type": "display_data"
    }
   ],
   "source": [
    "dim(engonc)"
   ]
  },
  {
   "cell_type": "code",
   "execution_count": 538,
   "metadata": {},
   "outputs": [
    {
     "data": {
      "text/html": [
       "<table>\n",
       "<thead><tr><th scope=col>risklvl</th><th scope=col>n</th></tr></thead>\n",
       "<tbody>\n",
       "\t<tr><td>    </td><td> 25 </td></tr>\n",
       "\t<tr><td>STR3</td><td>134 </td></tr>\n",
       "\t<tr><td>STR4</td><td> 82 </td></tr>\n",
       "</tbody>\n",
       "</table>\n"
      ],
      "text/latex": [
       "\\begin{tabular}{r|ll}\n",
       " risklvl & n\\\\\n",
       "\\hline\n",
       "\t      &  25 \\\\\n",
       "\t STR3 & 134 \\\\\n",
       "\t STR4 &  82 \\\\\n",
       "\\end{tabular}\n"
      ],
      "text/markdown": [
       "\n",
       "risklvl | n | \n",
       "|---|---|---|\n",
       "|      |  25  | \n",
       "| STR3 | 134  | \n",
       "| STR4 |  82  | \n",
       "\n",
       "\n"
      ],
      "text/plain": [
       "  risklvl n  \n",
       "1          25\n",
       "2 STR3    134\n",
       "3 STR4     82"
      ]
     },
     "metadata": {},
     "output_type": "display_data"
    }
   ],
   "source": [
    "count(engonc,risklvl)"
   ]
  },
  {
   "cell_type": "markdown",
   "metadata": {},
   "source": [
    "**cannot afford so many inputs with so few data points**"
   ]
  },
  {
   "cell_type": "code",
   "execution_count": 539,
   "metadata": {},
   "outputs": [],
   "source": [
    "data <- engonc[,-grep(\"case|referral|risklvl|assess|act_|DIAG_CCS|PROC|PLACE_OF_SVC_CD_99_R12M|NotCategorized|Unknown\",colnames(engonc)),with=F]"
   ]
  },
  {
   "cell_type": "code",
   "execution_count": 540,
   "metadata": {},
   "outputs": [
    {
     "data": {
      "text/html": [
       "<ol class=list-inline>\n",
       "\t<li>241</li>\n",
       "\t<li>101</li>\n",
       "</ol>\n"
      ],
      "text/latex": [
       "\\begin{enumerate*}\n",
       "\\item 241\n",
       "\\item 101\n",
       "\\end{enumerate*}\n"
      ],
      "text/markdown": [
       "1. 241\n",
       "2. 101\n",
       "\n",
       "\n"
      ],
      "text/plain": [
       "[1] 241 101"
      ]
     },
     "metadata": {},
     "output_type": "display_data"
    }
   ],
   "source": [
    "dim(data)"
   ]
  },
  {
   "cell_type": "code",
   "execution_count": 510,
   "metadata": {},
   "outputs": [],
   "source": [
    "grep_regrules <- paste(c(\"origId\",\"referral_core_oncology_R12M\",ccsrange),collapse='|')"
   ]
  },
  {
   "cell_type": "code",
   "execution_count": 541,
   "metadata": {},
   "outputs": [],
   "source": [
    "grep_regrules <- paste(c(\"origId\",\"referral_comp_oncology_R12M\",ccsrange),collapse='|')"
   ]
  },
  {
   "cell_type": "code",
   "execution_count": 542,
   "metadata": {},
   "outputs": [
    {
     "data": {
      "text/html": [
       "'origId|referral_comp_oncology_R12M|DIAG_CCS_11_|DIAG_CCS_12_|DIAG_CCS_13_|DIAG_CCS_14_|DIAG_CCS_15_|DIAG_CCS_16_|DIAG_CCS_17_|DIAG_CCS_18_|DIAG_CCS_19_|DIAG_CCS_20_|DIAG_CCS_21_|DIAG_CCS_22_|DIAG_CCS_23_|DIAG_CCS_24_|DIAG_CCS_25_|DIAG_CCS_26_|DIAG_CCS_27_|DIAG_CCS_28_|DIAG_CCS_29_|DIAG_CCS_30_|DIAG_CCS_31_|DIAG_CCS_32_|DIAG_CCS_33_|DIAG_CCS_34_|DIAG_CCS_35_|DIAG_CCS_36_|DIAG_CCS_37_|DIAG_CCS_38_|DIAG_CCS_39_|DIAG_CCS_40_|DIAG_CCS_41_|DIAG_CCS_42_|DIAG_CCS_43_|DIAG_CCS_44_|DIAG_CCS_45_|DIAG_CCS_46_|DIAG_CCS_47_'"
      ],
      "text/latex": [
       "'origId\\textbar{}referral\\_comp\\_oncology\\_R12M\\textbar{}DIAG\\_CCS\\_11\\_\\textbar{}DIAG\\_CCS\\_12\\_\\textbar{}DIAG\\_CCS\\_13\\_\\textbar{}DIAG\\_CCS\\_14\\_\\textbar{}DIAG\\_CCS\\_15\\_\\textbar{}DIAG\\_CCS\\_16\\_\\textbar{}DIAG\\_CCS\\_17\\_\\textbar{}DIAG\\_CCS\\_18\\_\\textbar{}DIAG\\_CCS\\_19\\_\\textbar{}DIAG\\_CCS\\_20\\_\\textbar{}DIAG\\_CCS\\_21\\_\\textbar{}DIAG\\_CCS\\_22\\_\\textbar{}DIAG\\_CCS\\_23\\_\\textbar{}DIAG\\_CCS\\_24\\_\\textbar{}DIAG\\_CCS\\_25\\_\\textbar{}DIAG\\_CCS\\_26\\_\\textbar{}DIAG\\_CCS\\_27\\_\\textbar{}DIAG\\_CCS\\_28\\_\\textbar{}DIAG\\_CCS\\_29\\_\\textbar{}DIAG\\_CCS\\_30\\_\\textbar{}DIAG\\_CCS\\_31\\_\\textbar{}DIAG\\_CCS\\_32\\_\\textbar{}DIAG\\_CCS\\_33\\_\\textbar{}DIAG\\_CCS\\_34\\_\\textbar{}DIAG\\_CCS\\_35\\_\\textbar{}DIAG\\_CCS\\_36\\_\\textbar{}DIAG\\_CCS\\_37\\_\\textbar{}DIAG\\_CCS\\_38\\_\\textbar{}DIAG\\_CCS\\_39\\_\\textbar{}DIAG\\_CCS\\_40\\_\\textbar{}DIAG\\_CCS\\_41\\_\\textbar{}DIAG\\_CCS\\_42\\_\\textbar{}DIAG\\_CCS\\_43\\_\\textbar{}DIAG\\_CCS\\_44\\_\\textbar{}DIAG\\_CCS\\_45\\_\\textbar{}DIAG\\_CCS\\_46\\_\\textbar{}DIAG\\_CCS\\_47\\_'"
      ],
      "text/markdown": [
       "'origId|referral_comp_oncology_R12M|DIAG_CCS_11_|DIAG_CCS_12_|DIAG_CCS_13_|DIAG_CCS_14_|DIAG_CCS_15_|DIAG_CCS_16_|DIAG_CCS_17_|DIAG_CCS_18_|DIAG_CCS_19_|DIAG_CCS_20_|DIAG_CCS_21_|DIAG_CCS_22_|DIAG_CCS_23_|DIAG_CCS_24_|DIAG_CCS_25_|DIAG_CCS_26_|DIAG_CCS_27_|DIAG_CCS_28_|DIAG_CCS_29_|DIAG_CCS_30_|DIAG_CCS_31_|DIAG_CCS_32_|DIAG_CCS_33_|DIAG_CCS_34_|DIAG_CCS_35_|DIAG_CCS_36_|DIAG_CCS_37_|DIAG_CCS_38_|DIAG_CCS_39_|DIAG_CCS_40_|DIAG_CCS_41_|DIAG_CCS_42_|DIAG_CCS_43_|DIAG_CCS_44_|DIAG_CCS_45_|DIAG_CCS_46_|DIAG_CCS_47_'"
      ],
      "text/plain": [
       "[1] \"origId|referral_comp_oncology_R12M|DIAG_CCS_11_|DIAG_CCS_12_|DIAG_CCS_13_|DIAG_CCS_14_|DIAG_CCS_15_|DIAG_CCS_16_|DIAG_CCS_17_|DIAG_CCS_18_|DIAG_CCS_19_|DIAG_CCS_20_|DIAG_CCS_21_|DIAG_CCS_22_|DIAG_CCS_23_|DIAG_CCS_24_|DIAG_CCS_25_|DIAG_CCS_26_|DIAG_CCS_27_|DIAG_CCS_28_|DIAG_CCS_29_|DIAG_CCS_30_|DIAG_CCS_31_|DIAG_CCS_32_|DIAG_CCS_33_|DIAG_CCS_34_|DIAG_CCS_35_|DIAG_CCS_36_|DIAG_CCS_37_|DIAG_CCS_38_|DIAG_CCS_39_|DIAG_CCS_40_|DIAG_CCS_41_|DIAG_CCS_42_|DIAG_CCS_43_|DIAG_CCS_44_|DIAG_CCS_45_|DIAG_CCS_46_|DIAG_CCS_47_\""
      ]
     },
     "metadata": {},
     "output_type": "display_data"
    }
   ],
   "source": [
    "grep_regrules"
   ]
  },
  {
   "cell_type": "code",
   "execution_count": 543,
   "metadata": {},
   "outputs": [],
   "source": [
    "data <- merge(data,dt[,grep(grep_regrules,colnames(dt)),with=F],by='origId')"
   ]
  },
  {
   "cell_type": "code",
   "execution_count": 544,
   "metadata": {},
   "outputs": [
    {
     "data": {
      "text/html": [
       "<ol class=list-inline>\n",
       "\t<li>241</li>\n",
       "\t<li>139</li>\n",
       "</ol>\n"
      ],
      "text/latex": [
       "\\begin{enumerate*}\n",
       "\\item 241\n",
       "\\item 139\n",
       "\\end{enumerate*}\n"
      ],
      "text/markdown": [
       "1. 241\n",
       "2. 139\n",
       "\n",
       "\n"
      ],
      "text/plain": [
       "[1] 241 139"
      ]
     },
     "metadata": {},
     "output_type": "display_data"
    }
   ],
   "source": [
    "dim(data)"
   ]
  },
  {
   "cell_type": "code",
   "execution_count": 545,
   "metadata": {
    "scrolled": true
   },
   "outputs": [
    {
     "data": {
      "text/html": [
       "<ol class=list-inline>\n",
       "\t<li>'origId'</li>\n",
       "\t<li>'RxElig_R12M'</li>\n",
       "\t<li>'MEMBR_AGE'</li>\n",
       "\t<li>'GENDER_CD_M'</li>\n",
       "\t<li>'actCount_1_R12M'</li>\n",
       "\t<li>'actCount_10_R12M'</li>\n",
       "\t<li>'actCount_11_R12M'</li>\n",
       "\t<li>'actCount_12_R12M'</li>\n",
       "\t<li>'actCount_13_R12M'</li>\n",
       "\t<li>'actCount_14_R12M'</li>\n",
       "\t<li>'actCount_15_R12M'</li>\n",
       "\t<li>'actCount_16_R12M'</li>\n",
       "\t<li>'actCount_17_R12M'</li>\n",
       "\t<li>'actCount_18_R12M'</li>\n",
       "\t<li>'actCount_19_R12M'</li>\n",
       "\t<li>'actCount_2_R12M'</li>\n",
       "\t<li>'actCount_20_R12M'</li>\n",
       "\t<li>'actCount_21_R12M'</li>\n",
       "\t<li>'actCount_22_R12M'</li>\n",
       "\t<li>'actCount_23_R12M'</li>\n",
       "\t<li>'actCount_3_R12M'</li>\n",
       "\t<li>'actCount_4_R12M'</li>\n",
       "\t<li>'actCount_5_R12M'</li>\n",
       "\t<li>'actCount_6_R12M'</li>\n",
       "\t<li>'actCount_7_R12M'</li>\n",
       "\t<li>'actCount_8_R12M'</li>\n",
       "\t<li>'actCount_9_R12M'</li>\n",
       "\t<li>'DIAG_Charlson_cerebrovas_R12M'</li>\n",
       "\t<li>'DIAG_Charlson_chf_R12M'</li>\n",
       "\t<li>'DIAG_Charlson_cpd_R12M'</li>\n",
       "\t<li>'DIAG_Charlson_dementia_R12M'</li>\n",
       "\t<li>'DIAG_Charlson_diabetes_R12M'</li>\n",
       "\t<li>'DIAG_Charlson_diabeteschronic_R12M'</li>\n",
       "\t<li>'DIAG_Charlson_hiv_R12M'</li>\n",
       "\t<li>'DIAG_Charlson_liver_R12M'</li>\n",
       "\t<li>'DIAG_Charlson_malignancy_R12M'</li>\n",
       "\t<li>'DIAG_Charlson_metastatictumor_R12M'</li>\n",
       "\t<li>'DIAG_Charlson_mi_R12M'</li>\n",
       "\t<li>'DIAG_Charlson_mildliver_R12M'</li>\n",
       "\t<li>'DIAG_Charlson_plegia_R12M'</li>\n",
       "\t<li>'DIAG_Charlson_pud_R12M'</li>\n",
       "\t<li>'DIAG_Charlson_pvd_R12M'</li>\n",
       "\t<li>'DIAG_Charlson_renal_R12M'</li>\n",
       "\t<li>'DIAG_Charlson_rheumatic_R12M'</li>\n",
       "\t<li>'PLACE_OF_SVC_CD_01_R12M'</li>\n",
       "\t<li>'PLACE_OF_SVC_CD_03_R12M'</li>\n",
       "\t<li>'PLACE_OF_SVC_CD_04_R12M'</li>\n",
       "\t<li>'PLACE_OF_SVC_CD_05_R12M'</li>\n",
       "\t<li>'PLACE_OF_SVC_CD_06_R12M'</li>\n",
       "\t<li>'PLACE_OF_SVC_CD_07_R12M'</li>\n",
       "\t<li>'PLACE_OF_SVC_CD_08_R12M'</li>\n",
       "\t<li>'PLACE_OF_SVC_CD_09_R12M'</li>\n",
       "\t<li>'PLACE_OF_SVC_CD_11_R12M'</li>\n",
       "\t<li>'PLACE_OF_SVC_CD_12_R12M'</li>\n",
       "\t<li>'PLACE_OF_SVC_CD_13_R12M'</li>\n",
       "\t<li>'PLACE_OF_SVC_CD_14_R12M'</li>\n",
       "\t<li>'PLACE_OF_SVC_CD_15_R12M'</li>\n",
       "\t<li>'PLACE_OF_SVC_CD_16_R12M'</li>\n",
       "\t<li>'PLACE_OF_SVC_CD_17_R12M'</li>\n",
       "\t<li>'PLACE_OF_SVC_CD_18_R12M'</li>\n",
       "\t<li>'PLACE_OF_SVC_CD_20_R12M'</li>\n",
       "\t<li>'PLACE_OF_SVC_CD_21_R12M'</li>\n",
       "\t<li>'PLACE_OF_SVC_CD_22_R12M'</li>\n",
       "\t<li>'PLACE_OF_SVC_CD_23_R12M'</li>\n",
       "\t<li>'PLACE_OF_SVC_CD_24_R12M'</li>\n",
       "\t<li>'PLACE_OF_SVC_CD_25_R12M'</li>\n",
       "\t<li>'PLACE_OF_SVC_CD_26_R12M'</li>\n",
       "\t<li>'PLACE_OF_SVC_CD_31_R12M'</li>\n",
       "\t<li>'PLACE_OF_SVC_CD_32_R12M'</li>\n",
       "\t<li>'PLACE_OF_SVC_CD_33_R12M'</li>\n",
       "\t<li>'PLACE_OF_SVC_CD_34_R12M'</li>\n",
       "\t<li>'PLACE_OF_SVC_CD_41_R12M'</li>\n",
       "\t<li>'PLACE_OF_SVC_CD_42_R12M'</li>\n",
       "\t<li>'PLACE_OF_SVC_CD_49_R12M'</li>\n",
       "\t<li>'PLACE_OF_SVC_CD_50_R12M'</li>\n",
       "\t<li>'PLACE_OF_SVC_CD_51_R12M'</li>\n",
       "\t<li>'PLACE_OF_SVC_CD_52_R12M'</li>\n",
       "\t<li>'PLACE_OF_SVC_CD_53_R12M'</li>\n",
       "\t<li>'PLACE_OF_SVC_CD_54_R12M'</li>\n",
       "\t<li>'PLACE_OF_SVC_CD_55_R12M'</li>\n",
       "\t<li>'PLACE_OF_SVC_CD_56_R12M'</li>\n",
       "\t<li>'PLACE_OF_SVC_CD_57_R12M'</li>\n",
       "\t<li>'PLACE_OF_SVC_CD_60_R12M'</li>\n",
       "\t<li>'PLACE_OF_SVC_CD_61_R12M'</li>\n",
       "\t<li>'PLACE_OF_SVC_CD_62_R12M'</li>\n",
       "\t<li>'PLACE_OF_SVC_CD_65_R12M'</li>\n",
       "\t<li>'PLACE_OF_SVC_CD_71_R12M'</li>\n",
       "\t<li>'PLACE_OF_SVC_CD_72_R12M'</li>\n",
       "\t<li>'PLACE_OF_SVC_CD_81_R12M'</li>\n",
       "\t<li>'IPLOS_R12M'</li>\n",
       "\t<li>'IPLOS_R6M'</li>\n",
       "\t<li>'ERCount_R12M'</li>\n",
       "\t<li>'ERCount_R6M'</li>\n",
       "\t<li>'OPCount_R12M'</li>\n",
       "\t<li>'OPCount_R6M'</li>\n",
       "\t<li>'log_medcost_R12M'</li>\n",
       "\t<li>'med_cost_R12M'</li>\n",
       "\t<li>'log_medcost_R6M'</li>\n",
       "\t<li>'med_cost_R6M'</li>\n",
       "\t<li>'log_medcost_F12M'</li>\n",
       "\t<li>'med_cost_F12M'</li>\n",
       "\t<li>'referral_comp_oncology_R12M'</li>\n",
       "\t<li>'DIAG_CCS_11_R12M'</li>\n",
       "\t<li>'DIAG_CCS_12_R12M'</li>\n",
       "\t<li>'DIAG_CCS_13_R12M'</li>\n",
       "\t<li>'DIAG_CCS_14_R12M'</li>\n",
       "\t<li>'DIAG_CCS_15_R12M'</li>\n",
       "\t<li>'DIAG_CCS_16_R12M'</li>\n",
       "\t<li>'DIAG_CCS_17_R12M'</li>\n",
       "\t<li>'DIAG_CCS_18_R12M'</li>\n",
       "\t<li>'DIAG_CCS_19_R12M'</li>\n",
       "\t<li>'DIAG_CCS_20_R12M'</li>\n",
       "\t<li>'DIAG_CCS_21_R12M'</li>\n",
       "\t<li>'DIAG_CCS_22_R12M'</li>\n",
       "\t<li>'DIAG_CCS_23_R12M'</li>\n",
       "\t<li>'DIAG_CCS_24_R12M'</li>\n",
       "\t<li>'DIAG_CCS_25_R12M'</li>\n",
       "\t<li>'DIAG_CCS_26_R12M'</li>\n",
       "\t<li>'DIAG_CCS_27_R12M'</li>\n",
       "\t<li>'DIAG_CCS_28_R12M'</li>\n",
       "\t<li>'DIAG_CCS_29_R12M'</li>\n",
       "\t<li>'DIAG_CCS_30_R12M'</li>\n",
       "\t<li>'DIAG_CCS_31_R12M'</li>\n",
       "\t<li>'DIAG_CCS_32_R12M'</li>\n",
       "\t<li>'DIAG_CCS_33_R12M'</li>\n",
       "\t<li>'DIAG_CCS_34_R12M'</li>\n",
       "\t<li>'DIAG_CCS_35_R12M'</li>\n",
       "\t<li>'DIAG_CCS_36_R12M'</li>\n",
       "\t<li>'DIAG_CCS_37_R12M'</li>\n",
       "\t<li>'DIAG_CCS_38_R12M'</li>\n",
       "\t<li>'DIAG_CCS_39_R12M'</li>\n",
       "\t<li>'DIAG_CCS_40_R12M'</li>\n",
       "\t<li>'DIAG_CCS_41_R12M'</li>\n",
       "\t<li>'DIAG_CCS_42_R12M'</li>\n",
       "\t<li>'DIAG_CCS_43_R12M'</li>\n",
       "\t<li>'DIAG_CCS_44_R12M'</li>\n",
       "\t<li>'DIAG_CCS_45_R12M'</li>\n",
       "\t<li>'DIAG_CCS_46_R12M'</li>\n",
       "\t<li>'DIAG_CCS_47_R12M'</li>\n",
       "</ol>\n"
      ],
      "text/latex": [
       "\\begin{enumerate*}\n",
       "\\item 'origId'\n",
       "\\item 'RxElig\\_R12M'\n",
       "\\item 'MEMBR\\_AGE'\n",
       "\\item 'GENDER\\_CD\\_M'\n",
       "\\item 'actCount\\_1\\_R12M'\n",
       "\\item 'actCount\\_10\\_R12M'\n",
       "\\item 'actCount\\_11\\_R12M'\n",
       "\\item 'actCount\\_12\\_R12M'\n",
       "\\item 'actCount\\_13\\_R12M'\n",
       "\\item 'actCount\\_14\\_R12M'\n",
       "\\item 'actCount\\_15\\_R12M'\n",
       "\\item 'actCount\\_16\\_R12M'\n",
       "\\item 'actCount\\_17\\_R12M'\n",
       "\\item 'actCount\\_18\\_R12M'\n",
       "\\item 'actCount\\_19\\_R12M'\n",
       "\\item 'actCount\\_2\\_R12M'\n",
       "\\item 'actCount\\_20\\_R12M'\n",
       "\\item 'actCount\\_21\\_R12M'\n",
       "\\item 'actCount\\_22\\_R12M'\n",
       "\\item 'actCount\\_23\\_R12M'\n",
       "\\item 'actCount\\_3\\_R12M'\n",
       "\\item 'actCount\\_4\\_R12M'\n",
       "\\item 'actCount\\_5\\_R12M'\n",
       "\\item 'actCount\\_6\\_R12M'\n",
       "\\item 'actCount\\_7\\_R12M'\n",
       "\\item 'actCount\\_8\\_R12M'\n",
       "\\item 'actCount\\_9\\_R12M'\n",
       "\\item 'DIAG\\_Charlson\\_cerebrovas\\_R12M'\n",
       "\\item 'DIAG\\_Charlson\\_chf\\_R12M'\n",
       "\\item 'DIAG\\_Charlson\\_cpd\\_R12M'\n",
       "\\item 'DIAG\\_Charlson\\_dementia\\_R12M'\n",
       "\\item 'DIAG\\_Charlson\\_diabetes\\_R12M'\n",
       "\\item 'DIAG\\_Charlson\\_diabeteschronic\\_R12M'\n",
       "\\item 'DIAG\\_Charlson\\_hiv\\_R12M'\n",
       "\\item 'DIAG\\_Charlson\\_liver\\_R12M'\n",
       "\\item 'DIAG\\_Charlson\\_malignancy\\_R12M'\n",
       "\\item 'DIAG\\_Charlson\\_metastatictumor\\_R12M'\n",
       "\\item 'DIAG\\_Charlson\\_mi\\_R12M'\n",
       "\\item 'DIAG\\_Charlson\\_mildliver\\_R12M'\n",
       "\\item 'DIAG\\_Charlson\\_plegia\\_R12M'\n",
       "\\item 'DIAG\\_Charlson\\_pud\\_R12M'\n",
       "\\item 'DIAG\\_Charlson\\_pvd\\_R12M'\n",
       "\\item 'DIAG\\_Charlson\\_renal\\_R12M'\n",
       "\\item 'DIAG\\_Charlson\\_rheumatic\\_R12M'\n",
       "\\item 'PLACE\\_OF\\_SVC\\_CD\\_01\\_R12M'\n",
       "\\item 'PLACE\\_OF\\_SVC\\_CD\\_03\\_R12M'\n",
       "\\item 'PLACE\\_OF\\_SVC\\_CD\\_04\\_R12M'\n",
       "\\item 'PLACE\\_OF\\_SVC\\_CD\\_05\\_R12M'\n",
       "\\item 'PLACE\\_OF\\_SVC\\_CD\\_06\\_R12M'\n",
       "\\item 'PLACE\\_OF\\_SVC\\_CD\\_07\\_R12M'\n",
       "\\item 'PLACE\\_OF\\_SVC\\_CD\\_08\\_R12M'\n",
       "\\item 'PLACE\\_OF\\_SVC\\_CD\\_09\\_R12M'\n",
       "\\item 'PLACE\\_OF\\_SVC\\_CD\\_11\\_R12M'\n",
       "\\item 'PLACE\\_OF\\_SVC\\_CD\\_12\\_R12M'\n",
       "\\item 'PLACE\\_OF\\_SVC\\_CD\\_13\\_R12M'\n",
       "\\item 'PLACE\\_OF\\_SVC\\_CD\\_14\\_R12M'\n",
       "\\item 'PLACE\\_OF\\_SVC\\_CD\\_15\\_R12M'\n",
       "\\item 'PLACE\\_OF\\_SVC\\_CD\\_16\\_R12M'\n",
       "\\item 'PLACE\\_OF\\_SVC\\_CD\\_17\\_R12M'\n",
       "\\item 'PLACE\\_OF\\_SVC\\_CD\\_18\\_R12M'\n",
       "\\item 'PLACE\\_OF\\_SVC\\_CD\\_20\\_R12M'\n",
       "\\item 'PLACE\\_OF\\_SVC\\_CD\\_21\\_R12M'\n",
       "\\item 'PLACE\\_OF\\_SVC\\_CD\\_22\\_R12M'\n",
       "\\item 'PLACE\\_OF\\_SVC\\_CD\\_23\\_R12M'\n",
       "\\item 'PLACE\\_OF\\_SVC\\_CD\\_24\\_R12M'\n",
       "\\item 'PLACE\\_OF\\_SVC\\_CD\\_25\\_R12M'\n",
       "\\item 'PLACE\\_OF\\_SVC\\_CD\\_26\\_R12M'\n",
       "\\item 'PLACE\\_OF\\_SVC\\_CD\\_31\\_R12M'\n",
       "\\item 'PLACE\\_OF\\_SVC\\_CD\\_32\\_R12M'\n",
       "\\item 'PLACE\\_OF\\_SVC\\_CD\\_33\\_R12M'\n",
       "\\item 'PLACE\\_OF\\_SVC\\_CD\\_34\\_R12M'\n",
       "\\item 'PLACE\\_OF\\_SVC\\_CD\\_41\\_R12M'\n",
       "\\item 'PLACE\\_OF\\_SVC\\_CD\\_42\\_R12M'\n",
       "\\item 'PLACE\\_OF\\_SVC\\_CD\\_49\\_R12M'\n",
       "\\item 'PLACE\\_OF\\_SVC\\_CD\\_50\\_R12M'\n",
       "\\item 'PLACE\\_OF\\_SVC\\_CD\\_51\\_R12M'\n",
       "\\item 'PLACE\\_OF\\_SVC\\_CD\\_52\\_R12M'\n",
       "\\item 'PLACE\\_OF\\_SVC\\_CD\\_53\\_R12M'\n",
       "\\item 'PLACE\\_OF\\_SVC\\_CD\\_54\\_R12M'\n",
       "\\item 'PLACE\\_OF\\_SVC\\_CD\\_55\\_R12M'\n",
       "\\item 'PLACE\\_OF\\_SVC\\_CD\\_56\\_R12M'\n",
       "\\item 'PLACE\\_OF\\_SVC\\_CD\\_57\\_R12M'\n",
       "\\item 'PLACE\\_OF\\_SVC\\_CD\\_60\\_R12M'\n",
       "\\item 'PLACE\\_OF\\_SVC\\_CD\\_61\\_R12M'\n",
       "\\item 'PLACE\\_OF\\_SVC\\_CD\\_62\\_R12M'\n",
       "\\item 'PLACE\\_OF\\_SVC\\_CD\\_65\\_R12M'\n",
       "\\item 'PLACE\\_OF\\_SVC\\_CD\\_71\\_R12M'\n",
       "\\item 'PLACE\\_OF\\_SVC\\_CD\\_72\\_R12M'\n",
       "\\item 'PLACE\\_OF\\_SVC\\_CD\\_81\\_R12M'\n",
       "\\item 'IPLOS\\_R12M'\n",
       "\\item 'IPLOS\\_R6M'\n",
       "\\item 'ERCount\\_R12M'\n",
       "\\item 'ERCount\\_R6M'\n",
       "\\item 'OPCount\\_R12M'\n",
       "\\item 'OPCount\\_R6M'\n",
       "\\item 'log\\_medcost\\_R12M'\n",
       "\\item 'med\\_cost\\_R12M'\n",
       "\\item 'log\\_medcost\\_R6M'\n",
       "\\item 'med\\_cost\\_R6M'\n",
       "\\item 'log\\_medcost\\_F12M'\n",
       "\\item 'med\\_cost\\_F12M'\n",
       "\\item 'referral\\_comp\\_oncology\\_R12M'\n",
       "\\item 'DIAG\\_CCS\\_11\\_R12M'\n",
       "\\item 'DIAG\\_CCS\\_12\\_R12M'\n",
       "\\item 'DIAG\\_CCS\\_13\\_R12M'\n",
       "\\item 'DIAG\\_CCS\\_14\\_R12M'\n",
       "\\item 'DIAG\\_CCS\\_15\\_R12M'\n",
       "\\item 'DIAG\\_CCS\\_16\\_R12M'\n",
       "\\item 'DIAG\\_CCS\\_17\\_R12M'\n",
       "\\item 'DIAG\\_CCS\\_18\\_R12M'\n",
       "\\item 'DIAG\\_CCS\\_19\\_R12M'\n",
       "\\item 'DIAG\\_CCS\\_20\\_R12M'\n",
       "\\item 'DIAG\\_CCS\\_21\\_R12M'\n",
       "\\item 'DIAG\\_CCS\\_22\\_R12M'\n",
       "\\item 'DIAG\\_CCS\\_23\\_R12M'\n",
       "\\item 'DIAG\\_CCS\\_24\\_R12M'\n",
       "\\item 'DIAG\\_CCS\\_25\\_R12M'\n",
       "\\item 'DIAG\\_CCS\\_26\\_R12M'\n",
       "\\item 'DIAG\\_CCS\\_27\\_R12M'\n",
       "\\item 'DIAG\\_CCS\\_28\\_R12M'\n",
       "\\item 'DIAG\\_CCS\\_29\\_R12M'\n",
       "\\item 'DIAG\\_CCS\\_30\\_R12M'\n",
       "\\item 'DIAG\\_CCS\\_31\\_R12M'\n",
       "\\item 'DIAG\\_CCS\\_32\\_R12M'\n",
       "\\item 'DIAG\\_CCS\\_33\\_R12M'\n",
       "\\item 'DIAG\\_CCS\\_34\\_R12M'\n",
       "\\item 'DIAG\\_CCS\\_35\\_R12M'\n",
       "\\item 'DIAG\\_CCS\\_36\\_R12M'\n",
       "\\item 'DIAG\\_CCS\\_37\\_R12M'\n",
       "\\item 'DIAG\\_CCS\\_38\\_R12M'\n",
       "\\item 'DIAG\\_CCS\\_39\\_R12M'\n",
       "\\item 'DIAG\\_CCS\\_40\\_R12M'\n",
       "\\item 'DIAG\\_CCS\\_41\\_R12M'\n",
       "\\item 'DIAG\\_CCS\\_42\\_R12M'\n",
       "\\item 'DIAG\\_CCS\\_43\\_R12M'\n",
       "\\item 'DIAG\\_CCS\\_44\\_R12M'\n",
       "\\item 'DIAG\\_CCS\\_45\\_R12M'\n",
       "\\item 'DIAG\\_CCS\\_46\\_R12M'\n",
       "\\item 'DIAG\\_CCS\\_47\\_R12M'\n",
       "\\end{enumerate*}\n"
      ],
      "text/markdown": [
       "1. 'origId'\n",
       "2. 'RxElig_R12M'\n",
       "3. 'MEMBR_AGE'\n",
       "4. 'GENDER_CD_M'\n",
       "5. 'actCount_1_R12M'\n",
       "6. 'actCount_10_R12M'\n",
       "7. 'actCount_11_R12M'\n",
       "8. 'actCount_12_R12M'\n",
       "9. 'actCount_13_R12M'\n",
       "10. 'actCount_14_R12M'\n",
       "11. 'actCount_15_R12M'\n",
       "12. 'actCount_16_R12M'\n",
       "13. 'actCount_17_R12M'\n",
       "14. 'actCount_18_R12M'\n",
       "15. 'actCount_19_R12M'\n",
       "16. 'actCount_2_R12M'\n",
       "17. 'actCount_20_R12M'\n",
       "18. 'actCount_21_R12M'\n",
       "19. 'actCount_22_R12M'\n",
       "20. 'actCount_23_R12M'\n",
       "21. 'actCount_3_R12M'\n",
       "22. 'actCount_4_R12M'\n",
       "23. 'actCount_5_R12M'\n",
       "24. 'actCount_6_R12M'\n",
       "25. 'actCount_7_R12M'\n",
       "26. 'actCount_8_R12M'\n",
       "27. 'actCount_9_R12M'\n",
       "28. 'DIAG_Charlson_cerebrovas_R12M'\n",
       "29. 'DIAG_Charlson_chf_R12M'\n",
       "30. 'DIAG_Charlson_cpd_R12M'\n",
       "31. 'DIAG_Charlson_dementia_R12M'\n",
       "32. 'DIAG_Charlson_diabetes_R12M'\n",
       "33. 'DIAG_Charlson_diabeteschronic_R12M'\n",
       "34. 'DIAG_Charlson_hiv_R12M'\n",
       "35. 'DIAG_Charlson_liver_R12M'\n",
       "36. 'DIAG_Charlson_malignancy_R12M'\n",
       "37. 'DIAG_Charlson_metastatictumor_R12M'\n",
       "38. 'DIAG_Charlson_mi_R12M'\n",
       "39. 'DIAG_Charlson_mildliver_R12M'\n",
       "40. 'DIAG_Charlson_plegia_R12M'\n",
       "41. 'DIAG_Charlson_pud_R12M'\n",
       "42. 'DIAG_Charlson_pvd_R12M'\n",
       "43. 'DIAG_Charlson_renal_R12M'\n",
       "44. 'DIAG_Charlson_rheumatic_R12M'\n",
       "45. 'PLACE_OF_SVC_CD_01_R12M'\n",
       "46. 'PLACE_OF_SVC_CD_03_R12M'\n",
       "47. 'PLACE_OF_SVC_CD_04_R12M'\n",
       "48. 'PLACE_OF_SVC_CD_05_R12M'\n",
       "49. 'PLACE_OF_SVC_CD_06_R12M'\n",
       "50. 'PLACE_OF_SVC_CD_07_R12M'\n",
       "51. 'PLACE_OF_SVC_CD_08_R12M'\n",
       "52. 'PLACE_OF_SVC_CD_09_R12M'\n",
       "53. 'PLACE_OF_SVC_CD_11_R12M'\n",
       "54. 'PLACE_OF_SVC_CD_12_R12M'\n",
       "55. 'PLACE_OF_SVC_CD_13_R12M'\n",
       "56. 'PLACE_OF_SVC_CD_14_R12M'\n",
       "57. 'PLACE_OF_SVC_CD_15_R12M'\n",
       "58. 'PLACE_OF_SVC_CD_16_R12M'\n",
       "59. 'PLACE_OF_SVC_CD_17_R12M'\n",
       "60. 'PLACE_OF_SVC_CD_18_R12M'\n",
       "61. 'PLACE_OF_SVC_CD_20_R12M'\n",
       "62. 'PLACE_OF_SVC_CD_21_R12M'\n",
       "63. 'PLACE_OF_SVC_CD_22_R12M'\n",
       "64. 'PLACE_OF_SVC_CD_23_R12M'\n",
       "65. 'PLACE_OF_SVC_CD_24_R12M'\n",
       "66. 'PLACE_OF_SVC_CD_25_R12M'\n",
       "67. 'PLACE_OF_SVC_CD_26_R12M'\n",
       "68. 'PLACE_OF_SVC_CD_31_R12M'\n",
       "69. 'PLACE_OF_SVC_CD_32_R12M'\n",
       "70. 'PLACE_OF_SVC_CD_33_R12M'\n",
       "71. 'PLACE_OF_SVC_CD_34_R12M'\n",
       "72. 'PLACE_OF_SVC_CD_41_R12M'\n",
       "73. 'PLACE_OF_SVC_CD_42_R12M'\n",
       "74. 'PLACE_OF_SVC_CD_49_R12M'\n",
       "75. 'PLACE_OF_SVC_CD_50_R12M'\n",
       "76. 'PLACE_OF_SVC_CD_51_R12M'\n",
       "77. 'PLACE_OF_SVC_CD_52_R12M'\n",
       "78. 'PLACE_OF_SVC_CD_53_R12M'\n",
       "79. 'PLACE_OF_SVC_CD_54_R12M'\n",
       "80. 'PLACE_OF_SVC_CD_55_R12M'\n",
       "81. 'PLACE_OF_SVC_CD_56_R12M'\n",
       "82. 'PLACE_OF_SVC_CD_57_R12M'\n",
       "83. 'PLACE_OF_SVC_CD_60_R12M'\n",
       "84. 'PLACE_OF_SVC_CD_61_R12M'\n",
       "85. 'PLACE_OF_SVC_CD_62_R12M'\n",
       "86. 'PLACE_OF_SVC_CD_65_R12M'\n",
       "87. 'PLACE_OF_SVC_CD_71_R12M'\n",
       "88. 'PLACE_OF_SVC_CD_72_R12M'\n",
       "89. 'PLACE_OF_SVC_CD_81_R12M'\n",
       "90. 'IPLOS_R12M'\n",
       "91. 'IPLOS_R6M'\n",
       "92. 'ERCount_R12M'\n",
       "93. 'ERCount_R6M'\n",
       "94. 'OPCount_R12M'\n",
       "95. 'OPCount_R6M'\n",
       "96. 'log_medcost_R12M'\n",
       "97. 'med_cost_R12M'\n",
       "98. 'log_medcost_R6M'\n",
       "99. 'med_cost_R6M'\n",
       "100. 'log_medcost_F12M'\n",
       "101. 'med_cost_F12M'\n",
       "102. 'referral_comp_oncology_R12M'\n",
       "103. 'DIAG_CCS_11_R12M'\n",
       "104. 'DIAG_CCS_12_R12M'\n",
       "105. 'DIAG_CCS_13_R12M'\n",
       "106. 'DIAG_CCS_14_R12M'\n",
       "107. 'DIAG_CCS_15_R12M'\n",
       "108. 'DIAG_CCS_16_R12M'\n",
       "109. 'DIAG_CCS_17_R12M'\n",
       "110. 'DIAG_CCS_18_R12M'\n",
       "111. 'DIAG_CCS_19_R12M'\n",
       "112. 'DIAG_CCS_20_R12M'\n",
       "113. 'DIAG_CCS_21_R12M'\n",
       "114. 'DIAG_CCS_22_R12M'\n",
       "115. 'DIAG_CCS_23_R12M'\n",
       "116. 'DIAG_CCS_24_R12M'\n",
       "117. 'DIAG_CCS_25_R12M'\n",
       "118. 'DIAG_CCS_26_R12M'\n",
       "119. 'DIAG_CCS_27_R12M'\n",
       "120. 'DIAG_CCS_28_R12M'\n",
       "121. 'DIAG_CCS_29_R12M'\n",
       "122. 'DIAG_CCS_30_R12M'\n",
       "123. 'DIAG_CCS_31_R12M'\n",
       "124. 'DIAG_CCS_32_R12M'\n",
       "125. 'DIAG_CCS_33_R12M'\n",
       "126. 'DIAG_CCS_34_R12M'\n",
       "127. 'DIAG_CCS_35_R12M'\n",
       "128. 'DIAG_CCS_36_R12M'\n",
       "129. 'DIAG_CCS_37_R12M'\n",
       "130. 'DIAG_CCS_38_R12M'\n",
       "131. 'DIAG_CCS_39_R12M'\n",
       "132. 'DIAG_CCS_40_R12M'\n",
       "133. 'DIAG_CCS_41_R12M'\n",
       "134. 'DIAG_CCS_42_R12M'\n",
       "135. 'DIAG_CCS_43_R12M'\n",
       "136. 'DIAG_CCS_44_R12M'\n",
       "137. 'DIAG_CCS_45_R12M'\n",
       "138. 'DIAG_CCS_46_R12M'\n",
       "139. 'DIAG_CCS_47_R12M'\n",
       "\n",
       "\n"
      ],
      "text/plain": [
       "  [1] \"origId\"                             \"RxElig_R12M\"                       \n",
       "  [3] \"MEMBR_AGE\"                          \"GENDER_CD_M\"                       \n",
       "  [5] \"actCount_1_R12M\"                    \"actCount_10_R12M\"                  \n",
       "  [7] \"actCount_11_R12M\"                   \"actCount_12_R12M\"                  \n",
       "  [9] \"actCount_13_R12M\"                   \"actCount_14_R12M\"                  \n",
       " [11] \"actCount_15_R12M\"                   \"actCount_16_R12M\"                  \n",
       " [13] \"actCount_17_R12M\"                   \"actCount_18_R12M\"                  \n",
       " [15] \"actCount_19_R12M\"                   \"actCount_2_R12M\"                   \n",
       " [17] \"actCount_20_R12M\"                   \"actCount_21_R12M\"                  \n",
       " [19] \"actCount_22_R12M\"                   \"actCount_23_R12M\"                  \n",
       " [21] \"actCount_3_R12M\"                    \"actCount_4_R12M\"                   \n",
       " [23] \"actCount_5_R12M\"                    \"actCount_6_R12M\"                   \n",
       " [25] \"actCount_7_R12M\"                    \"actCount_8_R12M\"                   \n",
       " [27] \"actCount_9_R12M\"                    \"DIAG_Charlson_cerebrovas_R12M\"     \n",
       " [29] \"DIAG_Charlson_chf_R12M\"             \"DIAG_Charlson_cpd_R12M\"            \n",
       " [31] \"DIAG_Charlson_dementia_R12M\"        \"DIAG_Charlson_diabetes_R12M\"       \n",
       " [33] \"DIAG_Charlson_diabeteschronic_R12M\" \"DIAG_Charlson_hiv_R12M\"            \n",
       " [35] \"DIAG_Charlson_liver_R12M\"           \"DIAG_Charlson_malignancy_R12M\"     \n",
       " [37] \"DIAG_Charlson_metastatictumor_R12M\" \"DIAG_Charlson_mi_R12M\"             \n",
       " [39] \"DIAG_Charlson_mildliver_R12M\"       \"DIAG_Charlson_plegia_R12M\"         \n",
       " [41] \"DIAG_Charlson_pud_R12M\"             \"DIAG_Charlson_pvd_R12M\"            \n",
       " [43] \"DIAG_Charlson_renal_R12M\"           \"DIAG_Charlson_rheumatic_R12M\"      \n",
       " [45] \"PLACE_OF_SVC_CD_01_R12M\"            \"PLACE_OF_SVC_CD_03_R12M\"           \n",
       " [47] \"PLACE_OF_SVC_CD_04_R12M\"            \"PLACE_OF_SVC_CD_05_R12M\"           \n",
       " [49] \"PLACE_OF_SVC_CD_06_R12M\"            \"PLACE_OF_SVC_CD_07_R12M\"           \n",
       " [51] \"PLACE_OF_SVC_CD_08_R12M\"            \"PLACE_OF_SVC_CD_09_R12M\"           \n",
       " [53] \"PLACE_OF_SVC_CD_11_R12M\"            \"PLACE_OF_SVC_CD_12_R12M\"           \n",
       " [55] \"PLACE_OF_SVC_CD_13_R12M\"            \"PLACE_OF_SVC_CD_14_R12M\"           \n",
       " [57] \"PLACE_OF_SVC_CD_15_R12M\"            \"PLACE_OF_SVC_CD_16_R12M\"           \n",
       " [59] \"PLACE_OF_SVC_CD_17_R12M\"            \"PLACE_OF_SVC_CD_18_R12M\"           \n",
       " [61] \"PLACE_OF_SVC_CD_20_R12M\"            \"PLACE_OF_SVC_CD_21_R12M\"           \n",
       " [63] \"PLACE_OF_SVC_CD_22_R12M\"            \"PLACE_OF_SVC_CD_23_R12M\"           \n",
       " [65] \"PLACE_OF_SVC_CD_24_R12M\"            \"PLACE_OF_SVC_CD_25_R12M\"           \n",
       " [67] \"PLACE_OF_SVC_CD_26_R12M\"            \"PLACE_OF_SVC_CD_31_R12M\"           \n",
       " [69] \"PLACE_OF_SVC_CD_32_R12M\"            \"PLACE_OF_SVC_CD_33_R12M\"           \n",
       " [71] \"PLACE_OF_SVC_CD_34_R12M\"            \"PLACE_OF_SVC_CD_41_R12M\"           \n",
       " [73] \"PLACE_OF_SVC_CD_42_R12M\"            \"PLACE_OF_SVC_CD_49_R12M\"           \n",
       " [75] \"PLACE_OF_SVC_CD_50_R12M\"            \"PLACE_OF_SVC_CD_51_R12M\"           \n",
       " [77] \"PLACE_OF_SVC_CD_52_R12M\"            \"PLACE_OF_SVC_CD_53_R12M\"           \n",
       " [79] \"PLACE_OF_SVC_CD_54_R12M\"            \"PLACE_OF_SVC_CD_55_R12M\"           \n",
       " [81] \"PLACE_OF_SVC_CD_56_R12M\"            \"PLACE_OF_SVC_CD_57_R12M\"           \n",
       " [83] \"PLACE_OF_SVC_CD_60_R12M\"            \"PLACE_OF_SVC_CD_61_R12M\"           \n",
       " [85] \"PLACE_OF_SVC_CD_62_R12M\"            \"PLACE_OF_SVC_CD_65_R12M\"           \n",
       " [87] \"PLACE_OF_SVC_CD_71_R12M\"            \"PLACE_OF_SVC_CD_72_R12M\"           \n",
       " [89] \"PLACE_OF_SVC_CD_81_R12M\"            \"IPLOS_R12M\"                        \n",
       " [91] \"IPLOS_R6M\"                          \"ERCount_R12M\"                      \n",
       " [93] \"ERCount_R6M\"                        \"OPCount_R12M\"                      \n",
       " [95] \"OPCount_R6M\"                        \"log_medcost_R12M\"                  \n",
       " [97] \"med_cost_R12M\"                      \"log_medcost_R6M\"                   \n",
       " [99] \"med_cost_R6M\"                       \"log_medcost_F12M\"                  \n",
       "[101] \"med_cost_F12M\"                      \"referral_comp_oncology_R12M\"       \n",
       "[103] \"DIAG_CCS_11_R12M\"                   \"DIAG_CCS_12_R12M\"                  \n",
       "[105] \"DIAG_CCS_13_R12M\"                   \"DIAG_CCS_14_R12M\"                  \n",
       "[107] \"DIAG_CCS_15_R12M\"                   \"DIAG_CCS_16_R12M\"                  \n",
       "[109] \"DIAG_CCS_17_R12M\"                   \"DIAG_CCS_18_R12M\"                  \n",
       "[111] \"DIAG_CCS_19_R12M\"                   \"DIAG_CCS_20_R12M\"                  \n",
       "[113] \"DIAG_CCS_21_R12M\"                   \"DIAG_CCS_22_R12M\"                  \n",
       "[115] \"DIAG_CCS_23_R12M\"                   \"DIAG_CCS_24_R12M\"                  \n",
       "[117] \"DIAG_CCS_25_R12M\"                   \"DIAG_CCS_26_R12M\"                  \n",
       "[119] \"DIAG_CCS_27_R12M\"                   \"DIAG_CCS_28_R12M\"                  \n",
       "[121] \"DIAG_CCS_29_R12M\"                   \"DIAG_CCS_30_R12M\"                  \n",
       "[123] \"DIAG_CCS_31_R12M\"                   \"DIAG_CCS_32_R12M\"                  \n",
       "[125] \"DIAG_CCS_33_R12M\"                   \"DIAG_CCS_34_R12M\"                  \n",
       "[127] \"DIAG_CCS_35_R12M\"                   \"DIAG_CCS_36_R12M\"                  \n",
       "[129] \"DIAG_CCS_37_R12M\"                   \"DIAG_CCS_38_R12M\"                  \n",
       "[131] \"DIAG_CCS_39_R12M\"                   \"DIAG_CCS_40_R12M\"                  \n",
       "[133] \"DIAG_CCS_41_R12M\"                   \"DIAG_CCS_42_R12M\"                  \n",
       "[135] \"DIAG_CCS_43_R12M\"                   \"DIAG_CCS_44_R12M\"                  \n",
       "[137] \"DIAG_CCS_45_R12M\"                   \"DIAG_CCS_46_R12M\"                  \n",
       "[139] \"DIAG_CCS_47_R12M\"                  "
      ]
     },
     "metadata": {},
     "output_type": "display_data"
    }
   ],
   "source": [
    "names(data)"
   ]
  },
  {
   "cell_type": "code",
   "execution_count": 546,
   "metadata": {},
   "outputs": [],
   "source": [
    "setnames(data, old=c(\"referral_comp_oncology_R12M\"), new=c(\"referral_\"))"
   ]
  },
  {
   "cell_type": "code",
   "execution_count": 547,
   "metadata": {
    "scrolled": true
   },
   "outputs": [
    {
     "data": {
      "text/html": [
       "<ol class=list-inline>\n",
       "\t<li>'origId'</li>\n",
       "\t<li>'RxElig_R12M'</li>\n",
       "\t<li>'MEMBR_AGE'</li>\n",
       "\t<li>'GENDER_CD_M'</li>\n",
       "\t<li>'actCount_1_R12M'</li>\n",
       "\t<li>'actCount_10_R12M'</li>\n",
       "\t<li>'actCount_11_R12M'</li>\n",
       "\t<li>'actCount_12_R12M'</li>\n",
       "\t<li>'actCount_13_R12M'</li>\n",
       "\t<li>'actCount_14_R12M'</li>\n",
       "\t<li>'actCount_15_R12M'</li>\n",
       "\t<li>'actCount_16_R12M'</li>\n",
       "\t<li>'actCount_17_R12M'</li>\n",
       "\t<li>'actCount_18_R12M'</li>\n",
       "\t<li>'actCount_19_R12M'</li>\n",
       "\t<li>'actCount_2_R12M'</li>\n",
       "\t<li>'actCount_20_R12M'</li>\n",
       "\t<li>'actCount_21_R12M'</li>\n",
       "\t<li>'actCount_22_R12M'</li>\n",
       "\t<li>'actCount_23_R12M'</li>\n",
       "\t<li>'actCount_3_R12M'</li>\n",
       "\t<li>'actCount_4_R12M'</li>\n",
       "\t<li>'actCount_5_R12M'</li>\n",
       "\t<li>'actCount_6_R12M'</li>\n",
       "\t<li>'actCount_7_R12M'</li>\n",
       "\t<li>'actCount_8_R12M'</li>\n",
       "\t<li>'actCount_9_R12M'</li>\n",
       "\t<li>'DIAG_Charlson_cerebrovas_R12M'</li>\n",
       "\t<li>'DIAG_Charlson_chf_R12M'</li>\n",
       "\t<li>'DIAG_Charlson_cpd_R12M'</li>\n",
       "\t<li>'DIAG_Charlson_dementia_R12M'</li>\n",
       "\t<li>'DIAG_Charlson_diabetes_R12M'</li>\n",
       "\t<li>'DIAG_Charlson_diabeteschronic_R12M'</li>\n",
       "\t<li>'DIAG_Charlson_hiv_R12M'</li>\n",
       "\t<li>'DIAG_Charlson_liver_R12M'</li>\n",
       "\t<li>'DIAG_Charlson_malignancy_R12M'</li>\n",
       "\t<li>'DIAG_Charlson_metastatictumor_R12M'</li>\n",
       "\t<li>'DIAG_Charlson_mi_R12M'</li>\n",
       "\t<li>'DIAG_Charlson_mildliver_R12M'</li>\n",
       "\t<li>'DIAG_Charlson_plegia_R12M'</li>\n",
       "\t<li>'DIAG_Charlson_pud_R12M'</li>\n",
       "\t<li>'DIAG_Charlson_pvd_R12M'</li>\n",
       "\t<li>'DIAG_Charlson_renal_R12M'</li>\n",
       "\t<li>'DIAG_Charlson_rheumatic_R12M'</li>\n",
       "\t<li>'PLACE_OF_SVC_CD_01_R12M'</li>\n",
       "\t<li>'PLACE_OF_SVC_CD_03_R12M'</li>\n",
       "\t<li>'PLACE_OF_SVC_CD_04_R12M'</li>\n",
       "\t<li>'PLACE_OF_SVC_CD_05_R12M'</li>\n",
       "\t<li>'PLACE_OF_SVC_CD_06_R12M'</li>\n",
       "\t<li>'PLACE_OF_SVC_CD_07_R12M'</li>\n",
       "\t<li>'PLACE_OF_SVC_CD_08_R12M'</li>\n",
       "\t<li>'PLACE_OF_SVC_CD_09_R12M'</li>\n",
       "\t<li>'PLACE_OF_SVC_CD_11_R12M'</li>\n",
       "\t<li>'PLACE_OF_SVC_CD_12_R12M'</li>\n",
       "\t<li>'PLACE_OF_SVC_CD_13_R12M'</li>\n",
       "\t<li>'PLACE_OF_SVC_CD_14_R12M'</li>\n",
       "\t<li>'PLACE_OF_SVC_CD_15_R12M'</li>\n",
       "\t<li>'PLACE_OF_SVC_CD_16_R12M'</li>\n",
       "\t<li>'PLACE_OF_SVC_CD_17_R12M'</li>\n",
       "\t<li>'PLACE_OF_SVC_CD_18_R12M'</li>\n",
       "\t<li>'PLACE_OF_SVC_CD_20_R12M'</li>\n",
       "\t<li>'PLACE_OF_SVC_CD_21_R12M'</li>\n",
       "\t<li>'PLACE_OF_SVC_CD_22_R12M'</li>\n",
       "\t<li>'PLACE_OF_SVC_CD_23_R12M'</li>\n",
       "\t<li>'PLACE_OF_SVC_CD_24_R12M'</li>\n",
       "\t<li>'PLACE_OF_SVC_CD_25_R12M'</li>\n",
       "\t<li>'PLACE_OF_SVC_CD_26_R12M'</li>\n",
       "\t<li>'PLACE_OF_SVC_CD_31_R12M'</li>\n",
       "\t<li>'PLACE_OF_SVC_CD_32_R12M'</li>\n",
       "\t<li>'PLACE_OF_SVC_CD_33_R12M'</li>\n",
       "\t<li>'PLACE_OF_SVC_CD_34_R12M'</li>\n",
       "\t<li>'PLACE_OF_SVC_CD_41_R12M'</li>\n",
       "\t<li>'PLACE_OF_SVC_CD_42_R12M'</li>\n",
       "\t<li>'PLACE_OF_SVC_CD_49_R12M'</li>\n",
       "\t<li>'PLACE_OF_SVC_CD_50_R12M'</li>\n",
       "\t<li>'PLACE_OF_SVC_CD_51_R12M'</li>\n",
       "\t<li>'PLACE_OF_SVC_CD_52_R12M'</li>\n",
       "\t<li>'PLACE_OF_SVC_CD_53_R12M'</li>\n",
       "\t<li>'PLACE_OF_SVC_CD_54_R12M'</li>\n",
       "\t<li>'PLACE_OF_SVC_CD_55_R12M'</li>\n",
       "\t<li>'PLACE_OF_SVC_CD_56_R12M'</li>\n",
       "\t<li>'PLACE_OF_SVC_CD_57_R12M'</li>\n",
       "\t<li>'PLACE_OF_SVC_CD_60_R12M'</li>\n",
       "\t<li>'PLACE_OF_SVC_CD_61_R12M'</li>\n",
       "\t<li>'PLACE_OF_SVC_CD_62_R12M'</li>\n",
       "\t<li>'PLACE_OF_SVC_CD_65_R12M'</li>\n",
       "\t<li>'PLACE_OF_SVC_CD_71_R12M'</li>\n",
       "\t<li>'PLACE_OF_SVC_CD_72_R12M'</li>\n",
       "\t<li>'PLACE_OF_SVC_CD_81_R12M'</li>\n",
       "\t<li>'IPLOS_R12M'</li>\n",
       "\t<li>'IPLOS_R6M'</li>\n",
       "\t<li>'ERCount_R12M'</li>\n",
       "\t<li>'ERCount_R6M'</li>\n",
       "\t<li>'OPCount_R12M'</li>\n",
       "\t<li>'OPCount_R6M'</li>\n",
       "\t<li>'log_medcost_R12M'</li>\n",
       "\t<li>'med_cost_R12M'</li>\n",
       "\t<li>'log_medcost_R6M'</li>\n",
       "\t<li>'med_cost_R6M'</li>\n",
       "\t<li>'log_medcost_F12M'</li>\n",
       "\t<li>'med_cost_F12M'</li>\n",
       "\t<li>'referral_'</li>\n",
       "\t<li>'DIAG_CCS_11_R12M'</li>\n",
       "\t<li>'DIAG_CCS_12_R12M'</li>\n",
       "\t<li>'DIAG_CCS_13_R12M'</li>\n",
       "\t<li>'DIAG_CCS_14_R12M'</li>\n",
       "\t<li>'DIAG_CCS_15_R12M'</li>\n",
       "\t<li>'DIAG_CCS_16_R12M'</li>\n",
       "\t<li>'DIAG_CCS_17_R12M'</li>\n",
       "\t<li>'DIAG_CCS_18_R12M'</li>\n",
       "\t<li>'DIAG_CCS_19_R12M'</li>\n",
       "\t<li>'DIAG_CCS_20_R12M'</li>\n",
       "\t<li>'DIAG_CCS_21_R12M'</li>\n",
       "\t<li>'DIAG_CCS_22_R12M'</li>\n",
       "\t<li>'DIAG_CCS_23_R12M'</li>\n",
       "\t<li>'DIAG_CCS_24_R12M'</li>\n",
       "\t<li>'DIAG_CCS_25_R12M'</li>\n",
       "\t<li>'DIAG_CCS_26_R12M'</li>\n",
       "\t<li>'DIAG_CCS_27_R12M'</li>\n",
       "\t<li>'DIAG_CCS_28_R12M'</li>\n",
       "\t<li>'DIAG_CCS_29_R12M'</li>\n",
       "\t<li>'DIAG_CCS_30_R12M'</li>\n",
       "\t<li>'DIAG_CCS_31_R12M'</li>\n",
       "\t<li>'DIAG_CCS_32_R12M'</li>\n",
       "\t<li>'DIAG_CCS_33_R12M'</li>\n",
       "\t<li>'DIAG_CCS_34_R12M'</li>\n",
       "\t<li>'DIAG_CCS_35_R12M'</li>\n",
       "\t<li>'DIAG_CCS_36_R12M'</li>\n",
       "\t<li>'DIAG_CCS_37_R12M'</li>\n",
       "\t<li>'DIAG_CCS_38_R12M'</li>\n",
       "\t<li>'DIAG_CCS_39_R12M'</li>\n",
       "\t<li>'DIAG_CCS_40_R12M'</li>\n",
       "\t<li>'DIAG_CCS_41_R12M'</li>\n",
       "\t<li>'DIAG_CCS_42_R12M'</li>\n",
       "\t<li>'DIAG_CCS_43_R12M'</li>\n",
       "\t<li>'DIAG_CCS_44_R12M'</li>\n",
       "\t<li>'DIAG_CCS_45_R12M'</li>\n",
       "\t<li>'DIAG_CCS_46_R12M'</li>\n",
       "\t<li>'DIAG_CCS_47_R12M'</li>\n",
       "</ol>\n"
      ],
      "text/latex": [
       "\\begin{enumerate*}\n",
       "\\item 'origId'\n",
       "\\item 'RxElig\\_R12M'\n",
       "\\item 'MEMBR\\_AGE'\n",
       "\\item 'GENDER\\_CD\\_M'\n",
       "\\item 'actCount\\_1\\_R12M'\n",
       "\\item 'actCount\\_10\\_R12M'\n",
       "\\item 'actCount\\_11\\_R12M'\n",
       "\\item 'actCount\\_12\\_R12M'\n",
       "\\item 'actCount\\_13\\_R12M'\n",
       "\\item 'actCount\\_14\\_R12M'\n",
       "\\item 'actCount\\_15\\_R12M'\n",
       "\\item 'actCount\\_16\\_R12M'\n",
       "\\item 'actCount\\_17\\_R12M'\n",
       "\\item 'actCount\\_18\\_R12M'\n",
       "\\item 'actCount\\_19\\_R12M'\n",
       "\\item 'actCount\\_2\\_R12M'\n",
       "\\item 'actCount\\_20\\_R12M'\n",
       "\\item 'actCount\\_21\\_R12M'\n",
       "\\item 'actCount\\_22\\_R12M'\n",
       "\\item 'actCount\\_23\\_R12M'\n",
       "\\item 'actCount\\_3\\_R12M'\n",
       "\\item 'actCount\\_4\\_R12M'\n",
       "\\item 'actCount\\_5\\_R12M'\n",
       "\\item 'actCount\\_6\\_R12M'\n",
       "\\item 'actCount\\_7\\_R12M'\n",
       "\\item 'actCount\\_8\\_R12M'\n",
       "\\item 'actCount\\_9\\_R12M'\n",
       "\\item 'DIAG\\_Charlson\\_cerebrovas\\_R12M'\n",
       "\\item 'DIAG\\_Charlson\\_chf\\_R12M'\n",
       "\\item 'DIAG\\_Charlson\\_cpd\\_R12M'\n",
       "\\item 'DIAG\\_Charlson\\_dementia\\_R12M'\n",
       "\\item 'DIAG\\_Charlson\\_diabetes\\_R12M'\n",
       "\\item 'DIAG\\_Charlson\\_diabeteschronic\\_R12M'\n",
       "\\item 'DIAG\\_Charlson\\_hiv\\_R12M'\n",
       "\\item 'DIAG\\_Charlson\\_liver\\_R12M'\n",
       "\\item 'DIAG\\_Charlson\\_malignancy\\_R12M'\n",
       "\\item 'DIAG\\_Charlson\\_metastatictumor\\_R12M'\n",
       "\\item 'DIAG\\_Charlson\\_mi\\_R12M'\n",
       "\\item 'DIAG\\_Charlson\\_mildliver\\_R12M'\n",
       "\\item 'DIAG\\_Charlson\\_plegia\\_R12M'\n",
       "\\item 'DIAG\\_Charlson\\_pud\\_R12M'\n",
       "\\item 'DIAG\\_Charlson\\_pvd\\_R12M'\n",
       "\\item 'DIAG\\_Charlson\\_renal\\_R12M'\n",
       "\\item 'DIAG\\_Charlson\\_rheumatic\\_R12M'\n",
       "\\item 'PLACE\\_OF\\_SVC\\_CD\\_01\\_R12M'\n",
       "\\item 'PLACE\\_OF\\_SVC\\_CD\\_03\\_R12M'\n",
       "\\item 'PLACE\\_OF\\_SVC\\_CD\\_04\\_R12M'\n",
       "\\item 'PLACE\\_OF\\_SVC\\_CD\\_05\\_R12M'\n",
       "\\item 'PLACE\\_OF\\_SVC\\_CD\\_06\\_R12M'\n",
       "\\item 'PLACE\\_OF\\_SVC\\_CD\\_07\\_R12M'\n",
       "\\item 'PLACE\\_OF\\_SVC\\_CD\\_08\\_R12M'\n",
       "\\item 'PLACE\\_OF\\_SVC\\_CD\\_09\\_R12M'\n",
       "\\item 'PLACE\\_OF\\_SVC\\_CD\\_11\\_R12M'\n",
       "\\item 'PLACE\\_OF\\_SVC\\_CD\\_12\\_R12M'\n",
       "\\item 'PLACE\\_OF\\_SVC\\_CD\\_13\\_R12M'\n",
       "\\item 'PLACE\\_OF\\_SVC\\_CD\\_14\\_R12M'\n",
       "\\item 'PLACE\\_OF\\_SVC\\_CD\\_15\\_R12M'\n",
       "\\item 'PLACE\\_OF\\_SVC\\_CD\\_16\\_R12M'\n",
       "\\item 'PLACE\\_OF\\_SVC\\_CD\\_17\\_R12M'\n",
       "\\item 'PLACE\\_OF\\_SVC\\_CD\\_18\\_R12M'\n",
       "\\item 'PLACE\\_OF\\_SVC\\_CD\\_20\\_R12M'\n",
       "\\item 'PLACE\\_OF\\_SVC\\_CD\\_21\\_R12M'\n",
       "\\item 'PLACE\\_OF\\_SVC\\_CD\\_22\\_R12M'\n",
       "\\item 'PLACE\\_OF\\_SVC\\_CD\\_23\\_R12M'\n",
       "\\item 'PLACE\\_OF\\_SVC\\_CD\\_24\\_R12M'\n",
       "\\item 'PLACE\\_OF\\_SVC\\_CD\\_25\\_R12M'\n",
       "\\item 'PLACE\\_OF\\_SVC\\_CD\\_26\\_R12M'\n",
       "\\item 'PLACE\\_OF\\_SVC\\_CD\\_31\\_R12M'\n",
       "\\item 'PLACE\\_OF\\_SVC\\_CD\\_32\\_R12M'\n",
       "\\item 'PLACE\\_OF\\_SVC\\_CD\\_33\\_R12M'\n",
       "\\item 'PLACE\\_OF\\_SVC\\_CD\\_34\\_R12M'\n",
       "\\item 'PLACE\\_OF\\_SVC\\_CD\\_41\\_R12M'\n",
       "\\item 'PLACE\\_OF\\_SVC\\_CD\\_42\\_R12M'\n",
       "\\item 'PLACE\\_OF\\_SVC\\_CD\\_49\\_R12M'\n",
       "\\item 'PLACE\\_OF\\_SVC\\_CD\\_50\\_R12M'\n",
       "\\item 'PLACE\\_OF\\_SVC\\_CD\\_51\\_R12M'\n",
       "\\item 'PLACE\\_OF\\_SVC\\_CD\\_52\\_R12M'\n",
       "\\item 'PLACE\\_OF\\_SVC\\_CD\\_53\\_R12M'\n",
       "\\item 'PLACE\\_OF\\_SVC\\_CD\\_54\\_R12M'\n",
       "\\item 'PLACE\\_OF\\_SVC\\_CD\\_55\\_R12M'\n",
       "\\item 'PLACE\\_OF\\_SVC\\_CD\\_56\\_R12M'\n",
       "\\item 'PLACE\\_OF\\_SVC\\_CD\\_57\\_R12M'\n",
       "\\item 'PLACE\\_OF\\_SVC\\_CD\\_60\\_R12M'\n",
       "\\item 'PLACE\\_OF\\_SVC\\_CD\\_61\\_R12M'\n",
       "\\item 'PLACE\\_OF\\_SVC\\_CD\\_62\\_R12M'\n",
       "\\item 'PLACE\\_OF\\_SVC\\_CD\\_65\\_R12M'\n",
       "\\item 'PLACE\\_OF\\_SVC\\_CD\\_71\\_R12M'\n",
       "\\item 'PLACE\\_OF\\_SVC\\_CD\\_72\\_R12M'\n",
       "\\item 'PLACE\\_OF\\_SVC\\_CD\\_81\\_R12M'\n",
       "\\item 'IPLOS\\_R12M'\n",
       "\\item 'IPLOS\\_R6M'\n",
       "\\item 'ERCount\\_R12M'\n",
       "\\item 'ERCount\\_R6M'\n",
       "\\item 'OPCount\\_R12M'\n",
       "\\item 'OPCount\\_R6M'\n",
       "\\item 'log\\_medcost\\_R12M'\n",
       "\\item 'med\\_cost\\_R12M'\n",
       "\\item 'log\\_medcost\\_R6M'\n",
       "\\item 'med\\_cost\\_R6M'\n",
       "\\item 'log\\_medcost\\_F12M'\n",
       "\\item 'med\\_cost\\_F12M'\n",
       "\\item 'referral\\_'\n",
       "\\item 'DIAG\\_CCS\\_11\\_R12M'\n",
       "\\item 'DIAG\\_CCS\\_12\\_R12M'\n",
       "\\item 'DIAG\\_CCS\\_13\\_R12M'\n",
       "\\item 'DIAG\\_CCS\\_14\\_R12M'\n",
       "\\item 'DIAG\\_CCS\\_15\\_R12M'\n",
       "\\item 'DIAG\\_CCS\\_16\\_R12M'\n",
       "\\item 'DIAG\\_CCS\\_17\\_R12M'\n",
       "\\item 'DIAG\\_CCS\\_18\\_R12M'\n",
       "\\item 'DIAG\\_CCS\\_19\\_R12M'\n",
       "\\item 'DIAG\\_CCS\\_20\\_R12M'\n",
       "\\item 'DIAG\\_CCS\\_21\\_R12M'\n",
       "\\item 'DIAG\\_CCS\\_22\\_R12M'\n",
       "\\item 'DIAG\\_CCS\\_23\\_R12M'\n",
       "\\item 'DIAG\\_CCS\\_24\\_R12M'\n",
       "\\item 'DIAG\\_CCS\\_25\\_R12M'\n",
       "\\item 'DIAG\\_CCS\\_26\\_R12M'\n",
       "\\item 'DIAG\\_CCS\\_27\\_R12M'\n",
       "\\item 'DIAG\\_CCS\\_28\\_R12M'\n",
       "\\item 'DIAG\\_CCS\\_29\\_R12M'\n",
       "\\item 'DIAG\\_CCS\\_30\\_R12M'\n",
       "\\item 'DIAG\\_CCS\\_31\\_R12M'\n",
       "\\item 'DIAG\\_CCS\\_32\\_R12M'\n",
       "\\item 'DIAG\\_CCS\\_33\\_R12M'\n",
       "\\item 'DIAG\\_CCS\\_34\\_R12M'\n",
       "\\item 'DIAG\\_CCS\\_35\\_R12M'\n",
       "\\item 'DIAG\\_CCS\\_36\\_R12M'\n",
       "\\item 'DIAG\\_CCS\\_37\\_R12M'\n",
       "\\item 'DIAG\\_CCS\\_38\\_R12M'\n",
       "\\item 'DIAG\\_CCS\\_39\\_R12M'\n",
       "\\item 'DIAG\\_CCS\\_40\\_R12M'\n",
       "\\item 'DIAG\\_CCS\\_41\\_R12M'\n",
       "\\item 'DIAG\\_CCS\\_42\\_R12M'\n",
       "\\item 'DIAG\\_CCS\\_43\\_R12M'\n",
       "\\item 'DIAG\\_CCS\\_44\\_R12M'\n",
       "\\item 'DIAG\\_CCS\\_45\\_R12M'\n",
       "\\item 'DIAG\\_CCS\\_46\\_R12M'\n",
       "\\item 'DIAG\\_CCS\\_47\\_R12M'\n",
       "\\end{enumerate*}\n"
      ],
      "text/markdown": [
       "1. 'origId'\n",
       "2. 'RxElig_R12M'\n",
       "3. 'MEMBR_AGE'\n",
       "4. 'GENDER_CD_M'\n",
       "5. 'actCount_1_R12M'\n",
       "6. 'actCount_10_R12M'\n",
       "7. 'actCount_11_R12M'\n",
       "8. 'actCount_12_R12M'\n",
       "9. 'actCount_13_R12M'\n",
       "10. 'actCount_14_R12M'\n",
       "11. 'actCount_15_R12M'\n",
       "12. 'actCount_16_R12M'\n",
       "13. 'actCount_17_R12M'\n",
       "14. 'actCount_18_R12M'\n",
       "15. 'actCount_19_R12M'\n",
       "16. 'actCount_2_R12M'\n",
       "17. 'actCount_20_R12M'\n",
       "18. 'actCount_21_R12M'\n",
       "19. 'actCount_22_R12M'\n",
       "20. 'actCount_23_R12M'\n",
       "21. 'actCount_3_R12M'\n",
       "22. 'actCount_4_R12M'\n",
       "23. 'actCount_5_R12M'\n",
       "24. 'actCount_6_R12M'\n",
       "25. 'actCount_7_R12M'\n",
       "26. 'actCount_8_R12M'\n",
       "27. 'actCount_9_R12M'\n",
       "28. 'DIAG_Charlson_cerebrovas_R12M'\n",
       "29. 'DIAG_Charlson_chf_R12M'\n",
       "30. 'DIAG_Charlson_cpd_R12M'\n",
       "31. 'DIAG_Charlson_dementia_R12M'\n",
       "32. 'DIAG_Charlson_diabetes_R12M'\n",
       "33. 'DIAG_Charlson_diabeteschronic_R12M'\n",
       "34. 'DIAG_Charlson_hiv_R12M'\n",
       "35. 'DIAG_Charlson_liver_R12M'\n",
       "36. 'DIAG_Charlson_malignancy_R12M'\n",
       "37. 'DIAG_Charlson_metastatictumor_R12M'\n",
       "38. 'DIAG_Charlson_mi_R12M'\n",
       "39. 'DIAG_Charlson_mildliver_R12M'\n",
       "40. 'DIAG_Charlson_plegia_R12M'\n",
       "41. 'DIAG_Charlson_pud_R12M'\n",
       "42. 'DIAG_Charlson_pvd_R12M'\n",
       "43. 'DIAG_Charlson_renal_R12M'\n",
       "44. 'DIAG_Charlson_rheumatic_R12M'\n",
       "45. 'PLACE_OF_SVC_CD_01_R12M'\n",
       "46. 'PLACE_OF_SVC_CD_03_R12M'\n",
       "47. 'PLACE_OF_SVC_CD_04_R12M'\n",
       "48. 'PLACE_OF_SVC_CD_05_R12M'\n",
       "49. 'PLACE_OF_SVC_CD_06_R12M'\n",
       "50. 'PLACE_OF_SVC_CD_07_R12M'\n",
       "51. 'PLACE_OF_SVC_CD_08_R12M'\n",
       "52. 'PLACE_OF_SVC_CD_09_R12M'\n",
       "53. 'PLACE_OF_SVC_CD_11_R12M'\n",
       "54. 'PLACE_OF_SVC_CD_12_R12M'\n",
       "55. 'PLACE_OF_SVC_CD_13_R12M'\n",
       "56. 'PLACE_OF_SVC_CD_14_R12M'\n",
       "57. 'PLACE_OF_SVC_CD_15_R12M'\n",
       "58. 'PLACE_OF_SVC_CD_16_R12M'\n",
       "59. 'PLACE_OF_SVC_CD_17_R12M'\n",
       "60. 'PLACE_OF_SVC_CD_18_R12M'\n",
       "61. 'PLACE_OF_SVC_CD_20_R12M'\n",
       "62. 'PLACE_OF_SVC_CD_21_R12M'\n",
       "63. 'PLACE_OF_SVC_CD_22_R12M'\n",
       "64. 'PLACE_OF_SVC_CD_23_R12M'\n",
       "65. 'PLACE_OF_SVC_CD_24_R12M'\n",
       "66. 'PLACE_OF_SVC_CD_25_R12M'\n",
       "67. 'PLACE_OF_SVC_CD_26_R12M'\n",
       "68. 'PLACE_OF_SVC_CD_31_R12M'\n",
       "69. 'PLACE_OF_SVC_CD_32_R12M'\n",
       "70. 'PLACE_OF_SVC_CD_33_R12M'\n",
       "71. 'PLACE_OF_SVC_CD_34_R12M'\n",
       "72. 'PLACE_OF_SVC_CD_41_R12M'\n",
       "73. 'PLACE_OF_SVC_CD_42_R12M'\n",
       "74. 'PLACE_OF_SVC_CD_49_R12M'\n",
       "75. 'PLACE_OF_SVC_CD_50_R12M'\n",
       "76. 'PLACE_OF_SVC_CD_51_R12M'\n",
       "77. 'PLACE_OF_SVC_CD_52_R12M'\n",
       "78. 'PLACE_OF_SVC_CD_53_R12M'\n",
       "79. 'PLACE_OF_SVC_CD_54_R12M'\n",
       "80. 'PLACE_OF_SVC_CD_55_R12M'\n",
       "81. 'PLACE_OF_SVC_CD_56_R12M'\n",
       "82. 'PLACE_OF_SVC_CD_57_R12M'\n",
       "83. 'PLACE_OF_SVC_CD_60_R12M'\n",
       "84. 'PLACE_OF_SVC_CD_61_R12M'\n",
       "85. 'PLACE_OF_SVC_CD_62_R12M'\n",
       "86. 'PLACE_OF_SVC_CD_65_R12M'\n",
       "87. 'PLACE_OF_SVC_CD_71_R12M'\n",
       "88. 'PLACE_OF_SVC_CD_72_R12M'\n",
       "89. 'PLACE_OF_SVC_CD_81_R12M'\n",
       "90. 'IPLOS_R12M'\n",
       "91. 'IPLOS_R6M'\n",
       "92. 'ERCount_R12M'\n",
       "93. 'ERCount_R6M'\n",
       "94. 'OPCount_R12M'\n",
       "95. 'OPCount_R6M'\n",
       "96. 'log_medcost_R12M'\n",
       "97. 'med_cost_R12M'\n",
       "98. 'log_medcost_R6M'\n",
       "99. 'med_cost_R6M'\n",
       "100. 'log_medcost_F12M'\n",
       "101. 'med_cost_F12M'\n",
       "102. 'referral_'\n",
       "103. 'DIAG_CCS_11_R12M'\n",
       "104. 'DIAG_CCS_12_R12M'\n",
       "105. 'DIAG_CCS_13_R12M'\n",
       "106. 'DIAG_CCS_14_R12M'\n",
       "107. 'DIAG_CCS_15_R12M'\n",
       "108. 'DIAG_CCS_16_R12M'\n",
       "109. 'DIAG_CCS_17_R12M'\n",
       "110. 'DIAG_CCS_18_R12M'\n",
       "111. 'DIAG_CCS_19_R12M'\n",
       "112. 'DIAG_CCS_20_R12M'\n",
       "113. 'DIAG_CCS_21_R12M'\n",
       "114. 'DIAG_CCS_22_R12M'\n",
       "115. 'DIAG_CCS_23_R12M'\n",
       "116. 'DIAG_CCS_24_R12M'\n",
       "117. 'DIAG_CCS_25_R12M'\n",
       "118. 'DIAG_CCS_26_R12M'\n",
       "119. 'DIAG_CCS_27_R12M'\n",
       "120. 'DIAG_CCS_28_R12M'\n",
       "121. 'DIAG_CCS_29_R12M'\n",
       "122. 'DIAG_CCS_30_R12M'\n",
       "123. 'DIAG_CCS_31_R12M'\n",
       "124. 'DIAG_CCS_32_R12M'\n",
       "125. 'DIAG_CCS_33_R12M'\n",
       "126. 'DIAG_CCS_34_R12M'\n",
       "127. 'DIAG_CCS_35_R12M'\n",
       "128. 'DIAG_CCS_36_R12M'\n",
       "129. 'DIAG_CCS_37_R12M'\n",
       "130. 'DIAG_CCS_38_R12M'\n",
       "131. 'DIAG_CCS_39_R12M'\n",
       "132. 'DIAG_CCS_40_R12M'\n",
       "133. 'DIAG_CCS_41_R12M'\n",
       "134. 'DIAG_CCS_42_R12M'\n",
       "135. 'DIAG_CCS_43_R12M'\n",
       "136. 'DIAG_CCS_44_R12M'\n",
       "137. 'DIAG_CCS_45_R12M'\n",
       "138. 'DIAG_CCS_46_R12M'\n",
       "139. 'DIAG_CCS_47_R12M'\n",
       "\n",
       "\n"
      ],
      "text/plain": [
       "  [1] \"origId\"                             \"RxElig_R12M\"                       \n",
       "  [3] \"MEMBR_AGE\"                          \"GENDER_CD_M\"                       \n",
       "  [5] \"actCount_1_R12M\"                    \"actCount_10_R12M\"                  \n",
       "  [7] \"actCount_11_R12M\"                   \"actCount_12_R12M\"                  \n",
       "  [9] \"actCount_13_R12M\"                   \"actCount_14_R12M\"                  \n",
       " [11] \"actCount_15_R12M\"                   \"actCount_16_R12M\"                  \n",
       " [13] \"actCount_17_R12M\"                   \"actCount_18_R12M\"                  \n",
       " [15] \"actCount_19_R12M\"                   \"actCount_2_R12M\"                   \n",
       " [17] \"actCount_20_R12M\"                   \"actCount_21_R12M\"                  \n",
       " [19] \"actCount_22_R12M\"                   \"actCount_23_R12M\"                  \n",
       " [21] \"actCount_3_R12M\"                    \"actCount_4_R12M\"                   \n",
       " [23] \"actCount_5_R12M\"                    \"actCount_6_R12M\"                   \n",
       " [25] \"actCount_7_R12M\"                    \"actCount_8_R12M\"                   \n",
       " [27] \"actCount_9_R12M\"                    \"DIAG_Charlson_cerebrovas_R12M\"     \n",
       " [29] \"DIAG_Charlson_chf_R12M\"             \"DIAG_Charlson_cpd_R12M\"            \n",
       " [31] \"DIAG_Charlson_dementia_R12M\"        \"DIAG_Charlson_diabetes_R12M\"       \n",
       " [33] \"DIAG_Charlson_diabeteschronic_R12M\" \"DIAG_Charlson_hiv_R12M\"            \n",
       " [35] \"DIAG_Charlson_liver_R12M\"           \"DIAG_Charlson_malignancy_R12M\"     \n",
       " [37] \"DIAG_Charlson_metastatictumor_R12M\" \"DIAG_Charlson_mi_R12M\"             \n",
       " [39] \"DIAG_Charlson_mildliver_R12M\"       \"DIAG_Charlson_plegia_R12M\"         \n",
       " [41] \"DIAG_Charlson_pud_R12M\"             \"DIAG_Charlson_pvd_R12M\"            \n",
       " [43] \"DIAG_Charlson_renal_R12M\"           \"DIAG_Charlson_rheumatic_R12M\"      \n",
       " [45] \"PLACE_OF_SVC_CD_01_R12M\"            \"PLACE_OF_SVC_CD_03_R12M\"           \n",
       " [47] \"PLACE_OF_SVC_CD_04_R12M\"            \"PLACE_OF_SVC_CD_05_R12M\"           \n",
       " [49] \"PLACE_OF_SVC_CD_06_R12M\"            \"PLACE_OF_SVC_CD_07_R12M\"           \n",
       " [51] \"PLACE_OF_SVC_CD_08_R12M\"            \"PLACE_OF_SVC_CD_09_R12M\"           \n",
       " [53] \"PLACE_OF_SVC_CD_11_R12M\"            \"PLACE_OF_SVC_CD_12_R12M\"           \n",
       " [55] \"PLACE_OF_SVC_CD_13_R12M\"            \"PLACE_OF_SVC_CD_14_R12M\"           \n",
       " [57] \"PLACE_OF_SVC_CD_15_R12M\"            \"PLACE_OF_SVC_CD_16_R12M\"           \n",
       " [59] \"PLACE_OF_SVC_CD_17_R12M\"            \"PLACE_OF_SVC_CD_18_R12M\"           \n",
       " [61] \"PLACE_OF_SVC_CD_20_R12M\"            \"PLACE_OF_SVC_CD_21_R12M\"           \n",
       " [63] \"PLACE_OF_SVC_CD_22_R12M\"            \"PLACE_OF_SVC_CD_23_R12M\"           \n",
       " [65] \"PLACE_OF_SVC_CD_24_R12M\"            \"PLACE_OF_SVC_CD_25_R12M\"           \n",
       " [67] \"PLACE_OF_SVC_CD_26_R12M\"            \"PLACE_OF_SVC_CD_31_R12M\"           \n",
       " [69] \"PLACE_OF_SVC_CD_32_R12M\"            \"PLACE_OF_SVC_CD_33_R12M\"           \n",
       " [71] \"PLACE_OF_SVC_CD_34_R12M\"            \"PLACE_OF_SVC_CD_41_R12M\"           \n",
       " [73] \"PLACE_OF_SVC_CD_42_R12M\"            \"PLACE_OF_SVC_CD_49_R12M\"           \n",
       " [75] \"PLACE_OF_SVC_CD_50_R12M\"            \"PLACE_OF_SVC_CD_51_R12M\"           \n",
       " [77] \"PLACE_OF_SVC_CD_52_R12M\"            \"PLACE_OF_SVC_CD_53_R12M\"           \n",
       " [79] \"PLACE_OF_SVC_CD_54_R12M\"            \"PLACE_OF_SVC_CD_55_R12M\"           \n",
       " [81] \"PLACE_OF_SVC_CD_56_R12M\"            \"PLACE_OF_SVC_CD_57_R12M\"           \n",
       " [83] \"PLACE_OF_SVC_CD_60_R12M\"            \"PLACE_OF_SVC_CD_61_R12M\"           \n",
       " [85] \"PLACE_OF_SVC_CD_62_R12M\"            \"PLACE_OF_SVC_CD_65_R12M\"           \n",
       " [87] \"PLACE_OF_SVC_CD_71_R12M\"            \"PLACE_OF_SVC_CD_72_R12M\"           \n",
       " [89] \"PLACE_OF_SVC_CD_81_R12M\"            \"IPLOS_R12M\"                        \n",
       " [91] \"IPLOS_R6M\"                          \"ERCount_R12M\"                      \n",
       " [93] \"ERCount_R6M\"                        \"OPCount_R12M\"                      \n",
       " [95] \"OPCount_R6M\"                        \"log_medcost_R12M\"                  \n",
       " [97] \"med_cost_R12M\"                      \"log_medcost_R6M\"                   \n",
       " [99] \"med_cost_R6M\"                       \"log_medcost_F12M\"                  \n",
       "[101] \"med_cost_F12M\"                      \"referral_\"                         \n",
       "[103] \"DIAG_CCS_11_R12M\"                   \"DIAG_CCS_12_R12M\"                  \n",
       "[105] \"DIAG_CCS_13_R12M\"                   \"DIAG_CCS_14_R12M\"                  \n",
       "[107] \"DIAG_CCS_15_R12M\"                   \"DIAG_CCS_16_R12M\"                  \n",
       "[109] \"DIAG_CCS_17_R12M\"                   \"DIAG_CCS_18_R12M\"                  \n",
       "[111] \"DIAG_CCS_19_R12M\"                   \"DIAG_CCS_20_R12M\"                  \n",
       "[113] \"DIAG_CCS_21_R12M\"                   \"DIAG_CCS_22_R12M\"                  \n",
       "[115] \"DIAG_CCS_23_R12M\"                   \"DIAG_CCS_24_R12M\"                  \n",
       "[117] \"DIAG_CCS_25_R12M\"                   \"DIAG_CCS_26_R12M\"                  \n",
       "[119] \"DIAG_CCS_27_R12M\"                   \"DIAG_CCS_28_R12M\"                  \n",
       "[121] \"DIAG_CCS_29_R12M\"                   \"DIAG_CCS_30_R12M\"                  \n",
       "[123] \"DIAG_CCS_31_R12M\"                   \"DIAG_CCS_32_R12M\"                  \n",
       "[125] \"DIAG_CCS_33_R12M\"                   \"DIAG_CCS_34_R12M\"                  \n",
       "[127] \"DIAG_CCS_35_R12M\"                   \"DIAG_CCS_36_R12M\"                  \n",
       "[129] \"DIAG_CCS_37_R12M\"                   \"DIAG_CCS_38_R12M\"                  \n",
       "[131] \"DIAG_CCS_39_R12M\"                   \"DIAG_CCS_40_R12M\"                  \n",
       "[133] \"DIAG_CCS_41_R12M\"                   \"DIAG_CCS_42_R12M\"                  \n",
       "[135] \"DIAG_CCS_43_R12M\"                   \"DIAG_CCS_44_R12M\"                  \n",
       "[137] \"DIAG_CCS_45_R12M\"                   \"DIAG_CCS_46_R12M\"                  \n",
       "[139] \"DIAG_CCS_47_R12M\"                  "
      ]
     },
     "metadata": {},
     "output_type": "display_data"
    }
   ],
   "source": [
    "names(data)"
   ]
  },
  {
   "cell_type": "code",
   "execution_count": 548,
   "metadata": {},
   "outputs": [
    {
     "data": {
      "text/html": [
       "<table>\n",
       "<thead><tr><th scope=col>referral_</th><th scope=col>n</th></tr></thead>\n",
       "<tbody>\n",
       "\t<tr><td>INTERNAL_REFERRAL      </td><td>108                    </td></tr>\n",
       "\t<tr><td>MEMBER_FAMILY_CAREGIVER</td><td> 13                    </td></tr>\n",
       "\t<tr><td>OTHER                  </td><td>  9                    </td></tr>\n",
       "\t<tr><td>POST_DISCHARGE         </td><td>  1                    </td></tr>\n",
       "\t<tr><td>PRE_ADMISSION          </td><td>  2                    </td></tr>\n",
       "\t<tr><td>PREDICTIVE_MODEL       </td><td> 24                    </td></tr>\n",
       "\t<tr><td>PROVIDER_REFERRAL      </td><td> 84                    </td></tr>\n",
       "</tbody>\n",
       "</table>\n"
      ],
      "text/latex": [
       "\\begin{tabular}{r|ll}\n",
       " referral\\_ & n\\\\\n",
       "\\hline\n",
       "\t INTERNAL\\_REFERRAL       & 108                      \\\\\n",
       "\t MEMBER\\_FAMILY\\_CAREGIVER &  13                        \\\\\n",
       "\t OTHER                   &   9                    \\\\\n",
       "\t POST\\_DISCHARGE          &   1                      \\\\\n",
       "\t PRE\\_ADMISSION           &   2                      \\\\\n",
       "\t PREDICTIVE\\_MODEL        &  24                      \\\\\n",
       "\t PROVIDER\\_REFERRAL       &  84                      \\\\\n",
       "\\end{tabular}\n"
      ],
      "text/markdown": [
       "\n",
       "referral_ | n | \n",
       "|---|---|---|---|---|---|---|\n",
       "| INTERNAL_REFERRAL       | 108                     | \n",
       "| MEMBER_FAMILY_CAREGIVER |  13                     | \n",
       "| OTHER                   |   9                     | \n",
       "| POST_DISCHARGE          |   1                     | \n",
       "| PRE_ADMISSION           |   2                     | \n",
       "| PREDICTIVE_MODEL        |  24                     | \n",
       "| PROVIDER_REFERRAL       |  84                     | \n",
       "\n",
       "\n"
      ],
      "text/plain": [
       "  referral_               n  \n",
       "1 INTERNAL_REFERRAL       108\n",
       "2 MEMBER_FAMILY_CAREGIVER  13\n",
       "3 OTHER                     9\n",
       "4 POST_DISCHARGE            1\n",
       "5 PRE_ADMISSION             2\n",
       "6 PREDICTIVE_MODEL         24\n",
       "7 PROVIDER_REFERRAL        84"
      ]
     },
     "metadata": {},
     "output_type": "display_data"
    }
   ],
   "source": [
    "count(data,referral_)"
   ]
  },
  {
   "cell_type": "code",
   "execution_count": 549,
   "metadata": {},
   "outputs": [],
   "source": [
    "dummy = data.frame(predict(dummyVars(\"~ .\", data=data), newdata=data))"
   ]
  },
  {
   "cell_type": "code",
   "execution_count": 550,
   "metadata": {
    "scrolled": true
   },
   "outputs": [
    {
     "data": {
      "text/html": [
       "<ol class=list-inline>\n",
       "\t<li>'origId'</li>\n",
       "\t<li>'RxElig_R12M'</li>\n",
       "\t<li>'MEMBR_AGE'</li>\n",
       "\t<li>'GENDER_CD_M'</li>\n",
       "\t<li>'actCount_1_R12M'</li>\n",
       "\t<li>'actCount_10_R12M'</li>\n",
       "\t<li>'actCount_11_R12M'</li>\n",
       "\t<li>'actCount_12_R12M'</li>\n",
       "\t<li>'actCount_13_R12M'</li>\n",
       "\t<li>'actCount_14_R12M'</li>\n",
       "\t<li>'actCount_15_R12M'</li>\n",
       "\t<li>'actCount_16_R12M'</li>\n",
       "\t<li>'actCount_17_R12M'</li>\n",
       "\t<li>'actCount_18_R12M'</li>\n",
       "\t<li>'actCount_19_R12M'</li>\n",
       "\t<li>'actCount_2_R12M'</li>\n",
       "\t<li>'actCount_20_R12M'</li>\n",
       "\t<li>'actCount_21_R12M'</li>\n",
       "\t<li>'actCount_22_R12M'</li>\n",
       "\t<li>'actCount_23_R12M'</li>\n",
       "\t<li>'actCount_3_R12M'</li>\n",
       "\t<li>'actCount_4_R12M'</li>\n",
       "\t<li>'actCount_5_R12M'</li>\n",
       "\t<li>'actCount_6_R12M'</li>\n",
       "\t<li>'actCount_7_R12M'</li>\n",
       "\t<li>'actCount_8_R12M'</li>\n",
       "\t<li>'actCount_9_R12M'</li>\n",
       "\t<li>'DIAG_Charlson_cerebrovas_R12M'</li>\n",
       "\t<li>'DIAG_Charlson_chf_R12M'</li>\n",
       "\t<li>'DIAG_Charlson_cpd_R12M'</li>\n",
       "\t<li>'DIAG_Charlson_dementia_R12M'</li>\n",
       "\t<li>'DIAG_Charlson_diabetes_R12M'</li>\n",
       "\t<li>'DIAG_Charlson_diabeteschronic_R12M'</li>\n",
       "\t<li>'DIAG_Charlson_hiv_R12M'</li>\n",
       "\t<li>'DIAG_Charlson_liver_R12M'</li>\n",
       "\t<li>'DIAG_Charlson_malignancy_R12M'</li>\n",
       "\t<li>'DIAG_Charlson_metastatictumor_R12M'</li>\n",
       "\t<li>'DIAG_Charlson_mi_R12M'</li>\n",
       "\t<li>'DIAG_Charlson_mildliver_R12M'</li>\n",
       "\t<li>'DIAG_Charlson_plegia_R12M'</li>\n",
       "\t<li>'DIAG_Charlson_pud_R12M'</li>\n",
       "\t<li>'DIAG_Charlson_pvd_R12M'</li>\n",
       "\t<li>'DIAG_Charlson_renal_R12M'</li>\n",
       "\t<li>'DIAG_Charlson_rheumatic_R12M'</li>\n",
       "\t<li>'PLACE_OF_SVC_CD_01_R12M'</li>\n",
       "\t<li>'PLACE_OF_SVC_CD_03_R12M'</li>\n",
       "\t<li>'PLACE_OF_SVC_CD_04_R12M'</li>\n",
       "\t<li>'PLACE_OF_SVC_CD_05_R12M'</li>\n",
       "\t<li>'PLACE_OF_SVC_CD_06_R12M'</li>\n",
       "\t<li>'PLACE_OF_SVC_CD_07_R12M'</li>\n",
       "\t<li>'PLACE_OF_SVC_CD_08_R12M'</li>\n",
       "\t<li>'PLACE_OF_SVC_CD_09_R12M'</li>\n",
       "\t<li>'PLACE_OF_SVC_CD_11_R12M'</li>\n",
       "\t<li>'PLACE_OF_SVC_CD_12_R12M'</li>\n",
       "\t<li>'PLACE_OF_SVC_CD_13_R12M'</li>\n",
       "\t<li>'PLACE_OF_SVC_CD_14_R12M'</li>\n",
       "\t<li>'PLACE_OF_SVC_CD_15_R12M'</li>\n",
       "\t<li>'PLACE_OF_SVC_CD_16_R12M'</li>\n",
       "\t<li>'PLACE_OF_SVC_CD_17_R12M'</li>\n",
       "\t<li>'PLACE_OF_SVC_CD_18_R12M'</li>\n",
       "\t<li>'PLACE_OF_SVC_CD_20_R12M'</li>\n",
       "\t<li>'PLACE_OF_SVC_CD_21_R12M'</li>\n",
       "\t<li>'PLACE_OF_SVC_CD_22_R12M'</li>\n",
       "\t<li>'PLACE_OF_SVC_CD_23_R12M'</li>\n",
       "\t<li>'PLACE_OF_SVC_CD_24_R12M'</li>\n",
       "\t<li>'PLACE_OF_SVC_CD_25_R12M'</li>\n",
       "\t<li>'PLACE_OF_SVC_CD_26_R12M'</li>\n",
       "\t<li>'PLACE_OF_SVC_CD_31_R12M'</li>\n",
       "\t<li>'PLACE_OF_SVC_CD_32_R12M'</li>\n",
       "\t<li>'PLACE_OF_SVC_CD_33_R12M'</li>\n",
       "\t<li>'PLACE_OF_SVC_CD_34_R12M'</li>\n",
       "\t<li>'PLACE_OF_SVC_CD_41_R12M'</li>\n",
       "\t<li>'PLACE_OF_SVC_CD_42_R12M'</li>\n",
       "\t<li>'PLACE_OF_SVC_CD_49_R12M'</li>\n",
       "\t<li>'PLACE_OF_SVC_CD_50_R12M'</li>\n",
       "\t<li>'PLACE_OF_SVC_CD_51_R12M'</li>\n",
       "\t<li>'PLACE_OF_SVC_CD_52_R12M'</li>\n",
       "\t<li>'PLACE_OF_SVC_CD_53_R12M'</li>\n",
       "\t<li>'PLACE_OF_SVC_CD_54_R12M'</li>\n",
       "\t<li>'PLACE_OF_SVC_CD_55_R12M'</li>\n",
       "\t<li>'PLACE_OF_SVC_CD_56_R12M'</li>\n",
       "\t<li>'PLACE_OF_SVC_CD_57_R12M'</li>\n",
       "\t<li>'PLACE_OF_SVC_CD_60_R12M'</li>\n",
       "\t<li>'PLACE_OF_SVC_CD_61_R12M'</li>\n",
       "\t<li>'PLACE_OF_SVC_CD_62_R12M'</li>\n",
       "\t<li>'PLACE_OF_SVC_CD_65_R12M'</li>\n",
       "\t<li>'PLACE_OF_SVC_CD_71_R12M'</li>\n",
       "\t<li>'PLACE_OF_SVC_CD_72_R12M'</li>\n",
       "\t<li>'PLACE_OF_SVC_CD_81_R12M'</li>\n",
       "\t<li>'IPLOS_R12M'</li>\n",
       "\t<li>'IPLOS_R6M'</li>\n",
       "\t<li>'ERCount_R12M'</li>\n",
       "\t<li>'ERCount_R6M'</li>\n",
       "\t<li>'OPCount_R12M'</li>\n",
       "\t<li>'OPCount_R6M'</li>\n",
       "\t<li>'log_medcost_R12M'</li>\n",
       "\t<li>'med_cost_R12M'</li>\n",
       "\t<li>'log_medcost_R6M'</li>\n",
       "\t<li>'med_cost_R6M'</li>\n",
       "\t<li>'log_medcost_F12M'</li>\n",
       "\t<li>'med_cost_F12M'</li>\n",
       "\t<li>'referral_INTERNAL_REFERRAL'</li>\n",
       "\t<li>'referral_MEMBER_FAMILY_CAREGIVER'</li>\n",
       "\t<li>'referral_OTHER'</li>\n",
       "\t<li>'referral_POST_DISCHARGE'</li>\n",
       "\t<li>'referral_PRE_ADMISSION'</li>\n",
       "\t<li>'referral_PREDICTIVE_MODEL'</li>\n",
       "\t<li>'referral_PROVIDER_REFERRAL'</li>\n",
       "\t<li>'DIAG_CCS_11_R12M'</li>\n",
       "\t<li>'DIAG_CCS_12_R12M'</li>\n",
       "\t<li>'DIAG_CCS_13_R12M'</li>\n",
       "\t<li>'DIAG_CCS_14_R12M'</li>\n",
       "\t<li>'DIAG_CCS_15_R12M'</li>\n",
       "\t<li>'DIAG_CCS_16_R12M'</li>\n",
       "\t<li>'DIAG_CCS_17_R12M'</li>\n",
       "\t<li>'DIAG_CCS_18_R12M'</li>\n",
       "\t<li>'DIAG_CCS_19_R12M'</li>\n",
       "\t<li>'DIAG_CCS_20_R12M'</li>\n",
       "\t<li>'DIAG_CCS_21_R12M'</li>\n",
       "\t<li>'DIAG_CCS_22_R12M'</li>\n",
       "\t<li>'DIAG_CCS_23_R12M'</li>\n",
       "\t<li>'DIAG_CCS_24_R12M'</li>\n",
       "\t<li>'DIAG_CCS_25_R12M'</li>\n",
       "\t<li>'DIAG_CCS_26_R12M'</li>\n",
       "\t<li>'DIAG_CCS_27_R12M'</li>\n",
       "\t<li>'DIAG_CCS_28_R12M'</li>\n",
       "\t<li>'DIAG_CCS_29_R12M'</li>\n",
       "\t<li>'DIAG_CCS_30_R12M'</li>\n",
       "\t<li>'DIAG_CCS_31_R12M'</li>\n",
       "\t<li>'DIAG_CCS_32_R12M'</li>\n",
       "\t<li>'DIAG_CCS_33_R12M'</li>\n",
       "\t<li>'DIAG_CCS_34_R12M'</li>\n",
       "\t<li>'DIAG_CCS_35_R12M'</li>\n",
       "\t<li>'DIAG_CCS_36_R12M'</li>\n",
       "\t<li>'DIAG_CCS_37_R12M'</li>\n",
       "\t<li>'DIAG_CCS_38_R12M'</li>\n",
       "\t<li>'DIAG_CCS_39_R12M'</li>\n",
       "\t<li>'DIAG_CCS_40_R12M'</li>\n",
       "\t<li>'DIAG_CCS_41_R12M'</li>\n",
       "\t<li>'DIAG_CCS_42_R12M'</li>\n",
       "\t<li>'DIAG_CCS_43_R12M'</li>\n",
       "\t<li>'DIAG_CCS_44_R12M'</li>\n",
       "\t<li>'DIAG_CCS_45_R12M'</li>\n",
       "\t<li>'DIAG_CCS_46_R12M'</li>\n",
       "\t<li>'DIAG_CCS_47_R12M'</li>\n",
       "</ol>\n"
      ],
      "text/latex": [
       "\\begin{enumerate*}\n",
       "\\item 'origId'\n",
       "\\item 'RxElig\\_R12M'\n",
       "\\item 'MEMBR\\_AGE'\n",
       "\\item 'GENDER\\_CD\\_M'\n",
       "\\item 'actCount\\_1\\_R12M'\n",
       "\\item 'actCount\\_10\\_R12M'\n",
       "\\item 'actCount\\_11\\_R12M'\n",
       "\\item 'actCount\\_12\\_R12M'\n",
       "\\item 'actCount\\_13\\_R12M'\n",
       "\\item 'actCount\\_14\\_R12M'\n",
       "\\item 'actCount\\_15\\_R12M'\n",
       "\\item 'actCount\\_16\\_R12M'\n",
       "\\item 'actCount\\_17\\_R12M'\n",
       "\\item 'actCount\\_18\\_R12M'\n",
       "\\item 'actCount\\_19\\_R12M'\n",
       "\\item 'actCount\\_2\\_R12M'\n",
       "\\item 'actCount\\_20\\_R12M'\n",
       "\\item 'actCount\\_21\\_R12M'\n",
       "\\item 'actCount\\_22\\_R12M'\n",
       "\\item 'actCount\\_23\\_R12M'\n",
       "\\item 'actCount\\_3\\_R12M'\n",
       "\\item 'actCount\\_4\\_R12M'\n",
       "\\item 'actCount\\_5\\_R12M'\n",
       "\\item 'actCount\\_6\\_R12M'\n",
       "\\item 'actCount\\_7\\_R12M'\n",
       "\\item 'actCount\\_8\\_R12M'\n",
       "\\item 'actCount\\_9\\_R12M'\n",
       "\\item 'DIAG\\_Charlson\\_cerebrovas\\_R12M'\n",
       "\\item 'DIAG\\_Charlson\\_chf\\_R12M'\n",
       "\\item 'DIAG\\_Charlson\\_cpd\\_R12M'\n",
       "\\item 'DIAG\\_Charlson\\_dementia\\_R12M'\n",
       "\\item 'DIAG\\_Charlson\\_diabetes\\_R12M'\n",
       "\\item 'DIAG\\_Charlson\\_diabeteschronic\\_R12M'\n",
       "\\item 'DIAG\\_Charlson\\_hiv\\_R12M'\n",
       "\\item 'DIAG\\_Charlson\\_liver\\_R12M'\n",
       "\\item 'DIAG\\_Charlson\\_malignancy\\_R12M'\n",
       "\\item 'DIAG\\_Charlson\\_metastatictumor\\_R12M'\n",
       "\\item 'DIAG\\_Charlson\\_mi\\_R12M'\n",
       "\\item 'DIAG\\_Charlson\\_mildliver\\_R12M'\n",
       "\\item 'DIAG\\_Charlson\\_plegia\\_R12M'\n",
       "\\item 'DIAG\\_Charlson\\_pud\\_R12M'\n",
       "\\item 'DIAG\\_Charlson\\_pvd\\_R12M'\n",
       "\\item 'DIAG\\_Charlson\\_renal\\_R12M'\n",
       "\\item 'DIAG\\_Charlson\\_rheumatic\\_R12M'\n",
       "\\item 'PLACE\\_OF\\_SVC\\_CD\\_01\\_R12M'\n",
       "\\item 'PLACE\\_OF\\_SVC\\_CD\\_03\\_R12M'\n",
       "\\item 'PLACE\\_OF\\_SVC\\_CD\\_04\\_R12M'\n",
       "\\item 'PLACE\\_OF\\_SVC\\_CD\\_05\\_R12M'\n",
       "\\item 'PLACE\\_OF\\_SVC\\_CD\\_06\\_R12M'\n",
       "\\item 'PLACE\\_OF\\_SVC\\_CD\\_07\\_R12M'\n",
       "\\item 'PLACE\\_OF\\_SVC\\_CD\\_08\\_R12M'\n",
       "\\item 'PLACE\\_OF\\_SVC\\_CD\\_09\\_R12M'\n",
       "\\item 'PLACE\\_OF\\_SVC\\_CD\\_11\\_R12M'\n",
       "\\item 'PLACE\\_OF\\_SVC\\_CD\\_12\\_R12M'\n",
       "\\item 'PLACE\\_OF\\_SVC\\_CD\\_13\\_R12M'\n",
       "\\item 'PLACE\\_OF\\_SVC\\_CD\\_14\\_R12M'\n",
       "\\item 'PLACE\\_OF\\_SVC\\_CD\\_15\\_R12M'\n",
       "\\item 'PLACE\\_OF\\_SVC\\_CD\\_16\\_R12M'\n",
       "\\item 'PLACE\\_OF\\_SVC\\_CD\\_17\\_R12M'\n",
       "\\item 'PLACE\\_OF\\_SVC\\_CD\\_18\\_R12M'\n",
       "\\item 'PLACE\\_OF\\_SVC\\_CD\\_20\\_R12M'\n",
       "\\item 'PLACE\\_OF\\_SVC\\_CD\\_21\\_R12M'\n",
       "\\item 'PLACE\\_OF\\_SVC\\_CD\\_22\\_R12M'\n",
       "\\item 'PLACE\\_OF\\_SVC\\_CD\\_23\\_R12M'\n",
       "\\item 'PLACE\\_OF\\_SVC\\_CD\\_24\\_R12M'\n",
       "\\item 'PLACE\\_OF\\_SVC\\_CD\\_25\\_R12M'\n",
       "\\item 'PLACE\\_OF\\_SVC\\_CD\\_26\\_R12M'\n",
       "\\item 'PLACE\\_OF\\_SVC\\_CD\\_31\\_R12M'\n",
       "\\item 'PLACE\\_OF\\_SVC\\_CD\\_32\\_R12M'\n",
       "\\item 'PLACE\\_OF\\_SVC\\_CD\\_33\\_R12M'\n",
       "\\item 'PLACE\\_OF\\_SVC\\_CD\\_34\\_R12M'\n",
       "\\item 'PLACE\\_OF\\_SVC\\_CD\\_41\\_R12M'\n",
       "\\item 'PLACE\\_OF\\_SVC\\_CD\\_42\\_R12M'\n",
       "\\item 'PLACE\\_OF\\_SVC\\_CD\\_49\\_R12M'\n",
       "\\item 'PLACE\\_OF\\_SVC\\_CD\\_50\\_R12M'\n",
       "\\item 'PLACE\\_OF\\_SVC\\_CD\\_51\\_R12M'\n",
       "\\item 'PLACE\\_OF\\_SVC\\_CD\\_52\\_R12M'\n",
       "\\item 'PLACE\\_OF\\_SVC\\_CD\\_53\\_R12M'\n",
       "\\item 'PLACE\\_OF\\_SVC\\_CD\\_54\\_R12M'\n",
       "\\item 'PLACE\\_OF\\_SVC\\_CD\\_55\\_R12M'\n",
       "\\item 'PLACE\\_OF\\_SVC\\_CD\\_56\\_R12M'\n",
       "\\item 'PLACE\\_OF\\_SVC\\_CD\\_57\\_R12M'\n",
       "\\item 'PLACE\\_OF\\_SVC\\_CD\\_60\\_R12M'\n",
       "\\item 'PLACE\\_OF\\_SVC\\_CD\\_61\\_R12M'\n",
       "\\item 'PLACE\\_OF\\_SVC\\_CD\\_62\\_R12M'\n",
       "\\item 'PLACE\\_OF\\_SVC\\_CD\\_65\\_R12M'\n",
       "\\item 'PLACE\\_OF\\_SVC\\_CD\\_71\\_R12M'\n",
       "\\item 'PLACE\\_OF\\_SVC\\_CD\\_72\\_R12M'\n",
       "\\item 'PLACE\\_OF\\_SVC\\_CD\\_81\\_R12M'\n",
       "\\item 'IPLOS\\_R12M'\n",
       "\\item 'IPLOS\\_R6M'\n",
       "\\item 'ERCount\\_R12M'\n",
       "\\item 'ERCount\\_R6M'\n",
       "\\item 'OPCount\\_R12M'\n",
       "\\item 'OPCount\\_R6M'\n",
       "\\item 'log\\_medcost\\_R12M'\n",
       "\\item 'med\\_cost\\_R12M'\n",
       "\\item 'log\\_medcost\\_R6M'\n",
       "\\item 'med\\_cost\\_R6M'\n",
       "\\item 'log\\_medcost\\_F12M'\n",
       "\\item 'med\\_cost\\_F12M'\n",
       "\\item 'referral\\_INTERNAL\\_REFERRAL'\n",
       "\\item 'referral\\_MEMBER\\_FAMILY\\_CAREGIVER'\n",
       "\\item 'referral\\_OTHER'\n",
       "\\item 'referral\\_POST\\_DISCHARGE'\n",
       "\\item 'referral\\_PRE\\_ADMISSION'\n",
       "\\item 'referral\\_PREDICTIVE\\_MODEL'\n",
       "\\item 'referral\\_PROVIDER\\_REFERRAL'\n",
       "\\item 'DIAG\\_CCS\\_11\\_R12M'\n",
       "\\item 'DIAG\\_CCS\\_12\\_R12M'\n",
       "\\item 'DIAG\\_CCS\\_13\\_R12M'\n",
       "\\item 'DIAG\\_CCS\\_14\\_R12M'\n",
       "\\item 'DIAG\\_CCS\\_15\\_R12M'\n",
       "\\item 'DIAG\\_CCS\\_16\\_R12M'\n",
       "\\item 'DIAG\\_CCS\\_17\\_R12M'\n",
       "\\item 'DIAG\\_CCS\\_18\\_R12M'\n",
       "\\item 'DIAG\\_CCS\\_19\\_R12M'\n",
       "\\item 'DIAG\\_CCS\\_20\\_R12M'\n",
       "\\item 'DIAG\\_CCS\\_21\\_R12M'\n",
       "\\item 'DIAG\\_CCS\\_22\\_R12M'\n",
       "\\item 'DIAG\\_CCS\\_23\\_R12M'\n",
       "\\item 'DIAG\\_CCS\\_24\\_R12M'\n",
       "\\item 'DIAG\\_CCS\\_25\\_R12M'\n",
       "\\item 'DIAG\\_CCS\\_26\\_R12M'\n",
       "\\item 'DIAG\\_CCS\\_27\\_R12M'\n",
       "\\item 'DIAG\\_CCS\\_28\\_R12M'\n",
       "\\item 'DIAG\\_CCS\\_29\\_R12M'\n",
       "\\item 'DIAG\\_CCS\\_30\\_R12M'\n",
       "\\item 'DIAG\\_CCS\\_31\\_R12M'\n",
       "\\item 'DIAG\\_CCS\\_32\\_R12M'\n",
       "\\item 'DIAG\\_CCS\\_33\\_R12M'\n",
       "\\item 'DIAG\\_CCS\\_34\\_R12M'\n",
       "\\item 'DIAG\\_CCS\\_35\\_R12M'\n",
       "\\item 'DIAG\\_CCS\\_36\\_R12M'\n",
       "\\item 'DIAG\\_CCS\\_37\\_R12M'\n",
       "\\item 'DIAG\\_CCS\\_38\\_R12M'\n",
       "\\item 'DIAG\\_CCS\\_39\\_R12M'\n",
       "\\item 'DIAG\\_CCS\\_40\\_R12M'\n",
       "\\item 'DIAG\\_CCS\\_41\\_R12M'\n",
       "\\item 'DIAG\\_CCS\\_42\\_R12M'\n",
       "\\item 'DIAG\\_CCS\\_43\\_R12M'\n",
       "\\item 'DIAG\\_CCS\\_44\\_R12M'\n",
       "\\item 'DIAG\\_CCS\\_45\\_R12M'\n",
       "\\item 'DIAG\\_CCS\\_46\\_R12M'\n",
       "\\item 'DIAG\\_CCS\\_47\\_R12M'\n",
       "\\end{enumerate*}\n"
      ],
      "text/markdown": [
       "1. 'origId'\n",
       "2. 'RxElig_R12M'\n",
       "3. 'MEMBR_AGE'\n",
       "4. 'GENDER_CD_M'\n",
       "5. 'actCount_1_R12M'\n",
       "6. 'actCount_10_R12M'\n",
       "7. 'actCount_11_R12M'\n",
       "8. 'actCount_12_R12M'\n",
       "9. 'actCount_13_R12M'\n",
       "10. 'actCount_14_R12M'\n",
       "11. 'actCount_15_R12M'\n",
       "12. 'actCount_16_R12M'\n",
       "13. 'actCount_17_R12M'\n",
       "14. 'actCount_18_R12M'\n",
       "15. 'actCount_19_R12M'\n",
       "16. 'actCount_2_R12M'\n",
       "17. 'actCount_20_R12M'\n",
       "18. 'actCount_21_R12M'\n",
       "19. 'actCount_22_R12M'\n",
       "20. 'actCount_23_R12M'\n",
       "21. 'actCount_3_R12M'\n",
       "22. 'actCount_4_R12M'\n",
       "23. 'actCount_5_R12M'\n",
       "24. 'actCount_6_R12M'\n",
       "25. 'actCount_7_R12M'\n",
       "26. 'actCount_8_R12M'\n",
       "27. 'actCount_9_R12M'\n",
       "28. 'DIAG_Charlson_cerebrovas_R12M'\n",
       "29. 'DIAG_Charlson_chf_R12M'\n",
       "30. 'DIAG_Charlson_cpd_R12M'\n",
       "31. 'DIAG_Charlson_dementia_R12M'\n",
       "32. 'DIAG_Charlson_diabetes_R12M'\n",
       "33. 'DIAG_Charlson_diabeteschronic_R12M'\n",
       "34. 'DIAG_Charlson_hiv_R12M'\n",
       "35. 'DIAG_Charlson_liver_R12M'\n",
       "36. 'DIAG_Charlson_malignancy_R12M'\n",
       "37. 'DIAG_Charlson_metastatictumor_R12M'\n",
       "38. 'DIAG_Charlson_mi_R12M'\n",
       "39. 'DIAG_Charlson_mildliver_R12M'\n",
       "40. 'DIAG_Charlson_plegia_R12M'\n",
       "41. 'DIAG_Charlson_pud_R12M'\n",
       "42. 'DIAG_Charlson_pvd_R12M'\n",
       "43. 'DIAG_Charlson_renal_R12M'\n",
       "44. 'DIAG_Charlson_rheumatic_R12M'\n",
       "45. 'PLACE_OF_SVC_CD_01_R12M'\n",
       "46. 'PLACE_OF_SVC_CD_03_R12M'\n",
       "47. 'PLACE_OF_SVC_CD_04_R12M'\n",
       "48. 'PLACE_OF_SVC_CD_05_R12M'\n",
       "49. 'PLACE_OF_SVC_CD_06_R12M'\n",
       "50. 'PLACE_OF_SVC_CD_07_R12M'\n",
       "51. 'PLACE_OF_SVC_CD_08_R12M'\n",
       "52. 'PLACE_OF_SVC_CD_09_R12M'\n",
       "53. 'PLACE_OF_SVC_CD_11_R12M'\n",
       "54. 'PLACE_OF_SVC_CD_12_R12M'\n",
       "55. 'PLACE_OF_SVC_CD_13_R12M'\n",
       "56. 'PLACE_OF_SVC_CD_14_R12M'\n",
       "57. 'PLACE_OF_SVC_CD_15_R12M'\n",
       "58. 'PLACE_OF_SVC_CD_16_R12M'\n",
       "59. 'PLACE_OF_SVC_CD_17_R12M'\n",
       "60. 'PLACE_OF_SVC_CD_18_R12M'\n",
       "61. 'PLACE_OF_SVC_CD_20_R12M'\n",
       "62. 'PLACE_OF_SVC_CD_21_R12M'\n",
       "63. 'PLACE_OF_SVC_CD_22_R12M'\n",
       "64. 'PLACE_OF_SVC_CD_23_R12M'\n",
       "65. 'PLACE_OF_SVC_CD_24_R12M'\n",
       "66. 'PLACE_OF_SVC_CD_25_R12M'\n",
       "67. 'PLACE_OF_SVC_CD_26_R12M'\n",
       "68. 'PLACE_OF_SVC_CD_31_R12M'\n",
       "69. 'PLACE_OF_SVC_CD_32_R12M'\n",
       "70. 'PLACE_OF_SVC_CD_33_R12M'\n",
       "71. 'PLACE_OF_SVC_CD_34_R12M'\n",
       "72. 'PLACE_OF_SVC_CD_41_R12M'\n",
       "73. 'PLACE_OF_SVC_CD_42_R12M'\n",
       "74. 'PLACE_OF_SVC_CD_49_R12M'\n",
       "75. 'PLACE_OF_SVC_CD_50_R12M'\n",
       "76. 'PLACE_OF_SVC_CD_51_R12M'\n",
       "77. 'PLACE_OF_SVC_CD_52_R12M'\n",
       "78. 'PLACE_OF_SVC_CD_53_R12M'\n",
       "79. 'PLACE_OF_SVC_CD_54_R12M'\n",
       "80. 'PLACE_OF_SVC_CD_55_R12M'\n",
       "81. 'PLACE_OF_SVC_CD_56_R12M'\n",
       "82. 'PLACE_OF_SVC_CD_57_R12M'\n",
       "83. 'PLACE_OF_SVC_CD_60_R12M'\n",
       "84. 'PLACE_OF_SVC_CD_61_R12M'\n",
       "85. 'PLACE_OF_SVC_CD_62_R12M'\n",
       "86. 'PLACE_OF_SVC_CD_65_R12M'\n",
       "87. 'PLACE_OF_SVC_CD_71_R12M'\n",
       "88. 'PLACE_OF_SVC_CD_72_R12M'\n",
       "89. 'PLACE_OF_SVC_CD_81_R12M'\n",
       "90. 'IPLOS_R12M'\n",
       "91. 'IPLOS_R6M'\n",
       "92. 'ERCount_R12M'\n",
       "93. 'ERCount_R6M'\n",
       "94. 'OPCount_R12M'\n",
       "95. 'OPCount_R6M'\n",
       "96. 'log_medcost_R12M'\n",
       "97. 'med_cost_R12M'\n",
       "98. 'log_medcost_R6M'\n",
       "99. 'med_cost_R6M'\n",
       "100. 'log_medcost_F12M'\n",
       "101. 'med_cost_F12M'\n",
       "102. 'referral_INTERNAL_REFERRAL'\n",
       "103. 'referral_MEMBER_FAMILY_CAREGIVER'\n",
       "104. 'referral_OTHER'\n",
       "105. 'referral_POST_DISCHARGE'\n",
       "106. 'referral_PRE_ADMISSION'\n",
       "107. 'referral_PREDICTIVE_MODEL'\n",
       "108. 'referral_PROVIDER_REFERRAL'\n",
       "109. 'DIAG_CCS_11_R12M'\n",
       "110. 'DIAG_CCS_12_R12M'\n",
       "111. 'DIAG_CCS_13_R12M'\n",
       "112. 'DIAG_CCS_14_R12M'\n",
       "113. 'DIAG_CCS_15_R12M'\n",
       "114. 'DIAG_CCS_16_R12M'\n",
       "115. 'DIAG_CCS_17_R12M'\n",
       "116. 'DIAG_CCS_18_R12M'\n",
       "117. 'DIAG_CCS_19_R12M'\n",
       "118. 'DIAG_CCS_20_R12M'\n",
       "119. 'DIAG_CCS_21_R12M'\n",
       "120. 'DIAG_CCS_22_R12M'\n",
       "121. 'DIAG_CCS_23_R12M'\n",
       "122. 'DIAG_CCS_24_R12M'\n",
       "123. 'DIAG_CCS_25_R12M'\n",
       "124. 'DIAG_CCS_26_R12M'\n",
       "125. 'DIAG_CCS_27_R12M'\n",
       "126. 'DIAG_CCS_28_R12M'\n",
       "127. 'DIAG_CCS_29_R12M'\n",
       "128. 'DIAG_CCS_30_R12M'\n",
       "129. 'DIAG_CCS_31_R12M'\n",
       "130. 'DIAG_CCS_32_R12M'\n",
       "131. 'DIAG_CCS_33_R12M'\n",
       "132. 'DIAG_CCS_34_R12M'\n",
       "133. 'DIAG_CCS_35_R12M'\n",
       "134. 'DIAG_CCS_36_R12M'\n",
       "135. 'DIAG_CCS_37_R12M'\n",
       "136. 'DIAG_CCS_38_R12M'\n",
       "137. 'DIAG_CCS_39_R12M'\n",
       "138. 'DIAG_CCS_40_R12M'\n",
       "139. 'DIAG_CCS_41_R12M'\n",
       "140. 'DIAG_CCS_42_R12M'\n",
       "141. 'DIAG_CCS_43_R12M'\n",
       "142. 'DIAG_CCS_44_R12M'\n",
       "143. 'DIAG_CCS_45_R12M'\n",
       "144. 'DIAG_CCS_46_R12M'\n",
       "145. 'DIAG_CCS_47_R12M'\n",
       "\n",
       "\n"
      ],
      "text/plain": [
       "  [1] \"origId\"                             \"RxElig_R12M\"                       \n",
       "  [3] \"MEMBR_AGE\"                          \"GENDER_CD_M\"                       \n",
       "  [5] \"actCount_1_R12M\"                    \"actCount_10_R12M\"                  \n",
       "  [7] \"actCount_11_R12M\"                   \"actCount_12_R12M\"                  \n",
       "  [9] \"actCount_13_R12M\"                   \"actCount_14_R12M\"                  \n",
       " [11] \"actCount_15_R12M\"                   \"actCount_16_R12M\"                  \n",
       " [13] \"actCount_17_R12M\"                   \"actCount_18_R12M\"                  \n",
       " [15] \"actCount_19_R12M\"                   \"actCount_2_R12M\"                   \n",
       " [17] \"actCount_20_R12M\"                   \"actCount_21_R12M\"                  \n",
       " [19] \"actCount_22_R12M\"                   \"actCount_23_R12M\"                  \n",
       " [21] \"actCount_3_R12M\"                    \"actCount_4_R12M\"                   \n",
       " [23] \"actCount_5_R12M\"                    \"actCount_6_R12M\"                   \n",
       " [25] \"actCount_7_R12M\"                    \"actCount_8_R12M\"                   \n",
       " [27] \"actCount_9_R12M\"                    \"DIAG_Charlson_cerebrovas_R12M\"     \n",
       " [29] \"DIAG_Charlson_chf_R12M\"             \"DIAG_Charlson_cpd_R12M\"            \n",
       " [31] \"DIAG_Charlson_dementia_R12M\"        \"DIAG_Charlson_diabetes_R12M\"       \n",
       " [33] \"DIAG_Charlson_diabeteschronic_R12M\" \"DIAG_Charlson_hiv_R12M\"            \n",
       " [35] \"DIAG_Charlson_liver_R12M\"           \"DIAG_Charlson_malignancy_R12M\"     \n",
       " [37] \"DIAG_Charlson_metastatictumor_R12M\" \"DIAG_Charlson_mi_R12M\"             \n",
       " [39] \"DIAG_Charlson_mildliver_R12M\"       \"DIAG_Charlson_plegia_R12M\"         \n",
       " [41] \"DIAG_Charlson_pud_R12M\"             \"DIAG_Charlson_pvd_R12M\"            \n",
       " [43] \"DIAG_Charlson_renal_R12M\"           \"DIAG_Charlson_rheumatic_R12M\"      \n",
       " [45] \"PLACE_OF_SVC_CD_01_R12M\"            \"PLACE_OF_SVC_CD_03_R12M\"           \n",
       " [47] \"PLACE_OF_SVC_CD_04_R12M\"            \"PLACE_OF_SVC_CD_05_R12M\"           \n",
       " [49] \"PLACE_OF_SVC_CD_06_R12M\"            \"PLACE_OF_SVC_CD_07_R12M\"           \n",
       " [51] \"PLACE_OF_SVC_CD_08_R12M\"            \"PLACE_OF_SVC_CD_09_R12M\"           \n",
       " [53] \"PLACE_OF_SVC_CD_11_R12M\"            \"PLACE_OF_SVC_CD_12_R12M\"           \n",
       " [55] \"PLACE_OF_SVC_CD_13_R12M\"            \"PLACE_OF_SVC_CD_14_R12M\"           \n",
       " [57] \"PLACE_OF_SVC_CD_15_R12M\"            \"PLACE_OF_SVC_CD_16_R12M\"           \n",
       " [59] \"PLACE_OF_SVC_CD_17_R12M\"            \"PLACE_OF_SVC_CD_18_R12M\"           \n",
       " [61] \"PLACE_OF_SVC_CD_20_R12M\"            \"PLACE_OF_SVC_CD_21_R12M\"           \n",
       " [63] \"PLACE_OF_SVC_CD_22_R12M\"            \"PLACE_OF_SVC_CD_23_R12M\"           \n",
       " [65] \"PLACE_OF_SVC_CD_24_R12M\"            \"PLACE_OF_SVC_CD_25_R12M\"           \n",
       " [67] \"PLACE_OF_SVC_CD_26_R12M\"            \"PLACE_OF_SVC_CD_31_R12M\"           \n",
       " [69] \"PLACE_OF_SVC_CD_32_R12M\"            \"PLACE_OF_SVC_CD_33_R12M\"           \n",
       " [71] \"PLACE_OF_SVC_CD_34_R12M\"            \"PLACE_OF_SVC_CD_41_R12M\"           \n",
       " [73] \"PLACE_OF_SVC_CD_42_R12M\"            \"PLACE_OF_SVC_CD_49_R12M\"           \n",
       " [75] \"PLACE_OF_SVC_CD_50_R12M\"            \"PLACE_OF_SVC_CD_51_R12M\"           \n",
       " [77] \"PLACE_OF_SVC_CD_52_R12M\"            \"PLACE_OF_SVC_CD_53_R12M\"           \n",
       " [79] \"PLACE_OF_SVC_CD_54_R12M\"            \"PLACE_OF_SVC_CD_55_R12M\"           \n",
       " [81] \"PLACE_OF_SVC_CD_56_R12M\"            \"PLACE_OF_SVC_CD_57_R12M\"           \n",
       " [83] \"PLACE_OF_SVC_CD_60_R12M\"            \"PLACE_OF_SVC_CD_61_R12M\"           \n",
       " [85] \"PLACE_OF_SVC_CD_62_R12M\"            \"PLACE_OF_SVC_CD_65_R12M\"           \n",
       " [87] \"PLACE_OF_SVC_CD_71_R12M\"            \"PLACE_OF_SVC_CD_72_R12M\"           \n",
       " [89] \"PLACE_OF_SVC_CD_81_R12M\"            \"IPLOS_R12M\"                        \n",
       " [91] \"IPLOS_R6M\"                          \"ERCount_R12M\"                      \n",
       " [93] \"ERCount_R6M\"                        \"OPCount_R12M\"                      \n",
       " [95] \"OPCount_R6M\"                        \"log_medcost_R12M\"                  \n",
       " [97] \"med_cost_R12M\"                      \"log_medcost_R6M\"                   \n",
       " [99] \"med_cost_R6M\"                       \"log_medcost_F12M\"                  \n",
       "[101] \"med_cost_F12M\"                      \"referral_INTERNAL_REFERRAL\"        \n",
       "[103] \"referral_MEMBER_FAMILY_CAREGIVER\"   \"referral_OTHER\"                    \n",
       "[105] \"referral_POST_DISCHARGE\"            \"referral_PRE_ADMISSION\"            \n",
       "[107] \"referral_PREDICTIVE_MODEL\"          \"referral_PROVIDER_REFERRAL\"        \n",
       "[109] \"DIAG_CCS_11_R12M\"                   \"DIAG_CCS_12_R12M\"                  \n",
       "[111] \"DIAG_CCS_13_R12M\"                   \"DIAG_CCS_14_R12M\"                  \n",
       "[113] \"DIAG_CCS_15_R12M\"                   \"DIAG_CCS_16_R12M\"                  \n",
       "[115] \"DIAG_CCS_17_R12M\"                   \"DIAG_CCS_18_R12M\"                  \n",
       "[117] \"DIAG_CCS_19_R12M\"                   \"DIAG_CCS_20_R12M\"                  \n",
       "[119] \"DIAG_CCS_21_R12M\"                   \"DIAG_CCS_22_R12M\"                  \n",
       "[121] \"DIAG_CCS_23_R12M\"                   \"DIAG_CCS_24_R12M\"                  \n",
       "[123] \"DIAG_CCS_25_R12M\"                   \"DIAG_CCS_26_R12M\"                  \n",
       "[125] \"DIAG_CCS_27_R12M\"                   \"DIAG_CCS_28_R12M\"                  \n",
       "[127] \"DIAG_CCS_29_R12M\"                   \"DIAG_CCS_30_R12M\"                  \n",
       "[129] \"DIAG_CCS_31_R12M\"                   \"DIAG_CCS_32_R12M\"                  \n",
       "[131] \"DIAG_CCS_33_R12M\"                   \"DIAG_CCS_34_R12M\"                  \n",
       "[133] \"DIAG_CCS_35_R12M\"                   \"DIAG_CCS_36_R12M\"                  \n",
       "[135] \"DIAG_CCS_37_R12M\"                   \"DIAG_CCS_38_R12M\"                  \n",
       "[137] \"DIAG_CCS_39_R12M\"                   \"DIAG_CCS_40_R12M\"                  \n",
       "[139] \"DIAG_CCS_41_R12M\"                   \"DIAG_CCS_42_R12M\"                  \n",
       "[141] \"DIAG_CCS_43_R12M\"                   \"DIAG_CCS_44_R12M\"                  \n",
       "[143] \"DIAG_CCS_45_R12M\"                   \"DIAG_CCS_46_R12M\"                  \n",
       "[145] \"DIAG_CCS_47_R12M\"                  "
      ]
     },
     "metadata": {},
     "output_type": "display_data"
    }
   ],
   "source": [
    "names(dummy)"
   ]
  },
  {
   "cell_type": "code",
   "execution_count": 551,
   "metadata": {},
   "outputs": [
    {
     "data": {
      "text/html": [
       "<ol class=list-inline>\n",
       "\t<li>241</li>\n",
       "\t<li>145</li>\n",
       "</ol>\n"
      ],
      "text/latex": [
       "\\begin{enumerate*}\n",
       "\\item 241\n",
       "\\item 145\n",
       "\\end{enumerate*}\n"
      ],
      "text/markdown": [
       "1. 241\n",
       "2. 145\n",
       "\n",
       "\n"
      ],
      "text/plain": [
       "[1] 241 145"
      ]
     },
     "metadata": {},
     "output_type": "display_data"
    }
   ],
   "source": [
    "dim(dummy)"
   ]
  },
  {
   "cell_type": "code",
   "execution_count": 552,
   "metadata": {},
   "outputs": [
    {
     "data": {
      "text/html": [
       "<ol class=list-inline>\n",
       "\t<li>'actCount_11_R12M'</li>\n",
       "\t<li>'actCount_14_R12M'</li>\n",
       "\t<li>'actCount_18_R12M'</li>\n",
       "\t<li>'PLACE_OF_SVC_CD_01_R12M'</li>\n",
       "\t<li>'PLACE_OF_SVC_CD_03_R12M'</li>\n",
       "\t<li>'PLACE_OF_SVC_CD_04_R12M'</li>\n",
       "\t<li>'PLACE_OF_SVC_CD_05_R12M'</li>\n",
       "\t<li>'PLACE_OF_SVC_CD_06_R12M'</li>\n",
       "\t<li>'PLACE_OF_SVC_CD_07_R12M'</li>\n",
       "\t<li>'PLACE_OF_SVC_CD_08_R12M'</li>\n",
       "\t<li>'PLACE_OF_SVC_CD_09_R12M'</li>\n",
       "\t<li>'PLACE_OF_SVC_CD_13_R12M'</li>\n",
       "\t<li>'PLACE_OF_SVC_CD_14_R12M'</li>\n",
       "\t<li>'PLACE_OF_SVC_CD_15_R12M'</li>\n",
       "\t<li>'PLACE_OF_SVC_CD_16_R12M'</li>\n",
       "\t<li>'PLACE_OF_SVC_CD_17_R12M'</li>\n",
       "\t<li>'PLACE_OF_SVC_CD_18_R12M'</li>\n",
       "\t<li>'PLACE_OF_SVC_CD_25_R12M'</li>\n",
       "\t<li>'PLACE_OF_SVC_CD_26_R12M'</li>\n",
       "\t<li>'PLACE_OF_SVC_CD_32_R12M'</li>\n",
       "\t<li>'PLACE_OF_SVC_CD_33_R12M'</li>\n",
       "\t<li>'PLACE_OF_SVC_CD_34_R12M'</li>\n",
       "\t<li>'PLACE_OF_SVC_CD_42_R12M'</li>\n",
       "\t<li>'PLACE_OF_SVC_CD_49_R12M'</li>\n",
       "\t<li>'PLACE_OF_SVC_CD_50_R12M'</li>\n",
       "\t<li>'PLACE_OF_SVC_CD_51_R12M'</li>\n",
       "\t<li>'PLACE_OF_SVC_CD_52_R12M'</li>\n",
       "\t<li>'PLACE_OF_SVC_CD_53_R12M'</li>\n",
       "\t<li>'PLACE_OF_SVC_CD_54_R12M'</li>\n",
       "\t<li>'PLACE_OF_SVC_CD_55_R12M'</li>\n",
       "\t<li>'PLACE_OF_SVC_CD_56_R12M'</li>\n",
       "\t<li>'PLACE_OF_SVC_CD_57_R12M'</li>\n",
       "\t<li>'PLACE_OF_SVC_CD_60_R12M'</li>\n",
       "\t<li>'PLACE_OF_SVC_CD_62_R12M'</li>\n",
       "\t<li>'PLACE_OF_SVC_CD_65_R12M'</li>\n",
       "\t<li>'PLACE_OF_SVC_CD_71_R12M'</li>\n",
       "\t<li>'PLACE_OF_SVC_CD_72_R12M'</li>\n",
       "</ol>\n"
      ],
      "text/latex": [
       "\\begin{enumerate*}\n",
       "\\item 'actCount\\_11\\_R12M'\n",
       "\\item 'actCount\\_14\\_R12M'\n",
       "\\item 'actCount\\_18\\_R12M'\n",
       "\\item 'PLACE\\_OF\\_SVC\\_CD\\_01\\_R12M'\n",
       "\\item 'PLACE\\_OF\\_SVC\\_CD\\_03\\_R12M'\n",
       "\\item 'PLACE\\_OF\\_SVC\\_CD\\_04\\_R12M'\n",
       "\\item 'PLACE\\_OF\\_SVC\\_CD\\_05\\_R12M'\n",
       "\\item 'PLACE\\_OF\\_SVC\\_CD\\_06\\_R12M'\n",
       "\\item 'PLACE\\_OF\\_SVC\\_CD\\_07\\_R12M'\n",
       "\\item 'PLACE\\_OF\\_SVC\\_CD\\_08\\_R12M'\n",
       "\\item 'PLACE\\_OF\\_SVC\\_CD\\_09\\_R12M'\n",
       "\\item 'PLACE\\_OF\\_SVC\\_CD\\_13\\_R12M'\n",
       "\\item 'PLACE\\_OF\\_SVC\\_CD\\_14\\_R12M'\n",
       "\\item 'PLACE\\_OF\\_SVC\\_CD\\_15\\_R12M'\n",
       "\\item 'PLACE\\_OF\\_SVC\\_CD\\_16\\_R12M'\n",
       "\\item 'PLACE\\_OF\\_SVC\\_CD\\_17\\_R12M'\n",
       "\\item 'PLACE\\_OF\\_SVC\\_CD\\_18\\_R12M'\n",
       "\\item 'PLACE\\_OF\\_SVC\\_CD\\_25\\_R12M'\n",
       "\\item 'PLACE\\_OF\\_SVC\\_CD\\_26\\_R12M'\n",
       "\\item 'PLACE\\_OF\\_SVC\\_CD\\_32\\_R12M'\n",
       "\\item 'PLACE\\_OF\\_SVC\\_CD\\_33\\_R12M'\n",
       "\\item 'PLACE\\_OF\\_SVC\\_CD\\_34\\_R12M'\n",
       "\\item 'PLACE\\_OF\\_SVC\\_CD\\_42\\_R12M'\n",
       "\\item 'PLACE\\_OF\\_SVC\\_CD\\_49\\_R12M'\n",
       "\\item 'PLACE\\_OF\\_SVC\\_CD\\_50\\_R12M'\n",
       "\\item 'PLACE\\_OF\\_SVC\\_CD\\_51\\_R12M'\n",
       "\\item 'PLACE\\_OF\\_SVC\\_CD\\_52\\_R12M'\n",
       "\\item 'PLACE\\_OF\\_SVC\\_CD\\_53\\_R12M'\n",
       "\\item 'PLACE\\_OF\\_SVC\\_CD\\_54\\_R12M'\n",
       "\\item 'PLACE\\_OF\\_SVC\\_CD\\_55\\_R12M'\n",
       "\\item 'PLACE\\_OF\\_SVC\\_CD\\_56\\_R12M'\n",
       "\\item 'PLACE\\_OF\\_SVC\\_CD\\_57\\_R12M'\n",
       "\\item 'PLACE\\_OF\\_SVC\\_CD\\_60\\_R12M'\n",
       "\\item 'PLACE\\_OF\\_SVC\\_CD\\_62\\_R12M'\n",
       "\\item 'PLACE\\_OF\\_SVC\\_CD\\_65\\_R12M'\n",
       "\\item 'PLACE\\_OF\\_SVC\\_CD\\_71\\_R12M'\n",
       "\\item 'PLACE\\_OF\\_SVC\\_CD\\_72\\_R12M'\n",
       "\\end{enumerate*}\n"
      ],
      "text/markdown": [
       "1. 'actCount_11_R12M'\n",
       "2. 'actCount_14_R12M'\n",
       "3. 'actCount_18_R12M'\n",
       "4. 'PLACE_OF_SVC_CD_01_R12M'\n",
       "5. 'PLACE_OF_SVC_CD_03_R12M'\n",
       "6. 'PLACE_OF_SVC_CD_04_R12M'\n",
       "7. 'PLACE_OF_SVC_CD_05_R12M'\n",
       "8. 'PLACE_OF_SVC_CD_06_R12M'\n",
       "9. 'PLACE_OF_SVC_CD_07_R12M'\n",
       "10. 'PLACE_OF_SVC_CD_08_R12M'\n",
       "11. 'PLACE_OF_SVC_CD_09_R12M'\n",
       "12. 'PLACE_OF_SVC_CD_13_R12M'\n",
       "13. 'PLACE_OF_SVC_CD_14_R12M'\n",
       "14. 'PLACE_OF_SVC_CD_15_R12M'\n",
       "15. 'PLACE_OF_SVC_CD_16_R12M'\n",
       "16. 'PLACE_OF_SVC_CD_17_R12M'\n",
       "17. 'PLACE_OF_SVC_CD_18_R12M'\n",
       "18. 'PLACE_OF_SVC_CD_25_R12M'\n",
       "19. 'PLACE_OF_SVC_CD_26_R12M'\n",
       "20. 'PLACE_OF_SVC_CD_32_R12M'\n",
       "21. 'PLACE_OF_SVC_CD_33_R12M'\n",
       "22. 'PLACE_OF_SVC_CD_34_R12M'\n",
       "23. 'PLACE_OF_SVC_CD_42_R12M'\n",
       "24. 'PLACE_OF_SVC_CD_49_R12M'\n",
       "25. 'PLACE_OF_SVC_CD_50_R12M'\n",
       "26. 'PLACE_OF_SVC_CD_51_R12M'\n",
       "27. 'PLACE_OF_SVC_CD_52_R12M'\n",
       "28. 'PLACE_OF_SVC_CD_53_R12M'\n",
       "29. 'PLACE_OF_SVC_CD_54_R12M'\n",
       "30. 'PLACE_OF_SVC_CD_55_R12M'\n",
       "31. 'PLACE_OF_SVC_CD_56_R12M'\n",
       "32. 'PLACE_OF_SVC_CD_57_R12M'\n",
       "33. 'PLACE_OF_SVC_CD_60_R12M'\n",
       "34. 'PLACE_OF_SVC_CD_62_R12M'\n",
       "35. 'PLACE_OF_SVC_CD_65_R12M'\n",
       "36. 'PLACE_OF_SVC_CD_71_R12M'\n",
       "37. 'PLACE_OF_SVC_CD_72_R12M'\n",
       "\n",
       "\n"
      ],
      "text/plain": [
       " [1] \"actCount_11_R12M\"        \"actCount_14_R12M\"       \n",
       " [3] \"actCount_18_R12M\"        \"PLACE_OF_SVC_CD_01_R12M\"\n",
       " [5] \"PLACE_OF_SVC_CD_03_R12M\" \"PLACE_OF_SVC_CD_04_R12M\"\n",
       " [7] \"PLACE_OF_SVC_CD_05_R12M\" \"PLACE_OF_SVC_CD_06_R12M\"\n",
       " [9] \"PLACE_OF_SVC_CD_07_R12M\" \"PLACE_OF_SVC_CD_08_R12M\"\n",
       "[11] \"PLACE_OF_SVC_CD_09_R12M\" \"PLACE_OF_SVC_CD_13_R12M\"\n",
       "[13] \"PLACE_OF_SVC_CD_14_R12M\" \"PLACE_OF_SVC_CD_15_R12M\"\n",
       "[15] \"PLACE_OF_SVC_CD_16_R12M\" \"PLACE_OF_SVC_CD_17_R12M\"\n",
       "[17] \"PLACE_OF_SVC_CD_18_R12M\" \"PLACE_OF_SVC_CD_25_R12M\"\n",
       "[19] \"PLACE_OF_SVC_CD_26_R12M\" \"PLACE_OF_SVC_CD_32_R12M\"\n",
       "[21] \"PLACE_OF_SVC_CD_33_R12M\" \"PLACE_OF_SVC_CD_34_R12M\"\n",
       "[23] \"PLACE_OF_SVC_CD_42_R12M\" \"PLACE_OF_SVC_CD_49_R12M\"\n",
       "[25] \"PLACE_OF_SVC_CD_50_R12M\" \"PLACE_OF_SVC_CD_51_R12M\"\n",
       "[27] \"PLACE_OF_SVC_CD_52_R12M\" \"PLACE_OF_SVC_CD_53_R12M\"\n",
       "[29] \"PLACE_OF_SVC_CD_54_R12M\" \"PLACE_OF_SVC_CD_55_R12M\"\n",
       "[31] \"PLACE_OF_SVC_CD_56_R12M\" \"PLACE_OF_SVC_CD_57_R12M\"\n",
       "[33] \"PLACE_OF_SVC_CD_60_R12M\" \"PLACE_OF_SVC_CD_62_R12M\"\n",
       "[35] \"PLACE_OF_SVC_CD_65_R12M\" \"PLACE_OF_SVC_CD_71_R12M\"\n",
       "[37] \"PLACE_OF_SVC_CD_72_R12M\""
      ]
     },
     "metadata": {},
     "output_type": "display_data"
    }
   ],
   "source": [
    "names(dummy[, as.numeric(which(apply(dummy, 2, var) == 0))])"
   ]
  },
  {
   "cell_type": "code",
   "execution_count": 553,
   "metadata": {},
   "outputs": [],
   "source": [
    "dummy <- dummy[, - as.numeric(which(apply(dummy, 2, var) == 0))]"
   ]
  },
  {
   "cell_type": "code",
   "execution_count": 554,
   "metadata": {
    "scrolled": true
   },
   "outputs": [
    {
     "name": "stdout",
     "output_type": "stream",
     "text": [
      "'data.frame':\t241 obs. of  108 variables:\n",
      " $ origId                            : num  76513 235991 262420 408850 471828 ...\n",
      " $ RxElig_R12M                       : num  0 1 1 0 0 0 0 0 1 0 ...\n",
      " $ MEMBR_AGE                         : num  58 60 54 52 67 63 44 48 63 47 ...\n",
      " $ GENDER_CD_M                       : num  0 1 1 0 1 0 1 0 0 0 ...\n",
      " $ actCount_1_R12M                   : num  0 0 0 0 0 0 0 0 0 0 ...\n",
      " $ actCount_10_R12M                  : num  0 0 0 0 2 0 0 0 0 1 ...\n",
      " $ actCount_12_R12M                  : num  0 0 0 0 1 0 1 1 0 1 ...\n",
      " $ actCount_13_R12M                  : num  0 0 0 0 0 0 4 0 0 0 ...\n",
      " $ actCount_15_R12M                  : num  0 2 4 0 3 1 2 2 8 3 ...\n",
      " $ actCount_16_R12M                  : num  0 0 0 0 0 0 0 0 0 0 ...\n",
      " $ actCount_17_R12M                  : num  0 0 1 0 2 0 2 2 0 0 ...\n",
      " $ actCount_19_R12M                  : num  0 0 0 0 0 0 0 0 0 0 ...\n",
      " $ actCount_2_R12M                   : num  0 0 0 0 0 0 0 0 0 0 ...\n",
      " $ actCount_20_R12M                  : num  13 4 13 2 11 13 21 16 13 18 ...\n",
      " $ actCount_21_R12M                  : num  2 1 2 1 2 0 8 4 3 6 ...\n",
      " $ actCount_22_R12M                  : num  4 1 3 0 1 1 6 2 1 4 ...\n",
      " $ actCount_23_R12M                  : num  0 0 2 0 2 1 3 7 3 0 ...\n",
      " $ actCount_3_R12M                   : num  13 30 30 3 30 24 30 30 30 30 ...\n",
      " $ actCount_4_R12M                   : num  0 3 4 0 5 4 3 7 8 5 ...\n",
      " $ actCount_5_R12M                   : num  1 1 0 0 0 0 1 0 0 0 ...\n",
      " $ actCount_6_R12M                   : num  6 11 16 1 30 16 30 27 12 30 ...\n",
      " $ actCount_7_R12M                   : num  0 0 0 0 0 0 1 0 0 0 ...\n",
      " $ actCount_8_R12M                   : num  0 3 5 1 30 4 30 23 14 20 ...\n",
      " $ actCount_9_R12M                   : num  1 1 2 0 4 4 7 4 1 3 ...\n",
      " $ DIAG_Charlson_cerebrovas_R12M     : num  0 0 0 0 0 0 0 0 0 0 ...\n",
      " $ DIAG_Charlson_chf_R12M            : num  0 0 1 0 0 0 0 0 0 0 ...\n",
      " $ DIAG_Charlson_cpd_R12M            : num  0 0 0 0 1 0 0 0 1 0 ...\n",
      " $ DIAG_Charlson_dementia_R12M       : num  0 0 0 0 0 0 0 0 0 0 ...\n",
      " $ DIAG_Charlson_diabetes_R12M       : num  0 0 0 0 1 0 1 0 0 0 ...\n",
      " $ DIAG_Charlson_diabeteschronic_R12M: num  0 0 0 0 0 0 0 0 0 0 ...\n",
      " $ DIAG_Charlson_hiv_R12M            : num  0 0 0 0 0 0 0 0 0 0 ...\n",
      " $ DIAG_Charlson_liver_R12M          : num  0 0 0 0 0 0 0 0 0 0 ...\n",
      " $ DIAG_Charlson_malignancy_R12M     : num  1 1 1 1 0 1 1 1 1 1 ...\n",
      " $ DIAG_Charlson_metastatictumor_R12M: num  1 0 0 0 0 0 1 0 0 0 ...\n",
      " $ DIAG_Charlson_mi_R12M             : num  0 0 0 0 0 0 0 0 0 0 ...\n",
      " $ DIAG_Charlson_mildliver_R12M      : num  1 0 1 0 0 0 1 0 0 0 ...\n",
      " $ DIAG_Charlson_plegia_R12M         : num  0 0 0 0 0 0 0 0 0 0 ...\n",
      " $ DIAG_Charlson_pud_R12M            : num  0 0 0 0 0 0 0 0 0 0 ...\n",
      " $ DIAG_Charlson_pvd_R12M            : num  0 0 0 0 0 0 0 0 0 0 ...\n",
      " $ DIAG_Charlson_renal_R12M          : num  0 0 0 1 0 0 0 0 0 0 ...\n",
      " $ DIAG_Charlson_rheumatic_R12M      : num  0 0 0 0 0 0 0 0 0 0 ...\n",
      " $ PLACE_OF_SVC_CD_11_R12M           : num  1 1 1 1 1 1 1 1 1 1 ...\n",
      " $ PLACE_OF_SVC_CD_12_R12M           : num  0 0 1 1 0 0 1 0 0 0 ...\n",
      " $ PLACE_OF_SVC_CD_20_R12M           : num  0 0 0 0 0 0 0 0 1 0 ...\n",
      " $ PLACE_OF_SVC_CD_21_R12M           : num  1 0 1 1 0 1 1 0 0 0 ...\n",
      " $ PLACE_OF_SVC_CD_22_R12M           : num  1 1 0 1 1 1 1 1 0 1 ...\n",
      " $ PLACE_OF_SVC_CD_23_R12M           : num  0 0 1 0 0 0 1 0 0 0 ...\n",
      " $ PLACE_OF_SVC_CD_24_R12M           : num  0 0 0 0 0 0 0 0 0 0 ...\n",
      " $ PLACE_OF_SVC_CD_31_R12M           : num  0 0 0 0 0 0 0 0 0 0 ...\n",
      " $ PLACE_OF_SVC_CD_41_R12M           : num  0 0 0 0 0 0 0 0 0 0 ...\n",
      " $ PLACE_OF_SVC_CD_61_R12M           : num  0 0 0 0 0 0 0 0 0 0 ...\n",
      " $ PLACE_OF_SVC_CD_81_R12M           : num  0 0 0 0 0 1 1 1 0 0 ...\n",
      " $ IPLOS_R12M                        : num  0 0 2 8 0 0 19 0 0 0 ...\n",
      " $ IPLOS_R6M                         : num  0 0 2 0 0 0 19 0 0 0 ...\n",
      " $ ERCount_R12M                      : num  0 0 0 0 0 0 1 0 0 0 ...\n",
      " $ ERCount_R6M                       : num  0 0 0 0 0 0 1 0 0 0 ...\n",
      " $ OPCount_R12M                      : num  29 12 4 138 13 19 23 19 23 22 ...\n",
      " $ OPCount_R6M                       : num  22 10 4 71 12 13 23 18 19 21 ...\n",
      " $ log_medcost_R12M                  : num  11.69 7.77 10.12 11.9 8.57 ...\n",
      " $ med_cost_R12M                     : num  119339 2371 24846 147173 5289 ...\n",
      " $ log_medcost_R6M                   : num  11.66 7.7 10.12 10.97 8.56 ...\n",
      " $ med_cost_R6M                      : num  116339 2212 24846 57969 5230 ...\n",
      " $ log_medcost_F12M                  : num  10.29 10.54 12.16 8.67 12.09 ...\n",
      " $ med_cost_F12M                     : num  29426 37970 191049 5831 178473 ...\n",
      " $ referral_INTERNAL_REFERRAL        : num  1 0 1 0 1 1 0 0 1 1 ...\n",
      " $ referral_MEMBER_FAMILY_CAREGIVER  : num  0 0 0 0 0 0 0 0 0 0 ...\n",
      " $ referral_OTHER                    : num  0 0 0 0 0 0 0 0 0 0 ...\n",
      " $ referral_POST_DISCHARGE           : num  0 0 0 0 0 0 0 0 0 0 ...\n",
      " $ referral_PRE_ADMISSION            : num  0 0 0 0 0 0 0 0 0 0 ...\n",
      " $ referral_PREDICTIVE_MODEL         : num  0 0 0 1 0 0 0 0 0 0 ...\n",
      " $ referral_PROVIDER_REFERRAL        : num  0 1 0 0 0 0 1 1 0 0 ...\n",
      " $ DIAG_CCS_11_R12M                  : num  0 0 0 0 0 0 0 0 0 0 ...\n",
      " $ DIAG_CCS_12_R12M                  : num  0 0 0 0 0 0 0 0 0 0 ...\n",
      " $ DIAG_CCS_13_R12M                  : num  0 0 0 0 0 0 0 0 0 0 ...\n",
      " $ DIAG_CCS_14_R12M                  : num  0 1 0 0 0 0 1 0 0 0 ...\n",
      " $ DIAG_CCS_15_R12M                  : num  0 0 0 1 0 0 1 0 0 0 ...\n",
      " $ DIAG_CCS_16_R12M                  : num  0 0 0 0 0 0 0 0 0 0 ...\n",
      " $ DIAG_CCS_17_R12M                  : num  0 0 0 0 0 0 0 0 0 0 ...\n",
      " $ DIAG_CCS_18_R12M                  : num  0 0 0 0 0 0 0 0 0 0 ...\n",
      " $ DIAG_CCS_19_R12M                  : num  0 0 0 0 0 0 0 0 0 0 ...\n",
      " $ DIAG_CCS_20_R12M                  : num  0 0 0 0 0 0 0 0 0 0 ...\n",
      " $ DIAG_CCS_21_R12M                  : num  0 0 0 0 0 0 0 0 0 0 ...\n",
      " $ DIAG_CCS_22_R12M                  : num  0 0 0 0 0 0 0 0 0 0 ...\n",
      " $ DIAG_CCS_23_R12M                  : num  0 0 0 0 0 0 0 0 0 0 ...\n",
      " $ DIAG_CCS_24_R12M                  : num  1 0 0 0 0 1 0 1 1 1 ...\n",
      " $ DIAG_CCS_25_R12M                  : num  0 0 0 0 0 0 0 0 0 0 ...\n",
      " $ DIAG_CCS_26_R12M                  : num  0 0 0 0 0 0 0 0 0 0 ...\n",
      " $ DIAG_CCS_27_R12M                  : num  0 0 0 0 0 0 0 0 0 0 ...\n",
      " $ DIAG_CCS_28_R12M                  : num  0 0 0 0 0 0 0 0 0 0 ...\n",
      " $ DIAG_CCS_29_R12M                  : num  0 0 0 0 0 0 0 0 0 0 ...\n",
      " $ DIAG_CCS_30_R12M                  : num  0 0 0 0 0 0 0 0 0 0 ...\n",
      " $ DIAG_CCS_31_R12M                  : num  0 0 0 0 0 0 0 0 0 0 ...\n",
      " $ DIAG_CCS_32_R12M                  : num  0 0 0 0 0 0 0 0 0 0 ...\n",
      " $ DIAG_CCS_33_R12M                  : num  0 0 0 0 0 0 0 0 0 0 ...\n",
      " $ DIAG_CCS_34_R12M                  : num  0 0 0 0 0 0 0 0 0 0 ...\n",
      " $ DIAG_CCS_35_R12M                  : num  0 0 1 0 0 0 0 0 0 0 ...\n",
      " $ DIAG_CCS_36_R12M                  : num  0 0 0 0 0 0 0 0 0 0 ...\n",
      " $ DIAG_CCS_37_R12M                  : num  0 0 0 0 0 0 0 0 0 0 ...\n",
      " $ DIAG_CCS_38_R12M                  : num  0 0 0 0 0 0 0 0 0 0 ...\n",
      "  [list output truncated]\n"
     ]
    }
   ],
   "source": [
    "str(dummy)"
   ]
  },
  {
   "cell_type": "code",
   "execution_count": null,
   "metadata": {},
   "outputs": [],
   "source": []
  },
  {
   "cell_type": "code",
   "execution_count": 607,
   "metadata": {},
   "outputs": [
    {
     "data": {
      "text/html": [
       "<ol class=list-inline>\n",
       "\t<li>241</li>\n",
       "\t<li>108</li>\n",
       "</ol>\n"
      ],
      "text/latex": [
       "\\begin{enumerate*}\n",
       "\\item 241\n",
       "\\item 108\n",
       "\\end{enumerate*}\n"
      ],
      "text/markdown": [
       "1. 241\n",
       "2. 108\n",
       "\n",
       "\n"
      ],
      "text/plain": [
       "[1] 241 108"
      ]
     },
     "metadata": {},
     "output_type": "display_data"
    }
   ],
   "source": [
    "dim(dummy)"
   ]
  },
  {
   "cell_type": "code",
   "execution_count": 608,
   "metadata": {},
   "outputs": [],
   "source": [
    "treatmenValues = quantile(dummy$actCount_3_R12M,c(0.025,0.975))"
   ]
  },
  {
   "cell_type": "code",
   "execution_count": 611,
   "metadata": {},
   "outputs": [
    {
     "name": "stdout",
     "output_type": "stream",
     "text": [
      " num [1:2] 3 30\n"
     ]
    }
   ],
   "source": [
    "str(unname(treatmenValues))"
   ]
  },
  {
   "cell_type": "code",
   "execution_count": 556,
   "metadata": {},
   "outputs": [
    {
     "data": {
      "text/html": [],
      "text/latex": [],
      "text/markdown": [],
      "text/plain": [
       "character(0)"
      ]
     },
     "metadata": {},
     "output_type": "display_data"
    }
   ],
   "source": [
    "names(dummy[, as.numeric(which(apply(dummy, 2, var) == 0))])"
   ]
  },
  {
   "cell_type": "code",
   "execution_count": 557,
   "metadata": {},
   "outputs": [
    {
     "data": {
      "text/html": [
       "'/gnshealthcare/shared/nli/models/M4'"
      ],
      "text/latex": [
       "'/gnshealthcare/shared/nli/models/M4'"
      ],
      "text/markdown": [
       "'/gnshealthcare/shared/nli/models/M4'"
      ],
      "text/plain": [
       "[1] \"/gnshealthcare/shared/nli/models/M4\""
      ]
     },
     "metadata": {},
     "output_type": "display_data"
    }
   ],
   "source": [
    "getwd()"
   ]
  },
  {
   "cell_type": "code",
   "execution_count": 558,
   "metadata": {},
   "outputs": [],
   "source": [
    "#fwrite(dummy, file=\"oncology_m4-9-9.csv\", quote = F, na = 'NA')"
   ]
  },
  {
   "cell_type": "code",
   "execution_count": 559,
   "metadata": {},
   "outputs": [],
   "source": [
    "dummy[is.na(dummy)] <- 0"
   ]
  },
  {
   "cell_type": "code",
   "execution_count": 560,
   "metadata": {},
   "outputs": [],
   "source": [
    "#fwrite(dummy, file=\"oncology_m4-9-11.csv\", quote = F, na = 'NA')"
   ]
  },
  {
   "cell_type": "code",
   "execution_count": 535,
   "metadata": {},
   "outputs": [],
   "source": [
    "#fwrite(dummy, file=\"oncology_m4-9-12.csv\", quote = F, na = 'NA')"
   ]
  },
  {
   "cell_type": "markdown",
   "metadata": {},
   "source": [
    "### add post intervention utilization "
   ]
  },
  {
   "cell_type": "code",
   "execution_count": 739,
   "metadata": {},
   "outputs": [],
   "source": [
    "util <- fread(\"/gnshealthcare/shared/nli/dataframe/puller/gns200496v1_anycase_engage_cap_f12mUtil.csv\",\n",
    "           drop=c('personId')\n",
    "           #select=c('origId','case_subtype_comp_oncology_R12M')\n",
    "           )"
   ]
  },
  {
   "cell_type": "code",
   "execution_count": 740,
   "metadata": {},
   "outputs": [
    {
     "name": "stdout",
     "output_type": "stream",
     "text": [
      "Classes ‘data.table’ and 'data.frame':\t17711 obs. of  4 variables:\n",
      " $ origId      : int  26297637 293380 73339515 920165 49534436 37162268 18432031 76328150 89612951 48557059 ...\n",
      " $ IPLOS_F12M  : int  0 0 0 0 0 15 2 0 0 0 ...\n",
      " $ ERCount_F12M: int  NA NA NA NA NA NA NA NA NA 6 ...\n",
      " $ OPCount_F12M: int  4 21 2 14 2 47 30 28 7 3 ...\n",
      " - attr(*, \".internal.selfref\")=<externalptr> \n"
     ]
    }
   ],
   "source": [
    "str(util)"
   ]
  },
  {
   "cell_type": "code",
   "execution_count": 741,
   "metadata": {},
   "outputs": [
    {
     "data": {
      "text/html": [
       "'/gnshealthcare/shared/nli/models/M4'"
      ],
      "text/latex": [
       "'/gnshealthcare/shared/nli/models/M4'"
      ],
      "text/markdown": [
       "'/gnshealthcare/shared/nli/models/M4'"
      ],
      "text/plain": [
       "[1] \"/gnshealthcare/shared/nli/models/M4\""
      ]
     },
     "metadata": {},
     "output_type": "display_data"
    }
   ],
   "source": [
    "getwd()"
   ]
  },
  {
   "cell_type": "code",
   "execution_count": 765,
   "metadata": {},
   "outputs": [],
   "source": [
    "dt <- fread(\"oncology_m4-9-12.csv\")"
   ]
  },
  {
   "cell_type": "code",
   "execution_count": 766,
   "metadata": {
    "scrolled": true
   },
   "outputs": [
    {
     "data": {
      "text/html": [
       "<ol class=list-inline>\n",
       "\t<li>327</li>\n",
       "\t<li>107</li>\n",
       "</ol>\n"
      ],
      "text/latex": [
       "\\begin{enumerate*}\n",
       "\\item 327\n",
       "\\item 107\n",
       "\\end{enumerate*}\n"
      ],
      "text/markdown": [
       "1. 327\n",
       "2. 107\n",
       "\n",
       "\n"
      ],
      "text/plain": [
       "[1] 327 107"
      ]
     },
     "metadata": {},
     "output_type": "display_data"
    }
   ],
   "source": [
    "dim(dt)"
   ]
  },
  {
   "cell_type": "code",
   "execution_count": 767,
   "metadata": {},
   "outputs": [],
   "source": [
    "data <- merge(dt,util,by = 'origId')"
   ]
  },
  {
   "cell_type": "code",
   "execution_count": 768,
   "metadata": {},
   "outputs": [
    {
     "data": {
      "text/html": [
       "<ol class=list-inline>\n",
       "\t<li>'origId'</li>\n",
       "\t<li>'RxElig_R12M'</li>\n",
       "\t<li>'MEMBR_AGE'</li>\n",
       "\t<li>'GENDER_CD_M'</li>\n",
       "\t<li>'actCount_1_R12M'</li>\n",
       "\t<li>'actCount_10_R12M'</li>\n",
       "\t<li>'actCount_12_R12M'</li>\n",
       "\t<li>'actCount_13_R12M'</li>\n",
       "\t<li>'actCount_15_R12M'</li>\n",
       "\t<li>'actCount_16_R12M'</li>\n",
       "\t<li>'actCount_17_R12M'</li>\n",
       "\t<li>'actCount_19_R12M'</li>\n",
       "\t<li>'actCount_2_R12M'</li>\n",
       "\t<li>'actCount_20_R12M'</li>\n",
       "\t<li>'actCount_21_R12M'</li>\n",
       "\t<li>'actCount_22_R12M'</li>\n",
       "\t<li>'actCount_23_R12M'</li>\n",
       "\t<li>'actCount_3_R12M'</li>\n",
       "\t<li>'actCount_4_R12M'</li>\n",
       "\t<li>'actCount_5_R12M'</li>\n",
       "\t<li>'actCount_6_R12M'</li>\n",
       "\t<li>'actCount_7_R12M'</li>\n",
       "\t<li>'actCount_8_R12M'</li>\n",
       "\t<li>'actCount_9_R12M'</li>\n",
       "\t<li>'DIAG_Charlson_cerebrovas_R12M'</li>\n",
       "\t<li>'DIAG_Charlson_chf_R12M'</li>\n",
       "\t<li>'DIAG_Charlson_cpd_R12M'</li>\n",
       "\t<li>'DIAG_Charlson_dementia_R12M'</li>\n",
       "\t<li>'DIAG_Charlson_diabetes_R12M'</li>\n",
       "\t<li>'DIAG_Charlson_diabeteschronic_R12M'</li>\n",
       "\t<li>'DIAG_Charlson_hiv_R12M'</li>\n",
       "\t<li>'DIAG_Charlson_liver_R12M'</li>\n",
       "\t<li>'DIAG_Charlson_malignancy_R12M'</li>\n",
       "\t<li>'DIAG_Charlson_metastatictumor_R12M'</li>\n",
       "\t<li>'DIAG_Charlson_mi_R12M'</li>\n",
       "\t<li>'DIAG_Charlson_mildliver_R12M'</li>\n",
       "\t<li>'DIAG_Charlson_plegia_R12M'</li>\n",
       "\t<li>'DIAG_Charlson_pud_R12M'</li>\n",
       "\t<li>'DIAG_Charlson_pvd_R12M'</li>\n",
       "\t<li>'DIAG_Charlson_renal_R12M'</li>\n",
       "\t<li>'DIAG_Charlson_rheumatic_R12M'</li>\n",
       "\t<li>'PLACE_OF_SVC_CD_11_R12M'</li>\n",
       "\t<li>'PLACE_OF_SVC_CD_12_R12M'</li>\n",
       "\t<li>'PLACE_OF_SVC_CD_20_R12M'</li>\n",
       "\t<li>'PLACE_OF_SVC_CD_21_R12M'</li>\n",
       "\t<li>'PLACE_OF_SVC_CD_22_R12M'</li>\n",
       "\t<li>'PLACE_OF_SVC_CD_23_R12M'</li>\n",
       "\t<li>'PLACE_OF_SVC_CD_24_R12M'</li>\n",
       "\t<li>'PLACE_OF_SVC_CD_31_R12M'</li>\n",
       "\t<li>'PLACE_OF_SVC_CD_41_R12M'</li>\n",
       "\t<li>'PLACE_OF_SVC_CD_81_R12M'</li>\n",
       "\t<li>'IPLOS_R12M'</li>\n",
       "\t<li>'IPLOS_R6M'</li>\n",
       "\t<li>'ERCount_R12M'</li>\n",
       "\t<li>'ERCount_R6M'</li>\n",
       "\t<li>'OPCount_R12M'</li>\n",
       "\t<li>'OPCount_R6M'</li>\n",
       "\t<li>'log_medcost_R12M'</li>\n",
       "\t<li>'med_cost_R12M'</li>\n",
       "\t<li>'log_medcost_R6M'</li>\n",
       "\t<li>'med_cost_R6M'</li>\n",
       "\t<li>'log_medcost_F12M'</li>\n",
       "\t<li>'med_cost_F12M'</li>\n",
       "\t<li>'referral_INTERNAL_REFERRAL'</li>\n",
       "\t<li>'referral_MEMBER_FAMILY_CAREGIVER'</li>\n",
       "\t<li>'referral_OTHER'</li>\n",
       "\t<li>'referral_POST_DISCHARGE'</li>\n",
       "\t<li>'referral_PRE_ADMISSION'</li>\n",
       "\t<li>'referral_PREDICTIVE_MODEL'</li>\n",
       "\t<li>'referral_PROVIDER_REFERRAL'</li>\n",
       "\t<li>'DIAG_CCS_11_R12M'</li>\n",
       "\t<li>'DIAG_CCS_12_R12M'</li>\n",
       "\t<li>'DIAG_CCS_13_R12M'</li>\n",
       "\t<li>'DIAG_CCS_14_R12M'</li>\n",
       "\t<li>'DIAG_CCS_15_R12M'</li>\n",
       "\t<li>'DIAG_CCS_16_R12M'</li>\n",
       "\t<li>'DIAG_CCS_17_R12M'</li>\n",
       "\t<li>'DIAG_CCS_18_R12M'</li>\n",
       "\t<li>'DIAG_CCS_19_R12M'</li>\n",
       "\t<li>'DIAG_CCS_20_R12M'</li>\n",
       "\t<li>'DIAG_CCS_21_R12M'</li>\n",
       "\t<li>'DIAG_CCS_22_R12M'</li>\n",
       "\t<li>'DIAG_CCS_23_R12M'</li>\n",
       "\t<li>'DIAG_CCS_24_R12M'</li>\n",
       "\t<li>'DIAG_CCS_25_R12M'</li>\n",
       "\t<li>'DIAG_CCS_26_R12M'</li>\n",
       "\t<li>'DIAG_CCS_27_R12M'</li>\n",
       "\t<li>'DIAG_CCS_28_R12M'</li>\n",
       "\t<li>'DIAG_CCS_29_R12M'</li>\n",
       "\t<li>'DIAG_CCS_30_R12M'</li>\n",
       "\t<li>'DIAG_CCS_31_R12M'</li>\n",
       "\t<li>'DIAG_CCS_32_R12M'</li>\n",
       "\t<li>'DIAG_CCS_33_R12M'</li>\n",
       "\t<li>'DIAG_CCS_34_R12M'</li>\n",
       "\t<li>'DIAG_CCS_35_R12M'</li>\n",
       "\t<li>'DIAG_CCS_36_R12M'</li>\n",
       "\t<li>'DIAG_CCS_37_R12M'</li>\n",
       "\t<li>'DIAG_CCS_38_R12M'</li>\n",
       "\t<li>'DIAG_CCS_39_R12M'</li>\n",
       "\t<li>'DIAG_CCS_40_R12M'</li>\n",
       "\t<li>'DIAG_CCS_41_R12M'</li>\n",
       "\t<li>'DIAG_CCS_42_R12M'</li>\n",
       "\t<li>'DIAG_CCS_43_R12M'</li>\n",
       "\t<li>'DIAG_CCS_44_R12M'</li>\n",
       "\t<li>'DIAG_CCS_45_R12M'</li>\n",
       "\t<li>'DIAG_CCS_46_R12M'</li>\n",
       "\t<li>'DIAG_CCS_47_R12M'</li>\n",
       "\t<li>'IPLOS_F12M'</li>\n",
       "\t<li>'ERCount_F12M'</li>\n",
       "\t<li>'OPCount_F12M'</li>\n",
       "</ol>\n"
      ],
      "text/latex": [
       "\\begin{enumerate*}\n",
       "\\item 'origId'\n",
       "\\item 'RxElig\\_R12M'\n",
       "\\item 'MEMBR\\_AGE'\n",
       "\\item 'GENDER\\_CD\\_M'\n",
       "\\item 'actCount\\_1\\_R12M'\n",
       "\\item 'actCount\\_10\\_R12M'\n",
       "\\item 'actCount\\_12\\_R12M'\n",
       "\\item 'actCount\\_13\\_R12M'\n",
       "\\item 'actCount\\_15\\_R12M'\n",
       "\\item 'actCount\\_16\\_R12M'\n",
       "\\item 'actCount\\_17\\_R12M'\n",
       "\\item 'actCount\\_19\\_R12M'\n",
       "\\item 'actCount\\_2\\_R12M'\n",
       "\\item 'actCount\\_20\\_R12M'\n",
       "\\item 'actCount\\_21\\_R12M'\n",
       "\\item 'actCount\\_22\\_R12M'\n",
       "\\item 'actCount\\_23\\_R12M'\n",
       "\\item 'actCount\\_3\\_R12M'\n",
       "\\item 'actCount\\_4\\_R12M'\n",
       "\\item 'actCount\\_5\\_R12M'\n",
       "\\item 'actCount\\_6\\_R12M'\n",
       "\\item 'actCount\\_7\\_R12M'\n",
       "\\item 'actCount\\_8\\_R12M'\n",
       "\\item 'actCount\\_9\\_R12M'\n",
       "\\item 'DIAG\\_Charlson\\_cerebrovas\\_R12M'\n",
       "\\item 'DIAG\\_Charlson\\_chf\\_R12M'\n",
       "\\item 'DIAG\\_Charlson\\_cpd\\_R12M'\n",
       "\\item 'DIAG\\_Charlson\\_dementia\\_R12M'\n",
       "\\item 'DIAG\\_Charlson\\_diabetes\\_R12M'\n",
       "\\item 'DIAG\\_Charlson\\_diabeteschronic\\_R12M'\n",
       "\\item 'DIAG\\_Charlson\\_hiv\\_R12M'\n",
       "\\item 'DIAG\\_Charlson\\_liver\\_R12M'\n",
       "\\item 'DIAG\\_Charlson\\_malignancy\\_R12M'\n",
       "\\item 'DIAG\\_Charlson\\_metastatictumor\\_R12M'\n",
       "\\item 'DIAG\\_Charlson\\_mi\\_R12M'\n",
       "\\item 'DIAG\\_Charlson\\_mildliver\\_R12M'\n",
       "\\item 'DIAG\\_Charlson\\_plegia\\_R12M'\n",
       "\\item 'DIAG\\_Charlson\\_pud\\_R12M'\n",
       "\\item 'DIAG\\_Charlson\\_pvd\\_R12M'\n",
       "\\item 'DIAG\\_Charlson\\_renal\\_R12M'\n",
       "\\item 'DIAG\\_Charlson\\_rheumatic\\_R12M'\n",
       "\\item 'PLACE\\_OF\\_SVC\\_CD\\_11\\_R12M'\n",
       "\\item 'PLACE\\_OF\\_SVC\\_CD\\_12\\_R12M'\n",
       "\\item 'PLACE\\_OF\\_SVC\\_CD\\_20\\_R12M'\n",
       "\\item 'PLACE\\_OF\\_SVC\\_CD\\_21\\_R12M'\n",
       "\\item 'PLACE\\_OF\\_SVC\\_CD\\_22\\_R12M'\n",
       "\\item 'PLACE\\_OF\\_SVC\\_CD\\_23\\_R12M'\n",
       "\\item 'PLACE\\_OF\\_SVC\\_CD\\_24\\_R12M'\n",
       "\\item 'PLACE\\_OF\\_SVC\\_CD\\_31\\_R12M'\n",
       "\\item 'PLACE\\_OF\\_SVC\\_CD\\_41\\_R12M'\n",
       "\\item 'PLACE\\_OF\\_SVC\\_CD\\_81\\_R12M'\n",
       "\\item 'IPLOS\\_R12M'\n",
       "\\item 'IPLOS\\_R6M'\n",
       "\\item 'ERCount\\_R12M'\n",
       "\\item 'ERCount\\_R6M'\n",
       "\\item 'OPCount\\_R12M'\n",
       "\\item 'OPCount\\_R6M'\n",
       "\\item 'log\\_medcost\\_R12M'\n",
       "\\item 'med\\_cost\\_R12M'\n",
       "\\item 'log\\_medcost\\_R6M'\n",
       "\\item 'med\\_cost\\_R6M'\n",
       "\\item 'log\\_medcost\\_F12M'\n",
       "\\item 'med\\_cost\\_F12M'\n",
       "\\item 'referral\\_INTERNAL\\_REFERRAL'\n",
       "\\item 'referral\\_MEMBER\\_FAMILY\\_CAREGIVER'\n",
       "\\item 'referral\\_OTHER'\n",
       "\\item 'referral\\_POST\\_DISCHARGE'\n",
       "\\item 'referral\\_PRE\\_ADMISSION'\n",
       "\\item 'referral\\_PREDICTIVE\\_MODEL'\n",
       "\\item 'referral\\_PROVIDER\\_REFERRAL'\n",
       "\\item 'DIAG\\_CCS\\_11\\_R12M'\n",
       "\\item 'DIAG\\_CCS\\_12\\_R12M'\n",
       "\\item 'DIAG\\_CCS\\_13\\_R12M'\n",
       "\\item 'DIAG\\_CCS\\_14\\_R12M'\n",
       "\\item 'DIAG\\_CCS\\_15\\_R12M'\n",
       "\\item 'DIAG\\_CCS\\_16\\_R12M'\n",
       "\\item 'DIAG\\_CCS\\_17\\_R12M'\n",
       "\\item 'DIAG\\_CCS\\_18\\_R12M'\n",
       "\\item 'DIAG\\_CCS\\_19\\_R12M'\n",
       "\\item 'DIAG\\_CCS\\_20\\_R12M'\n",
       "\\item 'DIAG\\_CCS\\_21\\_R12M'\n",
       "\\item 'DIAG\\_CCS\\_22\\_R12M'\n",
       "\\item 'DIAG\\_CCS\\_23\\_R12M'\n",
       "\\item 'DIAG\\_CCS\\_24\\_R12M'\n",
       "\\item 'DIAG\\_CCS\\_25\\_R12M'\n",
       "\\item 'DIAG\\_CCS\\_26\\_R12M'\n",
       "\\item 'DIAG\\_CCS\\_27\\_R12M'\n",
       "\\item 'DIAG\\_CCS\\_28\\_R12M'\n",
       "\\item 'DIAG\\_CCS\\_29\\_R12M'\n",
       "\\item 'DIAG\\_CCS\\_30\\_R12M'\n",
       "\\item 'DIAG\\_CCS\\_31\\_R12M'\n",
       "\\item 'DIAG\\_CCS\\_32\\_R12M'\n",
       "\\item 'DIAG\\_CCS\\_33\\_R12M'\n",
       "\\item 'DIAG\\_CCS\\_34\\_R12M'\n",
       "\\item 'DIAG\\_CCS\\_35\\_R12M'\n",
       "\\item 'DIAG\\_CCS\\_36\\_R12M'\n",
       "\\item 'DIAG\\_CCS\\_37\\_R12M'\n",
       "\\item 'DIAG\\_CCS\\_38\\_R12M'\n",
       "\\item 'DIAG\\_CCS\\_39\\_R12M'\n",
       "\\item 'DIAG\\_CCS\\_40\\_R12M'\n",
       "\\item 'DIAG\\_CCS\\_41\\_R12M'\n",
       "\\item 'DIAG\\_CCS\\_42\\_R12M'\n",
       "\\item 'DIAG\\_CCS\\_43\\_R12M'\n",
       "\\item 'DIAG\\_CCS\\_44\\_R12M'\n",
       "\\item 'DIAG\\_CCS\\_45\\_R12M'\n",
       "\\item 'DIAG\\_CCS\\_46\\_R12M'\n",
       "\\item 'DIAG\\_CCS\\_47\\_R12M'\n",
       "\\item 'IPLOS\\_F12M'\n",
       "\\item 'ERCount\\_F12M'\n",
       "\\item 'OPCount\\_F12M'\n",
       "\\end{enumerate*}\n"
      ],
      "text/markdown": [
       "1. 'origId'\n",
       "2. 'RxElig_R12M'\n",
       "3. 'MEMBR_AGE'\n",
       "4. 'GENDER_CD_M'\n",
       "5. 'actCount_1_R12M'\n",
       "6. 'actCount_10_R12M'\n",
       "7. 'actCount_12_R12M'\n",
       "8. 'actCount_13_R12M'\n",
       "9. 'actCount_15_R12M'\n",
       "10. 'actCount_16_R12M'\n",
       "11. 'actCount_17_R12M'\n",
       "12. 'actCount_19_R12M'\n",
       "13. 'actCount_2_R12M'\n",
       "14. 'actCount_20_R12M'\n",
       "15. 'actCount_21_R12M'\n",
       "16. 'actCount_22_R12M'\n",
       "17. 'actCount_23_R12M'\n",
       "18. 'actCount_3_R12M'\n",
       "19. 'actCount_4_R12M'\n",
       "20. 'actCount_5_R12M'\n",
       "21. 'actCount_6_R12M'\n",
       "22. 'actCount_7_R12M'\n",
       "23. 'actCount_8_R12M'\n",
       "24. 'actCount_9_R12M'\n",
       "25. 'DIAG_Charlson_cerebrovas_R12M'\n",
       "26. 'DIAG_Charlson_chf_R12M'\n",
       "27. 'DIAG_Charlson_cpd_R12M'\n",
       "28. 'DIAG_Charlson_dementia_R12M'\n",
       "29. 'DIAG_Charlson_diabetes_R12M'\n",
       "30. 'DIAG_Charlson_diabeteschronic_R12M'\n",
       "31. 'DIAG_Charlson_hiv_R12M'\n",
       "32. 'DIAG_Charlson_liver_R12M'\n",
       "33. 'DIAG_Charlson_malignancy_R12M'\n",
       "34. 'DIAG_Charlson_metastatictumor_R12M'\n",
       "35. 'DIAG_Charlson_mi_R12M'\n",
       "36. 'DIAG_Charlson_mildliver_R12M'\n",
       "37. 'DIAG_Charlson_plegia_R12M'\n",
       "38. 'DIAG_Charlson_pud_R12M'\n",
       "39. 'DIAG_Charlson_pvd_R12M'\n",
       "40. 'DIAG_Charlson_renal_R12M'\n",
       "41. 'DIAG_Charlson_rheumatic_R12M'\n",
       "42. 'PLACE_OF_SVC_CD_11_R12M'\n",
       "43. 'PLACE_OF_SVC_CD_12_R12M'\n",
       "44. 'PLACE_OF_SVC_CD_20_R12M'\n",
       "45. 'PLACE_OF_SVC_CD_21_R12M'\n",
       "46. 'PLACE_OF_SVC_CD_22_R12M'\n",
       "47. 'PLACE_OF_SVC_CD_23_R12M'\n",
       "48. 'PLACE_OF_SVC_CD_24_R12M'\n",
       "49. 'PLACE_OF_SVC_CD_31_R12M'\n",
       "50. 'PLACE_OF_SVC_CD_41_R12M'\n",
       "51. 'PLACE_OF_SVC_CD_81_R12M'\n",
       "52. 'IPLOS_R12M'\n",
       "53. 'IPLOS_R6M'\n",
       "54. 'ERCount_R12M'\n",
       "55. 'ERCount_R6M'\n",
       "56. 'OPCount_R12M'\n",
       "57. 'OPCount_R6M'\n",
       "58. 'log_medcost_R12M'\n",
       "59. 'med_cost_R12M'\n",
       "60. 'log_medcost_R6M'\n",
       "61. 'med_cost_R6M'\n",
       "62. 'log_medcost_F12M'\n",
       "63. 'med_cost_F12M'\n",
       "64. 'referral_INTERNAL_REFERRAL'\n",
       "65. 'referral_MEMBER_FAMILY_CAREGIVER'\n",
       "66. 'referral_OTHER'\n",
       "67. 'referral_POST_DISCHARGE'\n",
       "68. 'referral_PRE_ADMISSION'\n",
       "69. 'referral_PREDICTIVE_MODEL'\n",
       "70. 'referral_PROVIDER_REFERRAL'\n",
       "71. 'DIAG_CCS_11_R12M'\n",
       "72. 'DIAG_CCS_12_R12M'\n",
       "73. 'DIAG_CCS_13_R12M'\n",
       "74. 'DIAG_CCS_14_R12M'\n",
       "75. 'DIAG_CCS_15_R12M'\n",
       "76. 'DIAG_CCS_16_R12M'\n",
       "77. 'DIAG_CCS_17_R12M'\n",
       "78. 'DIAG_CCS_18_R12M'\n",
       "79. 'DIAG_CCS_19_R12M'\n",
       "80. 'DIAG_CCS_20_R12M'\n",
       "81. 'DIAG_CCS_21_R12M'\n",
       "82. 'DIAG_CCS_22_R12M'\n",
       "83. 'DIAG_CCS_23_R12M'\n",
       "84. 'DIAG_CCS_24_R12M'\n",
       "85. 'DIAG_CCS_25_R12M'\n",
       "86. 'DIAG_CCS_26_R12M'\n",
       "87. 'DIAG_CCS_27_R12M'\n",
       "88. 'DIAG_CCS_28_R12M'\n",
       "89. 'DIAG_CCS_29_R12M'\n",
       "90. 'DIAG_CCS_30_R12M'\n",
       "91. 'DIAG_CCS_31_R12M'\n",
       "92. 'DIAG_CCS_32_R12M'\n",
       "93. 'DIAG_CCS_33_R12M'\n",
       "94. 'DIAG_CCS_34_R12M'\n",
       "95. 'DIAG_CCS_35_R12M'\n",
       "96. 'DIAG_CCS_36_R12M'\n",
       "97. 'DIAG_CCS_37_R12M'\n",
       "98. 'DIAG_CCS_38_R12M'\n",
       "99. 'DIAG_CCS_39_R12M'\n",
       "100. 'DIAG_CCS_40_R12M'\n",
       "101. 'DIAG_CCS_41_R12M'\n",
       "102. 'DIAG_CCS_42_R12M'\n",
       "103. 'DIAG_CCS_43_R12M'\n",
       "104. 'DIAG_CCS_44_R12M'\n",
       "105. 'DIAG_CCS_45_R12M'\n",
       "106. 'DIAG_CCS_46_R12M'\n",
       "107. 'DIAG_CCS_47_R12M'\n",
       "108. 'IPLOS_F12M'\n",
       "109. 'ERCount_F12M'\n",
       "110. 'OPCount_F12M'\n",
       "\n",
       "\n"
      ],
      "text/plain": [
       "  [1] \"origId\"                             \"RxElig_R12M\"                       \n",
       "  [3] \"MEMBR_AGE\"                          \"GENDER_CD_M\"                       \n",
       "  [5] \"actCount_1_R12M\"                    \"actCount_10_R12M\"                  \n",
       "  [7] \"actCount_12_R12M\"                   \"actCount_13_R12M\"                  \n",
       "  [9] \"actCount_15_R12M\"                   \"actCount_16_R12M\"                  \n",
       " [11] \"actCount_17_R12M\"                   \"actCount_19_R12M\"                  \n",
       " [13] \"actCount_2_R12M\"                    \"actCount_20_R12M\"                  \n",
       " [15] \"actCount_21_R12M\"                   \"actCount_22_R12M\"                  \n",
       " [17] \"actCount_23_R12M\"                   \"actCount_3_R12M\"                   \n",
       " [19] \"actCount_4_R12M\"                    \"actCount_5_R12M\"                   \n",
       " [21] \"actCount_6_R12M\"                    \"actCount_7_R12M\"                   \n",
       " [23] \"actCount_8_R12M\"                    \"actCount_9_R12M\"                   \n",
       " [25] \"DIAG_Charlson_cerebrovas_R12M\"      \"DIAG_Charlson_chf_R12M\"            \n",
       " [27] \"DIAG_Charlson_cpd_R12M\"             \"DIAG_Charlson_dementia_R12M\"       \n",
       " [29] \"DIAG_Charlson_diabetes_R12M\"        \"DIAG_Charlson_diabeteschronic_R12M\"\n",
       " [31] \"DIAG_Charlson_hiv_R12M\"             \"DIAG_Charlson_liver_R12M\"          \n",
       " [33] \"DIAG_Charlson_malignancy_R12M\"      \"DIAG_Charlson_metastatictumor_R12M\"\n",
       " [35] \"DIAG_Charlson_mi_R12M\"              \"DIAG_Charlson_mildliver_R12M\"      \n",
       " [37] \"DIAG_Charlson_plegia_R12M\"          \"DIAG_Charlson_pud_R12M\"            \n",
       " [39] \"DIAG_Charlson_pvd_R12M\"             \"DIAG_Charlson_renal_R12M\"          \n",
       " [41] \"DIAG_Charlson_rheumatic_R12M\"       \"PLACE_OF_SVC_CD_11_R12M\"           \n",
       " [43] \"PLACE_OF_SVC_CD_12_R12M\"            \"PLACE_OF_SVC_CD_20_R12M\"           \n",
       " [45] \"PLACE_OF_SVC_CD_21_R12M\"            \"PLACE_OF_SVC_CD_22_R12M\"           \n",
       " [47] \"PLACE_OF_SVC_CD_23_R12M\"            \"PLACE_OF_SVC_CD_24_R12M\"           \n",
       " [49] \"PLACE_OF_SVC_CD_31_R12M\"            \"PLACE_OF_SVC_CD_41_R12M\"           \n",
       " [51] \"PLACE_OF_SVC_CD_81_R12M\"            \"IPLOS_R12M\"                        \n",
       " [53] \"IPLOS_R6M\"                          \"ERCount_R12M\"                      \n",
       " [55] \"ERCount_R6M\"                        \"OPCount_R12M\"                      \n",
       " [57] \"OPCount_R6M\"                        \"log_medcost_R12M\"                  \n",
       " [59] \"med_cost_R12M\"                      \"log_medcost_R6M\"                   \n",
       " [61] \"med_cost_R6M\"                       \"log_medcost_F12M\"                  \n",
       " [63] \"med_cost_F12M\"                      \"referral_INTERNAL_REFERRAL\"        \n",
       " [65] \"referral_MEMBER_FAMILY_CAREGIVER\"   \"referral_OTHER\"                    \n",
       " [67] \"referral_POST_DISCHARGE\"            \"referral_PRE_ADMISSION\"            \n",
       " [69] \"referral_PREDICTIVE_MODEL\"          \"referral_PROVIDER_REFERRAL\"        \n",
       " [71] \"DIAG_CCS_11_R12M\"                   \"DIAG_CCS_12_R12M\"                  \n",
       " [73] \"DIAG_CCS_13_R12M\"                   \"DIAG_CCS_14_R12M\"                  \n",
       " [75] \"DIAG_CCS_15_R12M\"                   \"DIAG_CCS_16_R12M\"                  \n",
       " [77] \"DIAG_CCS_17_R12M\"                   \"DIAG_CCS_18_R12M\"                  \n",
       " [79] \"DIAG_CCS_19_R12M\"                   \"DIAG_CCS_20_R12M\"                  \n",
       " [81] \"DIAG_CCS_21_R12M\"                   \"DIAG_CCS_22_R12M\"                  \n",
       " [83] \"DIAG_CCS_23_R12M\"                   \"DIAG_CCS_24_R12M\"                  \n",
       " [85] \"DIAG_CCS_25_R12M\"                   \"DIAG_CCS_26_R12M\"                  \n",
       " [87] \"DIAG_CCS_27_R12M\"                   \"DIAG_CCS_28_R12M\"                  \n",
       " [89] \"DIAG_CCS_29_R12M\"                   \"DIAG_CCS_30_R12M\"                  \n",
       " [91] \"DIAG_CCS_31_R12M\"                   \"DIAG_CCS_32_R12M\"                  \n",
       " [93] \"DIAG_CCS_33_R12M\"                   \"DIAG_CCS_34_R12M\"                  \n",
       " [95] \"DIAG_CCS_35_R12M\"                   \"DIAG_CCS_36_R12M\"                  \n",
       " [97] \"DIAG_CCS_37_R12M\"                   \"DIAG_CCS_38_R12M\"                  \n",
       " [99] \"DIAG_CCS_39_R12M\"                   \"DIAG_CCS_40_R12M\"                  \n",
       "[101] \"DIAG_CCS_41_R12M\"                   \"DIAG_CCS_42_R12M\"                  \n",
       "[103] \"DIAG_CCS_43_R12M\"                   \"DIAG_CCS_44_R12M\"                  \n",
       "[105] \"DIAG_CCS_45_R12M\"                   \"DIAG_CCS_46_R12M\"                  \n",
       "[107] \"DIAG_CCS_47_R12M\"                   \"IPLOS_F12M\"                        \n",
       "[109] \"ERCount_F12M\"                       \"OPCount_F12M\"                      "
      ]
     },
     "metadata": {},
     "output_type": "display_data"
    }
   ],
   "source": [
    "names(data)"
   ]
  },
  {
   "cell_type": "code",
   "execution_count": 769,
   "metadata": {},
   "outputs": [
    {
     "data": {
      "text/html": [
       "<ol class=list-inline>\n",
       "\t<li>327</li>\n",
       "\t<li>110</li>\n",
       "</ol>\n"
      ],
      "text/latex": [
       "\\begin{enumerate*}\n",
       "\\item 327\n",
       "\\item 110\n",
       "\\end{enumerate*}\n"
      ],
      "text/markdown": [
       "1. 327\n",
       "2. 110\n",
       "\n",
       "\n"
      ],
      "text/plain": [
       "[1] 327 110"
      ]
     },
     "metadata": {},
     "output_type": "display_data"
    }
   ],
   "source": [
    "dim(data)"
   ]
  },
  {
   "cell_type": "code",
   "execution_count": 770,
   "metadata": {},
   "outputs": [],
   "source": [
    "data[is.na(data)] <- 0"
   ]
  },
  {
   "cell_type": "code",
   "execution_count": 764,
   "metadata": {},
   "outputs": [],
   "source": [
    "fwrite(data[,-'DIAG_CCS_34_R12M'], file=\"oncology_m4-9-13.csv\", quote = F, na = 'NA')"
   ]
  },
  {
   "cell_type": "code",
   "execution_count": 771,
   "metadata": {},
   "outputs": [],
   "source": [
    "fwrite(data, file=\"oncology_m4-9-14.csv\", quote = F, na = 'NA')"
   ]
  },
  {
   "cell_type": "code",
   "execution_count": null,
   "metadata": {},
   "outputs": [],
   "source": []
  },
  {
   "cell_type": "markdown",
   "metadata": {
    "heading_collapsed": true
   },
   "source": [
    "## activity prevalence"
   ]
  },
  {
   "cell_type": "code",
   "execution_count": 701,
   "metadata": {
    "hidden": true
   },
   "outputs": [
    {
     "data": {
      "text/html": [
       "'/gnshealthcare/shared/nli/models/M4'"
      ],
      "text/latex": [
       "'/gnshealthcare/shared/nli/models/M4'"
      ],
      "text/markdown": [
       "'/gnshealthcare/shared/nli/models/M4'"
      ],
      "text/plain": [
       "[1] \"/gnshealthcare/shared/nli/models/M4\""
      ]
     },
     "metadata": {},
     "output_type": "display_data"
    }
   ],
   "source": [
    "getwd()"
   ]
  },
  {
   "cell_type": "code",
   "execution_count": 731,
   "metadata": {
    "hidden": true
   },
   "outputs": [],
   "source": [
    "dt <- fread(\"oncology_m4-9-12.csv\")"
   ]
  },
  {
   "cell_type": "code",
   "execution_count": 732,
   "metadata": {
    "hidden": true
   },
   "outputs": [
    {
     "data": {
      "text/html": [
       "<ol class=list-inline>\n",
       "\t<li>327</li>\n",
       "\t<li>107</li>\n",
       "</ol>\n"
      ],
      "text/latex": [
       "\\begin{enumerate*}\n",
       "\\item 327\n",
       "\\item 107\n",
       "\\end{enumerate*}\n"
      ],
      "text/markdown": [
       "1. 327\n",
       "2. 107\n",
       "\n",
       "\n"
      ],
      "text/plain": [
       "[1] 327 107"
      ]
     },
     "metadata": {},
     "output_type": "display_data"
    }
   ],
   "source": [
    "dim(dt)"
   ]
  },
  {
   "cell_type": "code",
   "execution_count": 733,
   "metadata": {
    "hidden": true
   },
   "outputs": [
    {
     "data": {
      "text/html": [
       "<table>\n",
       "<thead><tr><th scope=col>origId</th><th scope=col>RxElig_R12M</th><th scope=col>MEMBR_AGE</th><th scope=col>GENDER_CD_M</th><th scope=col>actCount_1_R12M</th><th scope=col>actCount_10_R12M</th><th scope=col>actCount_12_R12M</th><th scope=col>actCount_13_R12M</th><th scope=col>actCount_15_R12M</th><th scope=col>actCount_16_R12M</th><th scope=col>⋯</th><th scope=col>DIAG_CCS_38_R12M</th><th scope=col>DIAG_CCS_39_R12M</th><th scope=col>DIAG_CCS_40_R12M</th><th scope=col>DIAG_CCS_41_R12M</th><th scope=col>DIAG_CCS_42_R12M</th><th scope=col>DIAG_CCS_43_R12M</th><th scope=col>DIAG_CCS_44_R12M</th><th scope=col>DIAG_CCS_45_R12M</th><th scope=col>DIAG_CCS_46_R12M</th><th scope=col>DIAG_CCS_47_R12M</th></tr></thead>\n",
       "<tbody>\n",
       "\t<tr><td> 54506</td><td>1     </td><td>57    </td><td>0     </td><td>0     </td><td>2     </td><td>0     </td><td>0     </td><td>0     </td><td>0     </td><td>⋯     </td><td>0     </td><td>0     </td><td>0     </td><td>0     </td><td>1     </td><td>0     </td><td>0     </td><td>0     </td><td>0     </td><td>1     </td></tr>\n",
       "\t<tr><td> 69800</td><td>1     </td><td>58    </td><td>0     </td><td>0     </td><td>0     </td><td>0     </td><td>0     </td><td>0     </td><td>0     </td><td>⋯     </td><td>0     </td><td>0     </td><td>0     </td><td>0     </td><td>1     </td><td>0     </td><td>0     </td><td>1     </td><td>0     </td><td>0     </td></tr>\n",
       "\t<tr><td>154279</td><td>1     </td><td>56    </td><td>0     </td><td>0     </td><td>0     </td><td>0     </td><td>0     </td><td>0     </td><td>0     </td><td>⋯     </td><td>0     </td><td>0     </td><td>0     </td><td>0     </td><td>0     </td><td>0     </td><td>0     </td><td>0     </td><td>0     </td><td>0     </td></tr>\n",
       "\t<tr><td>172335</td><td>0     </td><td>56    </td><td>0     </td><td>0     </td><td>0     </td><td>0     </td><td>0     </td><td>0     </td><td>0     </td><td>⋯     </td><td>0     </td><td>0     </td><td>0     </td><td>0     </td><td>0     </td><td>0     </td><td>0     </td><td>0     </td><td>0     </td><td>1     </td></tr>\n",
       "\t<tr><td>264744</td><td>1     </td><td>58    </td><td>1     </td><td>0     </td><td>0     </td><td>0     </td><td>0     </td><td>0     </td><td>0     </td><td>⋯     </td><td>0     </td><td>0     </td><td>0     </td><td>0     </td><td>1     </td><td>0     </td><td>0     </td><td>1     </td><td>0     </td><td>0     </td></tr>\n",
       "\t<tr><td>427549</td><td>1     </td><td>66    </td><td>0     </td><td>0     </td><td>2     </td><td>1     </td><td>0     </td><td>0     </td><td>0     </td><td>⋯     </td><td>0     </td><td>0     </td><td>0     </td><td>0     </td><td>0     </td><td>0     </td><td>0     </td><td>0     </td><td>0     </td><td>1     </td></tr>\n",
       "</tbody>\n",
       "</table>\n"
      ],
      "text/latex": [
       "\\begin{tabular}{r|lllllllllllllllllllllllllllllllllllllllllllllllllllllllllllllllllllllllllllllllllllllllllllllllllllllllllll}\n",
       " origId & RxElig\\_R12M & MEMBR\\_AGE & GENDER\\_CD\\_M & actCount\\_1\\_R12M & actCount\\_10\\_R12M & actCount\\_12\\_R12M & actCount\\_13\\_R12M & actCount\\_15\\_R12M & actCount\\_16\\_R12M & ⋯ & DIAG\\_CCS\\_38\\_R12M & DIAG\\_CCS\\_39\\_R12M & DIAG\\_CCS\\_40\\_R12M & DIAG\\_CCS\\_41\\_R12M & DIAG\\_CCS\\_42\\_R12M & DIAG\\_CCS\\_43\\_R12M & DIAG\\_CCS\\_44\\_R12M & DIAG\\_CCS\\_45\\_R12M & DIAG\\_CCS\\_46\\_R12M & DIAG\\_CCS\\_47\\_R12M\\\\\n",
       "\\hline\n",
       "\t  54506 & 1      & 57     & 0      & 0      & 2      & 0      & 0      & 0      & 0      & ⋯      & 0      & 0      & 0      & 0      & 1      & 0      & 0      & 0      & 0      & 1     \\\\\n",
       "\t  69800 & 1      & 58     & 0      & 0      & 0      & 0      & 0      & 0      & 0      & ⋯      & 0      & 0      & 0      & 0      & 1      & 0      & 0      & 1      & 0      & 0     \\\\\n",
       "\t 154279 & 1      & 56     & 0      & 0      & 0      & 0      & 0      & 0      & 0      & ⋯      & 0      & 0      & 0      & 0      & 0      & 0      & 0      & 0      & 0      & 0     \\\\\n",
       "\t 172335 & 0      & 56     & 0      & 0      & 0      & 0      & 0      & 0      & 0      & ⋯      & 0      & 0      & 0      & 0      & 0      & 0      & 0      & 0      & 0      & 1     \\\\\n",
       "\t 264744 & 1      & 58     & 1      & 0      & 0      & 0      & 0      & 0      & 0      & ⋯      & 0      & 0      & 0      & 0      & 1      & 0      & 0      & 1      & 0      & 0     \\\\\n",
       "\t 427549 & 1      & 66     & 0      & 0      & 2      & 1      & 0      & 0      & 0      & ⋯      & 0      & 0      & 0      & 0      & 0      & 0      & 0      & 0      & 0      & 1     \\\\\n",
       "\\end{tabular}\n"
      ],
      "text/markdown": [
       "\n",
       "origId | RxElig_R12M | MEMBR_AGE | GENDER_CD_M | actCount_1_R12M | actCount_10_R12M | actCount_12_R12M | actCount_13_R12M | actCount_15_R12M | actCount_16_R12M | ⋯ | DIAG_CCS_38_R12M | DIAG_CCS_39_R12M | DIAG_CCS_40_R12M | DIAG_CCS_41_R12M | DIAG_CCS_42_R12M | DIAG_CCS_43_R12M | DIAG_CCS_44_R12M | DIAG_CCS_45_R12M | DIAG_CCS_46_R12M | DIAG_CCS_47_R12M | \n",
       "|---|---|---|---|---|---|\n",
       "|  54506 | 1      | 57     | 0      | 0      | 2      | 0      | 0      | 0      | 0      | ⋯      | 0      | 0      | 0      | 0      | 1      | 0      | 0      | 0      | 0      | 1      | \n",
       "|  69800 | 1      | 58     | 0      | 0      | 0      | 0      | 0      | 0      | 0      | ⋯      | 0      | 0      | 0      | 0      | 1      | 0      | 0      | 1      | 0      | 0      | \n",
       "| 154279 | 1      | 56     | 0      | 0      | 0      | 0      | 0      | 0      | 0      | ⋯      | 0      | 0      | 0      | 0      | 0      | 0      | 0      | 0      | 0      | 0      | \n",
       "| 172335 | 0      | 56     | 0      | 0      | 0      | 0      | 0      | 0      | 0      | ⋯      | 0      | 0      | 0      | 0      | 0      | 0      | 0      | 0      | 0      | 1      | \n",
       "| 264744 | 1      | 58     | 1      | 0      | 0      | 0      | 0      | 0      | 0      | ⋯      | 0      | 0      | 0      | 0      | 1      | 0      | 0      | 1      | 0      | 0      | \n",
       "| 427549 | 1      | 66     | 0      | 0      | 2      | 1      | 0      | 0      | 0      | ⋯      | 0      | 0      | 0      | 0      | 0      | 0      | 0      | 0      | 0      | 1      | \n",
       "\n",
       "\n"
      ],
      "text/plain": [
       "  origId RxElig_R12M MEMBR_AGE GENDER_CD_M actCount_1_R12M actCount_10_R12M\n",
       "1  54506 1           57        0           0               2               \n",
       "2  69800 1           58        0           0               0               \n",
       "3 154279 1           56        0           0               0               \n",
       "4 172335 0           56        0           0               0               \n",
       "5 264744 1           58        1           0               0               \n",
       "6 427549 1           66        0           0               2               \n",
       "  actCount_12_R12M actCount_13_R12M actCount_15_R12M actCount_16_R12M ⋯\n",
       "1 0                0                0                0                ⋯\n",
       "2 0                0                0                0                ⋯\n",
       "3 0                0                0                0                ⋯\n",
       "4 0                0                0                0                ⋯\n",
       "5 0                0                0                0                ⋯\n",
       "6 1                0                0                0                ⋯\n",
       "  DIAG_CCS_38_R12M DIAG_CCS_39_R12M DIAG_CCS_40_R12M DIAG_CCS_41_R12M\n",
       "1 0                0                0                0               \n",
       "2 0                0                0                0               \n",
       "3 0                0                0                0               \n",
       "4 0                0                0                0               \n",
       "5 0                0                0                0               \n",
       "6 0                0                0                0               \n",
       "  DIAG_CCS_42_R12M DIAG_CCS_43_R12M DIAG_CCS_44_R12M DIAG_CCS_45_R12M\n",
       "1 1                0                0                0               \n",
       "2 1                0                0                1               \n",
       "3 0                0                0                0               \n",
       "4 0                0                0                0               \n",
       "5 1                0                0                1               \n",
       "6 0                0                0                0               \n",
       "  DIAG_CCS_46_R12M DIAG_CCS_47_R12M\n",
       "1 0                1               \n",
       "2 0                0               \n",
       "3 0                0               \n",
       "4 0                1               \n",
       "5 0                0               \n",
       "6 0                1               "
      ]
     },
     "metadata": {},
     "output_type": "display_data"
    }
   ],
   "source": [
    "head(dt)"
   ]
  },
  {
   "cell_type": "code",
   "execution_count": 734,
   "metadata": {
    "hidden": true
   },
   "outputs": [],
   "source": [
    "dt[dt>0] <- 1"
   ]
  },
  {
   "cell_type": "code",
   "execution_count": 735,
   "metadata": {
    "hidden": true
   },
   "outputs": [
    {
     "data": {
      "text/html": [
       "<table>\n",
       "<thead><tr><th scope=col>origId</th><th scope=col>RxElig_R12M</th><th scope=col>MEMBR_AGE</th><th scope=col>GENDER_CD_M</th><th scope=col>actCount_1_R12M</th><th scope=col>actCount_10_R12M</th><th scope=col>actCount_12_R12M</th><th scope=col>actCount_13_R12M</th><th scope=col>actCount_15_R12M</th><th scope=col>actCount_16_R12M</th><th scope=col>⋯</th><th scope=col>DIAG_CCS_38_R12M</th><th scope=col>DIAG_CCS_39_R12M</th><th scope=col>DIAG_CCS_40_R12M</th><th scope=col>DIAG_CCS_41_R12M</th><th scope=col>DIAG_CCS_42_R12M</th><th scope=col>DIAG_CCS_43_R12M</th><th scope=col>DIAG_CCS_44_R12M</th><th scope=col>DIAG_CCS_45_R12M</th><th scope=col>DIAG_CCS_46_R12M</th><th scope=col>DIAG_CCS_47_R12M</th></tr></thead>\n",
       "<tbody>\n",
       "\t<tr><td>1</td><td>1</td><td>1</td><td>0</td><td>0</td><td>1</td><td>0</td><td>0</td><td>0</td><td>0</td><td>⋯</td><td>0</td><td>0</td><td>0</td><td>0</td><td>1</td><td>0</td><td>0</td><td>0</td><td>0</td><td>1</td></tr>\n",
       "\t<tr><td>1</td><td>1</td><td>1</td><td>0</td><td>0</td><td>0</td><td>0</td><td>0</td><td>0</td><td>0</td><td>⋯</td><td>0</td><td>0</td><td>0</td><td>0</td><td>1</td><td>0</td><td>0</td><td>1</td><td>0</td><td>0</td></tr>\n",
       "\t<tr><td>1</td><td>1</td><td>1</td><td>0</td><td>0</td><td>0</td><td>0</td><td>0</td><td>0</td><td>0</td><td>⋯</td><td>0</td><td>0</td><td>0</td><td>0</td><td>0</td><td>0</td><td>0</td><td>0</td><td>0</td><td>0</td></tr>\n",
       "\t<tr><td>1</td><td>0</td><td>1</td><td>0</td><td>0</td><td>0</td><td>0</td><td>0</td><td>0</td><td>0</td><td>⋯</td><td>0</td><td>0</td><td>0</td><td>0</td><td>0</td><td>0</td><td>0</td><td>0</td><td>0</td><td>1</td></tr>\n",
       "\t<tr><td>1</td><td>1</td><td>1</td><td>1</td><td>0</td><td>0</td><td>0</td><td>0</td><td>0</td><td>0</td><td>⋯</td><td>0</td><td>0</td><td>0</td><td>0</td><td>1</td><td>0</td><td>0</td><td>1</td><td>0</td><td>0</td></tr>\n",
       "\t<tr><td>1</td><td>1</td><td>1</td><td>0</td><td>0</td><td>1</td><td>1</td><td>0</td><td>0</td><td>0</td><td>⋯</td><td>0</td><td>0</td><td>0</td><td>0</td><td>0</td><td>0</td><td>0</td><td>0</td><td>0</td><td>1</td></tr>\n",
       "</tbody>\n",
       "</table>\n"
      ],
      "text/latex": [
       "\\begin{tabular}{r|lllllllllllllllllllllllllllllllllllllllllllllllllllllllllllllllllllllllllllllllllllllllllllllllllllllllllll}\n",
       " origId & RxElig\\_R12M & MEMBR\\_AGE & GENDER\\_CD\\_M & actCount\\_1\\_R12M & actCount\\_10\\_R12M & actCount\\_12\\_R12M & actCount\\_13\\_R12M & actCount\\_15\\_R12M & actCount\\_16\\_R12M & ⋯ & DIAG\\_CCS\\_38\\_R12M & DIAG\\_CCS\\_39\\_R12M & DIAG\\_CCS\\_40\\_R12M & DIAG\\_CCS\\_41\\_R12M & DIAG\\_CCS\\_42\\_R12M & DIAG\\_CCS\\_43\\_R12M & DIAG\\_CCS\\_44\\_R12M & DIAG\\_CCS\\_45\\_R12M & DIAG\\_CCS\\_46\\_R12M & DIAG\\_CCS\\_47\\_R12M\\\\\n",
       "\\hline\n",
       "\t 1 & 1 & 1 & 0 & 0 & 1 & 0 & 0 & 0 & 0 & ⋯ & 0 & 0 & 0 & 0 & 1 & 0 & 0 & 0 & 0 & 1\\\\\n",
       "\t 1 & 1 & 1 & 0 & 0 & 0 & 0 & 0 & 0 & 0 & ⋯ & 0 & 0 & 0 & 0 & 1 & 0 & 0 & 1 & 0 & 0\\\\\n",
       "\t 1 & 1 & 1 & 0 & 0 & 0 & 0 & 0 & 0 & 0 & ⋯ & 0 & 0 & 0 & 0 & 0 & 0 & 0 & 0 & 0 & 0\\\\\n",
       "\t 1 & 0 & 1 & 0 & 0 & 0 & 0 & 0 & 0 & 0 & ⋯ & 0 & 0 & 0 & 0 & 0 & 0 & 0 & 0 & 0 & 1\\\\\n",
       "\t 1 & 1 & 1 & 1 & 0 & 0 & 0 & 0 & 0 & 0 & ⋯ & 0 & 0 & 0 & 0 & 1 & 0 & 0 & 1 & 0 & 0\\\\\n",
       "\t 1 & 1 & 1 & 0 & 0 & 1 & 1 & 0 & 0 & 0 & ⋯ & 0 & 0 & 0 & 0 & 0 & 0 & 0 & 0 & 0 & 1\\\\\n",
       "\\end{tabular}\n"
      ],
      "text/markdown": [
       "\n",
       "origId | RxElig_R12M | MEMBR_AGE | GENDER_CD_M | actCount_1_R12M | actCount_10_R12M | actCount_12_R12M | actCount_13_R12M | actCount_15_R12M | actCount_16_R12M | ⋯ | DIAG_CCS_38_R12M | DIAG_CCS_39_R12M | DIAG_CCS_40_R12M | DIAG_CCS_41_R12M | DIAG_CCS_42_R12M | DIAG_CCS_43_R12M | DIAG_CCS_44_R12M | DIAG_CCS_45_R12M | DIAG_CCS_46_R12M | DIAG_CCS_47_R12M | \n",
       "|---|---|---|---|---|---|\n",
       "| 1 | 1 | 1 | 0 | 0 | 1 | 0 | 0 | 0 | 0 | ⋯ | 0 | 0 | 0 | 0 | 1 | 0 | 0 | 0 | 0 | 1 | \n",
       "| 1 | 1 | 1 | 0 | 0 | 0 | 0 | 0 | 0 | 0 | ⋯ | 0 | 0 | 0 | 0 | 1 | 0 | 0 | 1 | 0 | 0 | \n",
       "| 1 | 1 | 1 | 0 | 0 | 0 | 0 | 0 | 0 | 0 | ⋯ | 0 | 0 | 0 | 0 | 0 | 0 | 0 | 0 | 0 | 0 | \n",
       "| 1 | 0 | 1 | 0 | 0 | 0 | 0 | 0 | 0 | 0 | ⋯ | 0 | 0 | 0 | 0 | 0 | 0 | 0 | 0 | 0 | 1 | \n",
       "| 1 | 1 | 1 | 1 | 0 | 0 | 0 | 0 | 0 | 0 | ⋯ | 0 | 0 | 0 | 0 | 1 | 0 | 0 | 1 | 0 | 0 | \n",
       "| 1 | 1 | 1 | 0 | 0 | 1 | 1 | 0 | 0 | 0 | ⋯ | 0 | 0 | 0 | 0 | 0 | 0 | 0 | 0 | 0 | 1 | \n",
       "\n",
       "\n"
      ],
      "text/plain": [
       "  origId RxElig_R12M MEMBR_AGE GENDER_CD_M actCount_1_R12M actCount_10_R12M\n",
       "1 1      1           1         0           0               1               \n",
       "2 1      1           1         0           0               0               \n",
       "3 1      1           1         0           0               0               \n",
       "4 1      0           1         0           0               0               \n",
       "5 1      1           1         1           0               0               \n",
       "6 1      1           1         0           0               1               \n",
       "  actCount_12_R12M actCount_13_R12M actCount_15_R12M actCount_16_R12M ⋯\n",
       "1 0                0                0                0                ⋯\n",
       "2 0                0                0                0                ⋯\n",
       "3 0                0                0                0                ⋯\n",
       "4 0                0                0                0                ⋯\n",
       "5 0                0                0                0                ⋯\n",
       "6 1                0                0                0                ⋯\n",
       "  DIAG_CCS_38_R12M DIAG_CCS_39_R12M DIAG_CCS_40_R12M DIAG_CCS_41_R12M\n",
       "1 0                0                0                0               \n",
       "2 0                0                0                0               \n",
       "3 0                0                0                0               \n",
       "4 0                0                0                0               \n",
       "5 0                0                0                0               \n",
       "6 0                0                0                0               \n",
       "  DIAG_CCS_42_R12M DIAG_CCS_43_R12M DIAG_CCS_44_R12M DIAG_CCS_45_R12M\n",
       "1 1                0                0                0               \n",
       "2 1                0                0                1               \n",
       "3 0                0                0                0               \n",
       "4 0                0                0                0               \n",
       "5 1                0                0                1               \n",
       "6 0                0                0                0               \n",
       "  DIAG_CCS_46_R12M DIAG_CCS_47_R12M\n",
       "1 0                1               \n",
       "2 0                0               \n",
       "3 0                0               \n",
       "4 0                1               \n",
       "5 0                0               \n",
       "6 0                1               "
      ]
     },
     "metadata": {},
     "output_type": "display_data"
    }
   ],
   "source": [
    "head(dt)"
   ]
  },
  {
   "cell_type": "code",
   "execution_count": null,
   "metadata": {
    "hidden": true
   },
   "outputs": [],
   "source": []
  },
  {
   "cell_type": "code",
   "execution_count": 736,
   "metadata": {
    "hidden": true
   },
   "outputs": [],
   "source": [
    "act <- dt[,lapply(.SD,mean),\n",
    "          #by=list(case_engage_status),\n",
    "          #by=.(risky_highcost=(Probability_high_medcost_F12M>0.2)),\n",
    "          .SDcols=grep(\"actCount\", names(dt),value = T)\n",
    "         ]"
   ]
  },
  {
   "cell_type": "code",
   "execution_count": 737,
   "metadata": {
    "hidden": true,
    "scrolled": true
   },
   "outputs": [
    {
     "data": {
      "text/html": [
       "<table>\n",
       "<tbody>\n",
       "\t<tr><th scope=row>actCount_1_R12M</th><td>0.009174312</td></tr>\n",
       "\t<tr><th scope=row>actCount_10_R12M</th><td>0.220183486</td></tr>\n",
       "\t<tr><th scope=row>actCount_12_R12M</th><td>0.137614679</td></tr>\n",
       "\t<tr><th scope=row>actCount_13_R12M</th><td>0.082568807</td></tr>\n",
       "\t<tr><th scope=row>actCount_15_R12M</th><td>0.678899083</td></tr>\n",
       "\t<tr><th scope=row>actCount_16_R12M</th><td>0.027522936</td></tr>\n",
       "\t<tr><th scope=row>actCount_17_R12M</th><td>0.318042813</td></tr>\n",
       "\t<tr><th scope=row>actCount_19_R12M</th><td>0.067278287</td></tr>\n",
       "\t<tr><th scope=row>actCount_2_R12M</th><td>0.204892966</td></tr>\n",
       "\t<tr><th scope=row>actCount_20_R12M</th><td>1.000000000</td></tr>\n",
       "\t<tr><th scope=row>actCount_21_R12M</th><td>0.896024465</td></tr>\n",
       "\t<tr><th scope=row>actCount_22_R12M</th><td>0.651376147</td></tr>\n",
       "\t<tr><th scope=row>actCount_23_R12M</th><td>0.412844037</td></tr>\n",
       "\t<tr><th scope=row>actCount_3_R12M</th><td>1.000000000</td></tr>\n",
       "\t<tr><th scope=row>actCount_4_R12M</th><td>0.770642202</td></tr>\n",
       "\t<tr><th scope=row>actCount_5_R12M</th><td>0.314984709</td></tr>\n",
       "\t<tr><th scope=row>actCount_6_R12M</th><td>0.984709480</td></tr>\n",
       "\t<tr><th scope=row>actCount_7_R12M</th><td>0.143730887</td></tr>\n",
       "\t<tr><th scope=row>actCount_8_R12M</th><td>0.801223242</td></tr>\n",
       "\t<tr><th scope=row>actCount_9_R12M</th><td>0.733944954</td></tr>\n",
       "</tbody>\n",
       "</table>\n"
      ],
      "text/latex": [
       "\\begin{tabular}{r|l}\n",
       "\tactCount\\_1\\_R12M & 0.009174312\\\\\n",
       "\tactCount\\_10\\_R12M & 0.220183486\\\\\n",
       "\tactCount\\_12\\_R12M & 0.137614679\\\\\n",
       "\tactCount\\_13\\_R12M & 0.082568807\\\\\n",
       "\tactCount\\_15\\_R12M & 0.678899083\\\\\n",
       "\tactCount\\_16\\_R12M & 0.027522936\\\\\n",
       "\tactCount\\_17\\_R12M & 0.318042813\\\\\n",
       "\tactCount\\_19\\_R12M & 0.067278287\\\\\n",
       "\tactCount\\_2\\_R12M & 0.204892966\\\\\n",
       "\tactCount\\_20\\_R12M & 1.000000000\\\\\n",
       "\tactCount\\_21\\_R12M & 0.896024465\\\\\n",
       "\tactCount\\_22\\_R12M & 0.651376147\\\\\n",
       "\tactCount\\_23\\_R12M & 0.412844037\\\\\n",
       "\tactCount\\_3\\_R12M & 1.000000000\\\\\n",
       "\tactCount\\_4\\_R12M & 0.770642202\\\\\n",
       "\tactCount\\_5\\_R12M & 0.314984709\\\\\n",
       "\tactCount\\_6\\_R12M & 0.984709480\\\\\n",
       "\tactCount\\_7\\_R12M & 0.143730887\\\\\n",
       "\tactCount\\_8\\_R12M & 0.801223242\\\\\n",
       "\tactCount\\_9\\_R12M & 0.733944954\\\\\n",
       "\\end{tabular}\n"
      ],
      "text/markdown": [
       "\n",
       "| actCount_1_R12M | 0.009174312 | \n",
       "| actCount_10_R12M | 0.220183486 | \n",
       "| actCount_12_R12M | 0.137614679 | \n",
       "| actCount_13_R12M | 0.082568807 | \n",
       "| actCount_15_R12M | 0.678899083 | \n",
       "| actCount_16_R12M | 0.027522936 | \n",
       "| actCount_17_R12M | 0.318042813 | \n",
       "| actCount_19_R12M | 0.067278287 | \n",
       "| actCount_2_R12M | 0.204892966 | \n",
       "| actCount_20_R12M | 1.000000000 | \n",
       "| actCount_21_R12M | 0.896024465 | \n",
       "| actCount_22_R12M | 0.651376147 | \n",
       "| actCount_23_R12M | 0.412844037 | \n",
       "| actCount_3_R12M | 1.000000000 | \n",
       "| actCount_4_R12M | 0.770642202 | \n",
       "| actCount_5_R12M | 0.314984709 | \n",
       "| actCount_6_R12M | 0.984709480 | \n",
       "| actCount_7_R12M | 0.143730887 | \n",
       "| actCount_8_R12M | 0.801223242 | \n",
       "| actCount_9_R12M | 0.733944954 | \n",
       "\n",
       "\n"
      ],
      "text/plain": [
       "                 [,1]       \n",
       "actCount_1_R12M  0.009174312\n",
       "actCount_10_R12M 0.220183486\n",
       "actCount_12_R12M 0.137614679\n",
       "actCount_13_R12M 0.082568807\n",
       "actCount_15_R12M 0.678899083\n",
       "actCount_16_R12M 0.027522936\n",
       "actCount_17_R12M 0.318042813\n",
       "actCount_19_R12M 0.067278287\n",
       "actCount_2_R12M  0.204892966\n",
       "actCount_20_R12M 1.000000000\n",
       "actCount_21_R12M 0.896024465\n",
       "actCount_22_R12M 0.651376147\n",
       "actCount_23_R12M 0.412844037\n",
       "actCount_3_R12M  1.000000000\n",
       "actCount_4_R12M  0.770642202\n",
       "actCount_5_R12M  0.314984709\n",
       "actCount_6_R12M  0.984709480\n",
       "actCount_7_R12M  0.143730887\n",
       "actCount_8_R12M  0.801223242\n",
       "actCount_9_R12M  0.733944954"
      ]
     },
     "metadata": {},
     "output_type": "display_data"
    }
   ],
   "source": [
    "t(act)"
   ]
  },
  {
   "cell_type": "markdown",
   "metadata": {
    "heading_collapsed": true
   },
   "source": [
    "## data cutter, cont -> cat"
   ]
  },
  {
   "cell_type": "markdown",
   "metadata": {
    "hidden": true
   },
   "source": [
    "Count to bin strategy:\n",
    "For activities, utilizations, etc., we need to convert from continuous to categorical for OTF, if these variables are used as input for categorical output. Proposed strategy: \n",
    "Count levels: bin_0 - None; bin_1 - low [1, median]; bin_2 - high (median, Inf)\n",
    "(log) cost levels: bin_0 - low [0, median]; bin_1 - high (median, Inf)\n",
    "\n",
    "However, we could also keep all of them continuous, as for these very specific cohorts, categorical output such as engagement, subtype, etc. is no longer a factor in each modeling cohort (except for referral source...)."
   ]
  },
  {
   "cell_type": "code",
   "execution_count": null,
   "metadata": {
    "hidden": true
   },
   "outputs": [],
   "source": []
  },
  {
   "cell_type": "markdown",
   "metadata": {
    "heading_collapsed": true
   },
   "source": [
    "## engaged status by subtype"
   ]
  },
  {
   "cell_type": "code",
   "execution_count": null,
   "metadata": {
    "hidden": true
   },
   "outputs": [],
   "source": []
  },
  {
   "cell_type": "code",
   "execution_count": 797,
   "metadata": {
    "hidden": true,
    "scrolled": true
   },
   "outputs": [
    {
     "name": "stdout",
     "output_type": "stream",
     "text": [
      "  [1] \"origId\"                                   \n",
      "  [2] \"RxElig_R12M\"                              \n",
      "  [3] \"MEMBR_AGE\"                                \n",
      "  [4] \"GENDER_CD_M\"                              \n",
      "  [5] \"case_type_core_complex_catastrophic_R12M\" \n",
      "  [6] \"case_type_oncology_R12M\"                  \n",
      "  [7] \"case_type_other_R12M\"                     \n",
      "  [8] \"case_type_pregnancy_R12M\"                 \n",
      "  [9] \"case_subtype_catastrophic_cm_R12M\"        \n",
      " [10] \"case_subtype_ckd_R12M\"                    \n",
      " [11] \"case_subtype_comp_oncology_R12M\"          \n",
      " [12] \"case_subtype_core_cm_R12M\"                \n",
      " [13] \"case_subtype_core_oncology_R12M\"          \n",
      " [14] \"case_subtype_core_short_cm_R12M\"          \n",
      " [15] \"case_subtype_high_risk_maternity_R12M\"    \n",
      " [16] \"case_subtype_hphb_high_risk_R12M\"         \n",
      " [17] \"case_subtype_hphb_min_mod_risk_R12M\"      \n",
      " [18] \"case_subtype_inpatient_cm_R12M\"           \n",
      " [19] \"case_subtype_nicu_R12M\"                   \n",
      " [20] \"case_subtype_other_merged_R12M\"           \n",
      " [21] \"case_subtype_specialty_care_R12M\"         \n",
      " [22] \"case_subtype_transplant_R12M\"             \n",
      " [23] \"referral_catastrophic_cm_R12M\"            \n",
      " [24] \"referral_ckd_R12M\"                        \n",
      " [25] \"referral_comp_oncology_R12M\"              \n",
      " [26] \"referral_core_cm_R12M\"                    \n",
      " [27] \"referral_core_oncology_R12M\"              \n",
      " [28] \"referral_core_short_cm_R12M\"              \n",
      " [29] \"referral_high_risk_maternity_R12M\"        \n",
      " [30] \"referral_hphb_high_risk_R12M\"             \n",
      " [31] \"referral_hphb_min_mod_risk_R12M\"          \n",
      " [32] \"referral_inpatient_cm_R12M\"               \n",
      " [33] \"referral_nicu_R12M\"                       \n",
      " [34] \"referral_other_merged_R12M\"               \n",
      " [35] \"referral_specialty_care_R12M\"             \n",
      " [36] \"referral_transplant_R12M\"                 \n",
      " [37] \"risklvl\"                                  \n",
      " [38] \"assess_engaged_catastrophic_cm_R12M\"      \n",
      " [39] \"assess_engaged_ckd_R12M\"                  \n",
      " [40] \"assess_engaged_comp_oncology_R12M\"        \n",
      " [41] \"assess_engaged_core_cm_R12M\"              \n",
      " [42] \"assess_engaged_core_oncology_R12M\"        \n",
      " [43] \"assess_engaged_core_short_cm_R12M\"        \n",
      " [44] \"assess_engaged_high_risk_maternity_R12M\"  \n",
      " [45] \"assess_engaged_hphb_high_risk_R12M\"       \n",
      " [46] \"assess_engaged_hphb_min_mod_risk_R12M\"    \n",
      " [47] \"assess_engaged_inpatient_cm_R12M\"         \n",
      " [48] \"assess_engaged_nicu_R12M\"                 \n",
      " [49] \"assess_engaged_other_merged_R12M\"         \n",
      " [50] \"assess_engaged_specialty_care_R12M\"       \n",
      " [51] \"assess_engaged_transplant_R12M\"           \n",
      " [52] \"assess_unengaged_catastrophic_cm_R12M\"    \n",
      " [53] \"assess_unengaged_ckd_R12M\"                \n",
      " [54] \"assess_unengaged_comp_oncology_R12M\"      \n",
      " [55] \"assess_unengaged_core_cm_R12M\"            \n",
      " [56] \"assess_unengaged_core_oncology_R12M\"      \n",
      " [57] \"assess_unengaged_core_short_cm_R12M\"      \n",
      " [58] \"assess_unengaged_high_risk_maternity_R12M\"\n",
      " [59] \"assess_unengaged_hphb_high_risk_R12M\"     \n",
      " [60] \"assess_unengaged_hphb_min_mod_risk_R12M\"  \n",
      " [61] \"assess_unengaged_inpatient_cm_R12M\"       \n",
      " [62] \"assess_unengaged_nicu_R12M\"               \n",
      " [63] \"assess_unengaged_other_merged_R12M\"       \n",
      " [64] \"assess_unengaged_specialty_care_R12M\"     \n",
      " [65] \"assess_unengaged_transplant_R12M\"         \n",
      " [66] \"assess_other_catastrophic_cm_R12M\"        \n",
      " [67] \"assess_other_ckd_R12M\"                    \n",
      " [68] \"assess_other_comp_oncology_R12M\"          \n",
      " [69] \"assess_other_core_cm_R12M\"                \n",
      " [70] \"assess_other_core_oncology_R12M\"          \n",
      " [71] \"assess_other_core_short_cm_R12M\"          \n",
      " [72] \"assess_other_high_risk_maternity_R12M\"    \n",
      " [73] \"assess_other_hphb_high_risk_R12M\"         \n",
      " [74] \"assess_other_hphb_min_mod_risk_R12M\"      \n",
      " [75] \"assess_other_inpatient_cm_R12M\"           \n",
      " [76] \"assess_other_nicu_R12M\"                   \n",
      " [77] \"assess_other_other_merged_R12M\"           \n",
      " [78] \"assess_other_specialty_care_R12M\"         \n",
      " [79] \"assess_other_transplant_R12M\"             \n",
      " [80] \"act_1_R12M\"                               \n",
      " [81] \"act_10_R12M\"                              \n",
      " [82] \"act_11_R12M\"                              \n",
      " [83] \"act_12_R12M\"                              \n",
      " [84] \"act_13_R12M\"                              \n",
      " [85] \"act_14_R12M\"                              \n",
      " [86] \"act_15_R12M\"                              \n",
      " [87] \"act_16_R12M\"                              \n",
      " [88] \"act_17_R12M\"                              \n",
      " [89] \"act_18_R12M\"                              \n",
      " [90] \"act_19_R12M\"                              \n",
      " [91] \"act_2_R12M\"                               \n",
      " [92] \"act_20_R12M\"                              \n",
      " [93] \"act_21_R12M\"                              \n",
      " [94] \"act_22_R12M\"                              \n",
      " [95] \"act_23_R12M\"                              \n",
      " [96] \"act_3_R12M\"                               \n",
      " [97] \"act_4_R12M\"                               \n",
      " [98] \"act_5_R12M\"                               \n",
      " [99] \"act_6_R12M\"                               \n",
      "[100] \"act_7_R12M\"                               \n",
      "[101] \"act_8_R12M\"                               \n",
      "[102] \"act_9_R12M\"                               \n",
      "[103] \"act_NotCategorized_R12M\"                  \n",
      "[104] \"actCount_1_R12M\"                          \n",
      "[105] \"actCount_10_R12M\"                         \n",
      "[106] \"actCount_11_R12M\"                         \n",
      "[107] \"actCount_12_R12M\"                         \n",
      "[108] \"actCount_13_R12M\"                         \n",
      "[109] \"actCount_14_R12M\"                         \n",
      "[110] \"actCount_15_R12M\"                         \n",
      "[111] \"actCount_16_R12M\"                         \n",
      "[112] \"actCount_17_R12M\"                         \n",
      "[113] \"actCount_18_R12M\"                         \n",
      "[114] \"actCount_19_R12M\"                         \n",
      "[115] \"actCount_2_R12M\"                          \n",
      "[116] \"actCount_20_R12M\"                         \n",
      "[117] \"actCount_21_R12M\"                         \n",
      "[118] \"actCount_22_R12M\"                         \n",
      "[119] \"actCount_23_R12M\"                         \n",
      "[120] \"actCount_3_R12M\"                          \n",
      "[121] \"actCount_4_R12M\"                          \n",
      "[122] \"actCount_5_R12M\"                          \n",
      "[123] \"actCount_6_R12M\"                          \n",
      "[124] \"actCount_7_R12M\"                          \n",
      "[125] \"actCount_8_R12M\"                          \n",
      "[126] \"actCount_9_R12M\"                          \n",
      "[127] \"actCount_NotCategorized_R12M\"             \n",
      "[128] \"DIAG_Charlson_cerebrovas_R12M\"            \n",
      "[129] \"DIAG_Charlson_chf_R12M\"                   \n",
      "[130] \"DIAG_Charlson_cpd_R12M\"                   \n",
      "[131] \"DIAG_Charlson_dementia_R12M\"              \n",
      "[132] \"DIAG_Charlson_diabetes_R12M\"              \n",
      "[133] \"DIAG_Charlson_diabeteschronic_R12M\"       \n",
      "[134] \"DIAG_Charlson_hiv_R12M\"                   \n",
      "[135] \"DIAG_Charlson_liver_R12M\"                 \n",
      "[136] \"DIAG_Charlson_malignancy_R12M\"            \n",
      "[137] \"DIAG_Charlson_metastatictumor_R12M\"       \n",
      "[138] \"DIAG_Charlson_mi_R12M\"                    \n",
      "[139] \"DIAG_Charlson_mildliver_R12M\"             \n",
      "[140] \"DIAG_Charlson_plegia_R12M\"                \n",
      "[141] \"DIAG_Charlson_pud_R12M\"                   \n",
      "[142] \"DIAG_Charlson_pvd_R12M\"                   \n",
      "[143] \"DIAG_Charlson_renal_R12M\"                 \n",
      "[144] \"DIAG_Charlson_rheumatic_R12M\"             \n",
      "[145] \"DIAG_CCS_1_R12M\"                          \n",
      "[146] \"DIAG_CCS_10_R12M\"                         \n",
      "[147] \"DIAG_CCS_100_R12M\"                        \n",
      "[148] \"DIAG_CCS_101_R12M\"                        \n",
      "[149] \"DIAG_CCS_102_R12M\"                        \n",
      "[150] \"DIAG_CCS_103_R12M\"                        \n",
      "[151] \"DIAG_CCS_104_R12M\"                        \n",
      "[152] \"DIAG_CCS_105_R12M\"                        \n",
      "[153] \"DIAG_CCS_106_R12M\"                        \n",
      "[154] \"DIAG_CCS_107_R12M\"                        \n",
      "[155] \"DIAG_CCS_108_R12M\"                        \n",
      "[156] \"DIAG_CCS_109_R12M\"                        \n",
      "[157] \"DIAG_CCS_11_R12M\"                         \n",
      "[158] \"DIAG_CCS_110_R12M\"                        \n",
      "[159] \"DIAG_CCS_111_R12M\"                        \n",
      "[160] \"DIAG_CCS_112_R12M\"                        \n",
      "[161] \"DIAG_CCS_113_R12M\"                        \n",
      "[162] \"DIAG_CCS_114_R12M\"                        \n",
      "[163] \"DIAG_CCS_115_R12M\"                        \n",
      "[164] \"DIAG_CCS_116_R12M\"                        \n",
      "[165] \"DIAG_CCS_117_R12M\"                        \n",
      "[166] \"DIAG_CCS_118_R12M\"                        \n",
      "[167] \"DIAG_CCS_119_R12M\"                        \n",
      "[168] \"DIAG_CCS_12_R12M\"                         \n",
      "[169] \"DIAG_CCS_120_R12M\"                        \n",
      "[170] \"DIAG_CCS_121_R12M\"                        \n",
      "[171] \"DIAG_CCS_122_R12M\"                        \n",
      "[172] \"DIAG_CCS_123_R12M\"                        \n",
      "[173] \"DIAG_CCS_124_R12M\"                        \n",
      "[174] \"DIAG_CCS_125_R12M\"                        \n",
      "[175] \"DIAG_CCS_126_R12M\"                        \n",
      "[176] \"DIAG_CCS_127_R12M\"                        \n",
      "[177] \"DIAG_CCS_128_R12M\"                        \n",
      "[178] \"DIAG_CCS_129_R12M\"                        \n",
      "[179] \"DIAG_CCS_13_R12M\"                         \n",
      "[180] \"DIAG_CCS_130_R12M\"                        \n",
      "[181] \"DIAG_CCS_131_R12M\"                        \n",
      "[182] \"DIAG_CCS_132_R12M\"                        \n",
      "[183] \"DIAG_CCS_133_R12M\"                        \n",
      "[184] \"DIAG_CCS_134_R12M\"                        \n",
      "[185] \"DIAG_CCS_135_R12M\"                        \n",
      "[186] \"DIAG_CCS_136_R12M\"                        \n",
      "[187] \"DIAG_CCS_137_R12M\"                        \n",
      "[188] \"DIAG_CCS_138_R12M\"                        \n",
      "[189] \"DIAG_CCS_139_R12M\"                        \n",
      "[190] \"DIAG_CCS_14_R12M\"                         \n",
      "[191] \"DIAG_CCS_140_R12M\"                        \n",
      "[192] \"DIAG_CCS_141_R12M\"                        \n",
      "[193] \"DIAG_CCS_142_R12M\"                        \n",
      "[194] \"DIAG_CCS_143_R12M\"                        \n",
      "[195] \"DIAG_CCS_144_R12M\"                        \n",
      "[196] \"DIAG_CCS_145_R12M\"                        \n",
      "[197] \"DIAG_CCS_146_R12M\"                        \n",
      "[198] \"DIAG_CCS_147_R12M\"                        \n",
      "[199] \"DIAG_CCS_148_R12M\"                        \n",
      "[200] \"DIAG_CCS_149_R12M\"                        \n",
      "[201] \"DIAG_CCS_15_R12M\"                         \n",
      "[202] \"DIAG_CCS_151_R12M\"                        \n",
      "[203] \"DIAG_CCS_152_R12M\"                        \n",
      "[204] \"DIAG_CCS_153_R12M\"                        \n",
      "[205] \"DIAG_CCS_154_R12M\"                        \n",
      "[206] \"DIAG_CCS_155_R12M\"                        \n",
      "[207] \"DIAG_CCS_156_R12M\"                        \n",
      "[208] \"DIAG_CCS_157_R12M\"                        \n",
      "[209] \"DIAG_CCS_158_R12M\"                        \n",
      "[210] \"DIAG_CCS_159_R12M\"                        \n",
      "[211] \"DIAG_CCS_16_R12M\"                         \n",
      "[212] \"DIAG_CCS_160_R12M\"                        \n",
      "[213] \"DIAG_CCS_161_R12M\"                        \n",
      "[214] \"DIAG_CCS_162_R12M\"                        \n",
      "[215] \"DIAG_CCS_163_R12M\"                        \n",
      "[216] \"DIAG_CCS_164_R12M\"                        \n",
      "[217] \"DIAG_CCS_165_R12M\"                        \n",
      "[218] \"DIAG_CCS_166_R12M\"                        \n",
      "[219] \"DIAG_CCS_167_R12M\"                        \n",
      "[220] \"DIAG_CCS_168_R12M\"                        \n",
      "[221] \"DIAG_CCS_169_R12M\"                        \n",
      "[222] \"DIAG_CCS_17_R12M\"                         \n",
      "[223] \"DIAG_CCS_170_R12M\"                        \n",
      "[224] \"DIAG_CCS_171_R12M\"                        \n",
      "[225] \"DIAG_CCS_172_R12M\"                        \n",
      "[226] \"DIAG_CCS_173_R12M\"                        \n",
      "[227] \"DIAG_CCS_174_R12M\"                        \n",
      "[228] \"DIAG_CCS_175_R12M\"                        \n",
      "[229] \"DIAG_CCS_176_R12M\"                        \n",
      "[230] \"DIAG_CCS_177_R12M\"                        \n",
      "[231] \"DIAG_CCS_178_R12M\"                        \n",
      "[232] \"DIAG_CCS_179_R12M\"                        \n",
      "[233] \"DIAG_CCS_18_R12M\"                         \n",
      "[234] \"DIAG_CCS_180_R12M\"                        \n",
      "[235] \"DIAG_CCS_181_R12M\"                        \n",
      "[236] \"DIAG_CCS_182_R12M\"                        \n",
      "[237] \"DIAG_CCS_183_R12M\"                        \n",
      "[238] \"DIAG_CCS_184_R12M\"                        \n",
      "[239] \"DIAG_CCS_185_R12M\"                        \n",
      "[240] \"DIAG_CCS_186_R12M\"                        \n",
      "[241] \"DIAG_CCS_187_R12M\"                        \n",
      "[242] \"DIAG_CCS_188_R12M\"                        \n",
      "[243] \"DIAG_CCS_189_R12M\"                        \n",
      "[244] \"DIAG_CCS_19_R12M\"                         \n",
      "[245] \"DIAG_CCS_190_R12M\"                        \n",
      "[246] \"DIAG_CCS_191_R12M\"                        \n",
      "[247] \"DIAG_CCS_192_R12M\"                        \n",
      "[248] \"DIAG_CCS_193_R12M\"                        \n",
      "[249] \"DIAG_CCS_194_R12M\"                        \n",
      "[250] \"DIAG_CCS_195_R12M\"                        \n",
      "[251] \"DIAG_CCS_196_R12M\"                        \n",
      "[252] \"DIAG_CCS_197_R12M\"                        \n",
      "[253] \"DIAG_CCS_198_R12M\"                        \n",
      "[254] \"DIAG_CCS_199_R12M\"                        \n",
      "[255] \"DIAG_CCS_2_R12M\"                          \n",
      "[256] \"DIAG_CCS_20_R12M\"                         \n",
      "[257] \"DIAG_CCS_200_R12M\"                        \n",
      "[258] \"DIAG_CCS_201_R12M\"                        \n",
      "[259] \"DIAG_CCS_202_R12M\"                        \n",
      "[260] \"DIAG_CCS_203_R12M\"                        \n",
      "[261] \"DIAG_CCS_204_R12M\"                        \n",
      "[262] \"DIAG_CCS_205_R12M\"                        \n",
      "[263] \"DIAG_CCS_206_R12M\"                        \n",
      "[264] \"DIAG_CCS_207_R12M\"                        \n",
      "[265] \"DIAG_CCS_208_R12M\"                        \n",
      "[266] \"DIAG_CCS_209_R12M\"                        \n",
      "[267] \"DIAG_CCS_21_R12M\"                         \n",
      "[268] \"DIAG_CCS_210_R12M\"                        \n",
      "[269] \"DIAG_CCS_211_R12M\"                        \n",
      "[270] \"DIAG_CCS_212_R12M\"                        \n",
      "[271] \"DIAG_CCS_213_R12M\"                        \n",
      "[272] \"DIAG_CCS_214_R12M\"                        \n",
      "[273] \"DIAG_CCS_215_R12M\"                        \n",
      "[274] \"DIAG_CCS_216_R12M\"                        \n",
      "[275] \"DIAG_CCS_217_R12M\"                        \n",
      "[276] \"DIAG_CCS_218_R12M\"                        \n",
      "[277] \"DIAG_CCS_219_R12M\"                        \n",
      "[278] \"DIAG_CCS_22_R12M\"                         \n",
      "[279] \"DIAG_CCS_220_R12M\"                        \n",
      "[280] \"DIAG_CCS_221_R12M\"                        \n",
      "[281] \"DIAG_CCS_222_R12M\"                        \n",
      "[282] \"DIAG_CCS_223_R12M\"                        \n",
      "[283] \"DIAG_CCS_224_R12M\"                        \n",
      "[284] \"DIAG_CCS_225_R12M\"                        \n",
      "[285] \"DIAG_CCS_226_R12M\"                        \n",
      "[286] \"DIAG_CCS_227_R12M\"                        \n",
      "[287] \"DIAG_CCS_228_R12M\"                        \n",
      "[288] \"DIAG_CCS_229_R12M\"                        \n",
      "[289] \"DIAG_CCS_23_R12M\"                         \n",
      "[290] \"DIAG_CCS_230_R12M\"                        \n",
      "[291] \"DIAG_CCS_231_R12M\"                        \n",
      "[292] \"DIAG_CCS_232_R12M\"                        \n",
      "[293] \"DIAG_CCS_233_R12M\"                        \n",
      "[294] \"DIAG_CCS_234_R12M\"                        \n",
      "[295] \"DIAG_CCS_235_R12M\"                        \n",
      "[296] \"DIAG_CCS_236_R12M\"                        \n",
      "[297] \"DIAG_CCS_237_R12M\"                        \n",
      "[298] \"DIAG_CCS_238_R12M\"                        \n",
      "[299] \"DIAG_CCS_239_R12M\"                        \n",
      "[300] \"DIAG_CCS_24_R12M\"                         \n",
      "[301] \"DIAG_CCS_240_R12M\"                        \n",
      "[302] \"DIAG_CCS_241_R12M\"                        \n",
      "[303] \"DIAG_CCS_242_R12M\"                        \n",
      "[304] \"DIAG_CCS_243_R12M\"                        \n",
      "[305] \"DIAG_CCS_244_R12M\"                        \n",
      "[306] \"DIAG_CCS_245_R12M\"                        \n",
      "[307] \"DIAG_CCS_246_R12M\"                        \n",
      "[308] \"DIAG_CCS_247_R12M\"                        \n",
      "[309] \"DIAG_CCS_248_R12M\"                        \n",
      "[310] \"DIAG_CCS_249_R12M\"                        \n",
      "[311] \"DIAG_CCS_25_R12M\"                         \n",
      "[312] \"DIAG_CCS_250_R12M\"                        \n",
      "[313] \"DIAG_CCS_251_R12M\"                        \n",
      "[314] \"DIAG_CCS_252_R12M\"                        \n",
      "[315] \"DIAG_CCS_253_R12M\"                        \n",
      "[316] \"DIAG_CCS_254_R12M\"                        \n",
      "[317] \"DIAG_CCS_255_R12M\"                        \n",
      "[318] \"DIAG_CCS_256_R12M\"                        \n",
      "[319] \"DIAG_CCS_257_R12M\"                        \n",
      "[320] \"DIAG_CCS_258_R12M\"                        \n",
      "[321] \"DIAG_CCS_259_R12M\"                        \n",
      "[322] \"DIAG_CCS_26_R12M\"                         \n",
      "[323] \"DIAG_CCS_2601_R12M\"                       \n",
      "[324] \"DIAG_CCS_2602_R12M\"                       \n",
      "[325] \"DIAG_CCS_2603_R12M\"                       \n",
      "[326] \"DIAG_CCS_2604_R12M\"                       \n",
      "[327] \"DIAG_CCS_2605_R12M\"                       \n",
      "[328] \"DIAG_CCS_2606_R12M\"                       \n",
      "[329] \"DIAG_CCS_2607_R12M\"                       \n",
      "[330] \"DIAG_CCS_2608_R12M\"                       \n",
      "[331] \"DIAG_CCS_2609_R12M\"                       \n",
      "[332] \"DIAG_CCS_2610_R12M\"                       \n",
      "[333] \"DIAG_CCS_2611_R12M\"                       \n",
      "[334] \"DIAG_CCS_2612_R12M\"                       \n",
      "[335] \"DIAG_CCS_2613_R12M\"                       \n",
      "[336] \"DIAG_CCS_2614_R12M\"                       \n",
      "[337] \"DIAG_CCS_2615_R12M\"                       \n",
      "[338] \"DIAG_CCS_2616_R12M\"                       \n",
      "[339] \"DIAG_CCS_2617_R12M\"                       \n",
      "[340] \"DIAG_CCS_2618_R12M\"                       \n",
      "[341] \"DIAG_CCS_2619_R12M\"                       \n",
      "[342] \"DIAG_CCS_2620_R12M\"                       \n",
      "[343] \"DIAG_CCS_2621_R12M\"                       \n",
      "[344] \"DIAG_CCS_27_R12M\"                         \n",
      "[345] \"DIAG_CCS_28_R12M\"                         \n",
      "[346] \"DIAG_CCS_29_R12M\"                         \n",
      "[347] \"DIAG_CCS_3_R12M\"                          \n",
      "[348] \"DIAG_CCS_30_R12M\"                         \n",
      "[349] \"DIAG_CCS_31_R12M\"                         \n",
      "[350] \"DIAG_CCS_32_R12M\"                         \n",
      "[351] \"DIAG_CCS_33_R12M\"                         \n",
      "[352] \"DIAG_CCS_34_R12M\"                         \n",
      "[353] \"DIAG_CCS_35_R12M\"                         \n",
      "[354] \"DIAG_CCS_36_R12M\"                         \n",
      "[355] \"DIAG_CCS_37_R12M\"                         \n",
      "[356] \"DIAG_CCS_38_R12M\"                         \n",
      "[357] \"DIAG_CCS_39_R12M\"                         \n",
      "[358] \"DIAG_CCS_4_R12M\"                          \n",
      "[359] \"DIAG_CCS_40_R12M\"                         \n",
      "[360] \"DIAG_CCS_41_R12M\"                         \n",
      "[361] \"DIAG_CCS_42_R12M\"                         \n",
      "[362] \"DIAG_CCS_43_R12M\"                         \n",
      "[363] \"DIAG_CCS_44_R12M\"                         \n",
      "[364] \"DIAG_CCS_45_R12M\"                         \n",
      "[365] \"DIAG_CCS_46_R12M\"                         \n",
      "[366] \"DIAG_CCS_47_R12M\"                         \n",
      "[367] \"DIAG_CCS_48_R12M\"                         \n",
      "[368] \"DIAG_CCS_49_R12M\"                         \n",
      "[369] \"DIAG_CCS_5_R12M\"                          \n",
      "[370] \"DIAG_CCS_50_R12M\"                         \n",
      "[371] \"DIAG_CCS_51_R12M\"                         \n",
      "[372] \"DIAG_CCS_52_R12M\"                         \n",
      "[373] \"DIAG_CCS_53_R12M\"                         \n",
      "[374] \"DIAG_CCS_54_R12M\"                         \n",
      "[375] \"DIAG_CCS_55_R12M\"                         \n",
      "[376] \"DIAG_CCS_56_R12M\"                         \n",
      "[377] \"DIAG_CCS_57_R12M\"                         \n",
      "[378] \"DIAG_CCS_58_R12M\"                         \n",
      "[379] \"DIAG_CCS_59_R12M\"                         \n",
      "[380] \"DIAG_CCS_6_R12M\"                          \n",
      "[381] \"DIAG_CCS_60_R12M\"                         \n",
      "[382] \"DIAG_CCS_61_R12M\"                         \n",
      "[383] \"DIAG_CCS_62_R12M\"                         \n",
      "[384] \"DIAG_CCS_63_R12M\"                         \n",
      "[385] \"DIAG_CCS_64_R12M\"                         \n",
      "[386] \"DIAG_CCS_650_R12M\"                        \n",
      "[387] \"DIAG_CCS_651_R12M\"                        \n",
      "[388] \"DIAG_CCS_652_R12M\"                        \n",
      "[389] \"DIAG_CCS_653_R12M\"                        \n",
      "[390] \"DIAG_CCS_654_R12M\"                        \n",
      "[391] \"DIAG_CCS_655_R12M\"                        \n",
      "[392] \"DIAG_CCS_656_R12M\"                        \n",
      "[393] \"DIAG_CCS_657_R12M\"                        \n",
      "[394] \"DIAG_CCS_658_R12M\"                        \n",
      "[395] \"DIAG_CCS_659_R12M\"                        \n",
      "[396] \"DIAG_CCS_660_R12M\"                        \n",
      "[397] \"DIAG_CCS_661_R12M\"                        \n",
      "[398] \"DIAG_CCS_662_R12M\"                        \n",
      "[399] \"DIAG_CCS_663_R12M\"                        \n",
      "[400] \"DIAG_CCS_670_R12M\"                        \n",
      "[401] \"DIAG_CCS_7_R12M\"                          \n",
      "[402] \"DIAG_CCS_76_R12M\"                         \n",
      "[403] \"DIAG_CCS_77_R12M\"                         \n",
      "[404] \"DIAG_CCS_78_R12M\"                         \n",
      "[405] \"DIAG_CCS_79_R12M\"                         \n",
      "[406] \"DIAG_CCS_8_R12M\"                          \n",
      "[407] \"DIAG_CCS_80_R12M\"                         \n",
      "[408] \"DIAG_CCS_81_R12M\"                         \n",
      "[409] \"DIAG_CCS_82_R12M\"                         \n",
      "[410] \"DIAG_CCS_83_R12M\"                         \n",
      "[411] \"DIAG_CCS_84_R12M\"                         \n",
      "[412] \"DIAG_CCS_85_R12M\"                         \n",
      "[413] \"DIAG_CCS_86_R12M\"                         \n",
      "[414] \"DIAG_CCS_87_R12M\"                         \n",
      "[415] \"DIAG_CCS_88_R12M\"                         \n",
      "[416] \"DIAG_CCS_89_R12M\"                         \n",
      "[417] \"DIAG_CCS_9_R12M\"                          \n",
      "[418] \"DIAG_CCS_90_R12M\"                         \n",
      "[419] \"DIAG_CCS_91_R12M\"                         \n",
      "[420] \"DIAG_CCS_92_R12M\"                         \n",
      "[421] \"DIAG_CCS_93_R12M\"                         \n",
      "[422] \"DIAG_CCS_94_R12M\"                         \n",
      "[423] \"DIAG_CCS_95_R12M\"                         \n",
      "[424] \"DIAG_CCS_96_R12M\"                         \n",
      "[425] \"DIAG_CCS_97_R12M\"                         \n",
      "[426] \"DIAG_CCS_98_R12M\"                         \n",
      "[427] \"DIAG_CCS_99_R12M\"                         \n",
      "[428] \"SVC_PROC_CCS_1_R12M\"                      \n",
      "[429] \"SVC_PROC_CCS_10_R12M\"                     \n",
      "[430] \"SVC_PROC_CCS_100_R12M\"                    \n",
      "[431] \"SVC_PROC_CCS_101_R12M\"                    \n",
      "[432] \"SVC_PROC_CCS_102_R12M\"                    \n",
      "[433] \"SVC_PROC_CCS_103_R12M\"                    \n",
      "[434] \"SVC_PROC_CCS_104_R12M\"                    \n",
      "[435] \"SVC_PROC_CCS_105_R12M\"                    \n",
      "[436] \"SVC_PROC_CCS_106_R12M\"                    \n",
      "[437] \"SVC_PROC_CCS_107_R12M\"                    \n",
      "[438] \"SVC_PROC_CCS_108_R12M\"                    \n",
      "[439] \"SVC_PROC_CCS_109_R12M\"                    \n",
      "[440] \"SVC_PROC_CCS_11_R12M\"                     \n",
      "[441] \"SVC_PROC_CCS_110_R12M\"                    \n",
      "[442] \"SVC_PROC_CCS_111_R12M\"                    \n",
      "[443] \"SVC_PROC_CCS_112_R12M\"                    \n",
      "[444] \"SVC_PROC_CCS_113_R12M\"                    \n",
      "[445] \"SVC_PROC_CCS_114_R12M\"                    \n",
      "[446] \"SVC_PROC_CCS_115_R12M\"                    \n",
      "[447] \"SVC_PROC_CCS_116_R12M\"                    \n",
      "[448] \"SVC_PROC_CCS_117_R12M\"                    \n",
      "[449] \"SVC_PROC_CCS_118_R12M\"                    \n",
      "[450] \"SVC_PROC_CCS_119_R12M\"                    \n",
      "[451] \"SVC_PROC_CCS_12_R12M\"                     \n",
      "[452] \"SVC_PROC_CCS_120_R12M\"                    \n",
      "[453] \"SVC_PROC_CCS_121_R12M\"                    \n",
      "[454] \"SVC_PROC_CCS_122_R12M\"                    \n",
      "[455] \"SVC_PROC_CCS_123_R12M\"                    \n",
      "[456] \"SVC_PROC_CCS_124_R12M\"                    \n",
      "[457] \"SVC_PROC_CCS_125_R12M\"                    \n",
      "[458] \"SVC_PROC_CCS_126_R12M\"                    \n",
      "[459] \"SVC_PROC_CCS_127_R12M\"                    \n",
      "[460] \"SVC_PROC_CCS_128_R12M\"                    \n",
      "[461] \"SVC_PROC_CCS_129_R12M\"                    \n",
      "[462] \"SVC_PROC_CCS_13_R12M\"                     \n",
      "[463] \"SVC_PROC_CCS_130_R12M\"                    \n",
      "[464] \"SVC_PROC_CCS_131_R12M\"                    \n",
      "[465] \"SVC_PROC_CCS_132_R12M\"                    \n",
      "[466] \"SVC_PROC_CCS_133_R12M\"                    \n",
      "[467] \"SVC_PROC_CCS_134_R12M\"                    \n",
      "[468] \"SVC_PROC_CCS_135_R12M\"                    \n",
      "[469] \"SVC_PROC_CCS_136_R12M\"                    \n",
      "[470] \"SVC_PROC_CCS_137_R12M\"                    \n",
      "[471] \"SVC_PROC_CCS_138_R12M\"                    \n",
      "[472] \"SVC_PROC_CCS_139_R12M\"                    \n",
      "[473] \"SVC_PROC_CCS_14_R12M\"                     \n",
      "[474] \"SVC_PROC_CCS_140_R12M\"                    \n",
      "[475] \"SVC_PROC_CCS_141_R12M\"                    \n",
      "[476] \"SVC_PROC_CCS_142_R12M\"                    \n",
      "[477] \"SVC_PROC_CCS_143_R12M\"                    \n",
      "[478] \"SVC_PROC_CCS_144_R12M\"                    \n",
      "[479] \"SVC_PROC_CCS_145_R12M\"                    \n",
      "[480] \"SVC_PROC_CCS_146_R12M\"                    \n",
      "[481] \"SVC_PROC_CCS_147_R12M\"                    \n",
      "[482] \"SVC_PROC_CCS_148_R12M\"                    \n",
      "[483] \"SVC_PROC_CCS_149_R12M\"                    \n",
      "[484] \"SVC_PROC_CCS_15_R12M\"                     \n",
      "[485] \"SVC_PROC_CCS_150_R12M\"                    \n",
      "[486] \"SVC_PROC_CCS_151_R12M\"                    \n",
      "[487] \"SVC_PROC_CCS_152_R12M\"                    \n",
      "[488] \"SVC_PROC_CCS_153_R12M\"                    \n",
      "[489] \"SVC_PROC_CCS_154_R12M\"                    \n",
      "[490] \"SVC_PROC_CCS_155_R12M\"                    \n",
      "[491] \"SVC_PROC_CCS_156_R12M\"                    \n",
      "[492] \"SVC_PROC_CCS_157_R12M\"                    \n",
      "[493] \"SVC_PROC_CCS_158_R12M\"                    \n",
      "[494] \"SVC_PROC_CCS_159_R12M\"                    \n",
      "[495] \"SVC_PROC_CCS_16_R12M\"                     \n",
      "[496] \"SVC_PROC_CCS_160_R12M\"                    \n",
      "[497] \"SVC_PROC_CCS_161_R12M\"                    \n",
      "[498] \"SVC_PROC_CCS_162_R12M\"                    \n",
      "[499] \"SVC_PROC_CCS_163_R12M\"                    \n",
      "[500] \"SVC_PROC_CCS_164_R12M\"                    \n",
      "[501] \"SVC_PROC_CCS_165_R12M\"                    \n",
      "[502] \"SVC_PROC_CCS_166_R12M\"                    \n",
      "[503] \"SVC_PROC_CCS_167_R12M\"                    \n",
      "[504] \"SVC_PROC_CCS_168_R12M\"                    \n",
      "[505] \"SVC_PROC_CCS_169_R12M\"                    \n",
      "[506] \"SVC_PROC_CCS_17_R12M\"                     \n",
      "[507] \"SVC_PROC_CCS_170_R12M\"                    \n",
      "[508] \"SVC_PROC_CCS_171_R12M\"                    \n",
      "[509] \"SVC_PROC_CCS_172_R12M\"                    \n",
      "[510] \"SVC_PROC_CCS_173_R12M\"                    \n",
      "[511] \"SVC_PROC_CCS_174_R12M\"                    \n",
      "[512] \"SVC_PROC_CCS_175_R12M\"                    \n",
      "[513] \"SVC_PROC_CCS_176_R12M\"                    \n",
      "[514] \"SVC_PROC_CCS_177_R12M\"                    \n",
      "[515] \"SVC_PROC_CCS_178_R12M\"                    \n",
      "[516] \"SVC_PROC_CCS_179_R12M\"                    \n",
      "[517] \"SVC_PROC_CCS_18_R12M\"                     \n",
      "[518] \"SVC_PROC_CCS_180_R12M\"                    \n",
      "[519] \"SVC_PROC_CCS_181_R12M\"                    \n",
      "[520] \"SVC_PROC_CCS_182_R12M\"                    \n",
      "[521] \"SVC_PROC_CCS_183_R12M\"                    \n",
      "[522] \"SVC_PROC_CCS_184_R12M\"                    \n",
      "[523] \"SVC_PROC_CCS_185_R12M\"                    \n",
      "[524] \"SVC_PROC_CCS_186_R12M\"                    \n",
      "[525] \"SVC_PROC_CCS_187_R12M\"                    \n",
      "[526] \"SVC_PROC_CCS_188_R12M\"                    \n",
      "[527] \"SVC_PROC_CCS_189_R12M\"                    \n",
      "[528] \"SVC_PROC_CCS_19_R12M\"                     \n",
      "[529] \"SVC_PROC_CCS_190_R12M\"                    \n",
      "[530] \"SVC_PROC_CCS_191_R12M\"                    \n",
      "[531] \"SVC_PROC_CCS_192_R12M\"                    \n",
      "[532] \"SVC_PROC_CCS_193_R12M\"                    \n",
      "[533] \"SVC_PROC_CCS_194_R12M\"                    \n",
      "[534] \"SVC_PROC_CCS_195_R12M\"                    \n",
      "[535] \"SVC_PROC_CCS_196_R12M\"                    \n",
      "[536] \"SVC_PROC_CCS_197_R12M\"                    \n",
      "[537] \"SVC_PROC_CCS_198_R12M\"                    \n",
      "[538] \"SVC_PROC_CCS_199_R12M\"                    \n",
      "[539] \"SVC_PROC_CCS_2_R12M\"                      \n",
      "[540] \"SVC_PROC_CCS_20_R12M\"                     \n",
      "[541] \"SVC_PROC_CCS_200_R12M\"                    \n",
      "[542] \"SVC_PROC_CCS_201_R12M\"                    \n",
      "[543] \"SVC_PROC_CCS_202_R12M\"                    \n",
      "[544] \"SVC_PROC_CCS_203_R12M\"                    \n",
      "[545] \"SVC_PROC_CCS_204_R12M\"                    \n",
      "[546] \"SVC_PROC_CCS_205_R12M\"                    \n",
      "[547] \"SVC_PROC_CCS_206_R12M\"                    \n",
      "[548] \"SVC_PROC_CCS_207_R12M\"                    \n",
      "[549] \"SVC_PROC_CCS_208_R12M\"                    \n",
      "[550] \"SVC_PROC_CCS_209_R12M\"                    \n",
      "[551] \"SVC_PROC_CCS_21_R12M\"                     \n",
      "[552] \"SVC_PROC_CCS_210_R12M\"                    \n",
      "[553] \"SVC_PROC_CCS_211_R12M\"                    \n",
      "[554] \"SVC_PROC_CCS_212_R12M\"                    \n",
      "[555] \"SVC_PROC_CCS_213_R12M\"                    \n",
      "[556] \"SVC_PROC_CCS_214_R12M\"                    \n",
      "[557] \"SVC_PROC_CCS_215_R12M\"                    \n",
      "[558] \"SVC_PROC_CCS_216_R12M\"                    \n",
      "[559] \"SVC_PROC_CCS_217_R12M\"                    \n",
      "[560] \"SVC_PROC_CCS_218_R12M\"                    \n",
      "[561] \"SVC_PROC_CCS_219_R12M\"                    \n",
      "[562] \"SVC_PROC_CCS_22_R12M\"                     \n",
      "[563] \"SVC_PROC_CCS_220_R12M\"                    \n",
      "[564] \"SVC_PROC_CCS_221_R12M\"                    \n",
      "[565] \"SVC_PROC_CCS_222_R12M\"                    \n",
      "[566] \"SVC_PROC_CCS_223_R12M\"                    \n",
      "[567] \"SVC_PROC_CCS_224_R12M\"                    \n",
      "[568] \"SVC_PROC_CCS_225_R12M\"                    \n",
      "[569] \"SVC_PROC_CCS_226_R12M\"                    \n",
      "[570] \"SVC_PROC_CCS_227_R12M\"                    \n",
      "[571] \"SVC_PROC_CCS_228_R12M\"                    \n",
      "[572] \"SVC_PROC_CCS_229_R12M\"                    \n",
      "[573] \"SVC_PROC_CCS_23_R12M\"                     \n",
      "[574] \"SVC_PROC_CCS_230_R12M\"                    \n",
      "[575] \"SVC_PROC_CCS_231_R12M\"                    \n",
      "[576] \"SVC_PROC_CCS_232_R12M\"                    \n",
      "[577] \"SVC_PROC_CCS_233_R12M\"                    \n",
      "[578] \"SVC_PROC_CCS_234_R12M\"                    \n",
      "[579] \"SVC_PROC_CCS_235_R12M\"                    \n",
      "[580] \"SVC_PROC_CCS_236_R12M\"                    \n",
      "[581] \"SVC_PROC_CCS_237_R12M\"                    \n",
      "[582] \"SVC_PROC_CCS_238_R12M\"                    \n",
      "[583] \"SVC_PROC_CCS_239_R12M\"                    \n",
      "[584] \"SVC_PROC_CCS_24_R12M\"                     \n",
      "[585] \"SVC_PROC_CCS_240_R12M\"                    \n",
      "[586] \"SVC_PROC_CCS_241_R12M\"                    \n",
      "[587] \"SVC_PROC_CCS_242_R12M\"                    \n",
      "[588] \"SVC_PROC_CCS_243_R12M\"                    \n",
      "[589] \"SVC_PROC_CCS_244_R12M\"                    \n",
      "[590] \"SVC_PROC_CCS_25_R12M\"                     \n",
      "[591] \"SVC_PROC_CCS_26_R12M\"                     \n",
      "[592] \"SVC_PROC_CCS_27_R12M\"                     \n",
      "[593] \"SVC_PROC_CCS_28_R12M\"                     \n",
      "[594] \"SVC_PROC_CCS_29_R12M\"                     \n",
      "[595] \"SVC_PROC_CCS_3_R12M\"                      \n",
      "[596] \"SVC_PROC_CCS_30_R12M\"                     \n",
      "[597] \"SVC_PROC_CCS_31_R12M\"                     \n",
      "[598] \"SVC_PROC_CCS_32_R12M\"                     \n",
      "[599] \"SVC_PROC_CCS_33_R12M\"                     \n",
      "[600] \"SVC_PROC_CCS_34_R12M\"                     \n",
      "[601] \"SVC_PROC_CCS_35_R12M\"                     \n",
      "[602] \"SVC_PROC_CCS_36_R12M\"                     \n",
      "[603] \"SVC_PROC_CCS_37_R12M\"                     \n",
      "[604] \"SVC_PROC_CCS_38_R12M\"                     \n",
      "[605] \"SVC_PROC_CCS_39_R12M\"                     \n",
      "[606] \"SVC_PROC_CCS_4_R12M\"                      \n",
      "[607] \"SVC_PROC_CCS_40_R12M\"                     \n",
      "[608] \"SVC_PROC_CCS_41_R12M\"                     \n",
      "[609] \"SVC_PROC_CCS_42_R12M\"                     \n",
      "[610] \"SVC_PROC_CCS_43_R12M\"                     \n",
      "[611] \"SVC_PROC_CCS_44_R12M\"                     \n",
      "[612] \"SVC_PROC_CCS_45_R12M\"                     \n",
      "[613] \"SVC_PROC_CCS_46_R12M\"                     \n",
      "[614] \"SVC_PROC_CCS_47_R12M\"                     \n",
      "[615] \"SVC_PROC_CCS_48_R12M\"                     \n",
      "[616] \"SVC_PROC_CCS_49_R12M\"                     \n",
      "[617] \"SVC_PROC_CCS_5_R12M\"                      \n",
      "[618] \"SVC_PROC_CCS_50_R12M\"                     \n",
      "[619] \"SVC_PROC_CCS_51_R12M\"                     \n",
      "[620] \"SVC_PROC_CCS_52_R12M\"                     \n",
      "[621] \"SVC_PROC_CCS_53_R12M\"                     \n",
      "[622] \"SVC_PROC_CCS_54_R12M\"                     \n",
      "[623] \"SVC_PROC_CCS_55_R12M\"                     \n",
      "[624] \"SVC_PROC_CCS_56_R12M\"                     \n",
      "[625] \"SVC_PROC_CCS_57_R12M\"                     \n",
      "[626] \"SVC_PROC_CCS_58_R12M\"                     \n",
      "[627] \"SVC_PROC_CCS_59_R12M\"                     \n",
      "[628] \"SVC_PROC_CCS_6_R12M\"                      \n",
      "[629] \"SVC_PROC_CCS_60_R12M\"                     \n",
      "[630] \"SVC_PROC_CCS_61_R12M\"                     \n",
      "[631] \"SVC_PROC_CCS_62_R12M\"                     \n",
      "[632] \"SVC_PROC_CCS_63_R12M\"                     \n",
      "[633] \"SVC_PROC_CCS_64_R12M\"                     \n",
      "[634] \"SVC_PROC_CCS_65_R12M\"                     \n",
      "[635] \"SVC_PROC_CCS_66_R12M\"                     \n",
      "[636] \"SVC_PROC_CCS_67_R12M\"                     \n",
      "[637] \"SVC_PROC_CCS_68_R12M\"                     \n",
      "[638] \"SVC_PROC_CCS_69_R12M\"                     \n",
      "[639] \"SVC_PROC_CCS_7_R12M\"                      \n",
      "[640] \"SVC_PROC_CCS_70_R12M\"                     \n",
      "[641] \"SVC_PROC_CCS_71_R12M\"                     \n",
      "[642] \"SVC_PROC_CCS_72_R12M\"                     \n",
      "[643] \"SVC_PROC_CCS_73_R12M\"                     \n",
      "[644] \"SVC_PROC_CCS_74_R12M\"                     \n",
      "[645] \"SVC_PROC_CCS_75_R12M\"                     \n",
      "[646] \"SVC_PROC_CCS_76_R12M\"                     \n",
      "[647] \"SVC_PROC_CCS_77_R12M\"                     \n",
      "[648] \"SVC_PROC_CCS_78_R12M\"                     \n",
      "[649] \"SVC_PROC_CCS_79_R12M\"                     \n",
      "[650] \"SVC_PROC_CCS_8_R12M\"                      \n",
      "[651] \"SVC_PROC_CCS_80_R12M\"                     \n",
      "[652] \"SVC_PROC_CCS_81_R12M\"                     \n",
      "[653] \"SVC_PROC_CCS_82_R12M\"                     \n",
      "[654] \"SVC_PROC_CCS_83_R12M\"                     \n",
      "[655] \"SVC_PROC_CCS_84_R12M\"                     \n",
      "[656] \"SVC_PROC_CCS_85_R12M\"                     \n",
      "[657] \"SVC_PROC_CCS_86_R12M\"                     \n",
      "[658] \"SVC_PROC_CCS_87_R12M\"                     \n",
      "[659] \"SVC_PROC_CCS_88_R12M\"                     \n",
      "[660] \"SVC_PROC_CCS_89_R12M\"                     \n",
      "[661] \"SVC_PROC_CCS_9_R12M\"                      \n",
      "[662] \"SVC_PROC_CCS_90_R12M\"                     \n",
      "[663] \"SVC_PROC_CCS_91_R12M\"                     \n",
      "[664] \"SVC_PROC_CCS_92_R12M\"                     \n",
      "[665] \"SVC_PROC_CCS_93_R12M\"                     \n",
      "[666] \"SVC_PROC_CCS_94_R12M\"                     \n",
      "[667] \"SVC_PROC_CCS_95_R12M\"                     \n",
      "[668] \"SVC_PROC_CCS_96_R12M\"                     \n",
      "[669] \"SVC_PROC_CCS_97_R12M\"                     \n",
      "[670] \"SVC_PROC_CCS_98_R12M\"                     \n",
      "[671] \"SVC_PROC_CCS_99_R12M\"                     \n",
      "[672] \"PLACE_OF_SVC_CD_01_R12M\"                  \n",
      "[673] \"PLACE_OF_SVC_CD_03_R12M\"                  \n",
      "[674] \"PLACE_OF_SVC_CD_04_R12M\"                  \n",
      "[675] \"PLACE_OF_SVC_CD_05_R12M\"                  \n",
      "[676] \"PLACE_OF_SVC_CD_06_R12M\"                  \n",
      "[677] \"PLACE_OF_SVC_CD_07_R12M\"                  \n",
      "[678] \"PLACE_OF_SVC_CD_08_R12M\"                  \n",
      "[679] \"PLACE_OF_SVC_CD_09_R12M\"                  \n",
      "[680] \"PLACE_OF_SVC_CD_11_R12M\"                  \n",
      "[681] \"PLACE_OF_SVC_CD_12_R12M\"                  \n",
      "[682] \"PLACE_OF_SVC_CD_13_R12M\"                  \n",
      "[683] \"PLACE_OF_SVC_CD_14_R12M\"                  \n",
      "[684] \"PLACE_OF_SVC_CD_15_R12M\"                  \n",
      "[685] \"PLACE_OF_SVC_CD_16_R12M\"                  \n",
      "[686] \"PLACE_OF_SVC_CD_17_R12M\"                  \n",
      "[687] \"PLACE_OF_SVC_CD_18_R12M\"                  \n",
      "[688] \"PLACE_OF_SVC_CD_20_R12M\"                  \n",
      "[689] \"PLACE_OF_SVC_CD_21_R12M\"                  \n",
      "[690] \"PLACE_OF_SVC_CD_22_R12M\"                  \n",
      "[691] \"PLACE_OF_SVC_CD_23_R12M\"                  \n",
      "[692] \"PLACE_OF_SVC_CD_24_R12M\"                  \n",
      "[693] \"PLACE_OF_SVC_CD_25_R12M\"                  \n",
      "[694] \"PLACE_OF_SVC_CD_26_R12M\"                  \n",
      "[695] \"PLACE_OF_SVC_CD_31_R12M\"                  \n",
      "[696] \"PLACE_OF_SVC_CD_32_R12M\"                  \n",
      "[697] \"PLACE_OF_SVC_CD_33_R12M\"                  \n",
      "[698] \"PLACE_OF_SVC_CD_34_R12M\"                  \n",
      "[699] \"PLACE_OF_SVC_CD_41_R12M\"                  \n",
      "[700] \"PLACE_OF_SVC_CD_42_R12M\"                  \n",
      "[701] \"PLACE_OF_SVC_CD_49_R12M\"                  \n",
      "[702] \"PLACE_OF_SVC_CD_50_R12M\"                  \n",
      "[703] \"PLACE_OF_SVC_CD_51_R12M\"                  \n",
      "[704] \"PLACE_OF_SVC_CD_52_R12M\"                  \n",
      "[705] \"PLACE_OF_SVC_CD_53_R12M\"                  \n",
      "[706] \"PLACE_OF_SVC_CD_54_R12M\"                  \n",
      "[707] \"PLACE_OF_SVC_CD_55_R12M\"                  \n",
      "[708] \"PLACE_OF_SVC_CD_56_R12M\"                  \n",
      "[709] \"PLACE_OF_SVC_CD_57_R12M\"                  \n",
      "[710] \"PLACE_OF_SVC_CD_60_R12M\"                  \n",
      "[711] \"PLACE_OF_SVC_CD_61_R12M\"                  \n",
      "[712] \"PLACE_OF_SVC_CD_62_R12M\"                  \n",
      "[713] \"PLACE_OF_SVC_CD_65_R12M\"                  \n",
      "[714] \"PLACE_OF_SVC_CD_71_R12M\"                  \n",
      "[715] \"PLACE_OF_SVC_CD_72_R12M\"                  \n",
      "[716] \"PLACE_OF_SVC_CD_81_R12M\"                  \n",
      "[717] \"PLACE_OF_SVC_CD_99_R12M\"                  \n",
      "[718] \"PLACE_OF_SVC_CD_Unknown_R12M\"             \n",
      "[719] \"IPLOS_R12M\"                               \n",
      "[720] \"IPLOS_R6M\"                                \n",
      "[721] \"ERCount_R12M\"                             \n",
      "[722] \"ERCount_R6M\"                              \n",
      "[723] \"OPCount_R12M\"                             \n",
      "[724] \"OPCount_R6M\"                              \n",
      "[725] \"log_medcost_R12M\"                         \n",
      "[726] \"med_cost_R12M\"                            \n",
      "[727] \"log_medcost_R6M\"                          \n",
      "[728] \"med_cost_R6M\"                             \n",
      "[729] \"log_medcost_F12M\"                         \n",
      "[730] \"med_cost_F12M\"                            \n"
     ]
    }
   ],
   "source": [
    "print(names(dt))"
   ]
  },
  {
   "cell_type": "code",
   "execution_count": 826,
   "metadata": {
    "hidden": true
   },
   "outputs": [
    {
     "data": {
      "text/plain": [
       "   Min. 1st Qu.  Median    Mean 3rd Qu.    Max.    NA's \n",
       "      1       1       1       1       1       1    9648 "
      ]
     },
     "metadata": {},
     "output_type": "display_data"
    }
   ],
   "source": [
    "summary(dt$case_subtype_core_cm_R12M)"
   ]
  },
  {
   "cell_type": "code",
   "execution_count": 827,
   "metadata": {
    "hidden": true
   },
   "outputs": [
    {
     "data": {
      "text/plain": [
       "   Min. 1st Qu.  Median    Mean 3rd Qu.    Max.    NA's \n",
       "      1       1       1       1       1       1   17484 "
      ]
     },
     "metadata": {},
     "output_type": "display_data"
    }
   ],
   "source": [
    "summary(dt$assess_unengaged_catastrophic_cm_R12M)"
   ]
  },
  {
   "cell_type": "code",
   "execution_count": 828,
   "metadata": {
    "hidden": true
   },
   "outputs": [
    {
     "data": {
      "text/html": [
       "<table>\n",
       "<thead><tr><th scope=col>case_subtype_core_short_cm_R12M</th><th scope=col>n</th></tr></thead>\n",
       "<tbody>\n",
       "\t<tr><td> 1   </td><td> 2012</td></tr>\n",
       "\t<tr><td>NA   </td><td>15501</td></tr>\n",
       "</tbody>\n",
       "</table>\n"
      ],
      "text/latex": [
       "\\begin{tabular}{r|ll}\n",
       " case\\_subtype\\_core\\_short\\_cm\\_R12M & n\\\\\n",
       "\\hline\n",
       "\t  1    &  2012\\\\\n",
       "\t NA    & 15501\\\\\n",
       "\\end{tabular}\n"
      ],
      "text/markdown": [
       "\n",
       "case_subtype_core_short_cm_R12M | n | \n",
       "|---|---|\n",
       "|  1    |  2012 | \n",
       "| NA    | 15501 | \n",
       "\n",
       "\n"
      ],
      "text/plain": [
       "  case_subtype_core_short_cm_R12M n    \n",
       "1  1                               2012\n",
       "2 NA                              15501"
      ]
     },
     "metadata": {},
     "output_type": "display_data"
    }
   ],
   "source": [
    "count(dt,case_subtype_core_short_cm_R12M)"
   ]
  },
  {
   "cell_type": "code",
   "execution_count": 830,
   "metadata": {
    "hidden": true
   },
   "outputs": [
    {
     "data": {
      "text/html": [
       "<table>\n",
       "<thead><tr><th scope=col>case_subtype_core_short_cm_R12M</th><th scope=col>assess_engaged_core_short_cm_R12M</th><th scope=col>assess_unengaged_core_short_cm_R12M</th><th scope=col>assess_other_core_short_cm_R12M</th></tr></thead>\n",
       "<tbody>\n",
       "\t<tr><td>NA </td><td>  0</td><td>  0</td><td>  0</td></tr>\n",
       "\t<tr><td> 1 </td><td>919</td><td>359</td><td>905</td></tr>\n",
       "</tbody>\n",
       "</table>\n"
      ],
      "text/latex": [
       "\\begin{tabular}{r|llll}\n",
       " case\\_subtype\\_core\\_short\\_cm\\_R12M & assess\\_engaged\\_core\\_short\\_cm\\_R12M & assess\\_unengaged\\_core\\_short\\_cm\\_R12M & assess\\_other\\_core\\_short\\_cm\\_R12M\\\\\n",
       "\\hline\n",
       "\t NA  &   0 &   0 &   0\\\\\n",
       "\t  1  & 919 & 359 & 905\\\\\n",
       "\\end{tabular}\n"
      ],
      "text/markdown": [
       "\n",
       "case_subtype_core_short_cm_R12M | assess_engaged_core_short_cm_R12M | assess_unengaged_core_short_cm_R12M | assess_other_core_short_cm_R12M | \n",
       "|---|---|\n",
       "| NA  |   0 |   0 |   0 | \n",
       "|  1  | 919 | 359 | 905 | \n",
       "\n",
       "\n"
      ],
      "text/plain": [
       "  case_subtype_core_short_cm_R12M assess_engaged_core_short_cm_R12M\n",
       "1 NA                                0                              \n",
       "2  1                              919                              \n",
       "  assess_unengaged_core_short_cm_R12M assess_other_core_short_cm_R12M\n",
       "1   0                                   0                            \n",
       "2 359                                 905                            "
      ]
     },
     "metadata": {},
     "output_type": "display_data"
    }
   ],
   "source": [
    "dt[,lapply(.SD,sum, na.rm=T),\n",
    "          by=list(case_subtype_core_short_cm_R12M),\n",
    "          #by=.(risky_highcost=(Probability_high_medcost_F12M>0.2)),\n",
    "          .SDcols=grep(\"assess_.*_core_short_cm_R12M\", names(dt),value = T)\n",
    "         ]"
   ]
  },
  {
   "cell_type": "code",
   "execution_count": 842,
   "metadata": {
    "hidden": true
   },
   "outputs": [
    {
     "data": {
      "text/html": [
       "<table>\n",
       "<thead><tr><th scope=col>case_subtype_core_cm_R12M</th><th scope=col>case_subtype_population</th><th scope=col>assess_engaged</th><th scope=col>assess_unengaged</th><th scope=col>assess_other</th><th scope=col>unassessed</th></tr></thead>\n",
       "<tbody>\n",
       "\t<tr><td> 1  </td><td>7865</td><td>976 </td><td>509 </td><td>709 </td><td>5964</td></tr>\n",
       "\t<tr><td>NA  </td><td>9648</td><td>  0 </td><td>  0 </td><td>  0 </td><td>9648</td></tr>\n",
       "</tbody>\n",
       "</table>\n"
      ],
      "text/latex": [
       "\\begin{tabular}{r|llllll}\n",
       " case\\_subtype\\_core\\_cm\\_R12M & case\\_subtype\\_population & assess\\_engaged & assess\\_unengaged & assess\\_other & unassessed\\\\\n",
       "\\hline\n",
       "\t  1   & 7865 & 976  & 509  & 709  & 5964\\\\\n",
       "\t NA   & 9648 &   0  &   0  &   0  & 9648\\\\\n",
       "\\end{tabular}\n"
      ],
      "text/markdown": [
       "\n",
       "case_subtype_core_cm_R12M | case_subtype_population | assess_engaged | assess_unengaged | assess_other | unassessed | \n",
       "|---|---|\n",
       "|  1   | 7865 | 976  | 509  | 709  | 5964 | \n",
       "| NA   | 9648 |   0  |   0  |   0  | 9648 | \n",
       "\n",
       "\n"
      ],
      "text/plain": [
       "  case_subtype_core_cm_R12M case_subtype_population assess_engaged\n",
       "1  1                        7865                    976           \n",
       "2 NA                        9648                      0           \n",
       "  assess_unengaged assess_other unassessed\n",
       "1 509              709          5964      \n",
       "2   0                0          9648      "
      ]
     },
     "metadata": {},
     "output_type": "display_data"
    }
   ],
   "source": [
    "dt[,list(case_subtype_population=length(origId[case_subtype_core_cm_R12M==1]),\n",
    "         assess_engaged=sum(assess_engaged_core_cm_R12M==1,na.rm = T),\n",
    "         assess_unengaged=sum(assess_unengaged_core_cm_R12M==1,na.rm=T),\n",
    "         assess_other=sum(assess_other_core_cm_R12M==1,na.rm = T),\n",
    "         unassessed=length(origId[is.na(assess_engaged_core_cm_R12M) & \n",
    "                                  is.na(assess_unengaged_core_cm_R12M) &\n",
    "                                  is.na(assess_other_core_cm_R12M)])\n",
    "                                  \n",
    "        ),\n",
    "   by=.(case_subtype_core_cm_R12M)\n",
    "  ]"
   ]
  },
  {
   "cell_type": "code",
   "execution_count": 841,
   "metadata": {
    "hidden": true
   },
   "outputs": [
    {
     "data": {
      "text/html": [
       "<table>\n",
       "<thead><tr><th scope=col>case_subtype_core_short_cm_R12M</th><th scope=col>case_subtype_population</th><th scope=col>assess_engaged</th><th scope=col>assess_unengaged</th><th scope=col>assess_other</th><th scope=col>unassessed</th></tr></thead>\n",
       "<tbody>\n",
       "\t<tr><td>NA   </td><td>15501</td><td>  0  </td><td>  0  </td><td>  0  </td><td>15501</td></tr>\n",
       "\t<tr><td> 1   </td><td> 2012</td><td>919  </td><td>359  </td><td>905  </td><td>    1</td></tr>\n",
       "</tbody>\n",
       "</table>\n"
      ],
      "text/latex": [
       "\\begin{tabular}{r|llllll}\n",
       " case\\_subtype\\_core\\_short\\_cm\\_R12M & case\\_subtype\\_population & assess\\_engaged & assess\\_unengaged & assess\\_other & unassessed\\\\\n",
       "\\hline\n",
       "\t NA    & 15501 &   0   &   0   &   0   & 15501\\\\\n",
       "\t  1    &  2012 & 919   & 359   & 905   &     1\\\\\n",
       "\\end{tabular}\n"
      ],
      "text/markdown": [
       "\n",
       "case_subtype_core_short_cm_R12M | case_subtype_population | assess_engaged | assess_unengaged | assess_other | unassessed | \n",
       "|---|---|\n",
       "| NA    | 15501 |   0   |   0   |   0   | 15501 | \n",
       "|  1    |  2012 | 919   | 359   | 905   |     1 | \n",
       "\n",
       "\n"
      ],
      "text/plain": [
       "  case_subtype_core_short_cm_R12M case_subtype_population assess_engaged\n",
       "1 NA                              15501                     0           \n",
       "2  1                               2012                   919           \n",
       "  assess_unengaged assess_other unassessed\n",
       "1   0                0          15501     \n",
       "2 359              905              1     "
      ]
     },
     "metadata": {},
     "output_type": "display_data"
    }
   ],
   "source": [
    "dt[,list(case_subtype_population=length(origId[case_subtype_core_short_cm_R12M==1]),\n",
    "         assess_engaged=sum(assess_engaged_core_short_cm_R12M==1,na.rm = T),\n",
    "         assess_unengaged=sum(assess_unengaged_core_short_cm_R12M==1,na.rm=T),\n",
    "         assess_other=sum(assess_other_core_short_cm_R12M==1,na.rm = T),\n",
    "         unassessed=length(origId[is.na(assess_engaged_core_short_cm_R12M) & \n",
    "                                  is.na(assess_unengaged_core_short_cm_R12M) &\n",
    "                                  is.na(assess_other_core_short_cm_R12M)])\n",
    "                                  \n",
    "        ),\n",
    "   by=.(case_subtype_core_short_cm_R12M)\n",
    "  ]"
   ]
  },
  {
   "cell_type": "code",
   "execution_count": 843,
   "metadata": {
    "hidden": true
   },
   "outputs": [
    {
     "data": {
      "text/html": [
       "<table>\n",
       "<thead><tr><th scope=col>case_subtype_core_oncology_R12M</th><th scope=col>case_subtype_population</th><th scope=col>assess_engaged</th><th scope=col>assess_unengaged</th><th scope=col>assess_other</th><th scope=col>unassessed</th></tr></thead>\n",
       "<tbody>\n",
       "\t<tr><td>NA   </td><td>16422</td><td>  0  </td><td>  0  </td><td>  0  </td><td>16422</td></tr>\n",
       "\t<tr><td> 1   </td><td> 1091</td><td>327  </td><td>342  </td><td>419  </td><td>  168</td></tr>\n",
       "</tbody>\n",
       "</table>\n"
      ],
      "text/latex": [
       "\\begin{tabular}{r|llllll}\n",
       " case\\_subtype\\_core\\_oncology\\_R12M & case\\_subtype\\_population & assess\\_engaged & assess\\_unengaged & assess\\_other & unassessed\\\\\n",
       "\\hline\n",
       "\t NA    & 16422 &   0   &   0   &   0   & 16422\\\\\n",
       "\t  1    &  1091 & 327   & 342   & 419   &   168\\\\\n",
       "\\end{tabular}\n"
      ],
      "text/markdown": [
       "\n",
       "case_subtype_core_oncology_R12M | case_subtype_population | assess_engaged | assess_unengaged | assess_other | unassessed | \n",
       "|---|---|\n",
       "| NA    | 16422 |   0   |   0   |   0   | 16422 | \n",
       "|  1    |  1091 | 327   | 342   | 419   |   168 | \n",
       "\n",
       "\n"
      ],
      "text/plain": [
       "  case_subtype_core_oncology_R12M case_subtype_population assess_engaged\n",
       "1 NA                              16422                     0           \n",
       "2  1                               1091                   327           \n",
       "  assess_unengaged assess_other unassessed\n",
       "1   0                0          16422     \n",
       "2 342              419            168     "
      ]
     },
     "metadata": {},
     "output_type": "display_data"
    }
   ],
   "source": [
    "dt[,list(case_subtype_population=length(origId[case_subtype_core_oncology_R12M==1]),\n",
    "         assess_engaged=sum(assess_engaged_core_oncology_R12M==1,na.rm = T),\n",
    "         assess_unengaged=sum(assess_unengaged_core_oncology_R12M==1,na.rm=T),\n",
    "         assess_other=sum(assess_other_core_oncology_R12M==1,na.rm = T),\n",
    "         unassessed=length(origId[is.na(assess_engaged_core_oncology_R12M) & \n",
    "                                  is.na(assess_unengaged_core_oncology_R12M) &\n",
    "                                  is.na(assess_other_core_oncology_R12M)])\n",
    "                                  \n",
    "        ),\n",
    "   by=.(case_subtype_core_oncology_R12M)\n",
    "  ]"
   ]
  },
  {
   "cell_type": "code",
   "execution_count": 844,
   "metadata": {
    "hidden": true
   },
   "outputs": [
    {
     "data": {
      "text/html": [
       "<table>\n",
       "<thead><tr><th scope=col>case_subtype_other_merged_R12M</th><th scope=col>case_subtype_population</th><th scope=col>assess_engaged</th><th scope=col>assess_unengaged</th><th scope=col>assess_other</th><th scope=col>unassessed</th></tr></thead>\n",
       "<tbody>\n",
       "\t<tr><td>NA   </td><td>16720</td><td> 18  </td><td>147  </td><td>66   </td><td>16503</td></tr>\n",
       "\t<tr><td> 1   </td><td>  793</td><td>275  </td><td> 71  </td><td>97   </td><td>  382</td></tr>\n",
       "</tbody>\n",
       "</table>\n"
      ],
      "text/latex": [
       "\\begin{tabular}{r|llllll}\n",
       " case\\_subtype\\_other\\_merged\\_R12M & case\\_subtype\\_population & assess\\_engaged & assess\\_unengaged & assess\\_other & unassessed\\\\\n",
       "\\hline\n",
       "\t NA    & 16720 &  18   & 147   & 66    & 16503\\\\\n",
       "\t  1    &   793 & 275   &  71   & 97    &   382\\\\\n",
       "\\end{tabular}\n"
      ],
      "text/markdown": [
       "\n",
       "case_subtype_other_merged_R12M | case_subtype_population | assess_engaged | assess_unengaged | assess_other | unassessed | \n",
       "|---|---|\n",
       "| NA    | 16720 |  18   | 147   | 66    | 16503 | \n",
       "|  1    |   793 | 275   |  71   | 97    |   382 | \n",
       "\n",
       "\n"
      ],
      "text/plain": [
       "  case_subtype_other_merged_R12M case_subtype_population assess_engaged\n",
       "1 NA                             16720                    18           \n",
       "2  1                               793                   275           \n",
       "  assess_unengaged assess_other unassessed\n",
       "1 147              66           16503     \n",
       "2  71              97             382     "
      ]
     },
     "metadata": {},
     "output_type": "display_data"
    }
   ],
   "source": [
    "dt[,list(case_subtype_population=length(origId[case_subtype_other_merged_R12M==1]),\n",
    "         assess_engaged=sum(assess_engaged_other_merged_R12M==1,na.rm = T),\n",
    "         assess_unengaged=sum(assess_unengaged_other_merged_R12M==1,na.rm=T),\n",
    "         assess_other=sum(assess_other_other_merged_R12M==1,na.rm = T),\n",
    "         unassessed=length(origId[is.na(assess_engaged_other_merged_R12M) & \n",
    "                                  is.na(assess_unengaged_other_merged_R12M) &\n",
    "                                  is.na(assess_other_other_merged_R12M)])\n",
    "                                  \n",
    "        ),\n",
    "   by=.(case_subtype_other_merged_R12M)\n",
    "  ]"
   ]
  },
  {
   "cell_type": "code",
   "execution_count": 845,
   "metadata": {
    "hidden": true
   },
   "outputs": [
    {
     "data": {
      "text/html": [
       "<table>\n",
       "<thead><tr><th scope=col>case_subtype_transplant_R12M</th><th scope=col>case_subtype_population</th><th scope=col>assess_engaged</th><th scope=col>assess_unengaged</th><th scope=col>assess_other</th><th scope=col>unassessed</th></tr></thead>\n",
       "<tbody>\n",
       "\t<tr><td>NA   </td><td>17068</td><td>  0  </td><td> 0   </td><td>  0  </td><td>17068</td></tr>\n",
       "\t<tr><td> 1   </td><td>  445</td><td>252  </td><td>52   </td><td>241  </td><td>    0</td></tr>\n",
       "</tbody>\n",
       "</table>\n"
      ],
      "text/latex": [
       "\\begin{tabular}{r|llllll}\n",
       " case\\_subtype\\_transplant\\_R12M & case\\_subtype\\_population & assess\\_engaged & assess\\_unengaged & assess\\_other & unassessed\\\\\n",
       "\\hline\n",
       "\t NA    & 17068 &   0   &  0    &   0   & 17068\\\\\n",
       "\t  1    &   445 & 252   & 52    & 241   &     0\\\\\n",
       "\\end{tabular}\n"
      ],
      "text/markdown": [
       "\n",
       "case_subtype_transplant_R12M | case_subtype_population | assess_engaged | assess_unengaged | assess_other | unassessed | \n",
       "|---|---|\n",
       "| NA    | 17068 |   0   |  0    |   0   | 17068 | \n",
       "|  1    |   445 | 252   | 52    | 241   |     0 | \n",
       "\n",
       "\n"
      ],
      "text/plain": [
       "  case_subtype_transplant_R12M case_subtype_population assess_engaged\n",
       "1 NA                           17068                     0           \n",
       "2  1                             445                   252           \n",
       "  assess_unengaged assess_other unassessed\n",
       "1  0                 0          17068     \n",
       "2 52               241              0     "
      ]
     },
     "metadata": {},
     "output_type": "display_data"
    }
   ],
   "source": [
    "dt[,list(case_subtype_population=length(origId[case_subtype_transplant_R12M==1]),\n",
    "         assess_engaged=sum(assess_engaged_transplant_R12M==1,na.rm = T),\n",
    "         assess_unengaged=sum(assess_unengaged_transplant_R12M==1,na.rm=T),\n",
    "         assess_other=sum(assess_other_transplant_R12M==1,na.rm = T),\n",
    "         unassessed=length(origId[is.na(assess_engaged_transplant_R12M) & \n",
    "                                  is.na(assess_unengaged_transplant_R12M) &\n",
    "                                  is.na(assess_other_transplant_R12M)])\n",
    "                                  \n",
    "        ),\n",
    "   by=.(case_subtype_transplant_R12M)\n",
    "  ]"
   ]
  },
  {
   "cell_type": "code",
   "execution_count": 846,
   "metadata": {
    "hidden": true
   },
   "outputs": [
    {
     "data": {
      "text/html": [
       "<table>\n",
       "<thead><tr><th scope=col>case_subtype_comp_oncology_R12M</th><th scope=col>case_subtype_population</th><th scope=col>assess_engaged</th><th scope=col>assess_unengaged</th><th scope=col>assess_other</th><th scope=col>unassessed</th></tr></thead>\n",
       "<tbody>\n",
       "\t<tr><td>NA   </td><td>14260</td><td>  0  </td><td>   0 </td><td>   0 </td><td>14260</td></tr>\n",
       "\t<tr><td> 1   </td><td> 3253</td><td>248  </td><td>1732 </td><td>1791 </td><td>    1</td></tr>\n",
       "</tbody>\n",
       "</table>\n"
      ],
      "text/latex": [
       "\\begin{tabular}{r|llllll}\n",
       " case\\_subtype\\_comp\\_oncology\\_R12M & case\\_subtype\\_population & assess\\_engaged & assess\\_unengaged & assess\\_other & unassessed\\\\\n",
       "\\hline\n",
       "\t NA    & 14260 &   0   &    0  &    0  & 14260\\\\\n",
       "\t  1    &  3253 & 248   & 1732  & 1791  &     1\\\\\n",
       "\\end{tabular}\n"
      ],
      "text/markdown": [
       "\n",
       "case_subtype_comp_oncology_R12M | case_subtype_population | assess_engaged | assess_unengaged | assess_other | unassessed | \n",
       "|---|---|\n",
       "| NA    | 14260 |   0   |    0  |    0  | 14260 | \n",
       "|  1    |  3253 | 248   | 1732  | 1791  |     1 | \n",
       "\n",
       "\n"
      ],
      "text/plain": [
       "  case_subtype_comp_oncology_R12M case_subtype_population assess_engaged\n",
       "1 NA                              14260                     0           \n",
       "2  1                               3253                   248           \n",
       "  assess_unengaged assess_other unassessed\n",
       "1    0                0         14260     \n",
       "2 1732             1791             1     "
      ]
     },
     "metadata": {},
     "output_type": "display_data"
    }
   ],
   "source": [
    "dt[,list(case_subtype_population=length(origId[case_subtype_comp_oncology_R12M==1]),\n",
    "         assess_engaged=sum(assess_engaged_comp_oncology_R12M==1,na.rm = T),\n",
    "         assess_unengaged=sum(assess_unengaged_comp_oncology_R12M==1,na.rm=T),\n",
    "         assess_other=sum(assess_other_comp_oncology_R12M==1,na.rm = T),\n",
    "         unassessed=length(origId[is.na(assess_engaged_comp_oncology_R12M) & \n",
    "                                  is.na(assess_unengaged_comp_oncology_R12M) &\n",
    "                                  is.na(assess_other_comp_oncology_R12M)])\n",
    "                                  \n",
    "        ),\n",
    "   by=.(case_subtype_comp_oncology_R12M)\n",
    "  ]"
   ]
  },
  {
   "cell_type": "code",
   "execution_count": 847,
   "metadata": {
    "hidden": true
   },
   "outputs": [
    {
     "data": {
      "text/html": [
       "<table>\n",
       "<thead><tr><th scope=col>case_subtype_inpatient_cm_R12M</th><th scope=col>case_subtype_population</th><th scope=col>assess_engaged</th><th scope=col>assess_unengaged</th><th scope=col>assess_other</th><th scope=col>unassessed</th></tr></thead>\n",
       "<tbody>\n",
       "\t<tr><td>NA   </td><td>16360</td><td> 0   </td><td> 0   </td><td> 0   </td><td>16360</td></tr>\n",
       "\t<tr><td> 1   </td><td> 1153</td><td>91   </td><td>69   </td><td>91   </td><td>  930</td></tr>\n",
       "</tbody>\n",
       "</table>\n"
      ],
      "text/latex": [
       "\\begin{tabular}{r|llllll}\n",
       " case\\_subtype\\_inpatient\\_cm\\_R12M & case\\_subtype\\_population & assess\\_engaged & assess\\_unengaged & assess\\_other & unassessed\\\\\n",
       "\\hline\n",
       "\t NA    & 16360 &  0    &  0    &  0    & 16360\\\\\n",
       "\t  1    &  1153 & 91    & 69    & 91    &   930\\\\\n",
       "\\end{tabular}\n"
      ],
      "text/markdown": [
       "\n",
       "case_subtype_inpatient_cm_R12M | case_subtype_population | assess_engaged | assess_unengaged | assess_other | unassessed | \n",
       "|---|---|\n",
       "| NA    | 16360 |  0    |  0    |  0    | 16360 | \n",
       "|  1    |  1153 | 91    | 69    | 91    |   930 | \n",
       "\n",
       "\n"
      ],
      "text/plain": [
       "  case_subtype_inpatient_cm_R12M case_subtype_population assess_engaged\n",
       "1 NA                             16360                    0            \n",
       "2  1                              1153                   91            \n",
       "  assess_unengaged assess_other unassessed\n",
       "1  0                0           16360     \n",
       "2 69               91             930     "
      ]
     },
     "metadata": {},
     "output_type": "display_data"
    }
   ],
   "source": [
    "dt[,list(case_subtype_population=length(origId[case_subtype_inpatient_cm_R12M==1]),\n",
    "         assess_engaged=sum(assess_engaged_inpatient_cm_R12M==1,na.rm = T),\n",
    "         assess_unengaged=sum(assess_unengaged_inpatient_cm_R12M==1,na.rm=T),\n",
    "         assess_other=sum(assess_other_inpatient_cm_R12M==1,na.rm = T),\n",
    "         unassessed=length(origId[is.na(assess_engaged_inpatient_cm_R12M) & \n",
    "                                  is.na(assess_unengaged_inpatient_cm_R12M) &\n",
    "                                  is.na(assess_other_inpatient_cm_R12M)])\n",
    "                                  \n",
    "        ),\n",
    "   by=.(case_subtype_inpatient_cm_R12M)\n",
    "  ]"
   ]
  },
  {
   "cell_type": "code",
   "execution_count": 848,
   "metadata": {
    "hidden": true
   },
   "outputs": [
    {
     "data": {
      "text/html": [
       "<table>\n",
       "<thead><tr><th scope=col>case_subtype_catastrophic_cm_R12M</th><th scope=col>case_subtype_population</th><th scope=col>assess_engaged</th><th scope=col>assess_unengaged</th><th scope=col>assess_other</th><th scope=col>unassessed</th></tr></thead>\n",
       "<tbody>\n",
       "\t<tr><td>NA   </td><td>17345</td><td> 0   </td><td> 0   </td><td> 0   </td><td>17345</td></tr>\n",
       "\t<tr><td> 1   </td><td>  168</td><td>72   </td><td>29   </td><td>66   </td><td>   27</td></tr>\n",
       "</tbody>\n",
       "</table>\n"
      ],
      "text/latex": [
       "\\begin{tabular}{r|llllll}\n",
       " case\\_subtype\\_catastrophic\\_cm\\_R12M & case\\_subtype\\_population & assess\\_engaged & assess\\_unengaged & assess\\_other & unassessed\\\\\n",
       "\\hline\n",
       "\t NA    & 17345 &  0    &  0    &  0    & 17345\\\\\n",
       "\t  1    &   168 & 72    & 29    & 66    &    27\\\\\n",
       "\\end{tabular}\n"
      ],
      "text/markdown": [
       "\n",
       "case_subtype_catastrophic_cm_R12M | case_subtype_population | assess_engaged | assess_unengaged | assess_other | unassessed | \n",
       "|---|---|\n",
       "| NA    | 17345 |  0    |  0    |  0    | 17345 | \n",
       "|  1    |   168 | 72    | 29    | 66    |    27 | \n",
       "\n",
       "\n"
      ],
      "text/plain": [
       "  case_subtype_catastrophic_cm_R12M case_subtype_population assess_engaged\n",
       "1 NA                                17345                    0            \n",
       "2  1                                  168                   72            \n",
       "  assess_unengaged assess_other unassessed\n",
       "1  0                0           17345     \n",
       "2 29               66              27     "
      ]
     },
     "metadata": {},
     "output_type": "display_data"
    }
   ],
   "source": [
    "dt[,list(case_subtype_population=length(origId[case_subtype_catastrophic_cm_R12M==1]),\n",
    "         assess_engaged=sum(assess_engaged_catastrophic_cm_R12M==1,na.rm = T),\n",
    "         assess_unengaged=sum(assess_unengaged_catastrophic_cm_R12M==1,na.rm=T),\n",
    "         assess_other=sum(assess_other_catastrophic_cm_R12M==1,na.rm = T),\n",
    "         unassessed=length(origId[is.na(assess_engaged_catastrophic_cm_R12M) & \n",
    "                                  is.na(assess_unengaged_catastrophic_cm_R12M) &\n",
    "                                  is.na(assess_other_catastrophic_cm_R12M)])\n",
    "                                  \n",
    "        ),\n",
    "   by=.(case_subtype_catastrophic_cm_R12M)\n",
    "  ]"
   ]
  },
  {
   "cell_type": "code",
   "execution_count": 849,
   "metadata": {
    "hidden": true
   },
   "outputs": [
    {
     "data": {
      "text/html": [
       "<table>\n",
       "<thead><tr><th scope=col>case_subtype_high_risk_maternity_R12M</th><th scope=col>case_subtype_population</th><th scope=col>assess_engaged</th><th scope=col>assess_unengaged</th><th scope=col>assess_other</th><th scope=col>unassessed</th></tr></thead>\n",
       "<tbody>\n",
       "\t<tr><td>NA   </td><td>17026</td><td> 0   </td><td>  0  </td><td>  0  </td><td>17026</td></tr>\n",
       "\t<tr><td> 1   </td><td>  487</td><td>72   </td><td>107  </td><td>337  </td><td>    0</td></tr>\n",
       "</tbody>\n",
       "</table>\n"
      ],
      "text/latex": [
       "\\begin{tabular}{r|llllll}\n",
       " case\\_subtype\\_high\\_risk\\_maternity\\_R12M & case\\_subtype\\_population & assess\\_engaged & assess\\_unengaged & assess\\_other & unassessed\\\\\n",
       "\\hline\n",
       "\t NA    & 17026 &  0    &   0   &   0   & 17026\\\\\n",
       "\t  1    &   487 & 72    & 107   & 337   &     0\\\\\n",
       "\\end{tabular}\n"
      ],
      "text/markdown": [
       "\n",
       "case_subtype_high_risk_maternity_R12M | case_subtype_population | assess_engaged | assess_unengaged | assess_other | unassessed | \n",
       "|---|---|\n",
       "| NA    | 17026 |  0    |   0   |   0   | 17026 | \n",
       "|  1    |   487 | 72    | 107   | 337   |     0 | \n",
       "\n",
       "\n"
      ],
      "text/plain": [
       "  case_subtype_high_risk_maternity_R12M case_subtype_population assess_engaged\n",
       "1 NA                                    17026                    0            \n",
       "2  1                                      487                   72            \n",
       "  assess_unengaged assess_other unassessed\n",
       "1   0                0          17026     \n",
       "2 107              337              0     "
      ]
     },
     "metadata": {},
     "output_type": "display_data"
    }
   ],
   "source": [
    "dt[,list(case_subtype_population=length(origId[case_subtype_high_risk_maternity_R12M==1]),\n",
    "         assess_engaged=sum(assess_engaged_high_risk_maternity_R12M==1,na.rm = T),\n",
    "         assess_unengaged=sum(assess_unengaged_high_risk_maternity_R12M==1,na.rm=T),\n",
    "         assess_other=sum(assess_other_high_risk_maternity_R12M==1,na.rm = T),\n",
    "         unassessed=length(origId[is.na(assess_engaged_high_risk_maternity_R12M) & \n",
    "                                  is.na(assess_unengaged_high_risk_maternity_R12M) &\n",
    "                                  is.na(assess_other_high_risk_maternity_R12M)])\n",
    "                                  \n",
    "        ),\n",
    "   by=.(case_subtype_high_risk_maternity_R12M)\n",
    "  ]"
   ]
  },
  {
   "cell_type": "code",
   "execution_count": 850,
   "metadata": {
    "hidden": true
   },
   "outputs": [
    {
     "data": {
      "text/html": [
       "<table>\n",
       "<thead><tr><th scope=col>case_subtype_ckd_R12M</th><th scope=col>case_subtype_population</th><th scope=col>assess_engaged</th><th scope=col>assess_unengaged</th><th scope=col>assess_other</th><th scope=col>unassessed</th></tr></thead>\n",
       "<tbody>\n",
       "\t<tr><td>NA   </td><td>17292</td><td> 0   </td><td>  0  </td><td> 0   </td><td>17292</td></tr>\n",
       "\t<tr><td> 1   </td><td>  221</td><td>70   </td><td>153  </td><td>37   </td><td>    8</td></tr>\n",
       "</tbody>\n",
       "</table>\n"
      ],
      "text/latex": [
       "\\begin{tabular}{r|llllll}\n",
       " case\\_subtype\\_ckd\\_R12M & case\\_subtype\\_population & assess\\_engaged & assess\\_unengaged & assess\\_other & unassessed\\\\\n",
       "\\hline\n",
       "\t NA    & 17292 &  0    &   0   &  0    & 17292\\\\\n",
       "\t  1    &   221 & 70    & 153   & 37    &     8\\\\\n",
       "\\end{tabular}\n"
      ],
      "text/markdown": [
       "\n",
       "case_subtype_ckd_R12M | case_subtype_population | assess_engaged | assess_unengaged | assess_other | unassessed | \n",
       "|---|---|\n",
       "| NA    | 17292 |  0    |   0   |  0    | 17292 | \n",
       "|  1    |   221 | 70    | 153   | 37    |     8 | \n",
       "\n",
       "\n"
      ],
      "text/plain": [
       "  case_subtype_ckd_R12M case_subtype_population assess_engaged assess_unengaged\n",
       "1 NA                    17292                    0               0             \n",
       "2  1                      221                   70             153             \n",
       "  assess_other unassessed\n",
       "1  0           17292     \n",
       "2 37               8     "
      ]
     },
     "metadata": {},
     "output_type": "display_data"
    }
   ],
   "source": [
    "dt[,list(case_subtype_population=length(origId[case_subtype_ckd_R12M==1]),\n",
    "         assess_engaged=sum(assess_engaged_ckd_R12M==1,na.rm = T),\n",
    "         assess_unengaged=sum(assess_unengaged_ckd_R12M==1,na.rm=T),\n",
    "         assess_other=sum(assess_other_ckd_R12M==1,na.rm = T),\n",
    "         unassessed=length(origId[is.na(assess_engaged_ckd_R12M) & \n",
    "                                  is.na(assess_unengaged_ckd_R12M) &\n",
    "                                  is.na(assess_other_ckd_R12M)])\n",
    "                                  \n",
    "        ),\n",
    "   by=.(case_subtype_ckd_R12M)\n",
    "  ]"
   ]
  },
  {
   "cell_type": "code",
   "execution_count": 851,
   "metadata": {
    "hidden": true
   },
   "outputs": [
    {
     "data": {
      "text/html": [
       "<table>\n",
       "<thead><tr><th scope=col>case_subtype_hphb_min_mod_risk_R12M</th><th scope=col>case_subtype_population</th><th scope=col>assess_engaged</th><th scope=col>assess_unengaged</th><th scope=col>assess_other</th><th scope=col>unassessed</th></tr></thead>\n",
       "<tbody>\n",
       "\t<tr><td>NA   </td><td>16580</td><td> 0   </td><td>0    </td><td> 0   </td><td>16580</td></tr>\n",
       "\t<tr><td> 1   </td><td>  933</td><td>54   </td><td>2    </td><td>58   </td><td>  822</td></tr>\n",
       "</tbody>\n",
       "</table>\n"
      ],
      "text/latex": [
       "\\begin{tabular}{r|llllll}\n",
       " case\\_subtype\\_hphb\\_min\\_mod\\_risk\\_R12M & case\\_subtype\\_population & assess\\_engaged & assess\\_unengaged & assess\\_other & unassessed\\\\\n",
       "\\hline\n",
       "\t NA    & 16580 &  0    & 0     &  0    & 16580\\\\\n",
       "\t  1    &   933 & 54    & 2     & 58    &   822\\\\\n",
       "\\end{tabular}\n"
      ],
      "text/markdown": [
       "\n",
       "case_subtype_hphb_min_mod_risk_R12M | case_subtype_population | assess_engaged | assess_unengaged | assess_other | unassessed | \n",
       "|---|---|\n",
       "| NA    | 16580 |  0    | 0     |  0    | 16580 | \n",
       "|  1    |   933 | 54    | 2     | 58    |   822 | \n",
       "\n",
       "\n"
      ],
      "text/plain": [
       "  case_subtype_hphb_min_mod_risk_R12M case_subtype_population assess_engaged\n",
       "1 NA                                  16580                    0            \n",
       "2  1                                    933                   54            \n",
       "  assess_unengaged assess_other unassessed\n",
       "1 0                 0           16580     \n",
       "2 2                58             822     "
      ]
     },
     "metadata": {},
     "output_type": "display_data"
    }
   ],
   "source": [
    "dt[,list(case_subtype_population=length(origId[case_subtype_hphb_min_mod_risk_R12M==1]),\n",
    "         assess_engaged=sum(assess_engaged_hphb_min_mod_risk_R12M==1,na.rm = T),\n",
    "         assess_unengaged=sum(assess_unengaged_hphb_min_mod_risk_R12M==1,na.rm=T),\n",
    "         assess_other=sum(assess_other_hphb_min_mod_risk_R12M==1,na.rm = T),\n",
    "         unassessed=length(origId[is.na(assess_engaged_hphb_min_mod_risk_R12M) & \n",
    "                                  is.na(assess_unengaged_hphb_min_mod_risk_R12M) &\n",
    "                                  is.na(assess_other_hphb_min_mod_risk_R12M)])\n",
    "                                  \n",
    "        ),\n",
    "   by=.(case_subtype_hphb_min_mod_risk_R12M)\n",
    "  ]"
   ]
  },
  {
   "cell_type": "code",
   "execution_count": 852,
   "metadata": {
    "hidden": true
   },
   "outputs": [
    {
     "data": {
      "text/html": [
       "<table>\n",
       "<thead><tr><th scope=col>case_subtype_hphb_high_risk_R12M</th><th scope=col>case_subtype_population</th><th scope=col>assess_engaged</th><th scope=col>assess_unengaged</th><th scope=col>assess_other</th><th scope=col>unassessed</th></tr></thead>\n",
       "<tbody>\n",
       "\t<tr><td>NA   </td><td>17099</td><td> 0   </td><td> 0   </td><td> 0   </td><td>17099</td></tr>\n",
       "\t<tr><td> 1   </td><td>  414</td><td>41   </td><td>33   </td><td>56   </td><td>  285</td></tr>\n",
       "</tbody>\n",
       "</table>\n"
      ],
      "text/latex": [
       "\\begin{tabular}{r|llllll}\n",
       " case\\_subtype\\_hphb\\_high\\_risk\\_R12M & case\\_subtype\\_population & assess\\_engaged & assess\\_unengaged & assess\\_other & unassessed\\\\\n",
       "\\hline\n",
       "\t NA    & 17099 &  0    &  0    &  0    & 17099\\\\\n",
       "\t  1    &   414 & 41    & 33    & 56    &   285\\\\\n",
       "\\end{tabular}\n"
      ],
      "text/markdown": [
       "\n",
       "case_subtype_hphb_high_risk_R12M | case_subtype_population | assess_engaged | assess_unengaged | assess_other | unassessed | \n",
       "|---|---|\n",
       "| NA    | 17099 |  0    |  0    |  0    | 17099 | \n",
       "|  1    |   414 | 41    | 33    | 56    |   285 | \n",
       "\n",
       "\n"
      ],
      "text/plain": [
       "  case_subtype_hphb_high_risk_R12M case_subtype_population assess_engaged\n",
       "1 NA                               17099                    0            \n",
       "2  1                                 414                   41            \n",
       "  assess_unengaged assess_other unassessed\n",
       "1  0                0           17099     \n",
       "2 33               56             285     "
      ]
     },
     "metadata": {},
     "output_type": "display_data"
    }
   ],
   "source": [
    "dt[,list(case_subtype_population=length(origId[case_subtype_hphb_high_risk_R12M==1]),\n",
    "         assess_engaged=sum(assess_engaged_hphb_high_risk_R12M==1,na.rm = T),\n",
    "         assess_unengaged=sum(assess_unengaged_hphb_high_risk_R12M==1,na.rm=T),\n",
    "         assess_other=sum(assess_other_hphb_high_risk_R12M==1,na.rm = T),\n",
    "         unassessed=length(origId[is.na(assess_engaged_hphb_high_risk_R12M) & \n",
    "                                  is.na(assess_unengaged_hphb_high_risk_R12M) &\n",
    "                                  is.na(assess_other_hphb_high_risk_R12M)])\n",
    "                                  \n",
    "        ),\n",
    "   by=.(case_subtype_hphb_high_risk_R12M)\n",
    "  ]"
   ]
  },
  {
   "cell_type": "code",
   "execution_count": 853,
   "metadata": {
    "hidden": true
   },
   "outputs": [
    {
     "data": {
      "text/html": [
       "<table>\n",
       "<thead><tr><th scope=col>case_subtype_specialty_care_R12M</th><th scope=col>case_subtype_population</th><th scope=col>assess_engaged</th><th scope=col>assess_unengaged</th><th scope=col>assess_other</th><th scope=col>unassessed</th></tr></thead>\n",
       "<tbody>\n",
       "\t<tr><td>NA   </td><td>17365</td><td>0    </td><td> 0   </td><td>  0  </td><td>17365</td></tr>\n",
       "\t<tr><td> 1   </td><td>  148</td><td>6    </td><td>18   </td><td>111  </td><td>   21</td></tr>\n",
       "</tbody>\n",
       "</table>\n"
      ],
      "text/latex": [
       "\\begin{tabular}{r|llllll}\n",
       " case\\_subtype\\_specialty\\_care\\_R12M & case\\_subtype\\_population & assess\\_engaged & assess\\_unengaged & assess\\_other & unassessed\\\\\n",
       "\\hline\n",
       "\t NA    & 17365 & 0     &  0    &   0   & 17365\\\\\n",
       "\t  1    &   148 & 6     & 18    & 111   &    21\\\\\n",
       "\\end{tabular}\n"
      ],
      "text/markdown": [
       "\n",
       "case_subtype_specialty_care_R12M | case_subtype_population | assess_engaged | assess_unengaged | assess_other | unassessed | \n",
       "|---|---|\n",
       "| NA    | 17365 | 0     |  0    |   0   | 17365 | \n",
       "|  1    |   148 | 6     | 18    | 111   |    21 | \n",
       "\n",
       "\n"
      ],
      "text/plain": [
       "  case_subtype_specialty_care_R12M case_subtype_population assess_engaged\n",
       "1 NA                               17365                   0             \n",
       "2  1                                 148                   6             \n",
       "  assess_unengaged assess_other unassessed\n",
       "1  0                 0          17365     \n",
       "2 18               111             21     "
      ]
     },
     "metadata": {},
     "output_type": "display_data"
    }
   ],
   "source": [
    "dt[,list(case_subtype_population=length(origId[case_subtype_specialty_care_R12M==1]),\n",
    "         assess_engaged=sum(assess_engaged_specialty_care_R12M==1,na.rm = T),\n",
    "         assess_unengaged=sum(assess_unengaged_specialty_care_R12M==1,na.rm=T),\n",
    "         assess_other=sum(assess_other_specialty_care_R12M==1,na.rm = T),\n",
    "         unassessed=length(origId[is.na(assess_engaged_specialty_care_R12M) & \n",
    "                                  is.na(assess_unengaged_specialty_care_R12M) &\n",
    "                                  is.na(assess_other_specialty_care_R12M)])\n",
    "                                  \n",
    "        ),\n",
    "   by=.(case_subtype_specialty_care_R12M)\n",
    "  ]"
   ]
  },
  {
   "cell_type": "code",
   "execution_count": 854,
   "metadata": {
    "hidden": true
   },
   "outputs": [
    {
     "data": {
      "text/html": [
       "<table>\n",
       "<thead><tr><th scope=col>case_subtype_nicu_R12M</th><th scope=col>case_subtype_population</th><th scope=col>assess_engaged</th><th scope=col>assess_unengaged</th><th scope=col>assess_other</th><th scope=col>unassessed</th></tr></thead>\n",
       "<tbody>\n",
       "\t<tr><td>NA   </td><td>17510</td><td>0    </td><td>0    </td><td>0    </td><td>17510</td></tr>\n",
       "\t<tr><td> 1   </td><td>    3</td><td>0    </td><td>2    </td><td>1    </td><td>    0</td></tr>\n",
       "</tbody>\n",
       "</table>\n"
      ],
      "text/latex": [
       "\\begin{tabular}{r|llllll}\n",
       " case\\_subtype\\_nicu\\_R12M & case\\_subtype\\_population & assess\\_engaged & assess\\_unengaged & assess\\_other & unassessed\\\\\n",
       "\\hline\n",
       "\t NA    & 17510 & 0     & 0     & 0     & 17510\\\\\n",
       "\t  1    &     3 & 0     & 2     & 1     &     0\\\\\n",
       "\\end{tabular}\n"
      ],
      "text/markdown": [
       "\n",
       "case_subtype_nicu_R12M | case_subtype_population | assess_engaged | assess_unengaged | assess_other | unassessed | \n",
       "|---|---|\n",
       "| NA    | 17510 | 0     | 0     | 0     | 17510 | \n",
       "|  1    |     3 | 0     | 2     | 1     |     0 | \n",
       "\n",
       "\n"
      ],
      "text/plain": [
       "  case_subtype_nicu_R12M case_subtype_population assess_engaged\n",
       "1 NA                     17510                   0             \n",
       "2  1                         3                   0             \n",
       "  assess_unengaged assess_other unassessed\n",
       "1 0                0            17510     \n",
       "2 2                1                0     "
      ]
     },
     "metadata": {},
     "output_type": "display_data"
    }
   ],
   "source": [
    "dt[,list(case_subtype_population=length(origId[case_subtype_nicu_R12M==1]),\n",
    "         assess_engaged=sum(assess_engaged_nicu_R12M==1,na.rm = T),\n",
    "         assess_unengaged=sum(assess_unengaged_nicu_R12M==1,na.rm=T),\n",
    "         assess_other=sum(assess_other_nicu_R12M==1,na.rm = T),\n",
    "         unassessed=length(origId[is.na(assess_engaged_nicu_R12M) & \n",
    "                                  is.na(assess_unengaged_nicu_R12M) &\n",
    "                                  is.na(assess_other_nicu_R12M)])\n",
    "                                  \n",
    "        ),\n",
    "   by=.(case_subtype_nicu_R12M)\n",
    "  ]"
   ]
  },
  {
   "cell_type": "code",
   "execution_count": null,
   "metadata": {
    "hidden": true
   },
   "outputs": [],
   "source": []
  },
  {
   "cell_type": "markdown",
   "metadata": {},
   "source": [
    "# G-computation histogram"
   ]
  },
  {
   "cell_type": "markdown",
   "metadata": {},
   "source": [
    "## univariate"
   ]
  },
  {
   "cell_type": "code",
   "execution_count": 1510,
   "metadata": {},
   "outputs": [],
   "source": [
    "setwd('/gnshealthcare/shared/nli/models/M4/otfrun_m4.9.13.4/')"
   ]
  },
  {
   "cell_type": "code",
   "execution_count": 1511,
   "metadata": {},
   "outputs": [],
   "source": [
    "dt1d <- fread(\"M4.9.13.4_diff_nnets128_med_cost_F12M.csv\")"
   ]
  },
  {
   "cell_type": "code",
   "execution_count": 1512,
   "metadata": {},
   "outputs": [
    {
     "data": {
      "text/html": [
       "<ol class=list-inline>\n",
       "\t<li>19</li>\n",
       "\t<li>4</li>\n",
       "</ol>\n"
      ],
      "text/latex": [
       "\\begin{enumerate*}\n",
       "\\item 19\n",
       "\\item 4\n",
       "\\end{enumerate*}\n"
      ],
      "text/markdown": [
       "1. 19\n",
       "2. 4\n",
       "\n",
       "\n"
      ],
      "text/plain": [
       "[1] 19  4"
      ]
     },
     "metadata": {},
     "output_type": "display_data"
    }
   ],
   "source": [
    "dim(dt1d)"
   ]
  },
  {
   "cell_type": "code",
   "execution_count": 1513,
   "metadata": {},
   "outputs": [
    {
     "data": {
      "text/html": [
       "<table>\n",
       "<thead><tr><th scope=col>V1</th><th scope=col>V2</th><th scope=col>V3</th><th scope=col>V4</th></tr></thead>\n",
       "<tbody>\n",
       "\t<tr><td>actCount_22_R12M</td><td> 59880.284      </td><td>105084.48266    </td><td>174140.159      </td></tr>\n",
       "\t<tr><td>actCount_12_R12M</td><td>-14483.815      </td><td>   -65.19415    </td><td>101745.416      </td></tr>\n",
       "\t<tr><td>actCount_21_R12M</td><td> 23750.956      </td><td> 49994.15655    </td><td> 95062.793      </td></tr>\n",
       "\t<tr><td>actCount_5_R12M </td><td> -1978.476      </td><td> 87319.12387    </td><td>184626.229      </td></tr>\n",
       "\t<tr><td>actCount_23_R12M</td><td> -8496.860      </td><td> 12944.46112    </td><td>145828.680      </td></tr>\n",
       "\t<tr><td>actCount_8_R12M </td><td>  2873.286      </td><td> 51325.25510    </td><td> 84266.494      </td></tr>\n",
       "\t<tr><td>actCount_2_R12M </td><td>-50471.938      </td><td> -1712.47561    </td><td>  9396.375      </td></tr>\n",
       "\t<tr><td>actCount_17_R12M</td><td>-11647.720      </td><td>  1409.36218    </td><td> 85391.605      </td></tr>\n",
       "\t<tr><td>actCount_16_R12M</td><td>-11516.756      </td><td>  -855.27496    </td><td>  9045.852      </td></tr>\n",
       "\t<tr><td>actCount_6_R12M </td><td> -6932.416      </td><td> 21863.68092    </td><td> 81897.048      </td></tr>\n",
       "\t<tr><td>actCount_13_R12M</td><td>-10932.844      </td><td>  -493.38472    </td><td> 38555.807      </td></tr>\n",
       "\t<tr><td>actCount_7_R12M </td><td>-23475.315      </td><td>  -480.30103    </td><td> 36274.185      </td></tr>\n",
       "\t<tr><td>actCount_3_R12M </td><td> -9859.105      </td><td>  1336.08203    </td><td> 64515.658      </td></tr>\n",
       "\t<tr><td>actCount_20_R12M</td><td> -2671.831      </td><td>  1633.39906    </td><td> 75755.797      </td></tr>\n",
       "\t<tr><td>actCount_10_R12M</td><td> -8689.570      </td><td>  -376.34279    </td><td> 80194.739      </td></tr>\n",
       "\t<tr><td>actCount_4_R12M </td><td> -6878.163      </td><td> 17823.72383    </td><td> 89050.868      </td></tr>\n",
       "\t<tr><td>actCount_1_R12M </td><td>-10390.422      </td><td>  -631.43946    </td><td>  9879.191      </td></tr>\n",
       "\t<tr><td>actCount_9_R12M </td><td>-10556.245      </td><td>  -834.99538    </td><td> 10349.350      </td></tr>\n",
       "\t<tr><td>actCount_15_R12M</td><td> -8071.973      </td><td>   534.95739    </td><td> 54757.053      </td></tr>\n",
       "</tbody>\n",
       "</table>\n"
      ],
      "text/latex": [
       "\\begin{tabular}{r|llll}\n",
       " V1 & V2 & V3 & V4\\\\\n",
       "\\hline\n",
       "\t actCount\\_22\\_R12M &  59880.284           & 105084.48266         & 174140.159          \\\\\n",
       "\t actCount\\_12\\_R12M & -14483.815           &    -65.19415         & 101745.416          \\\\\n",
       "\t actCount\\_21\\_R12M &  23750.956           &  49994.15655         &  95062.793          \\\\\n",
       "\t actCount\\_5\\_R12M  &  -1978.476           &  87319.12387         & 184626.229          \\\\\n",
       "\t actCount\\_23\\_R12M &  -8496.860           &  12944.46112         & 145828.680          \\\\\n",
       "\t actCount\\_8\\_R12M  &   2873.286           &  51325.25510         &  84266.494          \\\\\n",
       "\t actCount\\_2\\_R12M  & -50471.938           &  -1712.47561         &   9396.375          \\\\\n",
       "\t actCount\\_17\\_R12M & -11647.720           &   1409.36218         &  85391.605          \\\\\n",
       "\t actCount\\_16\\_R12M & -11516.756           &   -855.27496         &   9045.852          \\\\\n",
       "\t actCount\\_6\\_R12M  &  -6932.416           &  21863.68092         &  81897.048          \\\\\n",
       "\t actCount\\_13\\_R12M & -10932.844           &   -493.38472         &  38555.807          \\\\\n",
       "\t actCount\\_7\\_R12M  & -23475.315           &   -480.30103         &  36274.185          \\\\\n",
       "\t actCount\\_3\\_R12M  &  -9859.105           &   1336.08203         &  64515.658          \\\\\n",
       "\t actCount\\_20\\_R12M &  -2671.831           &   1633.39906         &  75755.797          \\\\\n",
       "\t actCount\\_10\\_R12M &  -8689.570           &   -376.34279         &  80194.739          \\\\\n",
       "\t actCount\\_4\\_R12M  &  -6878.163           &  17823.72383         &  89050.868          \\\\\n",
       "\t actCount\\_1\\_R12M  & -10390.422           &   -631.43946         &   9879.191          \\\\\n",
       "\t actCount\\_9\\_R12M  & -10556.245           &   -834.99538         &  10349.350          \\\\\n",
       "\t actCount\\_15\\_R12M &  -8071.973           &    534.95739         &  54757.053          \\\\\n",
       "\\end{tabular}\n"
      ],
      "text/markdown": [
       "\n",
       "V1 | V2 | V3 | V4 | \n",
       "|---|---|---|---|---|---|---|---|---|---|---|---|---|---|---|---|---|---|---|\n",
       "| actCount_22_R12M |  59880.284       | 105084.48266     | 174140.159       | \n",
       "| actCount_12_R12M | -14483.815       |    -65.19415     | 101745.416       | \n",
       "| actCount_21_R12M |  23750.956       |  49994.15655     |  95062.793       | \n",
       "| actCount_5_R12M  |  -1978.476       |  87319.12387     | 184626.229       | \n",
       "| actCount_23_R12M |  -8496.860       |  12944.46112     | 145828.680       | \n",
       "| actCount_8_R12M  |   2873.286       |  51325.25510     |  84266.494       | \n",
       "| actCount_2_R12M  | -50471.938       |  -1712.47561     |   9396.375       | \n",
       "| actCount_17_R12M | -11647.720       |   1409.36218     |  85391.605       | \n",
       "| actCount_16_R12M | -11516.756       |   -855.27496     |   9045.852       | \n",
       "| actCount_6_R12M  |  -6932.416       |  21863.68092     |  81897.048       | \n",
       "| actCount_13_R12M | -10932.844       |   -493.38472     |  38555.807       | \n",
       "| actCount_7_R12M  | -23475.315       |   -480.30103     |  36274.185       | \n",
       "| actCount_3_R12M  |  -9859.105       |   1336.08203     |  64515.658       | \n",
       "| actCount_20_R12M |  -2671.831       |   1633.39906     |  75755.797       | \n",
       "| actCount_10_R12M |  -8689.570       |   -376.34279     |  80194.739       | \n",
       "| actCount_4_R12M  |  -6878.163       |  17823.72383     |  89050.868       | \n",
       "| actCount_1_R12M  | -10390.422       |   -631.43946     |   9879.191       | \n",
       "| actCount_9_R12M  | -10556.245       |   -834.99538     |  10349.350       | \n",
       "| actCount_15_R12M |  -8071.973       |    534.95739     |  54757.053       | \n",
       "\n",
       "\n"
      ],
      "text/plain": [
       "   V1               V2         V3           V4        \n",
       "1  actCount_22_R12M  59880.284 105084.48266 174140.159\n",
       "2  actCount_12_R12M -14483.815    -65.19415 101745.416\n",
       "3  actCount_21_R12M  23750.956  49994.15655  95062.793\n",
       "4  actCount_5_R12M   -1978.476  87319.12387 184626.229\n",
       "5  actCount_23_R12M  -8496.860  12944.46112 145828.680\n",
       "6  actCount_8_R12M    2873.286  51325.25510  84266.494\n",
       "7  actCount_2_R12M  -50471.938  -1712.47561   9396.375\n",
       "8  actCount_17_R12M -11647.720   1409.36218  85391.605\n",
       "9  actCount_16_R12M -11516.756   -855.27496   9045.852\n",
       "10 actCount_6_R12M   -6932.416  21863.68092  81897.048\n",
       "11 actCount_13_R12M -10932.844   -493.38472  38555.807\n",
       "12 actCount_7_R12M  -23475.315   -480.30103  36274.185\n",
       "13 actCount_3_R12M   -9859.105   1336.08203  64515.658\n",
       "14 actCount_20_R12M  -2671.831   1633.39906  75755.797\n",
       "15 actCount_10_R12M  -8689.570   -376.34279  80194.739\n",
       "16 actCount_4_R12M   -6878.163  17823.72383  89050.868\n",
       "17 actCount_1_R12M  -10390.422   -631.43946   9879.191\n",
       "18 actCount_9_R12M  -10556.245   -834.99538  10349.350\n",
       "19 actCount_15_R12M  -8071.973    534.95739  54757.053"
      ]
     },
     "metadata": {},
     "output_type": "display_data"
    }
   ],
   "source": [
    "head(dt1d,20)"
   ]
  },
  {
   "cell_type": "code",
   "execution_count": 1514,
   "metadata": {},
   "outputs": [],
   "source": [
    "sig1d <- dt1d[dt1d$V2*dt1d$V4 > 0,]"
   ]
  },
  {
   "cell_type": "code",
   "execution_count": 1515,
   "metadata": {},
   "outputs": [
    {
     "data": {
      "text/html": [
       "<ol class=list-inline>\n",
       "\t<li>3</li>\n",
       "\t<li>4</li>\n",
       "</ol>\n"
      ],
      "text/latex": [
       "\\begin{enumerate*}\n",
       "\\item 3\n",
       "\\item 4\n",
       "\\end{enumerate*}\n"
      ],
      "text/markdown": [
       "1. 3\n",
       "2. 4\n",
       "\n",
       "\n"
      ],
      "text/plain": [
       "[1] 3 4"
      ]
     },
     "metadata": {},
     "output_type": "display_data"
    }
   ],
   "source": [
    "dim(sig1d)"
   ]
  },
  {
   "cell_type": "code",
   "execution_count": 1516,
   "metadata": {},
   "outputs": [
    {
     "data": {
      "text/html": [
       "<table>\n",
       "<thead><tr><th scope=col>V1</th><th scope=col>V2</th><th scope=col>V3</th><th scope=col>V4</th></tr></thead>\n",
       "<tbody>\n",
       "\t<tr><td>actCount_22_R12M</td><td>59880.284       </td><td>105084.48       </td><td>174140.16       </td></tr>\n",
       "\t<tr><td>actCount_21_R12M</td><td>23750.956       </td><td> 49994.16       </td><td> 95062.79       </td></tr>\n",
       "\t<tr><td>actCount_8_R12M </td><td> 2873.286       </td><td> 51325.26       </td><td> 84266.49       </td></tr>\n",
       "</tbody>\n",
       "</table>\n"
      ],
      "text/latex": [
       "\\begin{tabular}{r|llll}\n",
       " V1 & V2 & V3 & V4\\\\\n",
       "\\hline\n",
       "\t actCount\\_22\\_R12M & 59880.284            & 105084.48            & 174140.16           \\\\\n",
       "\t actCount\\_21\\_R12M & 23750.956            &  49994.16            &  95062.79           \\\\\n",
       "\t actCount\\_8\\_R12M  &  2873.286            &  51325.26            &  84266.49           \\\\\n",
       "\\end{tabular}\n"
      ],
      "text/markdown": [
       "\n",
       "V1 | V2 | V3 | V4 | \n",
       "|---|---|---|\n",
       "| actCount_22_R12M | 59880.284        | 105084.48        | 174140.16        | \n",
       "| actCount_21_R12M | 23750.956        |  49994.16        |  95062.79        | \n",
       "| actCount_8_R12M  |  2873.286        |  51325.26        |  84266.49        | \n",
       "\n",
       "\n"
      ],
      "text/plain": [
       "  V1               V2        V3        V4       \n",
       "1 actCount_22_R12M 59880.284 105084.48 174140.16\n",
       "2 actCount_21_R12M 23750.956  49994.16  95062.79\n",
       "3 actCount_8_R12M   2873.286  51325.26  84266.49"
      ]
     },
     "metadata": {},
     "output_type": "display_data"
    }
   ],
   "source": [
    "head(sig1d)"
   ]
  },
  {
   "cell_type": "code",
   "execution_count": 1518,
   "metadata": {},
   "outputs": [],
   "source": [
    "dt1dfull <- read.table('full_cut01_M4.9.13.4_diff_nnets128_med_cost_F12M.csv', header = T, sep = \",\", \n",
    "                   col.names = paste0(\"V\",seq_len(128*20+3)), fill = TRUE)"
   ]
  },
  {
   "cell_type": "code",
   "execution_count": 1519,
   "metadata": {},
   "outputs": [
    {
     "data": {
      "text/html": [
       "<ol class=list-inline>\n",
       "\t<li>19</li>\n",
       "\t<li>2563</li>\n",
       "</ol>\n"
      ],
      "text/latex": [
       "\\begin{enumerate*}\n",
       "\\item 19\n",
       "\\item 2563\n",
       "\\end{enumerate*}\n"
      ],
      "text/markdown": [
       "1. 19\n",
       "2. 2563\n",
       "\n",
       "\n"
      ],
      "text/plain": [
       "[1]   19 2563"
      ]
     },
     "metadata": {},
     "output_type": "display_data"
    }
   ],
   "source": [
    "dim(dt1dfull)"
   ]
  },
  {
   "cell_type": "code",
   "execution_count": 1520,
   "metadata": {
    "scrolled": false
   },
   "outputs": [
    {
     "data": {
      "text/html": [
       "<table>\n",
       "<thead><tr><th scope=col>V1</th><th scope=col>V2</th><th scope=col>V3</th></tr></thead>\n",
       "<tbody>\n",
       "\t<tr><td>actCount_22_R12M</td><td>0               </td><td>30              </td></tr>\n",
       "\t<tr><td>actCount_12_R12M</td><td>0               </td><td> 7              </td></tr>\n",
       "\t<tr><td>actCount_21_R12M</td><td>0               </td><td>30              </td></tr>\n",
       "\t<tr><td>actCount_5_R12M </td><td>0               </td><td>30              </td></tr>\n",
       "\t<tr><td>actCount_23_R12M</td><td>0               </td><td>16              </td></tr>\n",
       "\t<tr><td>actCount_8_R12M </td><td>0               </td><td>30              </td></tr>\n",
       "\t<tr><td>actCount_2_R12M </td><td>0               </td><td> 4              </td></tr>\n",
       "\t<tr><td>actCount_17_R12M</td><td>0               </td><td> 5              </td></tr>\n",
       "\t<tr><td>actCount_16_R12M</td><td>0               </td><td> 4              </td></tr>\n",
       "\t<tr><td>actCount_6_R12M </td><td>0               </td><td>30              </td></tr>\n",
       "\t<tr><td>actCount_13_R12M</td><td>0               </td><td> 6              </td></tr>\n",
       "\t<tr><td>actCount_7_R12M </td><td>0               </td><td> 7              </td></tr>\n",
       "\t<tr><td>actCount_3_R12M </td><td>2               </td><td>30              </td></tr>\n",
       "\t<tr><td>actCount_20_R12M</td><td>1               </td><td>30              </td></tr>\n",
       "\t<tr><td>actCount_10_R12M</td><td>0               </td><td> 8              </td></tr>\n",
       "\t<tr><td>actCount_4_R12M </td><td>0               </td><td>30              </td></tr>\n",
       "\t<tr><td>actCount_1_R12M </td><td>0               </td><td> 2              </td></tr>\n",
       "\t<tr><td>actCount_9_R12M </td><td>0               </td><td>30              </td></tr>\n",
       "\t<tr><td>actCount_15_R12M</td><td>0               </td><td>30              </td></tr>\n",
       "</tbody>\n",
       "</table>\n"
      ],
      "text/latex": [
       "\\begin{tabular}{r|lll}\n",
       " V1 & V2 & V3\\\\\n",
       "\\hline\n",
       "\t actCount\\_22\\_R12M & 0                    & 30                  \\\\\n",
       "\t actCount\\_12\\_R12M & 0                    &  7                  \\\\\n",
       "\t actCount\\_21\\_R12M & 0                    & 30                  \\\\\n",
       "\t actCount\\_5\\_R12M  & 0                    & 30                  \\\\\n",
       "\t actCount\\_23\\_R12M & 0                    & 16                  \\\\\n",
       "\t actCount\\_8\\_R12M  & 0                    & 30                  \\\\\n",
       "\t actCount\\_2\\_R12M  & 0                    &  4                  \\\\\n",
       "\t actCount\\_17\\_R12M & 0                    &  5                  \\\\\n",
       "\t actCount\\_16\\_R12M & 0                    &  4                  \\\\\n",
       "\t actCount\\_6\\_R12M  & 0                    & 30                  \\\\\n",
       "\t actCount\\_13\\_R12M & 0                    &  6                  \\\\\n",
       "\t actCount\\_7\\_R12M  & 0                    &  7                  \\\\\n",
       "\t actCount\\_3\\_R12M  & 2                    & 30                  \\\\\n",
       "\t actCount\\_20\\_R12M & 1                    & 30                  \\\\\n",
       "\t actCount\\_10\\_R12M & 0                    &  8                  \\\\\n",
       "\t actCount\\_4\\_R12M  & 0                    & 30                  \\\\\n",
       "\t actCount\\_1\\_R12M  & 0                    &  2                  \\\\\n",
       "\t actCount\\_9\\_R12M  & 0                    & 30                  \\\\\n",
       "\t actCount\\_15\\_R12M & 0                    & 30                  \\\\\n",
       "\\end{tabular}\n"
      ],
      "text/markdown": [
       "\n",
       "V1 | V2 | V3 | \n",
       "|---|---|---|---|---|---|---|---|---|---|---|---|---|---|---|---|---|---|---|\n",
       "| actCount_22_R12M | 0                | 30               | \n",
       "| actCount_12_R12M | 0                |  7               | \n",
       "| actCount_21_R12M | 0                | 30               | \n",
       "| actCount_5_R12M  | 0                | 30               | \n",
       "| actCount_23_R12M | 0                | 16               | \n",
       "| actCount_8_R12M  | 0                | 30               | \n",
       "| actCount_2_R12M  | 0                |  4               | \n",
       "| actCount_17_R12M | 0                |  5               | \n",
       "| actCount_16_R12M | 0                |  4               | \n",
       "| actCount_6_R12M  | 0                | 30               | \n",
       "| actCount_13_R12M | 0                |  6               | \n",
       "| actCount_7_R12M  | 0                |  7               | \n",
       "| actCount_3_R12M  | 2                | 30               | \n",
       "| actCount_20_R12M | 1                | 30               | \n",
       "| actCount_10_R12M | 0                |  8               | \n",
       "| actCount_4_R12M  | 0                | 30               | \n",
       "| actCount_1_R12M  | 0                |  2               | \n",
       "| actCount_9_R12M  | 0                | 30               | \n",
       "| actCount_15_R12M | 0                | 30               | \n",
       "\n",
       "\n"
      ],
      "text/plain": [
       "   V1               V2 V3\n",
       "1  actCount_22_R12M 0  30\n",
       "2  actCount_12_R12M 0   7\n",
       "3  actCount_21_R12M 0  30\n",
       "4  actCount_5_R12M  0  30\n",
       "5  actCount_23_R12M 0  16\n",
       "6  actCount_8_R12M  0  30\n",
       "7  actCount_2_R12M  0   4\n",
       "8  actCount_17_R12M 0   5\n",
       "9  actCount_16_R12M 0   4\n",
       "10 actCount_6_R12M  0  30\n",
       "11 actCount_13_R12M 0   6\n",
       "12 actCount_7_R12M  0   7\n",
       "13 actCount_3_R12M  2  30\n",
       "14 actCount_20_R12M 1  30\n",
       "15 actCount_10_R12M 0   8\n",
       "16 actCount_4_R12M  0  30\n",
       "17 actCount_1_R12M  0   2\n",
       "18 actCount_9_R12M  0  30\n",
       "19 actCount_15_R12M 0  30"
      ]
     },
     "metadata": {},
     "output_type": "display_data"
    }
   ],
   "source": [
    "head(dt1dfull[,1:3],20)"
   ]
  },
  {
   "cell_type": "code",
   "execution_count": 1432,
   "metadata": {},
   "outputs": [
    {
     "data": {
      "image/png": "[encoded data removed]",
      "text/plain": [
       "Plot with title “Histogram of as.numeric(unname(dt1dfull[dt1dfull$V1 == \"actCount_22_R12M\", 4:2563]))”"
      ]
     },
     "metadata": {},
     "output_type": "display_data"
    }
   ],
   "source": [
    "hist(as.numeric(unname(dt1dfull[dt1dfull$V1=='actCount_22_R12M',4:2563])))"
   ]
  },
  {
   "cell_type": "code",
   "execution_count": 1464,
   "metadata": {},
   "outputs": [
    {
     "data": {
      "image/png": "[encoded data removed]",
      "text/plain": [
       "Plot with title “Histogram of as.numeric(unname(dt1dfull[dt1dfull$V1 == \"actCount_5_R12M\", 4:2563]))”"
      ]
     },
     "metadata": {},
     "output_type": "display_data"
    }
   ],
   "source": [
    "hist(as.numeric(unname(dt1dfull[dt1dfull$V1=='actCount_5_R12M',4:2563])))"
   ]
  },
  {
   "cell_type": "code",
   "execution_count": 1433,
   "metadata": {},
   "outputs": [
    {
     "data": {
      "text/html": [
       "<dl class=dl-horizontal>\n",
       "\t<dt>2.5%</dt>\n",
       "\t\t<dd>33777.0591991857</dd>\n",
       "\t<dt>50%</dt>\n",
       "\t\t<dd>79834.8754841907</dd>\n",
       "\t<dt>97.5%</dt>\n",
       "\t\t<dd>223528.459352069</dd>\n",
       "</dl>\n"
      ],
      "text/latex": [
       "\\begin{description*}\n",
       "\\item[2.5\\textbackslash{}\\%] 33777.0591991857\n",
       "\\item[50\\textbackslash{}\\%] 79834.8754841907\n",
       "\\item[97.5\\textbackslash{}\\%] 223528.459352069\n",
       "\\end{description*}\n"
      ],
      "text/markdown": [
       "2.5%\n",
       ":   33777.059199185750%\n",
       ":   79834.875484190797.5%\n",
       ":   223528.459352069\n",
       "\n"
      ],
      "text/plain": [
       "     2.5%       50%     97.5% \n",
       " 33777.06  79834.88 223528.46 "
      ]
     },
     "metadata": {},
     "output_type": "display_data"
    }
   ],
   "source": [
    "quantile(c(as.numeric(unname(dt1dfull[dt1dfull$V1=='actCount_22_R12M',4:2563]))),c(0.025,0.5,0.975),na.rm = T)"
   ]
  },
  {
   "cell_type": "code",
   "execution_count": 1469,
   "metadata": {},
   "outputs": [
    {
     "data": {
      "text/html": [
       "<dl class=dl-horizontal>\n",
       "\t<dt>2.5%</dt>\n",
       "\t\t<dd>-2874.4403807405</dd>\n",
       "\t<dt>50%</dt>\n",
       "\t\t<dd>101495.623678573</dd>\n",
       "\t<dt>97.5%</dt>\n",
       "\t\t<dd>163362.310806327</dd>\n",
       "</dl>\n"
      ],
      "text/latex": [
       "\\begin{description*}\n",
       "\\item[2.5\\textbackslash{}\\%] -2874.4403807405\n",
       "\\item[50\\textbackslash{}\\%] 101495.623678573\n",
       "\\item[97.5\\textbackslash{}\\%] 163362.310806327\n",
       "\\end{description*}\n"
      ],
      "text/markdown": [
       "2.5%\n",
       ":   -2874.440380740550%\n",
       ":   101495.62367857397.5%\n",
       ":   163362.310806327\n",
       "\n"
      ],
      "text/plain": [
       "     2.5%       50%     97.5% \n",
       " -2874.44 101495.62 163362.31 "
      ]
     },
     "metadata": {},
     "output_type": "display_data"
    }
   ],
   "source": [
    "quantile(c(as.numeric(unname(dt1dfull[dt1dfull$V1=='actCount_10_R12M',4:2563]))),c(0.025,0.5,0.975),na.rm = T)"
   ]
  },
  {
   "cell_type": "markdown",
   "metadata": {},
   "source": [
    "## subpop"
   ]
  },
  {
   "cell_type": "code",
   "execution_count": 1614,
   "metadata": {},
   "outputs": [],
   "source": [
    "setwd('/gnshealthcare/shared/nli/models/M4/otfrun_m4.9.13.4/')"
   ]
  },
  {
   "cell_type": "code",
   "execution_count": 1615,
   "metadata": {},
   "outputs": [],
   "source": [
    "dt2d <- fread(\"M4.9.13.4_diff2Dswap_nnets128_med_cost_F12M.csv\")"
   ]
  },
  {
   "cell_type": "code",
   "execution_count": 1616,
   "metadata": {},
   "outputs": [
    {
     "data": {
      "text/html": [
       "<ol class=list-inline>\n",
       "\t<li>224</li>\n",
       "\t<li>8</li>\n",
       "</ol>\n"
      ],
      "text/latex": [
       "\\begin{enumerate*}\n",
       "\\item 224\n",
       "\\item 8\n",
       "\\end{enumerate*}\n"
      ],
      "text/markdown": [
       "1. 224\n",
       "2. 8\n",
       "\n",
       "\n"
      ],
      "text/plain": [
       "[1] 224   8"
      ]
     },
     "metadata": {},
     "output_type": "display_data"
    }
   ],
   "source": [
    "dim(dt2d)"
   ]
  },
  {
   "cell_type": "code",
   "execution_count": 1617,
   "metadata": {},
   "outputs": [
    {
     "data": {
      "text/html": [
       "<ol class=list-inline>\n",
       "\t<li>'actCount_10_R12M'</li>\n",
       "\t<li>'actCount_12_R12M'</li>\n",
       "\t<li>'actCount_13_R12M'</li>\n",
       "\t<li>'actCount_15_R12M'</li>\n",
       "\t<li>'actCount_17_R12M'</li>\n",
       "\t<li>'actCount_20_R12M'</li>\n",
       "\t<li>'actCount_21_R12M'</li>\n",
       "\t<li>'actCount_22_R12M'</li>\n",
       "\t<li>'actCount_23_R12M'</li>\n",
       "\t<li>'actCount_2_R12M'</li>\n",
       "\t<li>'actCount_3_R12M'</li>\n",
       "\t<li>'actCount_4_R12M'</li>\n",
       "\t<li>'actCount_5_R12M'</li>\n",
       "\t<li>'actCount_6_R12M'</li>\n",
       "\t<li>'actCount_7_R12M'</li>\n",
       "\t<li>'actCount_8_R12M'</li>\n",
       "</ol>\n"
      ],
      "text/latex": [
       "\\begin{enumerate*}\n",
       "\\item 'actCount\\_10\\_R12M'\n",
       "\\item 'actCount\\_12\\_R12M'\n",
       "\\item 'actCount\\_13\\_R12M'\n",
       "\\item 'actCount\\_15\\_R12M'\n",
       "\\item 'actCount\\_17\\_R12M'\n",
       "\\item 'actCount\\_20\\_R12M'\n",
       "\\item 'actCount\\_21\\_R12M'\n",
       "\\item 'actCount\\_22\\_R12M'\n",
       "\\item 'actCount\\_23\\_R12M'\n",
       "\\item 'actCount\\_2\\_R12M'\n",
       "\\item 'actCount\\_3\\_R12M'\n",
       "\\item 'actCount\\_4\\_R12M'\n",
       "\\item 'actCount\\_5\\_R12M'\n",
       "\\item 'actCount\\_6\\_R12M'\n",
       "\\item 'actCount\\_7\\_R12M'\n",
       "\\item 'actCount\\_8\\_R12M'\n",
       "\\end{enumerate*}\n"
      ],
      "text/markdown": [
       "1. 'actCount_10_R12M'\n",
       "2. 'actCount_12_R12M'\n",
       "3. 'actCount_13_R12M'\n",
       "4. 'actCount_15_R12M'\n",
       "5. 'actCount_17_R12M'\n",
       "6. 'actCount_20_R12M'\n",
       "7. 'actCount_21_R12M'\n",
       "8. 'actCount_22_R12M'\n",
       "9. 'actCount_23_R12M'\n",
       "10. 'actCount_2_R12M'\n",
       "11. 'actCount_3_R12M'\n",
       "12. 'actCount_4_R12M'\n",
       "13. 'actCount_5_R12M'\n",
       "14. 'actCount_6_R12M'\n",
       "15. 'actCount_7_R12M'\n",
       "16. 'actCount_8_R12M'\n",
       "\n",
       "\n"
      ],
      "text/plain": [
       " [1] \"actCount_10_R12M\" \"actCount_12_R12M\" \"actCount_13_R12M\" \"actCount_15_R12M\"\n",
       " [5] \"actCount_17_R12M\" \"actCount_20_R12M\" \"actCount_21_R12M\" \"actCount_22_R12M\"\n",
       " [9] \"actCount_23_R12M\" \"actCount_2_R12M\"  \"actCount_3_R12M\"  \"actCount_4_R12M\" \n",
       "[13] \"actCount_5_R12M\"  \"actCount_6_R12M\"  \"actCount_7_R12M\"  \"actCount_8_R12M\" "
      ]
     },
     "metadata": {},
     "output_type": "display_data"
    }
   ],
   "source": [
    "unique(dt2d$V2)"
   ]
  },
  {
   "cell_type": "code",
   "execution_count": 1618,
   "metadata": {
    "scrolled": true
   },
   "outputs": [
    {
     "data": {
      "text/html": [
       "<table>\n",
       "<thead><tr><th scope=col>V1</th><th scope=col>V2</th><th scope=col>V3</th><th scope=col>V4</th><th scope=col>V5</th><th scope=col>V6</th><th scope=col>V7</th><th scope=col>V8</th></tr></thead>\n",
       "<tbody>\n",
       "\t<tr><td>GENDER_CD_M     </td><td>actCount_10_R12M</td><td>-9423.317       </td><td>496.3572        </td><td>11496.08        </td><td>-9423.317       </td><td>496.3572        </td><td>11496.08        </td></tr>\n",
       "\t<tr><td>GENDER_CD_M     </td><td>actCount_12_R12M</td><td>-9423.317       </td><td>496.3572        </td><td>11496.08        </td><td>-9423.317       </td><td>496.3572        </td><td>11496.08        </td></tr>\n",
       "\t<tr><td>GENDER_CD_M     </td><td>actCount_13_R12M</td><td>-9423.317       </td><td>496.3572        </td><td>11496.08        </td><td>-9423.317       </td><td>496.3572        </td><td>11496.08        </td></tr>\n",
       "\t<tr><td>GENDER_CD_M     </td><td>actCount_15_R12M</td><td>-9423.317       </td><td>496.3572        </td><td>11496.08        </td><td>-9423.317       </td><td>496.3572        </td><td>11496.08        </td></tr>\n",
       "\t<tr><td>GENDER_CD_M     </td><td>actCount_17_R12M</td><td>-9423.317       </td><td>496.3572        </td><td>11496.08        </td><td>-9423.317       </td><td>496.3572        </td><td>11496.08        </td></tr>\n",
       "\t<tr><td>GENDER_CD_M     </td><td>actCount_20_R12M</td><td>-9423.317       </td><td>496.3572        </td><td>11496.08        </td><td>-9423.317       </td><td>496.3572        </td><td>11496.08        </td></tr>\n",
       "</tbody>\n",
       "</table>\n"
      ],
      "text/latex": [
       "\\begin{tabular}{r|llllllll}\n",
       " V1 & V2 & V3 & V4 & V5 & V6 & V7 & V8\\\\\n",
       "\\hline\n",
       "\t GENDER\\_CD\\_M      & actCount\\_10\\_R12M & -9423.317            & 496.3572             & 11496.08             & -9423.317            & 496.3572             & 11496.08            \\\\\n",
       "\t GENDER\\_CD\\_M      & actCount\\_12\\_R12M & -9423.317            & 496.3572             & 11496.08             & -9423.317            & 496.3572             & 11496.08            \\\\\n",
       "\t GENDER\\_CD\\_M      & actCount\\_13\\_R12M & -9423.317            & 496.3572             & 11496.08             & -9423.317            & 496.3572             & 11496.08            \\\\\n",
       "\t GENDER\\_CD\\_M      & actCount\\_15\\_R12M & -9423.317            & 496.3572             & 11496.08             & -9423.317            & 496.3572             & 11496.08            \\\\\n",
       "\t GENDER\\_CD\\_M      & actCount\\_17\\_R12M & -9423.317            & 496.3572             & 11496.08             & -9423.317            & 496.3572             & 11496.08            \\\\\n",
       "\t GENDER\\_CD\\_M      & actCount\\_20\\_R12M & -9423.317            & 496.3572             & 11496.08             & -9423.317            & 496.3572             & 11496.08            \\\\\n",
       "\\end{tabular}\n"
      ],
      "text/markdown": [
       "\n",
       "V1 | V2 | V3 | V4 | V5 | V6 | V7 | V8 | \n",
       "|---|---|---|---|---|---|\n",
       "| GENDER_CD_M      | actCount_10_R12M | -9423.317        | 496.3572         | 11496.08         | -9423.317        | 496.3572         | 11496.08         | \n",
       "| GENDER_CD_M      | actCount_12_R12M | -9423.317        | 496.3572         | 11496.08         | -9423.317        | 496.3572         | 11496.08         | \n",
       "| GENDER_CD_M      | actCount_13_R12M | -9423.317        | 496.3572         | 11496.08         | -9423.317        | 496.3572         | 11496.08         | \n",
       "| GENDER_CD_M      | actCount_15_R12M | -9423.317        | 496.3572         | 11496.08         | -9423.317        | 496.3572         | 11496.08         | \n",
       "| GENDER_CD_M      | actCount_17_R12M | -9423.317        | 496.3572         | 11496.08         | -9423.317        | 496.3572         | 11496.08         | \n",
       "| GENDER_CD_M      | actCount_20_R12M | -9423.317        | 496.3572         | 11496.08         | -9423.317        | 496.3572         | 11496.08         | \n",
       "\n",
       "\n"
      ],
      "text/plain": [
       "  V1          V2               V3        V4       V5       V6        V7      \n",
       "1 GENDER_CD_M actCount_10_R12M -9423.317 496.3572 11496.08 -9423.317 496.3572\n",
       "2 GENDER_CD_M actCount_12_R12M -9423.317 496.3572 11496.08 -9423.317 496.3572\n",
       "3 GENDER_CD_M actCount_13_R12M -9423.317 496.3572 11496.08 -9423.317 496.3572\n",
       "4 GENDER_CD_M actCount_15_R12M -9423.317 496.3572 11496.08 -9423.317 496.3572\n",
       "5 GENDER_CD_M actCount_17_R12M -9423.317 496.3572 11496.08 -9423.317 496.3572\n",
       "6 GENDER_CD_M actCount_20_R12M -9423.317 496.3572 11496.08 -9423.317 496.3572\n",
       "  V8      \n",
       "1 11496.08\n",
       "2 11496.08\n",
       "3 11496.08\n",
       "4 11496.08\n",
       "5 11496.08\n",
       "6 11496.08"
      ]
     },
     "metadata": {},
     "output_type": "display_data"
    }
   ],
   "source": [
    "head(dt2d)"
   ]
  },
  {
   "cell_type": "code",
   "execution_count": 1619,
   "metadata": {},
   "outputs": [],
   "source": [
    "flip <- dt2d[dt2d$V4!=dt2d$V7,]"
   ]
  },
  {
   "cell_type": "code",
   "execution_count": 1620,
   "metadata": {},
   "outputs": [
    {
     "data": {
      "text/html": [
       "<ol class=list-inline>\n",
       "\t<li>0</li>\n",
       "\t<li>8</li>\n",
       "</ol>\n"
      ],
      "text/latex": [
       "\\begin{enumerate*}\n",
       "\\item 0\n",
       "\\item 8\n",
       "\\end{enumerate*}\n"
      ],
      "text/markdown": [
       "1. 0\n",
       "2. 8\n",
       "\n",
       "\n"
      ],
      "text/plain": [
       "[1] 0 8"
      ]
     },
     "metadata": {},
     "output_type": "display_data"
    },
    {
     "data": {
      "text/html": [
       "<ol class=list-inline>\n",
       "\t<li>0</li>\n",
       "\t<li>8</li>\n",
       "</ol>\n"
      ],
      "text/latex": [
       "\\begin{enumerate*}\n",
       "\\item 0\n",
       "\\item 8\n",
       "\\end{enumerate*}\n"
      ],
      "text/markdown": [
       "1. 0\n",
       "2. 8\n",
       "\n",
       "\n"
      ],
      "text/plain": [
       "[1] 0 8"
      ]
     },
     "metadata": {},
     "output_type": "display_data"
    },
    {
     "data": {
      "text/html": [
       "<ol class=list-inline>\n",
       "\t<li>0</li>\n",
       "\t<li>8</li>\n",
       "</ol>\n"
      ],
      "text/latex": [
       "\\begin{enumerate*}\n",
       "\\item 0\n",
       "\\item 8\n",
       "\\end{enumerate*}\n"
      ],
      "text/markdown": [
       "1. 0\n",
       "2. 8\n",
       "\n",
       "\n"
      ],
      "text/plain": [
       "[1] 0 8"
      ]
     },
     "metadata": {},
     "output_type": "display_data"
    }
   ],
   "source": [
    "dim(flip)\n",
    "dim(flip[flip$V4<0,])\n",
    "dim(flip[flip$V7<0,])"
   ]
  },
  {
   "cell_type": "code",
   "execution_count": 1550,
   "metadata": {},
   "outputs": [
    {
     "data": {
      "text/html": [
       "<ol class=list-inline>\n",
       "\t<li>'actCount_12_R12M'</li>\n",
       "\t<li>'actCount_13_R12M'</li>\n",
       "\t<li>'actCount_22_R12M'</li>\n",
       "\t<li>'actCount_7_R12M'</li>\n",
       "</ol>\n"
      ],
      "text/latex": [
       "\\begin{enumerate*}\n",
       "\\item 'actCount\\_12\\_R12M'\n",
       "\\item 'actCount\\_13\\_R12M'\n",
       "\\item 'actCount\\_22\\_R12M'\n",
       "\\item 'actCount\\_7\\_R12M'\n",
       "\\end{enumerate*}\n"
      ],
      "text/markdown": [
       "1. 'actCount_12_R12M'\n",
       "2. 'actCount_13_R12M'\n",
       "3. 'actCount_22_R12M'\n",
       "4. 'actCount_7_R12M'\n",
       "\n",
       "\n"
      ],
      "text/plain": [
       "[1] \"actCount_12_R12M\" \"actCount_13_R12M\" \"actCount_22_R12M\" \"actCount_7_R12M\" "
      ]
     },
     "metadata": {},
     "output_type": "display_data"
    }
   ],
   "source": [
    "unique(flip$V1)"
   ]
  },
  {
   "cell_type": "code",
   "execution_count": 1551,
   "metadata": {},
   "outputs": [
    {
     "data": {
      "text/html": [
       "<ol class=list-inline>\n",
       "\t<li>52</li>\n",
       "\t<li>8</li>\n",
       "</ol>\n"
      ],
      "text/latex": [
       "\\begin{enumerate*}\n",
       "\\item 52\n",
       "\\item 8\n",
       "\\end{enumerate*}\n"
      ],
      "text/markdown": [
       "1. 52\n",
       "2. 8\n",
       "\n",
       "\n"
      ],
      "text/plain": [
       "[1] 52  8"
      ]
     },
     "metadata": {},
     "output_type": "display_data"
    }
   ],
   "source": [
    "dim(flip)"
   ]
  },
  {
   "cell_type": "code",
   "execution_count": 1552,
   "metadata": {
    "scrolled": true
   },
   "outputs": [
    {
     "data": {
      "text/html": [
       "<table>\n",
       "<thead><tr><th scope=col>V1</th><th scope=col>V2</th><th scope=col>V3</th><th scope=col>V4</th><th scope=col>V5</th><th scope=col>V6</th><th scope=col>V7</th><th scope=col>V8</th></tr></thead>\n",
       "<tbody>\n",
       "\t<tr><td>actCount_12_R12M                  </td><td>referral_INTERNAL_REFERRAL        </td><td> -7772.627                        </td><td> -80.16436                        </td><td> 7662.549                         </td><td> -7054.235                        </td><td> 1289.3770                        </td><td>11244.873                         </td></tr>\n",
       "\t<tr><td>actCount_13_R12M                  </td><td>DIAG_CCS_11_R12M                  </td><td> -7815.749                        </td><td>-351.83933                        </td><td> 7964.800                         </td><td> -7579.097                        </td><td>  776.0842                        </td><td> 9275.400                         </td></tr>\n",
       "\t<tr><td>actCount_13_R12M                  </td><td>DIAG_CCS_14_R12M                  </td><td> -7756.510                        </td><td>-373.57986                        </td><td> 7970.328                         </td><td> -7371.159                        </td><td>  831.3240                        </td><td> 9044.795                         </td></tr>\n",
       "\t<tr><td>actCount_13_R12M                  </td><td>DIAG_CCS_15_R12M                  </td><td> -7717.205                        </td><td>-327.75477                        </td><td> 7670.589                         </td><td>-10533.762                        </td><td>  790.5257                        </td><td>11669.506                         </td></tr>\n",
       "\t<tr><td>actCount_13_R12M                  </td><td>DIAG_CCS_18_R12M                  </td><td> -7791.019                        </td><td>-384.92380                        </td><td> 8074.383                         </td><td> -6849.006                        </td><td>  397.8382                        </td><td> 8248.079                         </td></tr>\n",
       "\t<tr><td>actCount_13_R12M                  </td><td>DIAG_CCS_26_R12M                  </td><td> -7815.749                        </td><td>-367.48553                        </td><td> 7970.328                         </td><td> -7371.159                        </td><td>  796.6976                        </td><td> 9073.370                         </td></tr>\n",
       "\t<tr><td>actCount_13_R12M                  </td><td>DIAG_CCS_39_R12M                  </td><td> -7755.536                        </td><td>-346.55573                        </td><td> 7908.969                         </td><td> -8856.409                        </td><td>  716.4125                        </td><td>10149.060                         </td></tr>\n",
       "\t<tr><td>actCount_13_R12M                  </td><td>DIAG_CCS_40_R12M                  </td><td> -7829.755                        </td><td>-351.18521                        </td><td> 7996.681                         </td><td> -7675.577                        </td><td>  761.4850                        </td><td> 9204.775                         </td></tr>\n",
       "\t<tr><td>actCount_13_R12M                  </td><td>DIAG_CCS_41_R12M                  </td><td> -7840.560                        </td><td>-377.76889                        </td><td> 7978.734                         </td><td> -7371.159                        </td><td>  795.3540                        </td><td> 9246.116                         </td></tr>\n",
       "\t<tr><td>actCount_13_R12M                  </td><td>DIAG_CCS_42_R12M                  </td><td> -7915.452                        </td><td>-367.48553                        </td><td> 8017.249                         </td><td> -7360.054                        </td><td>  774.4433                        </td><td> 8832.094                         </td></tr>\n",
       "\t<tr><td>actCount_13_R12M                  </td><td>DIAG_CCS_43_R12M                  </td><td> -7733.295                        </td><td>-358.38960                        </td><td> 7789.240                         </td><td> -8561.012                        </td><td>  957.2318                        </td><td>10039.556                         </td></tr>\n",
       "\t<tr><td>actCount_13_R12M                  </td><td>DIAG_CCS_47_R12M                  </td><td> -7845.644                        </td><td>-370.39033                        </td><td> 7970.328                         </td><td> -7326.924                        </td><td>  776.4221                        </td><td> 8835.904                         </td></tr>\n",
       "\t<tr><td>actCount_13_R12M                  </td><td>DIAG_Charlson_diabetes_R12M       </td><td> -7806.922                        </td><td>-360.78296                        </td><td> 7972.721                         </td><td> -7384.735                        </td><td>  769.9789                        </td><td> 9015.717                         </td></tr>\n",
       "\t<tr><td>actCount_13_R12M                  </td><td>DIAG_Charlson_metastatictumor_R12M</td><td> -8111.517                        </td><td>-355.59362                        </td><td> 8224.530                         </td><td> -7217.735                        </td><td>  767.3290                        </td><td> 8898.998                         </td></tr>\n",
       "\t<tr><td>actCount_13_R12M                  </td><td>DIAG_Charlson_renal_R12M          </td><td> -7806.342                        </td><td>-351.18521                        </td><td> 7964.186                         </td><td> -7674.539                        </td><td>  783.6997                        </td><td> 9192.832                         </td></tr>\n",
       "\t<tr><td>actCount_13_R12M                  </td><td>GENDER_CD_M                       </td><td> -7746.844                        </td><td>-351.83933                        </td><td> 7945.354                         </td><td> -7371.159                        </td><td>  778.4397                        </td><td> 9021.621                         </td></tr>\n",
       "\t<tr><td>actCount_13_R12M                  </td><td>PLACE_OF_SVC_CD_11_R12M           </td><td>-12690.095                        </td><td>-364.16338                        </td><td>12770.510                         </td><td> -7278.569                        </td><td>  773.4203                        </td><td> 9065.876                         </td></tr>\n",
       "\t<tr><td>actCount_13_R12M                  </td><td>PLACE_OF_SVC_CD_12_R12M           </td><td> -7815.375                        </td><td>-369.22581                        </td><td> 7964.588                         </td><td> -7537.521                        </td><td>  702.7804                        </td><td> 9019.790                         </td></tr>\n",
       "\t<tr><td>actCount_13_R12M                  </td><td>PLACE_OF_SVC_CD_21_R12M           </td><td> -7611.019                        </td><td>-356.46656                        </td><td> 7867.097                         </td><td> -7384.603                        </td><td>  803.6684                        </td><td> 9297.861                         </td></tr>\n",
       "\t<tr><td>actCount_13_R12M                  </td><td>PLACE_OF_SVC_CD_23_R12M           </td><td> -7846.574                        </td><td>-372.05630                        </td><td> 7908.969                         </td><td> -7326.924                        </td><td>  759.4847                        </td><td> 9007.089                         </td></tr>\n",
       "\t<tr><td>actCount_13_R12M                  </td><td>PLACE_OF_SVC_CD_81_R12M           </td><td> -7700.048                        </td><td>-370.69235                        </td><td> 7964.726                         </td><td> -8000.104                        </td><td>  756.9703                        </td><td> 9436.421                         </td></tr>\n",
       "\t<tr><td>actCount_13_R12M                  </td><td>RxElig_R12M                       </td><td> -7870.548                        </td><td>-308.23691                        </td><td> 7996.681                         </td><td> -7326.924                        </td><td>  797.3077                        </td><td> 9016.215                         </td></tr>\n",
       "\t<tr><td>actCount_13_R12M                  </td><td>referral_INTERNAL_REFERRAL        </td><td> -7746.853                        </td><td>-348.24242                        </td><td> 8116.387                         </td><td> -7303.739                        </td><td>  738.8987                        </td><td> 9019.790                         </td></tr>\n",
       "\t<tr><td>actCount_13_R12M                  </td><td>referral_POST_DISCHARGE           </td><td> -7815.749                        </td><td>-367.48553                        </td><td> 7970.328                         </td><td> -7360.054                        </td><td>  774.4433                        </td><td> 9015.717                         </td></tr>\n",
       "\t<tr><td>actCount_13_R12M                  </td><td>referral_PRE_ADMISSION            </td><td> -7806.922                        </td><td>-367.48553                        </td><td> 7970.421                         </td><td> -7368.507                        </td><td>  759.7846                        </td><td> 9083.389                         </td></tr>\n",
       "\t<tr><td>actCount_13_R12M                  </td><td>referral_PROVIDER_REFERRAL        </td><td> -7740.542                        </td><td>-342.56234                        </td><td> 7789.660                         </td><td> -7843.846                        </td><td>  792.9024                        </td><td> 9671.553                         </td></tr>\n",
       "\t<tr><td>actCount_22_R12M                  </td><td>DIAG_CCS_18_R12M                  </td><td> -2358.611                        </td><td>3520.71367                        </td><td>10477.062                         </td><td>-10720.028                        </td><td>-1649.3730                        </td><td> 6705.020                         </td></tr>\n",
       "\t<tr><td>actCount_7_R12M                   </td><td>DIAG_CCS_11_R12M                  </td><td> -7871.340                        </td><td> -97.59213                        </td><td> 7948.113                         </td><td> -7449.545                        </td><td>  493.4312                        </td><td> 8913.601                         </td></tr>\n",
       "\t<tr><td>actCount_7_R12M                   </td><td>DIAG_CCS_14_R12M                  </td><td> -7912.263                        </td><td>-128.44560                        </td><td> 7961.434                         </td><td> -7452.714                        </td><td>  456.8181                        </td><td> 8854.779                         </td></tr>\n",
       "\t<tr><td>actCount_7_R12M                   </td><td>DIAG_CCS_15_R12M                  </td><td> -7733.385                        </td><td>-143.12089                        </td><td> 7889.079                         </td><td>-10884.760                        </td><td>  708.4413                        </td><td>11711.156                         </td></tr>\n",
       "\t<tr><td>actCount_7_R12M                   </td><td>DIAG_CCS_18_R12M                  </td><td> -7930.982                        </td><td>-172.80893                        </td><td> 8080.535                         </td><td> -6579.525                        </td><td>  412.9883                        </td><td> 7950.301                         </td></tr>\n",
       "\t<tr><td>actCount_7_R12M                   </td><td>DIAG_CCS_26_R12M                  </td><td> -7907.134                        </td><td> -99.38733                        </td><td> 7964.402                         </td><td> -7393.469                        </td><td>  504.5157                        </td><td> 8983.066                         </td></tr>\n",
       "\t<tr><td>actCount_7_R12M                   </td><td>DIAG_CCS_39_R12M                  </td><td> -7830.254                        </td><td> -94.16448                        </td><td> 7964.402                         </td><td> -8486.356                        </td><td>  631.6869                        </td><td>10175.768                         </td></tr>\n",
       "\t<tr><td>actCount_7_R12M                   </td><td>DIAG_CCS_40_R12M                  </td><td> -7905.654                        </td><td> -97.11541                        </td><td> 7948.113                         </td><td> -7360.426                        </td><td>  494.7968                        </td><td> 8908.066                         </td></tr>\n",
       "\t<tr><td>actCount_7_R12M                   </td><td>DIAG_CCS_41_R12M                  </td><td> -8024.115                        </td><td> -73.89417                        </td><td> 7965.473                         </td><td> -7436.865                        </td><td>  712.4513                        </td><td> 9646.640                         </td></tr>\n",
       "\t<tr><td>actCount_7_R12M                   </td><td>DIAG_CCS_42_R12M                  </td><td> -8116.845                        </td><td>-103.14379                        </td><td> 8115.704                         </td><td> -7346.530                        </td><td>  498.7853                        </td><td> 8826.983                         </td></tr>\n",
       "\t<tr><td>actCount_7_R12M                   </td><td>DIAG_CCS_43_R12M                  </td><td> -7870.544                        </td><td> -64.80197                        </td><td> 7896.997                         </td><td> -8552.711                        </td><td>  556.2391                        </td><td> 9809.626                         </td></tr>\n",
       "\t<tr><td>actCount_7_R12M                   </td><td>DIAG_CCS_47_R12M                  </td><td> -7905.654                        </td><td>-110.89284                        </td><td> 7961.434                         </td><td> -7346.530                        </td><td>  550.9975                        </td><td> 8801.522                         </td></tr>\n",
       "\t<tr><td>actCount_7_R12M                   </td><td>DIAG_Charlson_diabetes_R12M       </td><td> -7910.093                        </td><td> -85.15454                        </td><td> 7961.220                         </td><td> -7381.644                        </td><td>  524.6193                        </td><td> 8801.522                         </td></tr>\n",
       "\t<tr><td>actCount_7_R12M                   </td><td>DIAG_Charlson_metastatictumor_R12M</td><td> -8069.761                        </td><td>-130.96380                        </td><td> 8344.162                         </td><td> -7072.935                        </td><td>  530.8769                        </td><td> 8738.990                         </td></tr>\n",
       "\t<tr><td>actCount_7_R12M                   </td><td>DIAG_Charlson_renal_R12M          </td><td> -7893.544                        </td><td> -97.11541                        </td><td> 7957.416                         </td><td> -7422.500                        </td><td>  490.6249                        </td><td> 9011.227                         </td></tr>\n",
       "\t<tr><td>actCount_7_R12M                   </td><td>GENDER_CD_M                       </td><td> -7760.598                        </td><td>-100.64532                        </td><td> 7886.793                         </td><td> -7400.051                        </td><td>  529.3032                        </td><td> 8854.779                         </td></tr>\n",
       "\t<tr><td>actCount_7_R12M                   </td><td>PLACE_OF_SVC_CD_11_R12M           </td><td>-12920.315                        </td><td> -94.64120                        </td><td>14243.073                         </td><td> -7298.883                        </td><td>  486.1741                        </td><td> 8759.332                         </td></tr>\n",
       "\t<tr><td>actCount_7_R12M                   </td><td>PLACE_OF_SVC_CD_12_R12M           </td><td> -7880.552                        </td><td> -73.89417                        </td><td> 7959.242                         </td><td> -7373.356                        </td><td>  526.8750                        </td><td> 8801.522                         </td></tr>\n",
       "\t<tr><td>actCount_7_R12M                   </td><td>PLACE_OF_SVC_CD_21_R12M           </td><td> -7701.544                        </td><td>-126.95574                        </td><td> 7771.072                         </td><td> -7330.682                        </td><td>  576.7035                        </td><td> 8973.209                         </td></tr>\n",
       "\t<tr><td>actCount_7_R12M                   </td><td>PLACE_OF_SVC_CD_23_R12M           </td><td> -7978.545                        </td><td> -94.16448                        </td><td> 7964.254                         </td><td> -7360.426                        </td><td>  501.3143                        </td><td> 8780.086                         </td></tr>\n",
       "\t<tr><td>actCount_7_R12M                   </td><td>PLACE_OF_SVC_CD_81_R12M           </td><td> -7753.736                        </td><td> -99.41710                        </td><td> 7961.434                         </td><td> -7835.646                        </td><td>  551.1306                        </td><td> 9154.040                         </td></tr>\n",
       "\t<tr><td>actCount_7_R12M                   </td><td>RxElig_R12M                       </td><td> -8122.759                        </td><td>-129.04288                        </td><td> 7895.992                         </td><td> -7242.972                        </td><td>  579.3048                        </td><td> 8801.522                         </td></tr>\n",
       "\t<tr><td>actCount_7_R12M                   </td><td>referral_INTERNAL_REFERRAL        </td><td> -7841.030                        </td><td>-116.40347                        </td><td> 7978.755                         </td><td> -7392.338                        </td><td>  502.6639                        </td><td> 8904.443                         </td></tr>\n",
       "\t<tr><td>actCount_7_R12M                   </td><td>referral_POST_DISCHARGE           </td><td> -7905.654                        </td><td> -97.59213                        </td><td> 7961.434                         </td><td> -7360.426                        </td><td>  526.8750                        </td><td> 8801.522                         </td></tr>\n",
       "</tbody>\n",
       "</table>\n"
      ],
      "text/latex": [
       "\\begin{tabular}{r|llllllll}\n",
       " V1 & V2 & V3 & V4 & V5 & V6 & V7 & V8\\\\\n",
       "\\hline\n",
       "\t actCount\\_12\\_R12M                   & referral\\_INTERNAL\\_REFERRAL         &  -7772.627                             &  -80.16436                             &  7662.549                              &  -7054.235                             &  1289.3770                             & 11244.873                             \\\\\n",
       "\t actCount\\_13\\_R12M                     & DIAG\\_CCS\\_11\\_R12M                   &  -7815.749                               & -351.83933                               &  7964.800                                &  -7579.097                               &   776.0842                               &  9275.400                               \\\\\n",
       "\t actCount\\_13\\_R12M                     & DIAG\\_CCS\\_14\\_R12M                   &  -7756.510                               & -373.57986                               &  7970.328                                &  -7371.159                               &   831.3240                               &  9044.795                               \\\\\n",
       "\t actCount\\_13\\_R12M                     & DIAG\\_CCS\\_15\\_R12M                   &  -7717.205                               & -327.75477                               &  7670.589                                & -10533.762                               &   790.5257                               & 11669.506                               \\\\\n",
       "\t actCount\\_13\\_R12M                     & DIAG\\_CCS\\_18\\_R12M                   &  -7791.019                               & -384.92380                               &  8074.383                                &  -6849.006                               &   397.8382                               &  8248.079                               \\\\\n",
       "\t actCount\\_13\\_R12M                     & DIAG\\_CCS\\_26\\_R12M                   &  -7815.749                               & -367.48553                               &  7970.328                                &  -7371.159                               &   796.6976                               &  9073.370                               \\\\\n",
       "\t actCount\\_13\\_R12M                     & DIAG\\_CCS\\_39\\_R12M                   &  -7755.536                               & -346.55573                               &  7908.969                                &  -8856.409                               &   716.4125                               & 10149.060                               \\\\\n",
       "\t actCount\\_13\\_R12M                     & DIAG\\_CCS\\_40\\_R12M                   &  -7829.755                               & -351.18521                               &  7996.681                                &  -7675.577                               &   761.4850                               &  9204.775                               \\\\\n",
       "\t actCount\\_13\\_R12M                     & DIAG\\_CCS\\_41\\_R12M                   &  -7840.560                               & -377.76889                               &  7978.734                                &  -7371.159                               &   795.3540                               &  9246.116                               \\\\\n",
       "\t actCount\\_13\\_R12M                     & DIAG\\_CCS\\_42\\_R12M                   &  -7915.452                               & -367.48553                               &  8017.249                                &  -7360.054                               &   774.4433                               &  8832.094                               \\\\\n",
       "\t actCount\\_13\\_R12M                     & DIAG\\_CCS\\_43\\_R12M                   &  -7733.295                               & -358.38960                               &  7789.240                                &  -8561.012                               &   957.2318                               & 10039.556                               \\\\\n",
       "\t actCount\\_13\\_R12M                     & DIAG\\_CCS\\_47\\_R12M                   &  -7845.644                               & -370.39033                               &  7970.328                                &  -7326.924                               &   776.4221                               &  8835.904                               \\\\\n",
       "\t actCount\\_13\\_R12M                     & DIAG\\_Charlson\\_diabetes\\_R12M        &  -7806.922                               & -360.78296                               &  7972.721                                &  -7384.735                               &   769.9789                               &  9015.717                               \\\\\n",
       "\t actCount\\_13\\_R12M                     & DIAG\\_Charlson\\_metastatictumor\\_R12M &  -8111.517                               & -355.59362                               &  8224.530                                &  -7217.735                               &   767.3290                               &  8898.998                               \\\\\n",
       "\t actCount\\_13\\_R12M                     & DIAG\\_Charlson\\_renal\\_R12M           &  -7806.342                               & -351.18521                               &  7964.186                                &  -7674.539                               &   783.6997                               &  9192.832                               \\\\\n",
       "\t actCount\\_13\\_R12M                   & GENDER\\_CD\\_M                        &  -7746.844                             & -351.83933                             &  7945.354                              &  -7371.159                             &   778.4397                             &  9021.621                             \\\\\n",
       "\t actCount\\_13\\_R12M                         & PLACE\\_OF\\_SVC\\_CD\\_11\\_R12M            & -12690.095                                   & -364.16338                                   & 12770.510                                    &  -7278.569                                   &   773.4203                                   &  9065.876                                   \\\\\n",
       "\t actCount\\_13\\_R12M                         & PLACE\\_OF\\_SVC\\_CD\\_12\\_R12M            &  -7815.375                                   & -369.22581                                   &  7964.588                                    &  -7537.521                                   &   702.7804                                   &  9019.790                                   \\\\\n",
       "\t actCount\\_13\\_R12M                         & PLACE\\_OF\\_SVC\\_CD\\_21\\_R12M            &  -7611.019                                   & -356.46656                                   &  7867.097                                    &  -7384.603                                   &   803.6684                                   &  9297.861                                   \\\\\n",
       "\t actCount\\_13\\_R12M                         & PLACE\\_OF\\_SVC\\_CD\\_23\\_R12M            &  -7846.574                                   & -372.05630                                   &  7908.969                                    &  -7326.924                                   &   759.4847                                   &  9007.089                                   \\\\\n",
       "\t actCount\\_13\\_R12M                         & PLACE\\_OF\\_SVC\\_CD\\_81\\_R12M            &  -7700.048                                   & -370.69235                                   &  7964.726                                    &  -8000.104                                   &   756.9703                                   &  9436.421                                   \\\\\n",
       "\t actCount\\_13\\_R12M                 & RxElig\\_R12M                        &  -7870.548                           & -308.23691                           &  7996.681                            &  -7326.924                           &   797.3077                           &  9016.215                           \\\\\n",
       "\t actCount\\_13\\_R12M                   & referral\\_INTERNAL\\_REFERRAL         &  -7746.853                             & -348.24242                             &  8116.387                              &  -7303.739                             &   738.8987                             &  9019.790                             \\\\\n",
       "\t actCount\\_13\\_R12M                   & referral\\_POST\\_DISCHARGE            &  -7815.749                             & -367.48553                             &  7970.328                              &  -7360.054                             &   774.4433                             &  9015.717                             \\\\\n",
       "\t actCount\\_13\\_R12M                   & referral\\_PRE\\_ADMISSION             &  -7806.922                             & -367.48553                             &  7970.421                              &  -7368.507                             &   759.7846                             &  9083.389                             \\\\\n",
       "\t actCount\\_13\\_R12M                   & referral\\_PROVIDER\\_REFERRAL         &  -7740.542                             & -342.56234                             &  7789.660                              &  -7843.846                             &   792.9024                             &  9671.553                             \\\\\n",
       "\t actCount\\_22\\_R12M                     & DIAG\\_CCS\\_18\\_R12M                   &  -2358.611                               & 3520.71367                               & 10477.062                                & -10720.028                               & -1649.3730                               &  6705.020                               \\\\\n",
       "\t actCount\\_7\\_R12M                      & DIAG\\_CCS\\_11\\_R12M                   &  -7871.340                               &  -97.59213                               &  7948.113                                &  -7449.545                               &   493.4312                               &  8913.601                               \\\\\n",
       "\t actCount\\_7\\_R12M                      & DIAG\\_CCS\\_14\\_R12M                   &  -7912.263                               & -128.44560                               &  7961.434                                &  -7452.714                               &   456.8181                               &  8854.779                               \\\\\n",
       "\t actCount\\_7\\_R12M                      & DIAG\\_CCS\\_15\\_R12M                   &  -7733.385                               & -143.12089                               &  7889.079                                & -10884.760                               &   708.4413                               & 11711.156                               \\\\\n",
       "\t actCount\\_7\\_R12M                      & DIAG\\_CCS\\_18\\_R12M                   &  -7930.982                               & -172.80893                               &  8080.535                                &  -6579.525                               &   412.9883                               &  7950.301                               \\\\\n",
       "\t actCount\\_7\\_R12M                      & DIAG\\_CCS\\_26\\_R12M                   &  -7907.134                               &  -99.38733                               &  7964.402                                &  -7393.469                               &   504.5157                               &  8983.066                               \\\\\n",
       "\t actCount\\_7\\_R12M                      & DIAG\\_CCS\\_39\\_R12M                   &  -7830.254                               &  -94.16448                               &  7964.402                                &  -8486.356                               &   631.6869                               & 10175.768                               \\\\\n",
       "\t actCount\\_7\\_R12M                      & DIAG\\_CCS\\_40\\_R12M                   &  -7905.654                               &  -97.11541                               &  7948.113                                &  -7360.426                               &   494.7968                               &  8908.066                               \\\\\n",
       "\t actCount\\_7\\_R12M                      & DIAG\\_CCS\\_41\\_R12M                   &  -8024.115                               &  -73.89417                               &  7965.473                                &  -7436.865                               &   712.4513                               &  9646.640                               \\\\\n",
       "\t actCount\\_7\\_R12M                      & DIAG\\_CCS\\_42\\_R12M                   &  -8116.845                               & -103.14379                               &  8115.704                                &  -7346.530                               &   498.7853                               &  8826.983                               \\\\\n",
       "\t actCount\\_7\\_R12M                      & DIAG\\_CCS\\_43\\_R12M                   &  -7870.544                               &  -64.80197                               &  7896.997                                &  -8552.711                               &   556.2391                               &  9809.626                               \\\\\n",
       "\t actCount\\_7\\_R12M                      & DIAG\\_CCS\\_47\\_R12M                   &  -7905.654                               & -110.89284                               &  7961.434                                &  -7346.530                               &   550.9975                               &  8801.522                               \\\\\n",
       "\t actCount\\_7\\_R12M                      & DIAG\\_Charlson\\_diabetes\\_R12M        &  -7910.093                               &  -85.15454                               &  7961.220                                &  -7381.644                               &   524.6193                               &  8801.522                               \\\\\n",
       "\t actCount\\_7\\_R12M                      & DIAG\\_Charlson\\_metastatictumor\\_R12M &  -8069.761                               & -130.96380                               &  8344.162                                &  -7072.935                               &   530.8769                               &  8738.990                               \\\\\n",
       "\t actCount\\_7\\_R12M                      & DIAG\\_Charlson\\_renal\\_R12M           &  -7893.544                               &  -97.11541                               &  7957.416                                &  -7422.500                               &   490.6249                               &  9011.227                               \\\\\n",
       "\t actCount\\_7\\_R12M                    & GENDER\\_CD\\_M                        &  -7760.598                             & -100.64532                             &  7886.793                              &  -7400.051                             &   529.3032                             &  8854.779                             \\\\\n",
       "\t actCount\\_7\\_R12M                          & PLACE\\_OF\\_SVC\\_CD\\_11\\_R12M            & -12920.315                                   &  -94.64120                                   & 14243.073                                    &  -7298.883                                   &   486.1741                                   &  8759.332                                   \\\\\n",
       "\t actCount\\_7\\_R12M                          & PLACE\\_OF\\_SVC\\_CD\\_12\\_R12M            &  -7880.552                                   &  -73.89417                                   &  7959.242                                    &  -7373.356                                   &   526.8750                                   &  8801.522                                   \\\\\n",
       "\t actCount\\_7\\_R12M                          & PLACE\\_OF\\_SVC\\_CD\\_21\\_R12M            &  -7701.544                                   & -126.95574                                   &  7771.072                                    &  -7330.682                                   &   576.7035                                   &  8973.209                                   \\\\\n",
       "\t actCount\\_7\\_R12M                          & PLACE\\_OF\\_SVC\\_CD\\_23\\_R12M            &  -7978.545                                   &  -94.16448                                   &  7964.254                                    &  -7360.426                                   &   501.3143                                   &  8780.086                                   \\\\\n",
       "\t actCount\\_7\\_R12M                          & PLACE\\_OF\\_SVC\\_CD\\_81\\_R12M            &  -7753.736                                   &  -99.41710                                   &  7961.434                                    &  -7835.646                                   &   551.1306                                   &  9154.040                                   \\\\\n",
       "\t actCount\\_7\\_R12M                  & RxElig\\_R12M                        &  -8122.759                           & -129.04288                           &  7895.992                            &  -7242.972                           &   579.3048                           &  8801.522                           \\\\\n",
       "\t actCount\\_7\\_R12M                    & referral\\_INTERNAL\\_REFERRAL         &  -7841.030                             & -116.40347                             &  7978.755                              &  -7392.338                             &   502.6639                             &  8904.443                             \\\\\n",
       "\t actCount\\_7\\_R12M                    & referral\\_POST\\_DISCHARGE            &  -7905.654                             &  -97.59213                             &  7961.434                              &  -7360.426                             &   526.8750                             &  8801.522                             \\\\\n",
       "\\end{tabular}\n"
      ],
      "text/markdown": [
       "\n",
       "V1 | V2 | V3 | V4 | V5 | V6 | V7 | V8 | \n",
       "|---|---|---|---|---|---|---|---|---|---|---|---|---|---|---|---|---|---|---|---|---|---|---|---|---|---|---|---|---|---|---|---|---|---|---|---|---|---|---|---|---|---|---|---|---|---|---|---|---|---|\n",
       "| actCount_12_R12M                   | referral_INTERNAL_REFERRAL         |  -7772.627                         |  -80.16436                         |  7662.549                          |  -7054.235                         |  1289.3770                         | 11244.873                          | \n",
       "| actCount_13_R12M                   | DIAG_CCS_11_R12M                   |  -7815.749                         | -351.83933                         |  7964.800                          |  -7579.097                         |   776.0842                         |  9275.400                          | \n",
       "| actCount_13_R12M                   | DIAG_CCS_14_R12M                   |  -7756.510                         | -373.57986                         |  7970.328                          |  -7371.159                         |   831.3240                         |  9044.795                          | \n",
       "| actCount_13_R12M                   | DIAG_CCS_15_R12M                   |  -7717.205                         | -327.75477                         |  7670.589                          | -10533.762                         |   790.5257                         | 11669.506                          | \n",
       "| actCount_13_R12M                   | DIAG_CCS_18_R12M                   |  -7791.019                         | -384.92380                         |  8074.383                          |  -6849.006                         |   397.8382                         |  8248.079                          | \n",
       "| actCount_13_R12M                   | DIAG_CCS_26_R12M                   |  -7815.749                         | -367.48553                         |  7970.328                          |  -7371.159                         |   796.6976                         |  9073.370                          | \n",
       "| actCount_13_R12M                   | DIAG_CCS_39_R12M                   |  -7755.536                         | -346.55573                         |  7908.969                          |  -8856.409                         |   716.4125                         | 10149.060                          | \n",
       "| actCount_13_R12M                   | DIAG_CCS_40_R12M                   |  -7829.755                         | -351.18521                         |  7996.681                          |  -7675.577                         |   761.4850                         |  9204.775                          | \n",
       "| actCount_13_R12M                   | DIAG_CCS_41_R12M                   |  -7840.560                         | -377.76889                         |  7978.734                          |  -7371.159                         |   795.3540                         |  9246.116                          | \n",
       "| actCount_13_R12M                   | DIAG_CCS_42_R12M                   |  -7915.452                         | -367.48553                         |  8017.249                          |  -7360.054                         |   774.4433                         |  8832.094                          | \n",
       "| actCount_13_R12M                   | DIAG_CCS_43_R12M                   |  -7733.295                         | -358.38960                         |  7789.240                          |  -8561.012                         |   957.2318                         | 10039.556                          | \n",
       "| actCount_13_R12M                   | DIAG_CCS_47_R12M                   |  -7845.644                         | -370.39033                         |  7970.328                          |  -7326.924                         |   776.4221                         |  8835.904                          | \n",
       "| actCount_13_R12M                   | DIAG_Charlson_diabetes_R12M        |  -7806.922                         | -360.78296                         |  7972.721                          |  -7384.735                         |   769.9789                         |  9015.717                          | \n",
       "| actCount_13_R12M                   | DIAG_Charlson_metastatictumor_R12M |  -8111.517                         | -355.59362                         |  8224.530                          |  -7217.735                         |   767.3290                         |  8898.998                          | \n",
       "| actCount_13_R12M                   | DIAG_Charlson_renal_R12M           |  -7806.342                         | -351.18521                         |  7964.186                          |  -7674.539                         |   783.6997                         |  9192.832                          | \n",
       "| actCount_13_R12M                   | GENDER_CD_M                        |  -7746.844                         | -351.83933                         |  7945.354                          |  -7371.159                         |   778.4397                         |  9021.621                          | \n",
       "| actCount_13_R12M                   | PLACE_OF_SVC_CD_11_R12M            | -12690.095                         | -364.16338                         | 12770.510                          |  -7278.569                         |   773.4203                         |  9065.876                          | \n",
       "| actCount_13_R12M                   | PLACE_OF_SVC_CD_12_R12M            |  -7815.375                         | -369.22581                         |  7964.588                          |  -7537.521                         |   702.7804                         |  9019.790                          | \n",
       "| actCount_13_R12M                   | PLACE_OF_SVC_CD_21_R12M            |  -7611.019                         | -356.46656                         |  7867.097                          |  -7384.603                         |   803.6684                         |  9297.861                          | \n",
       "| actCount_13_R12M                   | PLACE_OF_SVC_CD_23_R12M            |  -7846.574                         | -372.05630                         |  7908.969                          |  -7326.924                         |   759.4847                         |  9007.089                          | \n",
       "| actCount_13_R12M                   | PLACE_OF_SVC_CD_81_R12M            |  -7700.048                         | -370.69235                         |  7964.726                          |  -8000.104                         |   756.9703                         |  9436.421                          | \n",
       "| actCount_13_R12M                   | RxElig_R12M                        |  -7870.548                         | -308.23691                         |  7996.681                          |  -7326.924                         |   797.3077                         |  9016.215                          | \n",
       "| actCount_13_R12M                   | referral_INTERNAL_REFERRAL         |  -7746.853                         | -348.24242                         |  8116.387                          |  -7303.739                         |   738.8987                         |  9019.790                          | \n",
       "| actCount_13_R12M                   | referral_POST_DISCHARGE            |  -7815.749                         | -367.48553                         |  7970.328                          |  -7360.054                         |   774.4433                         |  9015.717                          | \n",
       "| actCount_13_R12M                   | referral_PRE_ADMISSION             |  -7806.922                         | -367.48553                         |  7970.421                          |  -7368.507                         |   759.7846                         |  9083.389                          | \n",
       "| actCount_13_R12M                   | referral_PROVIDER_REFERRAL         |  -7740.542                         | -342.56234                         |  7789.660                          |  -7843.846                         |   792.9024                         |  9671.553                          | \n",
       "| actCount_22_R12M                   | DIAG_CCS_18_R12M                   |  -2358.611                         | 3520.71367                         | 10477.062                          | -10720.028                         | -1649.3730                         |  6705.020                          | \n",
       "| actCount_7_R12M                    | DIAG_CCS_11_R12M                   |  -7871.340                         |  -97.59213                         |  7948.113                          |  -7449.545                         |   493.4312                         |  8913.601                          | \n",
       "| actCount_7_R12M                    | DIAG_CCS_14_R12M                   |  -7912.263                         | -128.44560                         |  7961.434                          |  -7452.714                         |   456.8181                         |  8854.779                          | \n",
       "| actCount_7_R12M                    | DIAG_CCS_15_R12M                   |  -7733.385                         | -143.12089                         |  7889.079                          | -10884.760                         |   708.4413                         | 11711.156                          | \n",
       "| actCount_7_R12M                    | DIAG_CCS_18_R12M                   |  -7930.982                         | -172.80893                         |  8080.535                          |  -6579.525                         |   412.9883                         |  7950.301                          | \n",
       "| actCount_7_R12M                    | DIAG_CCS_26_R12M                   |  -7907.134                         |  -99.38733                         |  7964.402                          |  -7393.469                         |   504.5157                         |  8983.066                          | \n",
       "| actCount_7_R12M                    | DIAG_CCS_39_R12M                   |  -7830.254                         |  -94.16448                         |  7964.402                          |  -8486.356                         |   631.6869                         | 10175.768                          | \n",
       "| actCount_7_R12M                    | DIAG_CCS_40_R12M                   |  -7905.654                         |  -97.11541                         |  7948.113                          |  -7360.426                         |   494.7968                         |  8908.066                          | \n",
       "| actCount_7_R12M                    | DIAG_CCS_41_R12M                   |  -8024.115                         |  -73.89417                         |  7965.473                          |  -7436.865                         |   712.4513                         |  9646.640                          | \n",
       "| actCount_7_R12M                    | DIAG_CCS_42_R12M                   |  -8116.845                         | -103.14379                         |  8115.704                          |  -7346.530                         |   498.7853                         |  8826.983                          | \n",
       "| actCount_7_R12M                    | DIAG_CCS_43_R12M                   |  -7870.544                         |  -64.80197                         |  7896.997                          |  -8552.711                         |   556.2391                         |  9809.626                          | \n",
       "| actCount_7_R12M                    | DIAG_CCS_47_R12M                   |  -7905.654                         | -110.89284                         |  7961.434                          |  -7346.530                         |   550.9975                         |  8801.522                          | \n",
       "| actCount_7_R12M                    | DIAG_Charlson_diabetes_R12M        |  -7910.093                         |  -85.15454                         |  7961.220                          |  -7381.644                         |   524.6193                         |  8801.522                          | \n",
       "| actCount_7_R12M                    | DIAG_Charlson_metastatictumor_R12M |  -8069.761                         | -130.96380                         |  8344.162                          |  -7072.935                         |   530.8769                         |  8738.990                          | \n",
       "| actCount_7_R12M                    | DIAG_Charlson_renal_R12M           |  -7893.544                         |  -97.11541                         |  7957.416                          |  -7422.500                         |   490.6249                         |  9011.227                          | \n",
       "| actCount_7_R12M                    | GENDER_CD_M                        |  -7760.598                         | -100.64532                         |  7886.793                          |  -7400.051                         |   529.3032                         |  8854.779                          | \n",
       "| actCount_7_R12M                    | PLACE_OF_SVC_CD_11_R12M            | -12920.315                         |  -94.64120                         | 14243.073                          |  -7298.883                         |   486.1741                         |  8759.332                          | \n",
       "| actCount_7_R12M                    | PLACE_OF_SVC_CD_12_R12M            |  -7880.552                         |  -73.89417                         |  7959.242                          |  -7373.356                         |   526.8750                         |  8801.522                          | \n",
       "| actCount_7_R12M                    | PLACE_OF_SVC_CD_21_R12M            |  -7701.544                         | -126.95574                         |  7771.072                          |  -7330.682                         |   576.7035                         |  8973.209                          | \n",
       "| actCount_7_R12M                    | PLACE_OF_SVC_CD_23_R12M            |  -7978.545                         |  -94.16448                         |  7964.254                          |  -7360.426                         |   501.3143                         |  8780.086                          | \n",
       "| actCount_7_R12M                    | PLACE_OF_SVC_CD_81_R12M            |  -7753.736                         |  -99.41710                         |  7961.434                          |  -7835.646                         |   551.1306                         |  9154.040                          | \n",
       "| actCount_7_R12M                    | RxElig_R12M                        |  -8122.759                         | -129.04288                         |  7895.992                          |  -7242.972                         |   579.3048                         |  8801.522                          | \n",
       "| actCount_7_R12M                    | referral_INTERNAL_REFERRAL         |  -7841.030                         | -116.40347                         |  7978.755                          |  -7392.338                         |   502.6639                         |  8904.443                          | \n",
       "| actCount_7_R12M                    | referral_POST_DISCHARGE            |  -7905.654                         |  -97.59213                         |  7961.434                          |  -7360.426                         |   526.8750                         |  8801.522                          | \n",
       "\n",
       "\n"
      ],
      "text/plain": [
       "   V1               V2                                 V3         V4        \n",
       "1  actCount_12_R12M referral_INTERNAL_REFERRAL          -7772.627  -80.16436\n",
       "2  actCount_13_R12M DIAG_CCS_11_R12M                    -7815.749 -351.83933\n",
       "3  actCount_13_R12M DIAG_CCS_14_R12M                    -7756.510 -373.57986\n",
       "4  actCount_13_R12M DIAG_CCS_15_R12M                    -7717.205 -327.75477\n",
       "5  actCount_13_R12M DIAG_CCS_18_R12M                    -7791.019 -384.92380\n",
       "6  actCount_13_R12M DIAG_CCS_26_R12M                    -7815.749 -367.48553\n",
       "7  actCount_13_R12M DIAG_CCS_39_R12M                    -7755.536 -346.55573\n",
       "8  actCount_13_R12M DIAG_CCS_40_R12M                    -7829.755 -351.18521\n",
       "9  actCount_13_R12M DIAG_CCS_41_R12M                    -7840.560 -377.76889\n",
       "10 actCount_13_R12M DIAG_CCS_42_R12M                    -7915.452 -367.48553\n",
       "11 actCount_13_R12M DIAG_CCS_43_R12M                    -7733.295 -358.38960\n",
       "12 actCount_13_R12M DIAG_CCS_47_R12M                    -7845.644 -370.39033\n",
       "13 actCount_13_R12M DIAG_Charlson_diabetes_R12M         -7806.922 -360.78296\n",
       "14 actCount_13_R12M DIAG_Charlson_metastatictumor_R12M  -8111.517 -355.59362\n",
       "15 actCount_13_R12M DIAG_Charlson_renal_R12M            -7806.342 -351.18521\n",
       "16 actCount_13_R12M GENDER_CD_M                         -7746.844 -351.83933\n",
       "17 actCount_13_R12M PLACE_OF_SVC_CD_11_R12M            -12690.095 -364.16338\n",
       "18 actCount_13_R12M PLACE_OF_SVC_CD_12_R12M             -7815.375 -369.22581\n",
       "19 actCount_13_R12M PLACE_OF_SVC_CD_21_R12M             -7611.019 -356.46656\n",
       "20 actCount_13_R12M PLACE_OF_SVC_CD_23_R12M             -7846.574 -372.05630\n",
       "21 actCount_13_R12M PLACE_OF_SVC_CD_81_R12M             -7700.048 -370.69235\n",
       "22 actCount_13_R12M RxElig_R12M                         -7870.548 -308.23691\n",
       "23 actCount_13_R12M referral_INTERNAL_REFERRAL          -7746.853 -348.24242\n",
       "24 actCount_13_R12M referral_POST_DISCHARGE             -7815.749 -367.48553\n",
       "25 actCount_13_R12M referral_PRE_ADMISSION              -7806.922 -367.48553\n",
       "26 actCount_13_R12M referral_PROVIDER_REFERRAL          -7740.542 -342.56234\n",
       "27 actCount_22_R12M DIAG_CCS_18_R12M                    -2358.611 3520.71367\n",
       "28 actCount_7_R12M  DIAG_CCS_11_R12M                    -7871.340  -97.59213\n",
       "29 actCount_7_R12M  DIAG_CCS_14_R12M                    -7912.263 -128.44560\n",
       "30 actCount_7_R12M  DIAG_CCS_15_R12M                    -7733.385 -143.12089\n",
       "31 actCount_7_R12M  DIAG_CCS_18_R12M                    -7930.982 -172.80893\n",
       "32 actCount_7_R12M  DIAG_CCS_26_R12M                    -7907.134  -99.38733\n",
       "33 actCount_7_R12M  DIAG_CCS_39_R12M                    -7830.254  -94.16448\n",
       "34 actCount_7_R12M  DIAG_CCS_40_R12M                    -7905.654  -97.11541\n",
       "35 actCount_7_R12M  DIAG_CCS_41_R12M                    -8024.115  -73.89417\n",
       "36 actCount_7_R12M  DIAG_CCS_42_R12M                    -8116.845 -103.14379\n",
       "37 actCount_7_R12M  DIAG_CCS_43_R12M                    -7870.544  -64.80197\n",
       "38 actCount_7_R12M  DIAG_CCS_47_R12M                    -7905.654 -110.89284\n",
       "39 actCount_7_R12M  DIAG_Charlson_diabetes_R12M         -7910.093  -85.15454\n",
       "40 actCount_7_R12M  DIAG_Charlson_metastatictumor_R12M  -8069.761 -130.96380\n",
       "41 actCount_7_R12M  DIAG_Charlson_renal_R12M            -7893.544  -97.11541\n",
       "42 actCount_7_R12M  GENDER_CD_M                         -7760.598 -100.64532\n",
       "43 actCount_7_R12M  PLACE_OF_SVC_CD_11_R12M            -12920.315  -94.64120\n",
       "44 actCount_7_R12M  PLACE_OF_SVC_CD_12_R12M             -7880.552  -73.89417\n",
       "45 actCount_7_R12M  PLACE_OF_SVC_CD_21_R12M             -7701.544 -126.95574\n",
       "46 actCount_7_R12M  PLACE_OF_SVC_CD_23_R12M             -7978.545  -94.16448\n",
       "47 actCount_7_R12M  PLACE_OF_SVC_CD_81_R12M             -7753.736  -99.41710\n",
       "48 actCount_7_R12M  RxElig_R12M                         -8122.759 -129.04288\n",
       "49 actCount_7_R12M  referral_INTERNAL_REFERRAL          -7841.030 -116.40347\n",
       "50 actCount_7_R12M  referral_POST_DISCHARGE             -7905.654  -97.59213\n",
       "   V5        V6         V7         V8       \n",
       "1   7662.549  -7054.235  1289.3770 11244.873\n",
       "2   7964.800  -7579.097   776.0842  9275.400\n",
       "3   7970.328  -7371.159   831.3240  9044.795\n",
       "4   7670.589 -10533.762   790.5257 11669.506\n",
       "5   8074.383  -6849.006   397.8382  8248.079\n",
       "6   7970.328  -7371.159   796.6976  9073.370\n",
       "7   7908.969  -8856.409   716.4125 10149.060\n",
       "8   7996.681  -7675.577   761.4850  9204.775\n",
       "9   7978.734  -7371.159   795.3540  9246.116\n",
       "10  8017.249  -7360.054   774.4433  8832.094\n",
       "11  7789.240  -8561.012   957.2318 10039.556\n",
       "12  7970.328  -7326.924   776.4221  8835.904\n",
       "13  7972.721  -7384.735   769.9789  9015.717\n",
       "14  8224.530  -7217.735   767.3290  8898.998\n",
       "15  7964.186  -7674.539   783.6997  9192.832\n",
       "16  7945.354  -7371.159   778.4397  9021.621\n",
       "17 12770.510  -7278.569   773.4203  9065.876\n",
       "18  7964.588  -7537.521   702.7804  9019.790\n",
       "19  7867.097  -7384.603   803.6684  9297.861\n",
       "20  7908.969  -7326.924   759.4847  9007.089\n",
       "21  7964.726  -8000.104   756.9703  9436.421\n",
       "22  7996.681  -7326.924   797.3077  9016.215\n",
       "23  8116.387  -7303.739   738.8987  9019.790\n",
       "24  7970.328  -7360.054   774.4433  9015.717\n",
       "25  7970.421  -7368.507   759.7846  9083.389\n",
       "26  7789.660  -7843.846   792.9024  9671.553\n",
       "27 10477.062 -10720.028 -1649.3730  6705.020\n",
       "28  7948.113  -7449.545   493.4312  8913.601\n",
       "29  7961.434  -7452.714   456.8181  8854.779\n",
       "30  7889.079 -10884.760   708.4413 11711.156\n",
       "31  8080.535  -6579.525   412.9883  7950.301\n",
       "32  7964.402  -7393.469   504.5157  8983.066\n",
       "33  7964.402  -8486.356   631.6869 10175.768\n",
       "34  7948.113  -7360.426   494.7968  8908.066\n",
       "35  7965.473  -7436.865   712.4513  9646.640\n",
       "36  8115.704  -7346.530   498.7853  8826.983\n",
       "37  7896.997  -8552.711   556.2391  9809.626\n",
       "38  7961.434  -7346.530   550.9975  8801.522\n",
       "39  7961.220  -7381.644   524.6193  8801.522\n",
       "40  8344.162  -7072.935   530.8769  8738.990\n",
       "41  7957.416  -7422.500   490.6249  9011.227\n",
       "42  7886.793  -7400.051   529.3032  8854.779\n",
       "43 14243.073  -7298.883   486.1741  8759.332\n",
       "44  7959.242  -7373.356   526.8750  8801.522\n",
       "45  7771.072  -7330.682   576.7035  8973.209\n",
       "46  7964.254  -7360.426   501.3143  8780.086\n",
       "47  7961.434  -7835.646   551.1306  9154.040\n",
       "48  7895.992  -7242.972   579.3048  8801.522\n",
       "49  7978.755  -7392.338   502.6639  8904.443\n",
       "50  7961.434  -7360.426   526.8750  8801.522"
      ]
     },
     "metadata": {},
     "output_type": "display_data"
    }
   ],
   "source": [
    "head(flip,50)"
   ]
  },
  {
   "cell_type": "code",
   "execution_count": 1553,
   "metadata": {},
   "outputs": [
    {
     "data": {
      "text/html": [
       "'/gnshealthcare/shared/nli/models/M4/otfrun_m4.9.14.4'"
      ],
      "text/latex": [
       "'/gnshealthcare/shared/nli/models/M4/otfrun\\_m4.9.14.4'"
      ],
      "text/markdown": [
       "'/gnshealthcare/shared/nli/models/M4/otfrun_m4.9.14.4'"
      ],
      "text/plain": [
       "[1] \"/gnshealthcare/shared/nli/models/M4/otfrun_m4.9.14.4\""
      ]
     },
     "metadata": {},
     "output_type": "display_data"
    }
   ],
   "source": [
    "getwd()"
   ]
  },
  {
   "cell_type": "code",
   "execution_count": 1554,
   "metadata": {},
   "outputs": [],
   "source": [
    "fwrite(flip,file = \"core_onc_subpop_flip.csv\", quote = F, na = 'NA')"
   ]
  },
  {
   "cell_type": "markdown",
   "metadata": {},
   "source": [
    "### quick check for age quantile"
   ]
  },
  {
   "cell_type": "code",
   "execution_count": 1588,
   "metadata": {},
   "outputs": [],
   "source": [
    "setwd('/gnshealthcare/shared/nli/models/M4/')"
   ]
  },
  {
   "cell_type": "code",
   "execution_count": 1600,
   "metadata": {},
   "outputs": [],
   "source": [
    "age <- fread('oncology_m4-9-13.csv',select=c('MEMBR_AGE','OPCount_R12M','OPCount_R6M','OPCount_F12M'))"
   ]
  },
  {
   "cell_type": "code",
   "execution_count": 1601,
   "metadata": {},
   "outputs": [
    {
     "data": {
      "text/html": [
       "<dl class=dl-horizontal>\n",
       "\t<dt>2.5%</dt>\n",
       "\t\t<dd>2</dd>\n",
       "\t<dt>97.5%</dt>\n",
       "\t\t<dd>81</dd>\n",
       "</dl>\n"
      ],
      "text/latex": [
       "\\begin{description*}\n",
       "\\item[2.5\\textbackslash{}\\%] 2\n",
       "\\item[97.5\\textbackslash{}\\%] 81\n",
       "\\end{description*}\n"
      ],
      "text/markdown": [
       "2.5%\n",
       ":   297.5%\n",
       ":   81\n",
       "\n"
      ],
      "text/plain": [
       " 2.5% 97.5% \n",
       "    2    81 "
      ]
     },
     "metadata": {},
     "output_type": "display_data"
    }
   ],
   "source": [
    "quantile(age$OPCount_R6M,c(0.025,0.975))"
   ]
  },
  {
   "cell_type": "code",
   "execution_count": 1594,
   "metadata": {},
   "outputs": [],
   "source": [
    "age <- fread('oncology_m4-9-14.csv',select=c('MEMBR_AGE'))"
   ]
  },
  {
   "cell_type": "code",
   "execution_count": 1599,
   "metadata": {},
   "outputs": [
    {
     "data": {
      "text/html": [
       "<dl class=dl-horizontal>\n",
       "\t<dt>25%</dt>\n",
       "\t\t<dd>48</dd>\n",
       "\t<dt>97.5%</dt>\n",
       "\t\t<dd>68</dd>\n",
       "</dl>\n"
      ],
      "text/latex": [
       "\\begin{description*}\n",
       "\\item[25\\textbackslash{}\\%] 48\n",
       "\\item[97.5\\textbackslash{}\\%] 68\n",
       "\\end{description*}\n"
      ],
      "text/markdown": [
       "25%\n",
       ":   4897.5%\n",
       ":   68\n",
       "\n"
      ],
      "text/plain": [
       "  25% 97.5% \n",
       "   48    68 "
      ]
     },
     "metadata": {},
     "output_type": "display_data"
    }
   ],
   "source": [
    "quantile(age$MEMBR_AGE,c(0.25,0.975))"
   ]
  },
  {
   "cell_type": "markdown",
   "metadata": {},
   "source": [
    "# annealing and DAG visuals"
   ]
  },
  {
   "cell_type": "code",
   "execution_count": 1585,
   "metadata": {},
   "outputs": [],
   "source": [
    "rm(list=ls())"
   ]
  },
  {
   "cell_type": "markdown",
   "metadata": {},
   "source": [
    "## functions"
   ]
  },
  {
   "cell_type": "code",
   "execution_count": 1556,
   "metadata": {},
   "outputs": [],
   "source": [
    "show_causalvars <- function(ens,Output,Threshold=0.1){\n",
    "    #ens <- fsReadModel(Ensemble)\n",
    "    upstream = fsCausalVars(ens,Output)\n",
    "    popular_upstream=fsCausalVars(ens,Output,Threshold)\n",
    "    unpopular_upstream=setdiff(upstream,popular_upstream)\n",
    "\n",
    "    cat(paste0('\\n Popular causal inputs for output ',Output,' at cutoff = ',Threshold,':\\n'))\n",
    "    print(popular_upstream)\n",
    "    cat(paste0('\\n Unpopular causal inputs for output ',Output,' at cutoff = ',Threshold,':\\n'))\n",
    "    print(unpopular_upstream)\n",
    "}"
   ]
  },
  {
   "cell_type": "code",
   "execution_count": 1557,
   "metadata": {},
   "outputs": [],
   "source": [
    "show_downstreamvars <- function(ens,Output,Threshold=0.1){\n",
    "    #ens <- fsReadModel(Ensemble)\n",
    "    downstream = fsDownstreamVars(ens,Output)\n",
    "    popular_downstream=fsDownstreamVars(ens,Output,Threshold)\n",
    "    unpopular_downstream=setdiff(downstream,popular_downstream)\n",
    "\n",
    "    cat(paste0('\\n Popular downstream outputs for input ',Output,' at cutoff = ',Threshold,':\\n'))\n",
    "    print(popular_downstream)\n",
    "    cat(paste0('\\n Unpopular downstream outputs for input ',Output,' at cutoff = ',Threshold,':\\n'))\n",
    "    print(unpopular_downstream)\n",
    "}"
   ]
  },
  {
   "cell_type": "markdown",
   "metadata": {},
   "source": [
    "## plots"
   ]
  },
  {
   "cell_type": "code",
   "execution_count": 1558,
   "metadata": {},
   "outputs": [],
   "source": [
    "jobpath = '/gnshealthcare/shared/nli/models/M4/otfrun_m4.9.14.4/'"
   ]
  },
  {
   "cell_type": "code",
   "execution_count": 1559,
   "metadata": {},
   "outputs": [],
   "source": [
    "setwd(jobpath)"
   ]
  },
  {
   "cell_type": "code",
   "execution_count": 1560,
   "metadata": {},
   "outputs": [],
   "source": [
    "load('otfInst.RData')"
   ]
  },
  {
   "cell_type": "code",
   "execution_count": 1561,
   "metadata": {},
   "outputs": [
    {
     "data": {
      "text/html": [
       "'/gnshealthcare/shared/nli/models/M4/otfrun_m4.9.14.4'"
      ],
      "text/latex": [
       "'/gnshealthcare/shared/nli/models/M4/otfrun\\_m4.9.14.4'"
      ],
      "text/markdown": [
       "'/gnshealthcare/shared/nli/models/M4/otfrun_m4.9.14.4'"
      ],
      "text/plain": [
       "[1] \"/gnshealthcare/shared/nli/models/M4/otfrun_m4.9.14.4\""
      ]
     },
     "metadata": {},
     "output_type": "display_data"
    }
   ],
   "source": [
    "getwd()"
   ]
  },
  {
   "cell_type": "code",
   "execution_count": 1562,
   "metadata": {},
   "outputs": [],
   "source": [
    "obj@path <- jobpath"
   ]
  },
  {
   "cell_type": "markdown",
   "metadata": {},
   "source": [
    "Cannot show convergence plot inline somehow - dead kernel"
   ]
  },
  {
   "cell_type": "code",
   "execution_count": 1563,
   "metadata": {},
   "outputs": [],
   "source": [
    "#GNSRE::plotConvergence(obj,save.plot = T)"
   ]
  },
  {
   "cell_type": "markdown",
   "metadata": {},
   "source": [
    "convertToProtobuf -e NetFragFile.txt -T train.csv -p convert.proto"
   ]
  },
  {
   "cell_type": "code",
   "execution_count": 1564,
   "metadata": {},
   "outputs": [],
   "source": [
    "#ens <- fsReadModel(\"convert.proto\")"
   ]
  },
  {
   "cell_type": "code",
   "execution_count": 1565,
   "metadata": {},
   "outputs": [],
   "source": [
    "ens <- fsReadModel(\"NetFragFile.txt.protobuf\")"
   ]
  },
  {
   "cell_type": "code",
   "execution_count": 1566,
   "metadata": {},
   "outputs": [],
   "source": [
    "edges <- fsEdgeFrequencies(ens,freqThreshold =0.1)"
   ]
  },
  {
   "cell_type": "code",
   "execution_count": 1567,
   "metadata": {},
   "outputs": [
    {
     "data": {
      "text/html": [
       "60"
      ],
      "text/latex": [
       "60"
      ],
      "text/markdown": [
       "60"
      ],
      "text/plain": [
       "[1] 60"
      ]
     },
     "metadata": {},
     "output_type": "display_data"
    }
   ],
   "source": [
    "length(unique(edges$input))"
   ]
  },
  {
   "cell_type": "code",
   "execution_count": null,
   "metadata": {},
   "outputs": [],
   "source": []
  },
  {
   "cell_type": "code",
   "execution_count": 1568,
   "metadata": {},
   "outputs": [],
   "source": [
    "terms <- fsTermFrequencies(ens)"
   ]
  },
  {
   "cell_type": "code",
   "execution_count": 1569,
   "metadata": {},
   "outputs": [
    {
     "data": {
      "text/html": [
       "<table>\n",
       "<thead><tr><th></th><th scope=col>input</th><th scope=col>output</th><th scope=col>freq</th></tr></thead>\n",
       "<tbody>\n",
       "\t<tr><th scope=row>39</th><td>PLACE_OF_SVC_CD_11_R12M                      </td><td>actCount_5_R12M                              </td><td>0.8203125                                    </td></tr>\n",
       "\t<tr><th scope=row>74</th><td>actCount_20_R12M:PLACE_OF_SVC_CD_11_R12M     </td><td>actCount_5_R12M                              </td><td>0.5156250                                    </td></tr>\n",
       "\t<tr><th scope=row>122</th><td>IPLOS_R6M:PLACE_OF_SVC_CD_11_R12M            </td><td>actCount_5_R12M                              </td><td>0.1953125                                    </td></tr>\n",
       "\t<tr><th scope=row>148</th><td>actCount_22_R12M:DIAG_CCS_26_R12M:RxElig_R12M</td><td>actCount_5_R12M                              </td><td>0.1406250                                    </td></tr>\n",
       "\t<tr><th scope=row>149</th><td>IPLOS_F12M:DIAG_CCS_26_R12M:RxElig_R12M      </td><td>actCount_5_R12M                              </td><td>0.1406250                                    </td></tr>\n",
       "\t<tr><th scope=row>150</th><td>RxElig_R12M:DIAG_CCS_26_R12M                 </td><td>actCount_5_R12M                              </td><td>0.1406250                                    </td></tr>\n",
       "\t<tr><th scope=row>259</th><td>actCount_22_R12M:DIAG_CCS_25_R12M:RxElig_R12M</td><td>actCount_5_R12M                              </td><td>0.0312500                                    </td></tr>\n",
       "\t<tr><th scope=row>260</th><td>actCount_22_R12M:PLACE_OF_SVC_CD_11_R12M     </td><td>actCount_5_R12M                              </td><td>0.0312500                                    </td></tr>\n",
       "\t<tr><th scope=row>261</th><td>IPLOS_F12M:DIAG_CCS_25_R12M:RxElig_R12M      </td><td>actCount_5_R12M                              </td><td>0.0312500                                    </td></tr>\n",
       "\t<tr><th scope=row>262</th><td>IPLOS_F12M:PLACE_OF_SVC_CD_11_R12M           </td><td>actCount_5_R12M                              </td><td>0.0312500                                    </td></tr>\n",
       "</tbody>\n",
       "</table>\n"
      ],
      "text/latex": [
       "\\begin{tabular}{r|lll}\n",
       "  & input & output & freq\\\\\n",
       "\\hline\n",
       "\t39 & PLACE\\_OF\\_SVC\\_CD\\_11\\_R12M                       & actCount\\_5\\_R12M                                     & 0.8203125                                              \\\\\n",
       "\t74 & actCount\\_20\\_R12M:PLACE\\_OF\\_SVC\\_CD\\_11\\_R12M      & actCount\\_5\\_R12M                                         & 0.5156250                                                  \\\\\n",
       "\t122 & IPLOS\\_R6M:PLACE\\_OF\\_SVC\\_CD\\_11\\_R12M             & actCount\\_5\\_R12M                                       & 0.1953125                                                \\\\\n",
       "\t148 & actCount\\_22\\_R12M:DIAG\\_CCS\\_26\\_R12M:RxElig\\_R12M & actCount\\_5\\_R12M                                       & 0.1406250                                                \\\\\n",
       "\t149 & IPLOS\\_F12M:DIAG\\_CCS\\_26\\_R12M:RxElig\\_R12M       & actCount\\_5\\_R12M                                     & 0.1406250                                              \\\\\n",
       "\t150 & RxElig\\_R12M:DIAG\\_CCS\\_26\\_R12M                  & actCount\\_5\\_R12M                                   & 0.1406250                                            \\\\\n",
       "\t259 & actCount\\_22\\_R12M:DIAG\\_CCS\\_25\\_R12M:RxElig\\_R12M & actCount\\_5\\_R12M                                       & 0.0312500                                                \\\\\n",
       "\t260 & actCount\\_22\\_R12M:PLACE\\_OF\\_SVC\\_CD\\_11\\_R12M      & actCount\\_5\\_R12M                                         & 0.0312500                                                  \\\\\n",
       "\t261 & IPLOS\\_F12M:DIAG\\_CCS\\_25\\_R12M:RxElig\\_R12M       & actCount\\_5\\_R12M                                     & 0.0312500                                              \\\\\n",
       "\t262 & IPLOS\\_F12M:PLACE\\_OF\\_SVC\\_CD\\_11\\_R12M            & actCount\\_5\\_R12M                                       & 0.0312500                                                \\\\\n",
       "\\end{tabular}\n"
      ],
      "text/markdown": [
       "\n",
       "| <!--/--> | input | output | freq | \n",
       "|---|---|---|---|---|---|---|---|---|---|\n",
       "| 39 | PLACE_OF_SVC_CD_11_R12M                       | actCount_5_R12M                               | 0.8203125                                     | \n",
       "| 74 | actCount_20_R12M:PLACE_OF_SVC_CD_11_R12M      | actCount_5_R12M                               | 0.5156250                                     | \n",
       "| 122 | IPLOS_R6M:PLACE_OF_SVC_CD_11_R12M             | actCount_5_R12M                               | 0.1953125                                     | \n",
       "| 148 | actCount_22_R12M:DIAG_CCS_26_R12M:RxElig_R12M | actCount_5_R12M                               | 0.1406250                                     | \n",
       "| 149 | IPLOS_F12M:DIAG_CCS_26_R12M:RxElig_R12M       | actCount_5_R12M                               | 0.1406250                                     | \n",
       "| 150 | RxElig_R12M:DIAG_CCS_26_R12M                  | actCount_5_R12M                               | 0.1406250                                     | \n",
       "| 259 | actCount_22_R12M:DIAG_CCS_25_R12M:RxElig_R12M | actCount_5_R12M                               | 0.0312500                                     | \n",
       "| 260 | actCount_22_R12M:PLACE_OF_SVC_CD_11_R12M      | actCount_5_R12M                               | 0.0312500                                     | \n",
       "| 261 | IPLOS_F12M:DIAG_CCS_25_R12M:RxElig_R12M       | actCount_5_R12M                               | 0.0312500                                     | \n",
       "| 262 | IPLOS_F12M:PLACE_OF_SVC_CD_11_R12M            | actCount_5_R12M                               | 0.0312500                                     | \n",
       "\n",
       "\n"
      ],
      "text/plain": [
       "    input                                         output          freq     \n",
       "39  PLACE_OF_SVC_CD_11_R12M                       actCount_5_R12M 0.8203125\n",
       "74  actCount_20_R12M:PLACE_OF_SVC_CD_11_R12M      actCount_5_R12M 0.5156250\n",
       "122 IPLOS_R6M:PLACE_OF_SVC_CD_11_R12M             actCount_5_R12M 0.1953125\n",
       "148 actCount_22_R12M:DIAG_CCS_26_R12M:RxElig_R12M actCount_5_R12M 0.1406250\n",
       "149 IPLOS_F12M:DIAG_CCS_26_R12M:RxElig_R12M       actCount_5_R12M 0.1406250\n",
       "150 RxElig_R12M:DIAG_CCS_26_R12M                  actCount_5_R12M 0.1406250\n",
       "259 actCount_22_R12M:DIAG_CCS_25_R12M:RxElig_R12M actCount_5_R12M 0.0312500\n",
       "260 actCount_22_R12M:PLACE_OF_SVC_CD_11_R12M      actCount_5_R12M 0.0312500\n",
       "261 IPLOS_F12M:DIAG_CCS_25_R12M:RxElig_R12M       actCount_5_R12M 0.0312500\n",
       "262 IPLOS_F12M:PLACE_OF_SVC_CD_11_R12M            actCount_5_R12M 0.0312500"
      ]
     },
     "metadata": {},
     "output_type": "display_data"
    }
   ],
   "source": [
    "head(terms[terms$output=='actCount_5_R12M',],10)"
   ]
  },
  {
   "cell_type": "code",
   "execution_count": 1570,
   "metadata": {},
   "outputs": [
    {
     "data": {
      "text/html": [
       "<dl class=dl-horizontal>\n",
       "\t<dt>actCount_19_R12M</dt>\n",
       "\t\t<dd>8</dd>\n",
       "\t<dt>actCount_17_R12M</dt>\n",
       "\t\t<dd>7.09375</dd>\n",
       "\t<dt>actCount_4_R12M</dt>\n",
       "\t\t<dd>6.6640625</dd>\n",
       "\t<dt>med_cost_F12M</dt>\n",
       "\t\t<dd>5.3359375</dd>\n",
       "\t<dt>actCount_9_R12M</dt>\n",
       "\t\t<dd>5.2265625</dd>\n",
       "\t<dt>actCount_15_R12M</dt>\n",
       "\t\t<dd>5.2265625</dd>\n",
       "\t<dt>actCount_1_R12M</dt>\n",
       "\t\t<dd>5.015625</dd>\n",
       "\t<dt>actCount_21_R12M</dt>\n",
       "\t\t<dd>4.859375</dd>\n",
       "\t<dt>actCount_22_R12M</dt>\n",
       "\t\t<dd>4.546875</dd>\n",
       "\t<dt>actCount_23_R12M</dt>\n",
       "\t\t<dd>4.1640625</dd>\n",
       "\t<dt>ERCount_F12M</dt>\n",
       "\t\t<dd>4</dd>\n",
       "\t<dt>IPLOS_F12M</dt>\n",
       "\t\t<dd>3.9921875</dd>\n",
       "\t<dt>actCount_3_R12M</dt>\n",
       "\t\t<dd>3.9453125</dd>\n",
       "\t<dt>actCount_2_R12M</dt>\n",
       "\t\t<dd>3.890625</dd>\n",
       "\t<dt>actCount_20_R12M</dt>\n",
       "\t\t<dd>3.8125</dd>\n",
       "\t<dt>actCount_16_R12M</dt>\n",
       "\t\t<dd>3.484375</dd>\n",
       "\t<dt>log_medcost_F12M</dt>\n",
       "\t\t<dd>3.25</dd>\n",
       "\t<dt>actCount_10_R12M</dt>\n",
       "\t\t<dd>3.25</dd>\n",
       "\t<dt>OPCount_F12M</dt>\n",
       "\t\t<dd>3.1484375</dd>\n",
       "\t<dt>actCount_7_R12M</dt>\n",
       "\t\t<dd>2.453125</dd>\n",
       "\t<dt>actCount_6_R12M</dt>\n",
       "\t\t<dd>2.4140625</dd>\n",
       "\t<dt>actCount_12_R12M</dt>\n",
       "\t\t<dd>2.375</dd>\n",
       "\t<dt>actCount_5_R12M</dt>\n",
       "\t\t<dd>2.359375</dd>\n",
       "\t<dt>actCount_8_R12M</dt>\n",
       "\t\t<dd>2.2265625</dd>\n",
       "\t<dt>actCount_13_R12M</dt>\n",
       "\t\t<dd>2.046875</dd>\n",
       "</dl>\n"
      ],
      "text/latex": [
       "\\begin{description*}\n",
       "\\item[actCount\\textbackslash{}\\_19\\textbackslash{}\\_R12M] 8\n",
       "\\item[actCount\\textbackslash{}\\_17\\textbackslash{}\\_R12M] 7.09375\n",
       "\\item[actCount\\textbackslash{}\\_4\\textbackslash{}\\_R12M] 6.6640625\n",
       "\\item[med\\textbackslash{}\\_cost\\textbackslash{}\\_F12M] 5.3359375\n",
       "\\item[actCount\\textbackslash{}\\_9\\textbackslash{}\\_R12M] 5.2265625\n",
       "\\item[actCount\\textbackslash{}\\_15\\textbackslash{}\\_R12M] 5.2265625\n",
       "\\item[actCount\\textbackslash{}\\_1\\textbackslash{}\\_R12M] 5.015625\n",
       "\\item[actCount\\textbackslash{}\\_21\\textbackslash{}\\_R12M] 4.859375\n",
       "\\item[actCount\\textbackslash{}\\_22\\textbackslash{}\\_R12M] 4.546875\n",
       "\\item[actCount\\textbackslash{}\\_23\\textbackslash{}\\_R12M] 4.1640625\n",
       "\\item[ERCount\\textbackslash{}\\_F12M] 4\n",
       "\\item[IPLOS\\textbackslash{}\\_F12M] 3.9921875\n",
       "\\item[actCount\\textbackslash{}\\_3\\textbackslash{}\\_R12M] 3.9453125\n",
       "\\item[actCount\\textbackslash{}\\_2\\textbackslash{}\\_R12M] 3.890625\n",
       "\\item[actCount\\textbackslash{}\\_20\\textbackslash{}\\_R12M] 3.8125\n",
       "\\item[actCount\\textbackslash{}\\_16\\textbackslash{}\\_R12M] 3.484375\n",
       "\\item[log\\textbackslash{}\\_medcost\\textbackslash{}\\_F12M] 3.25\n",
       "\\item[actCount\\textbackslash{}\\_10\\textbackslash{}\\_R12M] 3.25\n",
       "\\item[OPCount\\textbackslash{}\\_F12M] 3.1484375\n",
       "\\item[actCount\\textbackslash{}\\_7\\textbackslash{}\\_R12M] 2.453125\n",
       "\\item[actCount\\textbackslash{}\\_6\\textbackslash{}\\_R12M] 2.4140625\n",
       "\\item[actCount\\textbackslash{}\\_12\\textbackslash{}\\_R12M] 2.375\n",
       "\\item[actCount\\textbackslash{}\\_5\\textbackslash{}\\_R12M] 2.359375\n",
       "\\item[actCount\\textbackslash{}\\_8\\textbackslash{}\\_R12M] 2.2265625\n",
       "\\item[actCount\\textbackslash{}\\_13\\textbackslash{}\\_R12M] 2.046875\n",
       "\\end{description*}\n"
      ],
      "text/markdown": [
       "actCount_19_R12M\n",
       ":   8actCount_17_R12M\n",
       ":   7.09375actCount_4_R12M\n",
       ":   6.6640625med_cost_F12M\n",
       ":   5.3359375actCount_9_R12M\n",
       ":   5.2265625actCount_15_R12M\n",
       ":   5.2265625actCount_1_R12M\n",
       ":   5.015625actCount_21_R12M\n",
       ":   4.859375actCount_22_R12M\n",
       ":   4.546875actCount_23_R12M\n",
       ":   4.1640625ERCount_F12M\n",
       ":   4IPLOS_F12M\n",
       ":   3.9921875actCount_3_R12M\n",
       ":   3.9453125actCount_2_R12M\n",
       ":   3.890625actCount_20_R12M\n",
       ":   3.8125actCount_16_R12M\n",
       ":   3.484375log_medcost_F12M\n",
       ":   3.25actCount_10_R12M\n",
       ":   3.25OPCount_F12M\n",
       ":   3.1484375actCount_7_R12M\n",
       ":   2.453125actCount_6_R12M\n",
       ":   2.4140625actCount_12_R12M\n",
       ":   2.375actCount_5_R12M\n",
       ":   2.359375actCount_8_R12M\n",
       ":   2.2265625actCount_13_R12M\n",
       ":   2.046875\n",
       "\n"
      ],
      "text/plain": [
       "actCount_19_R12M actCount_17_R12M  actCount_4_R12M    med_cost_F12M \n",
       "        8.000000         7.093750         6.664062         5.335938 \n",
       " actCount_9_R12M actCount_15_R12M  actCount_1_R12M actCount_21_R12M \n",
       "        5.226562         5.226562         5.015625         4.859375 \n",
       "actCount_22_R12M actCount_23_R12M     ERCount_F12M       IPLOS_F12M \n",
       "        4.546875         4.164062         4.000000         3.992188 \n",
       " actCount_3_R12M  actCount_2_R12M actCount_20_R12M actCount_16_R12M \n",
       "        3.945312         3.890625         3.812500         3.484375 \n",
       "log_medcost_F12M actCount_10_R12M     OPCount_F12M  actCount_7_R12M \n",
       "        3.250000         3.250000         3.148438         2.453125 \n",
       " actCount_6_R12M actCount_12_R12M  actCount_5_R12M  actCount_8_R12M \n",
       "        2.414062         2.375000         2.359375         2.226562 \n",
       "actCount_13_R12M \n",
       "        2.046875 "
      ]
     },
     "metadata": {},
     "output_type": "display_data"
    }
   ],
   "source": [
    "fsAvgInDegree(ens)"
   ]
  },
  {
   "cell_type": "code",
   "execution_count": 1571,
   "metadata": {},
   "outputs": [
    {
     "data": {
      "text/html": [
       "<ol class=list-inline>\n",
       "\t<li>'DIAG_CCS_11_R12M'</li>\n",
       "\t<li>'DIAG_CCS_14_R12M'</li>\n",
       "\t<li>'DIAG_CCS_15_R12M'</li>\n",
       "\t<li>'DIAG_CCS_18_R12M'</li>\n",
       "\t<li>'DIAG_CCS_26_R12M'</li>\n",
       "\t<li>'DIAG_CCS_39_R12M'</li>\n",
       "\t<li>'DIAG_CCS_40_R12M'</li>\n",
       "\t<li>'DIAG_CCS_41_R12M'</li>\n",
       "\t<li>'DIAG_CCS_42_R12M'</li>\n",
       "\t<li>'DIAG_CCS_43_R12M'</li>\n",
       "\t<li>'DIAG_CCS_47_R12M'</li>\n",
       "\t<li>'DIAG_Charlson_diabetes_R12M'</li>\n",
       "\t<li>'DIAG_Charlson_metastatictumor_R12M'</li>\n",
       "\t<li>'DIAG_Charlson_renal_R12M'</li>\n",
       "\t<li>'ERCount_F12M'</li>\n",
       "\t<li>'ERCount_R12M'</li>\n",
       "\t<li>'ERCount_R6M'</li>\n",
       "\t<li>'GENDER_CD_M'</li>\n",
       "\t<li>'IPLOS_F12M'</li>\n",
       "\t<li>'IPLOS_R12M'</li>\n",
       "\t<li>'IPLOS_R6M'</li>\n",
       "\t<li>'MEMBR_AGE'</li>\n",
       "\t<li>'OPCount_F12M'</li>\n",
       "\t<li>'OPCount_R12M'</li>\n",
       "\t<li>'OPCount_R6M'</li>\n",
       "\t<li>'PLACE_OF_SVC_CD_11_R12M'</li>\n",
       "\t<li>'PLACE_OF_SVC_CD_12_R12M'</li>\n",
       "\t<li>'PLACE_OF_SVC_CD_21_R12M'</li>\n",
       "\t<li>'PLACE_OF_SVC_CD_23_R12M'</li>\n",
       "\t<li>'PLACE_OF_SVC_CD_81_R12M'</li>\n",
       "\t<li>'RxElig_R12M'</li>\n",
       "\t<li>'actCount_10_R12M'</li>\n",
       "\t<li>'actCount_12_R12M'</li>\n",
       "\t<li>'actCount_13_R12M'</li>\n",
       "\t<li>'actCount_15_R12M'</li>\n",
       "\t<li>'actCount_19_R12M'</li>\n",
       "\t<li>'actCount_20_R12M'</li>\n",
       "\t<li>'actCount_21_R12M'</li>\n",
       "\t<li>'actCount_22_R12M'</li>\n",
       "\t<li>'actCount_23_R12M'</li>\n",
       "\t<li>'actCount_2_R12M'</li>\n",
       "\t<li>'actCount_3_R12M'</li>\n",
       "\t<li>'actCount_5_R12M'</li>\n",
       "\t<li>'actCount_6_R12M'</li>\n",
       "\t<li>'actCount_7_R12M'</li>\n",
       "\t<li>'actCount_8_R12M'</li>\n",
       "\t<li>'actCount_9_R12M'</li>\n",
       "\t<li>'log_medcost_R12M'</li>\n",
       "\t<li>'log_medcost_R6M'</li>\n",
       "\t<li>'referral_INTERNAL_REFERRAL'</li>\n",
       "\t<li>'referral_POST_DISCHARGE'</li>\n",
       "\t<li>'referral_PRE_ADMISSION'</li>\n",
       "\t<li>'referral_PROVIDER_REFERRAL'</li>\n",
       "</ol>\n"
      ],
      "text/latex": [
       "\\begin{enumerate*}\n",
       "\\item 'DIAG\\_CCS\\_11\\_R12M'\n",
       "\\item 'DIAG\\_CCS\\_14\\_R12M'\n",
       "\\item 'DIAG\\_CCS\\_15\\_R12M'\n",
       "\\item 'DIAG\\_CCS\\_18\\_R12M'\n",
       "\\item 'DIAG\\_CCS\\_26\\_R12M'\n",
       "\\item 'DIAG\\_CCS\\_39\\_R12M'\n",
       "\\item 'DIAG\\_CCS\\_40\\_R12M'\n",
       "\\item 'DIAG\\_CCS\\_41\\_R12M'\n",
       "\\item 'DIAG\\_CCS\\_42\\_R12M'\n",
       "\\item 'DIAG\\_CCS\\_43\\_R12M'\n",
       "\\item 'DIAG\\_CCS\\_47\\_R12M'\n",
       "\\item 'DIAG\\_Charlson\\_diabetes\\_R12M'\n",
       "\\item 'DIAG\\_Charlson\\_metastatictumor\\_R12M'\n",
       "\\item 'DIAG\\_Charlson\\_renal\\_R12M'\n",
       "\\item 'ERCount\\_F12M'\n",
       "\\item 'ERCount\\_R12M'\n",
       "\\item 'ERCount\\_R6M'\n",
       "\\item 'GENDER\\_CD\\_M'\n",
       "\\item 'IPLOS\\_F12M'\n",
       "\\item 'IPLOS\\_R12M'\n",
       "\\item 'IPLOS\\_R6M'\n",
       "\\item 'MEMBR\\_AGE'\n",
       "\\item 'OPCount\\_F12M'\n",
       "\\item 'OPCount\\_R12M'\n",
       "\\item 'OPCount\\_R6M'\n",
       "\\item 'PLACE\\_OF\\_SVC\\_CD\\_11\\_R12M'\n",
       "\\item 'PLACE\\_OF\\_SVC\\_CD\\_12\\_R12M'\n",
       "\\item 'PLACE\\_OF\\_SVC\\_CD\\_21\\_R12M'\n",
       "\\item 'PLACE\\_OF\\_SVC\\_CD\\_23\\_R12M'\n",
       "\\item 'PLACE\\_OF\\_SVC\\_CD\\_81\\_R12M'\n",
       "\\item 'RxElig\\_R12M'\n",
       "\\item 'actCount\\_10\\_R12M'\n",
       "\\item 'actCount\\_12\\_R12M'\n",
       "\\item 'actCount\\_13\\_R12M'\n",
       "\\item 'actCount\\_15\\_R12M'\n",
       "\\item 'actCount\\_19\\_R12M'\n",
       "\\item 'actCount\\_20\\_R12M'\n",
       "\\item 'actCount\\_21\\_R12M'\n",
       "\\item 'actCount\\_22\\_R12M'\n",
       "\\item 'actCount\\_23\\_R12M'\n",
       "\\item 'actCount\\_2\\_R12M'\n",
       "\\item 'actCount\\_3\\_R12M'\n",
       "\\item 'actCount\\_5\\_R12M'\n",
       "\\item 'actCount\\_6\\_R12M'\n",
       "\\item 'actCount\\_7\\_R12M'\n",
       "\\item 'actCount\\_8\\_R12M'\n",
       "\\item 'actCount\\_9\\_R12M'\n",
       "\\item 'log\\_medcost\\_R12M'\n",
       "\\item 'log\\_medcost\\_R6M'\n",
       "\\item 'referral\\_INTERNAL\\_REFERRAL'\n",
       "\\item 'referral\\_POST\\_DISCHARGE'\n",
       "\\item 'referral\\_PRE\\_ADMISSION'\n",
       "\\item 'referral\\_PROVIDER\\_REFERRAL'\n",
       "\\end{enumerate*}\n"
      ],
      "text/markdown": [
       "1. 'DIAG_CCS_11_R12M'\n",
       "2. 'DIAG_CCS_14_R12M'\n",
       "3. 'DIAG_CCS_15_R12M'\n",
       "4. 'DIAG_CCS_18_R12M'\n",
       "5. 'DIAG_CCS_26_R12M'\n",
       "6. 'DIAG_CCS_39_R12M'\n",
       "7. 'DIAG_CCS_40_R12M'\n",
       "8. 'DIAG_CCS_41_R12M'\n",
       "9. 'DIAG_CCS_42_R12M'\n",
       "10. 'DIAG_CCS_43_R12M'\n",
       "11. 'DIAG_CCS_47_R12M'\n",
       "12. 'DIAG_Charlson_diabetes_R12M'\n",
       "13. 'DIAG_Charlson_metastatictumor_R12M'\n",
       "14. 'DIAG_Charlson_renal_R12M'\n",
       "15. 'ERCount_F12M'\n",
       "16. 'ERCount_R12M'\n",
       "17. 'ERCount_R6M'\n",
       "18. 'GENDER_CD_M'\n",
       "19. 'IPLOS_F12M'\n",
       "20. 'IPLOS_R12M'\n",
       "21. 'IPLOS_R6M'\n",
       "22. 'MEMBR_AGE'\n",
       "23. 'OPCount_F12M'\n",
       "24. 'OPCount_R12M'\n",
       "25. 'OPCount_R6M'\n",
       "26. 'PLACE_OF_SVC_CD_11_R12M'\n",
       "27. 'PLACE_OF_SVC_CD_12_R12M'\n",
       "28. 'PLACE_OF_SVC_CD_21_R12M'\n",
       "29. 'PLACE_OF_SVC_CD_23_R12M'\n",
       "30. 'PLACE_OF_SVC_CD_81_R12M'\n",
       "31. 'RxElig_R12M'\n",
       "32. 'actCount_10_R12M'\n",
       "33. 'actCount_12_R12M'\n",
       "34. 'actCount_13_R12M'\n",
       "35. 'actCount_15_R12M'\n",
       "36. 'actCount_19_R12M'\n",
       "37. 'actCount_20_R12M'\n",
       "38. 'actCount_21_R12M'\n",
       "39. 'actCount_22_R12M'\n",
       "40. 'actCount_23_R12M'\n",
       "41. 'actCount_2_R12M'\n",
       "42. 'actCount_3_R12M'\n",
       "43. 'actCount_5_R12M'\n",
       "44. 'actCount_6_R12M'\n",
       "45. 'actCount_7_R12M'\n",
       "46. 'actCount_8_R12M'\n",
       "47. 'actCount_9_R12M'\n",
       "48. 'log_medcost_R12M'\n",
       "49. 'log_medcost_R6M'\n",
       "50. 'referral_INTERNAL_REFERRAL'\n",
       "51. 'referral_POST_DISCHARGE'\n",
       "52. 'referral_PRE_ADMISSION'\n",
       "53. 'referral_PROVIDER_REFERRAL'\n",
       "\n",
       "\n"
      ],
      "text/plain": [
       " [1] \"DIAG_CCS_11_R12M\"                   \"DIAG_CCS_14_R12M\"                  \n",
       " [3] \"DIAG_CCS_15_R12M\"                   \"DIAG_CCS_18_R12M\"                  \n",
       " [5] \"DIAG_CCS_26_R12M\"                   \"DIAG_CCS_39_R12M\"                  \n",
       " [7] \"DIAG_CCS_40_R12M\"                   \"DIAG_CCS_41_R12M\"                  \n",
       " [9] \"DIAG_CCS_42_R12M\"                   \"DIAG_CCS_43_R12M\"                  \n",
       "[11] \"DIAG_CCS_47_R12M\"                   \"DIAG_Charlson_diabetes_R12M\"       \n",
       "[13] \"DIAG_Charlson_metastatictumor_R12M\" \"DIAG_Charlson_renal_R12M\"          \n",
       "[15] \"ERCount_F12M\"                       \"ERCount_R12M\"                      \n",
       "[17] \"ERCount_R6M\"                        \"GENDER_CD_M\"                       \n",
       "[19] \"IPLOS_F12M\"                         \"IPLOS_R12M\"                        \n",
       "[21] \"IPLOS_R6M\"                          \"MEMBR_AGE\"                         \n",
       "[23] \"OPCount_F12M\"                       \"OPCount_R12M\"                      \n",
       "[25] \"OPCount_R6M\"                        \"PLACE_OF_SVC_CD_11_R12M\"           \n",
       "[27] \"PLACE_OF_SVC_CD_12_R12M\"            \"PLACE_OF_SVC_CD_21_R12M\"           \n",
       "[29] \"PLACE_OF_SVC_CD_23_R12M\"            \"PLACE_OF_SVC_CD_81_R12M\"           \n",
       "[31] \"RxElig_R12M\"                        \"actCount_10_R12M\"                  \n",
       "[33] \"actCount_12_R12M\"                   \"actCount_13_R12M\"                  \n",
       "[35] \"actCount_15_R12M\"                   \"actCount_19_R12M\"                  \n",
       "[37] \"actCount_20_R12M\"                   \"actCount_21_R12M\"                  \n",
       "[39] \"actCount_22_R12M\"                   \"actCount_23_R12M\"                  \n",
       "[41] \"actCount_2_R12M\"                    \"actCount_3_R12M\"                   \n",
       "[43] \"actCount_5_R12M\"                    \"actCount_6_R12M\"                   \n",
       "[45] \"actCount_7_R12M\"                    \"actCount_8_R12M\"                   \n",
       "[47] \"actCount_9_R12M\"                    \"log_medcost_R12M\"                  \n",
       "[49] \"log_medcost_R6M\"                    \"referral_INTERNAL_REFERRAL\"        \n",
       "[51] \"referral_POST_DISCHARGE\"            \"referral_PRE_ADMISSION\"            \n",
       "[53] \"referral_PROVIDER_REFERRAL\"        "
      ]
     },
     "metadata": {},
     "output_type": "display_data"
    }
   ],
   "source": [
    "fsCausalVars(ens,'med_cost_F12M',0.1)"
   ]
  },
  {
   "cell_type": "code",
   "execution_count": 1572,
   "metadata": {},
   "outputs": [
    {
     "data": {
      "text/html": [
       "<ol class=list-inline>\n",
       "\t<li>'ERCount_F12M'</li>\n",
       "\t<li>'IPLOS_F12M'</li>\n",
       "\t<li>'OPCount_F12M'</li>\n",
       "\t<li>'actCount_10_R12M'</li>\n",
       "\t<li>'actCount_12_R12M'</li>\n",
       "\t<li>'actCount_13_R12M'</li>\n",
       "\t<li>'actCount_15_R12M'</li>\n",
       "\t<li>'actCount_16_R12M'</li>\n",
       "\t<li>'actCount_17_R12M'</li>\n",
       "\t<li>'actCount_19_R12M'</li>\n",
       "\t<li>'actCount_1_R12M'</li>\n",
       "\t<li>'actCount_20_R12M'</li>\n",
       "\t<li>'actCount_21_R12M'</li>\n",
       "\t<li>'actCount_22_R12M'</li>\n",
       "\t<li>'actCount_23_R12M'</li>\n",
       "\t<li>'actCount_2_R12M'</li>\n",
       "\t<li>'actCount_3_R12M'</li>\n",
       "\t<li>'actCount_4_R12M'</li>\n",
       "\t<li>'actCount_6_R12M'</li>\n",
       "\t<li>'actCount_7_R12M'</li>\n",
       "\t<li>'actCount_8_R12M'</li>\n",
       "\t<li>'actCount_9_R12M'</li>\n",
       "\t<li>'log_medcost_F12M'</li>\n",
       "\t<li>'med_cost_F12M'</li>\n",
       "</ol>\n"
      ],
      "text/latex": [
       "\\begin{enumerate*}\n",
       "\\item 'ERCount\\_F12M'\n",
       "\\item 'IPLOS\\_F12M'\n",
       "\\item 'OPCount\\_F12M'\n",
       "\\item 'actCount\\_10\\_R12M'\n",
       "\\item 'actCount\\_12\\_R12M'\n",
       "\\item 'actCount\\_13\\_R12M'\n",
       "\\item 'actCount\\_15\\_R12M'\n",
       "\\item 'actCount\\_16\\_R12M'\n",
       "\\item 'actCount\\_17\\_R12M'\n",
       "\\item 'actCount\\_19\\_R12M'\n",
       "\\item 'actCount\\_1\\_R12M'\n",
       "\\item 'actCount\\_20\\_R12M'\n",
       "\\item 'actCount\\_21\\_R12M'\n",
       "\\item 'actCount\\_22\\_R12M'\n",
       "\\item 'actCount\\_23\\_R12M'\n",
       "\\item 'actCount\\_2\\_R12M'\n",
       "\\item 'actCount\\_3\\_R12M'\n",
       "\\item 'actCount\\_4\\_R12M'\n",
       "\\item 'actCount\\_6\\_R12M'\n",
       "\\item 'actCount\\_7\\_R12M'\n",
       "\\item 'actCount\\_8\\_R12M'\n",
       "\\item 'actCount\\_9\\_R12M'\n",
       "\\item 'log\\_medcost\\_F12M'\n",
       "\\item 'med\\_cost\\_F12M'\n",
       "\\end{enumerate*}\n"
      ],
      "text/markdown": [
       "1. 'ERCount_F12M'\n",
       "2. 'IPLOS_F12M'\n",
       "3. 'OPCount_F12M'\n",
       "4. 'actCount_10_R12M'\n",
       "5. 'actCount_12_R12M'\n",
       "6. 'actCount_13_R12M'\n",
       "7. 'actCount_15_R12M'\n",
       "8. 'actCount_16_R12M'\n",
       "9. 'actCount_17_R12M'\n",
       "10. 'actCount_19_R12M'\n",
       "11. 'actCount_1_R12M'\n",
       "12. 'actCount_20_R12M'\n",
       "13. 'actCount_21_R12M'\n",
       "14. 'actCount_22_R12M'\n",
       "15. 'actCount_23_R12M'\n",
       "16. 'actCount_2_R12M'\n",
       "17. 'actCount_3_R12M'\n",
       "18. 'actCount_4_R12M'\n",
       "19. 'actCount_6_R12M'\n",
       "20. 'actCount_7_R12M'\n",
       "21. 'actCount_8_R12M'\n",
       "22. 'actCount_9_R12M'\n",
       "23. 'log_medcost_F12M'\n",
       "24. 'med_cost_F12M'\n",
       "\n",
       "\n"
      ],
      "text/plain": [
       " [1] \"ERCount_F12M\"     \"IPLOS_F12M\"       \"OPCount_F12M\"     \"actCount_10_R12M\"\n",
       " [5] \"actCount_12_R12M\" \"actCount_13_R12M\" \"actCount_15_R12M\" \"actCount_16_R12M\"\n",
       " [9] \"actCount_17_R12M\" \"actCount_19_R12M\" \"actCount_1_R12M\"  \"actCount_20_R12M\"\n",
       "[13] \"actCount_21_R12M\" \"actCount_22_R12M\" \"actCount_23_R12M\" \"actCount_2_R12M\" \n",
       "[17] \"actCount_3_R12M\"  \"actCount_4_R12M\"  \"actCount_6_R12M\"  \"actCount_7_R12M\" \n",
       "[21] \"actCount_8_R12M\"  \"actCount_9_R12M\"  \"log_medcost_F12M\" \"med_cost_F12M\"   "
      ]
     },
     "metadata": {},
     "output_type": "display_data"
    }
   ],
   "source": [
    "fsDownstreamVars(ens,'actCount_5_R12M',0.1)"
   ]
  },
  {
   "cell_type": "code",
   "execution_count": 1573,
   "metadata": {},
   "outputs": [],
   "source": [
    "#show_causalvars(ens,'actCount_5_R12M')"
   ]
  },
  {
   "cell_type": "code",
   "execution_count": 1574,
   "metadata": {},
   "outputs": [],
   "source": [
    "#show_downstreamvars(ens,'actCount_5_R12M')"
   ]
  },
  {
   "cell_type": "code",
   "execution_count": null,
   "metadata": {},
   "outputs": [],
   "source": []
  },
  {
   "cell_type": "markdown",
   "metadata": {},
   "source": [
    "plot_network(ens, output = \"\", freq = 0.1, nnet = NULL, maxpath = -1,\n",
    "       remapNames = NULL, edges = NULL, direction = \"upstream\", ...)\n",
    "\n",
    "Arguments:\n",
    "\n",
    "ens: ensemble object\n",
    "\n",
    "output: name of output variable\n",
    "\n",
    "freq: frequency threhoold\n",
    "\n",
    "nnet: optional network selection\n",
    "\n",
    "maxpath: maximum distance to output\n"
   ]
  },
  {
   "cell_type": "code",
   "execution_count": 1580,
   "metadata": {},
   "outputs": [
    {
     "data": {
      "text/html": [
       "108"
      ],
      "text/latex": [
       "108"
      ],
      "text/markdown": [
       "108"
      ],
      "text/plain": [
       "[1] 108"
      ]
     },
     "metadata": {},
     "output_type": "display_data"
    }
   ],
   "source": [
    "netN = sample(1:128, 1, replace=F)\n",
    "netN"
   ]
  },
  {
   "cell_type": "code",
   "execution_count": 1584,
   "metadata": {},
   "outputs": [
    {
     "name": "stderr",
     "output_type": "stream",
     "text": [
      "Calculating edge  frequencies...\n"
     ]
    },
    {
     "data": {
      "image/png": "[encoded data removed]",
      "text/plain": [
       "plot without title"
      ]
     },
     "metadata": {},
     "output_type": "display_data"
    }
   ],
   "source": [
    "plot_network(ens, \n",
    "             output = 'med_cost_F12M', \n",
    "             #nnet = netN, \n",
    "             freq = .5, \n",
    "             maxpath = 4, \n",
    "             fontsize = 18)"
   ]
  },
  {
   "cell_type": "code",
   "execution_count": 1577,
   "metadata": {
    "scrolled": false
   },
   "outputs": [
    {
     "name": "stderr",
     "output_type": "stream",
     "text": [
      "Calculating edge  frequencies...\n"
     ]
    },
    {
     "data": {
      "image/png": "[encoded data removed]",
      "text/plain": [
       "plot without title"
      ]
     },
     "metadata": {},
     "output_type": "display_data"
    }
   ],
   "source": [
    "plot_network(ens, \n",
    "             output = 'log_medcost_F12M', \n",
    "             #nnet = netN, \n",
    "             freq = .3, \n",
    "             maxpath = 2, \n",
    "             fontsize = 18)"
   ]
  },
  {
   "cell_type": "code",
   "execution_count": null,
   "metadata": {},
   "outputs": [],
   "source": []
  },
  {
   "cell_type": "code",
   "execution_count": null,
   "metadata": {},
   "outputs": [],
   "source": []
  }
 ],
 "metadata": {
  "kernelspec": {
   "display_name": "R",
   "language": "R",
   "name": "ir"
  },
  "language_info": {
   "codemirror_mode": "r",
   "file_extension": ".r",
   "mimetype": "text/x-r-source",
   "name": "R",
   "pygments_lexer": "r",
   "version": "3.3.2"
  },
  "toc": {
   "base_numbering": 1,
   "nav_menu": {},
   "number_sections": true,
   "sideBar": false,
   "skip_h1_title": false,
   "title_cell": "Table of Contents",
   "title_sidebar": "Contents",
   "toc_cell": false,
   "toc_position": {
    "height": "402px",
    "left": "266px",
    "top": "282.140625px",
    "width": "371px"
   },
   "toc_section_display": true,
   "toc_window_display": true
  }
 },
 "nbformat": 4,
 "nbformat_minor": 2
}
