{
 "cells": [
  {
   "cell_type": "markdown",
   "metadata": {},
   "source": [
    "# load tools"
   ]
  },
  {
   "cell_type": "code",
   "execution_count": 1,
   "metadata": {},
   "outputs": [],
   "source": [
    "import numpy as np\n",
    "import pandas as pd"
   ]
  },
  {
   "cell_type": "code",
   "execution_count": 2,
   "metadata": {},
   "outputs": [],
   "source": [
    "import os\n",
    "import glob"
   ]
  },
  {
   "cell_type": "code",
   "execution_count": 3,
   "metadata": {},
   "outputs": [],
   "source": [
    "import psycopg2\n",
    "import sqlalchemy"
   ]
  },
  {
   "cell_type": "code",
   "execution_count": 4,
   "metadata": {},
   "outputs": [],
   "source": [
    "os.chdir(\"/gnshealthcare/shared/nli/dataframe/r36m/\")"
   ]
  },
  {
   "cell_type": "code",
   "execution_count": 5,
   "metadata": {},
   "outputs": [],
   "source": [
    "#os.chdir(\"/gnshealthcare/shared/nli/data/cigna36/\")"
   ]
  },
  {
   "cell_type": "code",
   "execution_count": 6,
   "metadata": {},
   "outputs": [
    {
     "name": "stdout",
     "output_type": "stream",
     "text": [
      "total 29G\r\n",
      "drwxrwxr-x 2 nli gns 4.0K Aug 30 10:50 pool_dedupe_dummy\r\n",
      "-rwxrwxr-x 1 nli gns 3.2G Aug 29 19:22 clm_svc_fact_IDDtDxCharlson_r36m.csv.gz\r\n",
      "-rwxrwxr-x 1 nli gns 1.6G Aug 12 16:27 person_year_month_ctgry_cost.csv\r\n",
      "-rwxrwxr-x 1 nli gns 2.9G Aug 12 15:30 V3_DF2.csv\r\n",
      "-rwxrwxr-x 1 nli gns 346K Aug 10 16:17 vlad_2016nan_medcost_cont_medelig_withPOS11.csv\r\n",
      "-rwxrwxr-x 1 nli gns  11M Aug 10 15:17 vlad_2016nan_medcost_cont_medelig.csv\r\n",
      "-rwxrwxr-x 1 nli gns 2.9G Aug 10 13:33 V3_DF1.csv\r\n",
      "-rwxrwxr-x 1 nli gns 4.2G Aug  9 11:23 clm_svc_fact_rollup_2016-2017.csv.gz\r\n",
      "-rwxrwxr-x 1 nli gns  61M Aug  8 17:46 df0.csv\r\n",
      "-rwxrwxr-x 1 nli gns  92M Aug  8 17:08 x_lob_product_2017.csv\r\n",
      "-rwxrwxr-x 1 nli gns 142M Aug  8 14:54 cont_med_rx_elig2016-2017.csv\r\n",
      "-rwxrwxr-x 1 nli gns 397M Aug  8 10:22 person_year_ctgry_cost.csv\r\n",
      "-rwxrwxr-x 1 nli gns 1.2G Aug  3 16:16 V2_DF.csv\r\n",
      "-rwxrwxr-x 1 nli gns  25M Aug  3 15:03 membr_ben_CVRG_PHRM2016.csv\r\n",
      "-rwxrwxr-x 1 nli gns 1.2G Aug  3 14:54 membr_ben_prod_cvrg_dt.csv\r\n",
      "-rwxrwxr-x 1 nli gns  74M Aug  3 14:40 MEDelig2016-2017membr_dt.csv\r\n",
      "-rwxrwxr-x 1 nli gns 376M Aug  2 15:38 V1_1_DF.csv\r\n",
      "drwxrwxr-x 2 nli gns 4.0K Aug  1 15:45 pool_dummy_groupby-person-year_max\r\n",
      "-rwxrwxr-x 1 nli gns 343M Aug  1 11:49 V1_DF_highcost.csv\r\n",
      "-rwxrwxr-x 1 nli gns 5.2M Aug  1 11:26 V1_RISK_FACT_MEAN2017.csv\r\n",
      "-rwxrwxr-x 1 nli gns 344M Aug  1 11:21 V1_DF.csv\r\n",
      "-rwxrwxr-x 1 nli gns 8.2M Jul 31 13:56 membr_risk_FCT276_elig1617_demo_clm.csv\r\n",
      "-rwxrwxr-x 1 nli gns 179M Jul 31 12:17 membr_risk_FCT276.csv\r\n",
      "-rwxrwxr-x 1 nli gns  92M Jul 31 11:59 membr_pop_uniqID.csv\r\n",
      "-rwxrwxr-x 1 nli gns 3.0G Jul 26 15:36 fullelig2016-2017_clm_svc_fact_rollup.csv.gz\r\n",
      "-rwxrwxr-x 1 nli gns 108M Jul 26 14:41 fullelig2016-2017membr_dt.csv\r\n",
      "-rwxrwxr-x 1 nli gns 288M Jul 26 13:44 person_year_cost.csv\r\n",
      "-rwxrwxr-x 1 nli gns 6.0G Jul 23 18:24 clm_svc_fact_IDKeyCostDtDxProcPOSRx_r36m.csv.gz\r\n"
     ]
    }
   ],
   "source": [
    "!ls -lth"
   ]
  },
  {
   "cell_type": "code",
   "execution_count": 7,
   "metadata": {},
   "outputs": [],
   "source": [
    "%matplotlib inline\n",
    "import matplotlib.pyplot as plt\n",
    "import seaborn as sns\n",
    "sns.set()\n",
    "from bokeh.plotting import figure, output_notebook, show"
   ]
  },
  {
   "cell_type": "code",
   "execution_count": 8,
   "metadata": {},
   "outputs": [
    {
     "name": "stderr",
     "output_type": "stream",
     "text": [
      "/gnshealthcare/shared/nli/anaconda2/lib/python2.7/site-packages/h5py/__init__.py:36: FutureWarning: Conversion of the second argument of issubdtype from `float` to `np.floating` is deprecated. In future, it will be treated as `np.float64 == np.dtype(float).type`.\n",
      "  from ._conv import register_converters as _register_converters\n",
      "/gnshealthcare/shared/nli/anaconda2/lib/python2.7/site-packages/odo/backends/pandas.py:102: FutureWarning: pandas.tslib is deprecated and will be removed in a future version.\n",
      "You can access NaTType as type(pandas.NaT)\n",
      "  @convert.register((pd.Timestamp, pd.Timedelta), (pd.tslib.NaTType, type(None)))\n"
     ]
    }
   ],
   "source": [
    "#conda install -c conda-forge networkx='1.11'\n",
    "from blaze import *\n",
    "import datetime"
   ]
  },
  {
   "cell_type": "code",
   "execution_count": 9,
   "metadata": {},
   "outputs": [],
   "source": [
    "from multiprocessing import Pool"
   ]
  },
  {
   "cell_type": "code",
   "execution_count": 10,
   "metadata": {},
   "outputs": [],
   "source": [
    "#display all output\n",
    "from IPython.core.interactiveshell import InteractiveShell\n",
    "InteractiveShell.ast_node_interactivity = \"all\""
   ]
  },
  {
   "cell_type": "code",
   "execution_count": 11,
   "metadata": {},
   "outputs": [],
   "source": [
    "pd.set_option('display.max_columns', None)\n",
    "pd.set_option('display.max_rows', 160)\n",
    "pd.set_option('max_colwidth',100)"
   ]
  },
  {
   "cell_type": "code",
   "execution_count": 12,
   "metadata": {},
   "outputs": [],
   "source": [
    "import time"
   ]
  },
  {
   "cell_type": "code",
   "execution_count": 13,
   "metadata": {},
   "outputs": [],
   "source": [
    "import itertools"
   ]
  },
  {
   "cell_type": "markdown",
   "metadata": {},
   "source": [
    "# connect"
   ]
  },
  {
   "cell_type": "code",
   "execution_count": 14,
   "metadata": {},
   "outputs": [],
   "source": [
    "con=psycopg2.connect(dbname= 'gns200496v1', host='cigna-redshift.cgqqgon9pujb.us-east-1.redshift.amazonaws.com',\\\n",
    "                     port= '5439', user= 'nli', password='Cignadata1')"
   ]
  },
  {
   "cell_type": "markdown",
   "metadata": {},
   "source": [
    "## query test"
   ]
  },
  {
   "cell_type": "code",
   "execution_count": 52,
   "metadata": {},
   "outputs": [],
   "source": [
    "sel=\"\"\"\n",
    "SELECT INDIV_ENTERPRISE_ID, \n",
    "    sum(BILLD_CHRG_AMT) as BILLD_CHRG_AMT_SUM,\n",
    "    sum(ELGBL_CHRG_AMT) as ELGBL_CHRG_AMT_SUM,\n",
    "    sum(NET_PAYMT_AMT) as NET_PAYMT_AMT_SUM\n",
    "FROM rawdata.clm_svc_fact \n",
    "GROUP BY INDIV_ENTERPRISE_ID\n",
    "--LIMIT 50;\n",
    "\"\"\""
   ]
  },
  {
   "cell_type": "code",
   "execution_count": 53,
   "metadata": {},
   "outputs": [
    {
     "data": {
      "text/plain": [
       "(5014028, 4)"
      ]
     },
     "execution_count": 53,
     "metadata": {},
     "output_type": "execute_result"
    },
    {
     "data": {
      "text/html": [
       "<div>\n",
       "<style scoped>\n",
       "    .dataframe tbody tr th:only-of-type {\n",
       "        vertical-align: middle;\n",
       "    }\n",
       "\n",
       "    .dataframe tbody tr th {\n",
       "        vertical-align: top;\n",
       "    }\n",
       "\n",
       "    .dataframe thead th {\n",
       "        text-align: right;\n",
       "    }\n",
       "</style>\n",
       "<table border=\"1\" class=\"dataframe\">\n",
       "  <thead>\n",
       "    <tr style=\"text-align: right;\">\n",
       "      <th></th>\n",
       "      <th>indiv_enterprise_id</th>\n",
       "      <th>billd_chrg_amt_sum</th>\n",
       "      <th>elgbl_chrg_amt_sum</th>\n",
       "      <th>net_paymt_amt_sum</th>\n",
       "    </tr>\n",
       "  </thead>\n",
       "  <tbody>\n",
       "    <tr>\n",
       "      <th>0</th>\n",
       "      <td>40.0</td>\n",
       "      <td>9348.12</td>\n",
       "      <td>3772.91</td>\n",
       "      <td>3049.75</td>\n",
       "    </tr>\n",
       "    <tr>\n",
       "      <th>1</th>\n",
       "      <td>60.0</td>\n",
       "      <td>3869.36</td>\n",
       "      <td>859.80</td>\n",
       "      <td>318.54</td>\n",
       "    </tr>\n",
       "    <tr>\n",
       "      <th>2</th>\n",
       "      <td>66.0</td>\n",
       "      <td>9786.62</td>\n",
       "      <td>6996.22</td>\n",
       "      <td>6567.79</td>\n",
       "    </tr>\n",
       "    <tr>\n",
       "      <th>3</th>\n",
       "      <td>306.0</td>\n",
       "      <td>0.00</td>\n",
       "      <td>0.00</td>\n",
       "      <td>0.00</td>\n",
       "    </tr>\n",
       "    <tr>\n",
       "      <th>4</th>\n",
       "      <td>323.0</td>\n",
       "      <td>6266.57</td>\n",
       "      <td>2566.07</td>\n",
       "      <td>1477.74</td>\n",
       "    </tr>\n",
       "  </tbody>\n",
       "</table>\n",
       "</div>"
      ],
      "text/plain": [
       "   indiv_enterprise_id  billd_chrg_amt_sum  elgbl_chrg_amt_sum  \\\n",
       "0                 40.0             9348.12             3772.91   \n",
       "1                 60.0             3869.36              859.80   \n",
       "2                 66.0             9786.62             6996.22   \n",
       "3                306.0                0.00                0.00   \n",
       "4                323.0             6266.57             2566.07   \n",
       "\n",
       "   net_paymt_amt_sum  \n",
       "0            3049.75  \n",
       "1             318.54  \n",
       "2            6567.79  \n",
       "3               0.00  \n",
       "4            1477.74  "
      ]
     },
     "execution_count": 53,
     "metadata": {},
     "output_type": "execute_result"
    },
    {
     "data": {
      "text/html": [
       "<div>\n",
       "<style scoped>\n",
       "    .dataframe tbody tr th:only-of-type {\n",
       "        vertical-align: middle;\n",
       "    }\n",
       "\n",
       "    .dataframe tbody tr th {\n",
       "        vertical-align: top;\n",
       "    }\n",
       "\n",
       "    .dataframe thead th {\n",
       "        text-align: right;\n",
       "    }\n",
       "</style>\n",
       "<table border=\"1\" class=\"dataframe\">\n",
       "  <thead>\n",
       "    <tr style=\"text-align: right;\">\n",
       "      <th></th>\n",
       "      <th>indiv_enterprise_id</th>\n",
       "      <th>billd_chrg_amt_sum</th>\n",
       "      <th>elgbl_chrg_amt_sum</th>\n",
       "      <th>net_paymt_amt_sum</th>\n",
       "    </tr>\n",
       "  </thead>\n",
       "  <tbody>\n",
       "    <tr>\n",
       "      <th>count</th>\n",
       "      <td>5.014028e+06</td>\n",
       "      <td>4.990274e+06</td>\n",
       "      <td>4.977836e+06</td>\n",
       "      <td>4.852298e+06</td>\n",
       "    </tr>\n",
       "    <tr>\n",
       "      <th>mean</th>\n",
       "      <td>1.522168e+08</td>\n",
       "      <td>2.592804e+04</td>\n",
       "      <td>1.165495e+04</td>\n",
       "      <td>9.189815e+03</td>\n",
       "    </tr>\n",
       "    <tr>\n",
       "      <th>std</th>\n",
       "      <td>2.258279e+08</td>\n",
       "      <td>1.321816e+05</td>\n",
       "      <td>5.934779e+04</td>\n",
       "      <td>5.477789e+04</td>\n",
       "    </tr>\n",
       "    <tr>\n",
       "      <th>min</th>\n",
       "      <td>9.000000e+00</td>\n",
       "      <td>-6.577269e+06</td>\n",
       "      <td>-3.134996e+05</td>\n",
       "      <td>-3.054047e+05</td>\n",
       "    </tr>\n",
       "    <tr>\n",
       "      <th>25%</th>\n",
       "      <td>2.678346e+07</td>\n",
       "      <td>1.091940e+03</td>\n",
       "      <td>6.883075e+02</td>\n",
       "      <td>2.032725e+02</td>\n",
       "    </tr>\n",
       "    <tr>\n",
       "      <th>50%</th>\n",
       "      <td>5.910482e+07</td>\n",
       "      <td>4.578410e+03</td>\n",
       "      <td>2.437830e+03</td>\n",
       "      <td>1.117730e+03</td>\n",
       "    </tr>\n",
       "    <tr>\n",
       "      <th>75%</th>\n",
       "      <td>9.667550e+07</td>\n",
       "      <td>1.683817e+04</td>\n",
       "      <td>7.956773e+03</td>\n",
       "      <td>5.120655e+03</td>\n",
       "    </tr>\n",
       "    <tr>\n",
       "      <th>max</th>\n",
       "      <td>8.999999e+08</td>\n",
       "      <td>1.081086e+08</td>\n",
       "      <td>5.610758e+07</td>\n",
       "      <td>5.605188e+07</td>\n",
       "    </tr>\n",
       "  </tbody>\n",
       "</table>\n",
       "</div>"
      ],
      "text/plain": [
       "       indiv_enterprise_id  billd_chrg_amt_sum  elgbl_chrg_amt_sum  \\\n",
       "count         5.014028e+06        4.990274e+06        4.977836e+06   \n",
       "mean          1.522168e+08        2.592804e+04        1.165495e+04   \n",
       "std           2.258279e+08        1.321816e+05        5.934779e+04   \n",
       "min           9.000000e+00       -6.577269e+06       -3.134996e+05   \n",
       "25%           2.678346e+07        1.091940e+03        6.883075e+02   \n",
       "50%           5.910482e+07        4.578410e+03        2.437830e+03   \n",
       "75%           9.667550e+07        1.683817e+04        7.956773e+03   \n",
       "max           8.999999e+08        1.081086e+08        5.610758e+07   \n",
       "\n",
       "       net_paymt_amt_sum  \n",
       "count       4.852298e+06  \n",
       "mean        9.189815e+03  \n",
       "std         5.477789e+04  \n",
       "min        -3.054047e+05  \n",
       "25%         2.032725e+02  \n",
       "50%         1.117730e+03  \n",
       "75%         5.120655e+03  \n",
       "max         5.605188e+07  "
      ]
     },
     "execution_count": 53,
     "metadata": {},
     "output_type": "execute_result"
    },
    {
     "name": "stdout",
     "output_type": "stream",
     "text": [
      "Took 217.40549922 seconds\n"
     ]
    }
   ],
   "source": [
    "t0 = time.time()\n",
    "\n",
    "costs = pd.read_sql(sel,con)\n",
    "\n",
    "costs.shape\n",
    "\n",
    "costs.head()\n",
    "\n",
    "costs.describe()\n",
    "\n",
    "t1 = time.time()\n",
    "print('Took %s seconds' %(t1-t0))\n",
    "#much faster since it's already loaded in redshift, so no pd.read_csv "
   ]
  },
  {
   "cell_type": "code",
   "execution_count": 57,
   "metadata": {},
   "outputs": [],
   "source": [
    "sel = \"\"\"SELECT prodt_clss_ty, COUNT(DISTINCT indiv_enterprise_id )\n",
    "FROM rawdata.membr_ben_fact GROUP BY prodt_clss_ty;\"\"\""
   ]
  },
  {
   "cell_type": "code",
   "execution_count": 58,
   "metadata": {},
   "outputs": [],
   "source": [
    "prod =  pd.read_sql(sel,con)"
   ]
  },
  {
   "cell_type": "code",
   "execution_count": 59,
   "metadata": {},
   "outputs": [
    {
     "data": {
      "text/html": [
       "<div>\n",
       "<style scoped>\n",
       "    .dataframe tbody tr th:only-of-type {\n",
       "        vertical-align: middle;\n",
       "    }\n",
       "\n",
       "    .dataframe tbody tr th {\n",
       "        vertical-align: top;\n",
       "    }\n",
       "\n",
       "    .dataframe thead th {\n",
       "        text-align: right;\n",
       "    }\n",
       "</style>\n",
       "<table border=\"1\" class=\"dataframe\">\n",
       "  <thead>\n",
       "    <tr style=\"text-align: right;\">\n",
       "      <th></th>\n",
       "      <th>prodt_clss_ty</th>\n",
       "      <th>count</th>\n",
       "    </tr>\n",
       "  </thead>\n",
       "  <tbody>\n",
       "    <tr>\n",
       "      <th>0</th>\n",
       "      <td>MED</td>\n",
       "      <td>8164238</td>\n",
       "    </tr>\n",
       "    <tr>\n",
       "      <th>1</th>\n",
       "      <td>HIP</td>\n",
       "      <td>451349</td>\n",
       "    </tr>\n",
       "    <tr>\n",
       "      <th>2</th>\n",
       "      <td>DEN</td>\n",
       "      <td>2798239</td>\n",
       "    </tr>\n",
       "    <tr>\n",
       "      <th>3</th>\n",
       "      <td>BEH</td>\n",
       "      <td>3599439</td>\n",
       "    </tr>\n",
       "    <tr>\n",
       "      <th>4</th>\n",
       "      <td>PHM</td>\n",
       "      <td>1040756</td>\n",
       "    </tr>\n",
       "    <tr>\n",
       "      <th>5</th>\n",
       "      <td>NA</td>\n",
       "      <td>1368921</td>\n",
       "    </tr>\n",
       "  </tbody>\n",
       "</table>\n",
       "</div>"
      ],
      "text/plain": [
       "  prodt_clss_ty    count\n",
       "0           MED  8164238\n",
       "1           HIP   451349\n",
       "2           DEN  2798239\n",
       "3           BEH  3599439\n",
       "4           PHM  1040756\n",
       "5            NA  1368921"
      ]
     },
     "execution_count": 59,
     "metadata": {},
     "output_type": "execute_result"
    }
   ],
   "source": [
    "prod"
   ]
  },
  {
   "cell_type": "code",
   "execution_count": 1,
   "metadata": {},
   "outputs": [
    {
     "name": "stdout",
     "output_type": "stream",
     "text": [
      "IOC_DescriptiveAnalysis.ipynb  IOC_MakeDataFrame.ipynb\tIOC_rawdataQC.ipynb\r\n"
     ]
    }
   ],
   "source": [
    "!ls"
   ]
  },
  {
   "cell_type": "code",
   "execution_count": 2,
   "metadata": {},
   "outputs": [
    {
     "name": "stdout",
     "output_type": "stream",
     "text": [
      "fullelig2016-2017_clm_svc_fact_rollup_PLACE_OF_SVC_CD.csv\r\n",
      "fullelig2016-2017_clm_svc_fact_rollup_SVC_PROC_CCS.csv\r\n"
     ]
    }
   ],
   "source": [
    "!ls /gnshealthcare/shared/nli/dataframe/r36m/pool_dummy_groupby-person-year_max/"
   ]
  },
  {
   "cell_type": "code",
   "execution_count": 20,
   "metadata": {},
   "outputs": [],
   "source": [
    "sel = \"\"\"SELECT \n",
    "            PRODT_ACCT_TY,PRODT_CHNL_CD,PRODT_CLSS_TY,PRODT_FAM_CD, \n",
    "            COUNT(DISTINCT indiv_enterprise_id )\n",
    "        FROM rawdata.membr_ben_fact bf GROUP BY PRODT_ACCT_TY,PRODT_CHNL_CD,PRODT_CLSS_TY,PRODT_FAM_CD;\"\"\""
   ]
  },
  {
   "cell_type": "code",
   "execution_count": 21,
   "metadata": {},
   "outputs": [],
   "source": [
    "prod =  pd.read_sql(sel,con)"
   ]
  },
  {
   "cell_type": "code",
   "execution_count": 22,
   "metadata": {},
   "outputs": [
    {
     "data": {
      "text/html": [
       "<div>\n",
       "<style scoped>\n",
       "    .dataframe tbody tr th:only-of-type {\n",
       "        vertical-align: middle;\n",
       "    }\n",
       "\n",
       "    .dataframe tbody tr th {\n",
       "        vertical-align: top;\n",
       "    }\n",
       "\n",
       "    .dataframe thead th {\n",
       "        text-align: right;\n",
       "    }\n",
       "</style>\n",
       "<table border=\"1\" class=\"dataframe\">\n",
       "  <thead>\n",
       "    <tr style=\"text-align: right;\">\n",
       "      <th></th>\n",
       "      <th>prodt_acct_ty</th>\n",
       "      <th>prodt_chnl_cd</th>\n",
       "      <th>prodt_clss_ty</th>\n",
       "      <th>prodt_fam_cd</th>\n",
       "      <th>count</th>\n",
       "    </tr>\n",
       "  </thead>\n",
       "  <tbody>\n",
       "    <tr>\n",
       "      <th>0</th>\n",
       "      <td>PPO</td>\n",
       "      <td>INT</td>\n",
       "      <td>MED</td>\n",
       "      <td>PPO</td>\n",
       "      <td>2004564</td>\n",
       "    </tr>\n",
       "    <tr>\n",
       "      <th>1</th>\n",
       "      <td>PPO</td>\n",
       "      <td>INT</td>\n",
       "      <td>MED</td>\n",
       "      <td>OAP</td>\n",
       "      <td>6078836</td>\n",
       "    </tr>\n",
       "    <tr>\n",
       "      <th>2</th>\n",
       "      <td>None</td>\n",
       "      <td>INT</td>\n",
       "      <td>HIP</td>\n",
       "      <td>CMG</td>\n",
       "      <td>382673</td>\n",
       "    </tr>\n",
       "    <tr>\n",
       "      <th>3</th>\n",
       "      <td>None</td>\n",
       "      <td>INT</td>\n",
       "      <td>PHM</td>\n",
       "      <td>PHM</td>\n",
       "      <td>1040756</td>\n",
       "    </tr>\n",
       "    <tr>\n",
       "      <th>4</th>\n",
       "      <td>None</td>\n",
       "      <td>INT</td>\n",
       "      <td>HIP</td>\n",
       "      <td>HIP</td>\n",
       "      <td>107531</td>\n",
       "    </tr>\n",
       "    <tr>\n",
       "      <th>5</th>\n",
       "      <td>FLEXCARE</td>\n",
       "      <td>MULTI</td>\n",
       "      <td>BEH</td>\n",
       "      <td>04</td>\n",
       "      <td>217980</td>\n",
       "    </tr>\n",
       "    <tr>\n",
       "      <th>6</th>\n",
       "      <td>FLEXCARE</td>\n",
       "      <td>INT</td>\n",
       "      <td>MED</td>\n",
       "      <td>NET</td>\n",
       "      <td>318402</td>\n",
       "    </tr>\n",
       "    <tr>\n",
       "      <th>7</th>\n",
       "      <td>CARVEOUT</td>\n",
       "      <td>INT</td>\n",
       "      <td>BEH</td>\n",
       "      <td>MH</td>\n",
       "      <td>90608</td>\n",
       "    </tr>\n",
       "    <tr>\n",
       "      <th>8</th>\n",
       "      <td>IND</td>\n",
       "      <td>INT</td>\n",
       "      <td>MED</td>\n",
       "      <td>IND</td>\n",
       "      <td>44857</td>\n",
       "    </tr>\n",
       "    <tr>\n",
       "      <th>9</th>\n",
       "      <td>STANDALONE</td>\n",
       "      <td>MULTI</td>\n",
       "      <td>BEH</td>\n",
       "      <td>02</td>\n",
       "      <td>10866</td>\n",
       "    </tr>\n",
       "    <tr>\n",
       "      <th>10</th>\n",
       "      <td>STANDALONE</td>\n",
       "      <td>MULTI</td>\n",
       "      <td>BEH</td>\n",
       "      <td>01</td>\n",
       "      <td>102</td>\n",
       "    </tr>\n",
       "    <tr>\n",
       "      <th>11</th>\n",
       "      <td>None</td>\n",
       "      <td>INT</td>\n",
       "      <td>DEN</td>\n",
       "      <td>DEN</td>\n",
       "      <td>2798239</td>\n",
       "    </tr>\n",
       "    <tr>\n",
       "      <th>12</th>\n",
       "      <td>PPO</td>\n",
       "      <td>MULTI</td>\n",
       "      <td>BEH</td>\n",
       "      <td>04</td>\n",
       "      <td>3220264</td>\n",
       "    </tr>\n",
       "    <tr>\n",
       "      <th>13</th>\n",
       "      <td>None</td>\n",
       "      <td>None</td>\n",
       "      <td>NA</td>\n",
       "      <td>None</td>\n",
       "      <td>1368921</td>\n",
       "    </tr>\n",
       "    <tr>\n",
       "      <th>14</th>\n",
       "      <td>STANDALONE</td>\n",
       "      <td>MULTI</td>\n",
       "      <td>BEH</td>\n",
       "      <td>03</td>\n",
       "      <td>37457</td>\n",
       "    </tr>\n",
       "    <tr>\n",
       "      <th>15</th>\n",
       "      <td>STANDALONE</td>\n",
       "      <td>MULTI</td>\n",
       "      <td>BEH</td>\n",
       "      <td>04</td>\n",
       "      <td>305633</td>\n",
       "    </tr>\n",
       "    <tr>\n",
       "      <th>16</th>\n",
       "      <td>COMMERCIAL</td>\n",
       "      <td>INT</td>\n",
       "      <td>MED</td>\n",
       "      <td>HMO</td>\n",
       "      <td>42706</td>\n",
       "    </tr>\n",
       "    <tr>\n",
       "      <th>17</th>\n",
       "      <td>STANDALONE</td>\n",
       "      <td>MULTI</td>\n",
       "      <td>BEH</td>\n",
       "      <td>05</td>\n",
       "      <td>76638</td>\n",
       "    </tr>\n",
       "    <tr>\n",
       "      <th>18</th>\n",
       "      <td>IND</td>\n",
       "      <td>MULTI</td>\n",
       "      <td>BEH</td>\n",
       "      <td>04</td>\n",
       "      <td>1667</td>\n",
       "    </tr>\n",
       "    <tr>\n",
       "      <th>19</th>\n",
       "      <td>COMMERCIAL</td>\n",
       "      <td>INT</td>\n",
       "      <td>MED</td>\n",
       "      <td>POS</td>\n",
       "      <td>211</td>\n",
       "    </tr>\n",
       "    <tr>\n",
       "      <th>20</th>\n",
       "      <td>None</td>\n",
       "      <td>INT</td>\n",
       "      <td>HIP</td>\n",
       "      <td>INC</td>\n",
       "      <td>192</td>\n",
       "    </tr>\n",
       "    <tr>\n",
       "      <th>21</th>\n",
       "      <td>None</td>\n",
       "      <td>INT</td>\n",
       "      <td>MED</td>\n",
       "      <td>None</td>\n",
       "      <td>97</td>\n",
       "    </tr>\n",
       "    <tr>\n",
       "      <th>22</th>\n",
       "      <td>None</td>\n",
       "      <td>INT</td>\n",
       "      <td>MED</td>\n",
       "      <td>OAP</td>\n",
       "      <td>5</td>\n",
       "    </tr>\n",
       "  </tbody>\n",
       "</table>\n",
       "</div>"
      ],
      "text/plain": [
       "   prodt_acct_ty prodt_chnl_cd prodt_clss_ty prodt_fam_cd    count\n",
       "0            PPO           INT           MED          PPO  2004564\n",
       "1            PPO           INT           MED          OAP  6078836\n",
       "2           None           INT           HIP          CMG   382673\n",
       "3           None           INT           PHM          PHM  1040756\n",
       "4           None           INT           HIP          HIP   107531\n",
       "5       FLEXCARE         MULTI           BEH           04   217980\n",
       "6       FLEXCARE           INT           MED          NET   318402\n",
       "7       CARVEOUT           INT           BEH           MH    90608\n",
       "8            IND           INT           MED          IND    44857\n",
       "9     STANDALONE         MULTI           BEH           02    10866\n",
       "10    STANDALONE         MULTI           BEH           01      102\n",
       "11          None           INT           DEN          DEN  2798239\n",
       "12           PPO         MULTI           BEH           04  3220264\n",
       "13          None          None            NA         None  1368921\n",
       "14    STANDALONE         MULTI           BEH           03    37457\n",
       "15    STANDALONE         MULTI           BEH           04   305633\n",
       "16    COMMERCIAL           INT           MED          HMO    42706\n",
       "17    STANDALONE         MULTI           BEH           05    76638\n",
       "18           IND         MULTI           BEH           04     1667\n",
       "19    COMMERCIAL           INT           MED          POS      211\n",
       "20          None           INT           HIP          INC      192\n",
       "21          None           INT           MED         None       97\n",
       "22          None           INT           MED          OAP        5"
      ]
     },
     "execution_count": 22,
     "metadata": {},
     "output_type": "execute_result"
    }
   ],
   "source": [
    "prod"
   ]
  },
  {
   "cell_type": "markdown",
   "metadata": {},
   "source": [
    "# person"
   ]
  },
  {
   "cell_type": "code",
   "execution_count": 21,
   "metadata": {},
   "outputs": [],
   "source": [
    "sql=\"\"\"\n",
    "select \n",
    "  count(distinct person_xref_key),\n",
    "  gender\n",
    "from\n",
    "  public.person\n",
    "group by gender\n",
    "\"\"\""
   ]
  },
  {
   "cell_type": "code",
   "execution_count": 22,
   "metadata": {},
   "outputs": [],
   "source": [
    "gendercount = pd.read_sql(sql,con)"
   ]
  },
  {
   "cell_type": "code",
   "execution_count": 23,
   "metadata": {},
   "outputs": [
    {
     "data": {
      "text/html": [
       "<div>\n",
       "<style scoped>\n",
       "    .dataframe tbody tr th:only-of-type {\n",
       "        vertical-align: middle;\n",
       "    }\n",
       "\n",
       "    .dataframe tbody tr th {\n",
       "        vertical-align: top;\n",
       "    }\n",
       "\n",
       "    .dataframe thead th {\n",
       "        text-align: right;\n",
       "    }\n",
       "</style>\n",
       "<table border=\"1\" class=\"dataframe\">\n",
       "  <thead>\n",
       "    <tr style=\"text-align: right;\">\n",
       "      <th></th>\n",
       "      <th>count</th>\n",
       "      <th>gender</th>\n",
       "    </tr>\n",
       "  </thead>\n",
       "  <tbody>\n",
       "    <tr>\n",
       "      <th>0</th>\n",
       "      <td>498</td>\n",
       "      <td>U</td>\n",
       "    </tr>\n",
       "    <tr>\n",
       "      <th>1</th>\n",
       "      <td>3</td>\n",
       "      <td>N</td>\n",
       "    </tr>\n",
       "    <tr>\n",
       "      <th>2</th>\n",
       "      <td>4048879</td>\n",
       "      <td>F</td>\n",
       "    </tr>\n",
       "    <tr>\n",
       "      <th>3</th>\n",
       "      <td>4113809</td>\n",
       "      <td>M</td>\n",
       "    </tr>\n",
       "    <tr>\n",
       "      <th>4</th>\n",
       "      <td>1049</td>\n",
       "      <td>None</td>\n",
       "    </tr>\n",
       "  </tbody>\n",
       "</table>\n",
       "</div>"
      ],
      "text/plain": [
       "     count gender\n",
       "0      498      U\n",
       "1        3      N\n",
       "2  4048879      F\n",
       "3  4113809      M\n",
       "4     1049   None"
      ]
     },
     "execution_count": 23,
     "metadata": {},
     "output_type": "execute_result"
    }
   ],
   "source": [
    "gendercount"
   ]
  },
  {
   "cell_type": "markdown",
   "metadata": {},
   "source": [
    "sql=\"\"\"\n",
    "select \n",
    "  distinct person_xref_key,\n",
    "  gender,\n",
    "  --birth_date,\n",
    "  SUBSTRING(birth_date FROM 1 FOR 4) as birth_year,\n",
    "  date_of_death\n",
    "from\n",
    "  public.person\n",
    "limit 100;\n",
    "\"\"\""
   ]
  },
  {
   "cell_type": "code",
   "execution_count": 76,
   "metadata": {},
   "outputs": [],
   "source": [
    "### Joel\n",
    "sql=\"\"\"\n",
    "select\n",
    "  distinct person_xref_key,\n",
    "  gender,\n",
    "  birth_date,\n",
    "  datediff(year, birth_date, current_date) as age_now\n",
    "from\n",
    "  public.person\n",
    "--limit 100;\n",
    "\"\"\""
   ]
  },
  {
   "cell_type": "code",
   "execution_count": 77,
   "metadata": {},
   "outputs": [],
   "source": [
    "person = pd.read_sql(sql,con)"
   ]
  },
  {
   "cell_type": "code",
   "execution_count": 78,
   "metadata": {},
   "outputs": [
    {
     "data": {
      "text/html": [
       "<div>\n",
       "<style scoped>\n",
       "    .dataframe tbody tr th:only-of-type {\n",
       "        vertical-align: middle;\n",
       "    }\n",
       "\n",
       "    .dataframe tbody tr th {\n",
       "        vertical-align: top;\n",
       "    }\n",
       "\n",
       "    .dataframe thead th {\n",
       "        text-align: right;\n",
       "    }\n",
       "</style>\n",
       "<table border=\"1\" class=\"dataframe\">\n",
       "  <thead>\n",
       "    <tr style=\"text-align: right;\">\n",
       "      <th></th>\n",
       "      <th>person_xref_key</th>\n",
       "      <th>gender</th>\n",
       "      <th>birth_date</th>\n",
       "      <th>age_now</th>\n",
       "    </tr>\n",
       "  </thead>\n",
       "  <tbody>\n",
       "    <tr>\n",
       "      <th>0</th>\n",
       "      <td>23579967</td>\n",
       "      <td>M</td>\n",
       "      <td>1988-08-10</td>\n",
       "      <td>30.0</td>\n",
       "    </tr>\n",
       "    <tr>\n",
       "      <th>1</th>\n",
       "      <td>16811346</td>\n",
       "      <td>M</td>\n",
       "      <td>1976-08-10</td>\n",
       "      <td>42.0</td>\n",
       "    </tr>\n",
       "    <tr>\n",
       "      <th>2</th>\n",
       "      <td>35928367</td>\n",
       "      <td>M</td>\n",
       "      <td>1980-08-10</td>\n",
       "      <td>38.0</td>\n",
       "    </tr>\n",
       "    <tr>\n",
       "      <th>3</th>\n",
       "      <td>496933641</td>\n",
       "      <td>F</td>\n",
       "      <td>1984-08-10</td>\n",
       "      <td>34.0</td>\n",
       "    </tr>\n",
       "    <tr>\n",
       "      <th>4</th>\n",
       "      <td>33179668</td>\n",
       "      <td>M</td>\n",
       "      <td>1959-08-10</td>\n",
       "      <td>59.0</td>\n",
       "    </tr>\n",
       "  </tbody>\n",
       "</table>\n",
       "</div>"
      ],
      "text/plain": [
       "  person_xref_key gender  birth_date  age_now\n",
       "0        23579967      M  1988-08-10     30.0\n",
       "1        16811346      M  1976-08-10     42.0\n",
       "2        35928367      M  1980-08-10     38.0\n",
       "3       496933641      F  1984-08-10     34.0\n",
       "4        33179668      M  1959-08-10     59.0"
      ]
     },
     "execution_count": 78,
     "metadata": {},
     "output_type": "execute_result"
    }
   ],
   "source": [
    "person.head()"
   ]
  },
  {
   "cell_type": "code",
   "execution_count": 79,
   "metadata": {},
   "outputs": [
    {
     "data": {
      "text/plain": [
       "count    8.160168e+06\n",
       "mean     3.499810e+01\n",
       "std      1.857863e+01\n",
       "min      0.000000e+00\n",
       "25%      2.100000e+01\n",
       "50%      3.500000e+01\n",
       "75%      5.000000e+01\n",
       "max      8.600000e+01\n",
       "Name: age_now, dtype: float64"
      ]
     },
     "execution_count": 79,
     "metadata": {},
     "output_type": "execute_result"
    }
   ],
   "source": [
    "person.age_now.describe()"
   ]
  },
  {
   "cell_type": "code",
   "execution_count": 80,
   "metadata": {},
   "outputs": [
    {
     "data": {
      "text/plain": [
       "<matplotlib.axes._subplots.AxesSubplot at 0x7f0396dd0c10>"
      ]
     },
     "execution_count": 80,
     "metadata": {},
     "output_type": "execute_result"
    },
    {
     "data": {
      "image/png": "[encoded data removed]",
      "text/plain": [
       "<Figure size 432x288 with 1 Axes>"
      ]
     },
     "metadata": {},
     "output_type": "display_data"
    }
   ],
   "source": [
    "person.age_now.hist()"
   ]
  },
  {
   "cell_type": "code",
   "execution_count": 81,
   "metadata": {},
   "outputs": [
    {
     "data": {
      "text/plain": [
       "(8164238, 4)"
      ]
     },
     "execution_count": 81,
     "metadata": {},
     "output_type": "execute_result"
    }
   ],
   "source": [
    "person.shape"
   ]
  },
  {
   "cell_type": "code",
   "execution_count": 82,
   "metadata": {},
   "outputs": [
    {
     "data": {
      "text/plain": [
       "8164238"
      ]
     },
     "execution_count": 82,
     "metadata": {},
     "output_type": "execute_result"
    }
   ],
   "source": [
    "person.person_xref_key.nunique()"
   ]
  },
  {
   "cell_type": "code",
   "execution_count": 84,
   "metadata": {},
   "outputs": [
    {
     "data": {
      "text/plain": [
       "M      4113809\n",
       "F      4048879\n",
       "NaN       1049\n",
       "U          498\n",
       "N            3\n",
       "Name: gender, dtype: int64"
      ]
     },
     "execution_count": 84,
     "metadata": {},
     "output_type": "execute_result"
    }
   ],
   "source": [
    "person.gender.value_counts(dropna=False)"
   ]
  },
  {
   "cell_type": "code",
   "execution_count": 72,
   "metadata": {},
   "outputs": [],
   "source": [
    "#person['age'] = person[['birth_year']].apply(lambda x: 2018 - x.astype(float))"
   ]
  },
  {
   "cell_type": "code",
   "execution_count": 75,
   "metadata": {},
   "outputs": [],
   "source": [
    "#person.date_of_death.value_counts()"
   ]
  },
  {
   "cell_type": "markdown",
   "metadata": {},
   "source": [
    "# clm svc fact"
   ]
  },
  {
   "cell_type": "markdown",
   "metadata": {},
   "source": [
    "## cost by prodt ctgry"
   ]
  },
  {
   "cell_type": "code",
   "execution_count": 34,
   "metadata": {},
   "outputs": [],
   "source": [
    "sel=\"\"\"\n",
    "select INDIV_ENTERPRISE_ID, CLM_PRODT_CTGRY_KEY,\n",
    "    sum(ELGBL_CHRG_AMT) as ELGBL_CHRG_AMT_SUM\n",
    "from rawdata.clm_svc_fact\n",
    "    group by INDIV_ENTERPRISE_ID,CLM_PRODT_CTGRY_KEY\n",
    "--limit 50;\n",
    "\"\"\""
   ]
  },
  {
   "cell_type": "code",
   "execution_count": 35,
   "metadata": {},
   "outputs": [],
   "source": [
    "costs =  pd.read_sql(sel,con)"
   ]
  },
  {
   "cell_type": "code",
   "execution_count": 36,
   "metadata": {},
   "outputs": [
    {
     "data": {
      "text/plain": [
       "(10485138, 3)"
      ]
     },
     "execution_count": 36,
     "metadata": {},
     "output_type": "execute_result"
    }
   ],
   "source": [
    "costs.shape"
   ]
  },
  {
   "cell_type": "code",
   "execution_count": 87,
   "metadata": {},
   "outputs": [
    {
     "data": {
      "text/html": [
       "<div>\n",
       "<style scoped>\n",
       "    .dataframe tbody tr th:only-of-type {\n",
       "        vertical-align: middle;\n",
       "    }\n",
       "\n",
       "    .dataframe tbody tr th {\n",
       "        vertical-align: top;\n",
       "    }\n",
       "\n",
       "    .dataframe thead th {\n",
       "        text-align: right;\n",
       "    }\n",
       "</style>\n",
       "<table border=\"1\" class=\"dataframe\">\n",
       "  <thead>\n",
       "    <tr style=\"text-align: right;\">\n",
       "      <th></th>\n",
       "      <th>indiv_enterprise_id</th>\n",
       "      <th>clm_prodt_ctgry_key</th>\n",
       "      <th>elgbl_chrg_amt_sum</th>\n",
       "    </tr>\n",
       "  </thead>\n",
       "  <tbody>\n",
       "    <tr>\n",
       "      <th>0</th>\n",
       "      <td>32.0</td>\n",
       "      <td>-1.0</td>\n",
       "      <td>45856.60</td>\n",
       "    </tr>\n",
       "    <tr>\n",
       "      <th>1</th>\n",
       "      <td>32.0</td>\n",
       "      <td>-2.0</td>\n",
       "      <td>3298.50</td>\n",
       "    </tr>\n",
       "    <tr>\n",
       "      <th>2</th>\n",
       "      <td>204.0</td>\n",
       "      <td>-1.0</td>\n",
       "      <td>3061.44</td>\n",
       "    </tr>\n",
       "    <tr>\n",
       "      <th>3</th>\n",
       "      <td>259.0</td>\n",
       "      <td>-2.0</td>\n",
       "      <td>2422.20</td>\n",
       "    </tr>\n",
       "    <tr>\n",
       "      <th>4</th>\n",
       "      <td>259.0</td>\n",
       "      <td>-1.0</td>\n",
       "      <td>7256.94</td>\n",
       "    </tr>\n",
       "  </tbody>\n",
       "</table>\n",
       "</div>"
      ],
      "text/plain": [
       "   indiv_enterprise_id  clm_prodt_ctgry_key  elgbl_chrg_amt_sum\n",
       "0                 32.0                 -1.0            45856.60\n",
       "1                 32.0                 -2.0             3298.50\n",
       "2                204.0                 -1.0             3061.44\n",
       "3                259.0                 -2.0             2422.20\n",
       "4                259.0                 -1.0             7256.94"
      ]
     },
     "execution_count": 87,
     "metadata": {},
     "output_type": "execute_result"
    }
   ],
   "source": [
    "costs.head(5)"
   ]
  },
  {
   "cell_type": "code",
   "execution_count": 93,
   "metadata": {},
   "outputs": [
    {
     "data": {
      "text/html": [
       "<div>\n",
       "<style scoped>\n",
       "    .dataframe tbody tr th:only-of-type {\n",
       "        vertical-align: middle;\n",
       "    }\n",
       "\n",
       "    .dataframe tbody tr th {\n",
       "        vertical-align: top;\n",
       "    }\n",
       "\n",
       "    .dataframe thead th {\n",
       "        text-align: right;\n",
       "    }\n",
       "</style>\n",
       "<table border=\"1\" class=\"dataframe\">\n",
       "  <thead>\n",
       "    <tr style=\"text-align: right;\">\n",
       "      <th></th>\n",
       "      <th>indiv_enterprise_id</th>\n",
       "      <th>clm_prodt_ctgry_key</th>\n",
       "      <th>elgbl_chrg_amt_sum</th>\n",
       "    </tr>\n",
       "  </thead>\n",
       "  <tbody>\n",
       "    <tr>\n",
       "      <th>1967251</th>\n",
       "      <td>12.0</td>\n",
       "      <td>-5.0</td>\n",
       "      <td>NaN</td>\n",
       "    </tr>\n",
       "    <tr>\n",
       "      <th>1967258</th>\n",
       "      <td>185.0</td>\n",
       "      <td>-5.0</td>\n",
       "      <td>NaN</td>\n",
       "    </tr>\n",
       "    <tr>\n",
       "      <th>1967283</th>\n",
       "      <td>511.0</td>\n",
       "      <td>-5.0</td>\n",
       "      <td>NaN</td>\n",
       "    </tr>\n",
       "    <tr>\n",
       "      <th>1967303</th>\n",
       "      <td>862.0</td>\n",
       "      <td>-5.0</td>\n",
       "      <td>NaN</td>\n",
       "    </tr>\n",
       "    <tr>\n",
       "      <th>1967336</th>\n",
       "      <td>1662.0</td>\n",
       "      <td>-5.0</td>\n",
       "      <td>NaN</td>\n",
       "    </tr>\n",
       "  </tbody>\n",
       "</table>\n",
       "</div>"
      ],
      "text/plain": [
       "         indiv_enterprise_id  clm_prodt_ctgry_key  elgbl_chrg_amt_sum\n",
       "1967251                 12.0                 -5.0                 NaN\n",
       "1967258                185.0                 -5.0                 NaN\n",
       "1967283                511.0                 -5.0                 NaN\n",
       "1967303                862.0                 -5.0                 NaN\n",
       "1967336               1662.0                 -5.0                 NaN"
      ]
     },
     "execution_count": 93,
     "metadata": {},
     "output_type": "execute_result"
    }
   ],
   "source": [
    "costs[costs.clm_prodt_ctgry_key==-5.0].head()"
   ]
  },
  {
   "cell_type": "code",
   "execution_count": 51,
   "metadata": {},
   "outputs": [],
   "source": [
    "costs_gb = costs.groupby(['clm_prodt_ctgry_key'])['elgbl_chrg_amt_sum'].mean().to_frame()"
   ]
  },
  {
   "cell_type": "code",
   "execution_count": 52,
   "metadata": {},
   "outputs": [
    {
     "data": {
      "text/html": [
       "<div>\n",
       "<style scoped>\n",
       "    .dataframe tbody tr th:only-of-type {\n",
       "        vertical-align: middle;\n",
       "    }\n",
       "\n",
       "    .dataframe tbody tr th {\n",
       "        vertical-align: top;\n",
       "    }\n",
       "\n",
       "    .dataframe thead th {\n",
       "        text-align: right;\n",
       "    }\n",
       "</style>\n",
       "<table border=\"1\" class=\"dataframe\">\n",
       "  <thead>\n",
       "    <tr style=\"text-align: right;\">\n",
       "      <th></th>\n",
       "      <th>elgbl_chrg_amt_sum</th>\n",
       "    </tr>\n",
       "    <tr>\n",
       "      <th>clm_prodt_ctgry_key</th>\n",
       "      <th></th>\n",
       "    </tr>\n",
       "  </thead>\n",
       "  <tbody>\n",
       "    <tr>\n",
       "      <th>-5.0</th>\n",
       "      <td>NaN</td>\n",
       "    </tr>\n",
       "    <tr>\n",
       "      <th>-4.0</th>\n",
       "      <td>1304.906442</td>\n",
       "    </tr>\n",
       "    <tr>\n",
       "      <th>-3.0</th>\n",
       "      <td>2587.878470</td>\n",
       "    </tr>\n",
       "    <tr>\n",
       "      <th>-2.0</th>\n",
       "      <td>2748.882665</td>\n",
       "    </tr>\n",
       "    <tr>\n",
       "      <th>-1.0</th>\n",
       "      <td>10367.570521</td>\n",
       "    </tr>\n",
       "  </tbody>\n",
       "</table>\n",
       "</div>"
      ],
      "text/plain": [
       "                     elgbl_chrg_amt_sum\n",
       "clm_prodt_ctgry_key                    \n",
       "-5.0                                NaN\n",
       "-4.0                        1304.906442\n",
       "-3.0                        2587.878470\n",
       "-2.0                        2748.882665\n",
       "-1.0                       10367.570521"
      ]
     },
     "execution_count": 52,
     "metadata": {},
     "output_type": "execute_result"
    }
   ],
   "source": [
    "costs_gb.head()"
   ]
  },
  {
   "cell_type": "code",
   "execution_count": 40,
   "metadata": {},
   "outputs": [
    {
     "name": "stdout",
     "output_type": "stream",
     "text": [
      "fsa0001o.57293.gns_clm_ext_dim_20180711173228.csv.gz\r\n",
      "fsa0001o.57293.gns_diag_dim_20180711084037.csv.gz\r\n",
      "fsa0001o.57293.gns_drug_dim_20180711111029.csv.gz\r\n",
      "fsa0001o.57293.gns_dt_dim_20180711084628.csv.gz\r\n",
      "fsa0001o.57293.gns_event_dim_20180711085110.csv.gz\r\n",
      "fsa0001o.57293.gns_med_svc_ctgry_dim_20180711085421.csv.gz\r\n",
      "fsa0001o.57293.gns_place_of_svc_dim_20180711085127.csv.gz\r\n",
      "fsa0001o.57293.gns_prodt_dim_20180711084427.csv.gz\r\n",
      "fsa0001o.57293.gns_prov_dim_20180711084112.csv.gz\r\n",
      "fsa0001o.57293.gns_std_loinc_dim_20180710213735.csv.gz\r\n",
      "fsa0001o.57293.gns_strtfctn_dim_20180711085053.csv.gz\r\n",
      "fsa0001o.57293.gns_svc_dim_20180711084148.csv.gz\r\n"
     ]
    }
   ],
   "source": [
    "!ls | grep dim"
   ]
  },
  {
   "cell_type": "code",
   "execution_count": 44,
   "metadata": {},
   "outputs": [],
   "source": [
    "prodt_dim = pd.read_csv(\"fsa0001o.57293.gns_prodt_dim_20180711084427.csv.gz\")"
   ]
  },
  {
   "cell_type": "code",
   "execution_count": 45,
   "metadata": {},
   "outputs": [
    {
     "data": {
      "text/plain": [
       "(2927, 2)"
      ]
     },
     "execution_count": 45,
     "metadata": {},
     "output_type": "execute_result"
    }
   ],
   "source": [
    "prodt_dim.shape"
   ]
  },
  {
   "cell_type": "code",
   "execution_count": 46,
   "metadata": {},
   "outputs": [
    {
     "data": {
      "text/html": [
       "<div>\n",
       "<style scoped>\n",
       "    .dataframe tbody tr th:only-of-type {\n",
       "        vertical-align: middle;\n",
       "    }\n",
       "\n",
       "    .dataframe tbody tr th {\n",
       "        vertical-align: top;\n",
       "    }\n",
       "\n",
       "    .dataframe thead th {\n",
       "        text-align: right;\n",
       "    }\n",
       "</style>\n",
       "<table border=\"1\" class=\"dataframe\">\n",
       "  <thead>\n",
       "    <tr style=\"text-align: right;\">\n",
       "      <th></th>\n",
       "      <th>PRODT_KEY</th>\n",
       "      <th>PRODT_CLSS_TY</th>\n",
       "    </tr>\n",
       "  </thead>\n",
       "  <tbody>\n",
       "    <tr>\n",
       "      <th>0</th>\n",
       "      <td>200002044000</td>\n",
       "      <td>MED</td>\n",
       "    </tr>\n",
       "    <tr>\n",
       "      <th>1</th>\n",
       "      <td>200002588800</td>\n",
       "      <td>MED</td>\n",
       "    </tr>\n",
       "    <tr>\n",
       "      <th>2</th>\n",
       "      <td>200003325400</td>\n",
       "      <td>MED</td>\n",
       "    </tr>\n",
       "    <tr>\n",
       "      <th>3</th>\n",
       "      <td>100000000165</td>\n",
       "      <td>MED</td>\n",
       "    </tr>\n",
       "    <tr>\n",
       "      <th>4</th>\n",
       "      <td>100000000174</td>\n",
       "      <td>DEN</td>\n",
       "    </tr>\n",
       "  </tbody>\n",
       "</table>\n",
       "</div>"
      ],
      "text/plain": [
       "      PRODT_KEY PRODT_CLSS_TY\n",
       "0  200002044000           MED\n",
       "1  200002588800           MED\n",
       "2  200003325400           MED\n",
       "3  100000000165           MED\n",
       "4  100000000174           DEN"
      ]
     },
     "execution_count": 46,
     "metadata": {},
     "output_type": "execute_result"
    }
   ],
   "source": [
    "prodt_dim.head()"
   ]
  },
  {
   "cell_type": "code",
   "execution_count": 53,
   "metadata": {},
   "outputs": [],
   "source": [
    "prodtkey = prodt_dim[prodt_dim.PRODT_KEY<0].set_index(['PRODT_KEY'])"
   ]
  },
  {
   "cell_type": "code",
   "execution_count": 54,
   "metadata": {},
   "outputs": [
    {
     "data": {
      "text/html": [
       "<div>\n",
       "<style scoped>\n",
       "    .dataframe tbody tr th:only-of-type {\n",
       "        vertical-align: middle;\n",
       "    }\n",
       "\n",
       "    .dataframe tbody tr th {\n",
       "        vertical-align: top;\n",
       "    }\n",
       "\n",
       "    .dataframe thead th {\n",
       "        text-align: right;\n",
       "    }\n",
       "</style>\n",
       "<table border=\"1\" class=\"dataframe\">\n",
       "  <thead>\n",
       "    <tr style=\"text-align: right;\">\n",
       "      <th></th>\n",
       "      <th>PRODT_CLSS_TY</th>\n",
       "    </tr>\n",
       "    <tr>\n",
       "      <th>PRODT_KEY</th>\n",
       "      <th></th>\n",
       "    </tr>\n",
       "  </thead>\n",
       "  <tbody>\n",
       "    <tr>\n",
       "      <th>-5</th>\n",
       "      <td>VIS</td>\n",
       "    </tr>\n",
       "    <tr>\n",
       "      <th>-4</th>\n",
       "      <td>DEN</td>\n",
       "    </tr>\n",
       "    <tr>\n",
       "      <th>-99999</th>\n",
       "      <td>NaN</td>\n",
       "    </tr>\n",
       "    <tr>\n",
       "      <th>-3</th>\n",
       "      <td>BEH</td>\n",
       "    </tr>\n",
       "    <tr>\n",
       "      <th>-2</th>\n",
       "      <td>PHM</td>\n",
       "    </tr>\n",
       "    <tr>\n",
       "      <th>-1</th>\n",
       "      <td>MED</td>\n",
       "    </tr>\n",
       "  </tbody>\n",
       "</table>\n",
       "</div>"
      ],
      "text/plain": [
       "          PRODT_CLSS_TY\n",
       "PRODT_KEY              \n",
       "-5                  VIS\n",
       "-4                  DEN\n",
       "-99999              NaN\n",
       "-3                  BEH\n",
       "-2                  PHM\n",
       "-1                  MED"
      ]
     },
     "execution_count": 54,
     "metadata": {},
     "output_type": "execute_result"
    }
   ],
   "source": [
    "prodtkey"
   ]
  },
  {
   "cell_type": "code",
   "execution_count": 55,
   "metadata": {},
   "outputs": [],
   "source": [
    "costs_gb = costs_gb.join(prodtkey)"
   ]
  },
  {
   "cell_type": "code",
   "execution_count": 56,
   "metadata": {},
   "outputs": [
    {
     "data": {
      "text/html": [
       "<div>\n",
       "<style scoped>\n",
       "    .dataframe tbody tr th:only-of-type {\n",
       "        vertical-align: middle;\n",
       "    }\n",
       "\n",
       "    .dataframe tbody tr th {\n",
       "        vertical-align: top;\n",
       "    }\n",
       "\n",
       "    .dataframe thead th {\n",
       "        text-align: right;\n",
       "    }\n",
       "</style>\n",
       "<table border=\"1\" class=\"dataframe\">\n",
       "  <thead>\n",
       "    <tr style=\"text-align: right;\">\n",
       "      <th></th>\n",
       "      <th>elgbl_chrg_amt_sum</th>\n",
       "      <th>PRODT_CLSS_TY</th>\n",
       "    </tr>\n",
       "    <tr>\n",
       "      <th>clm_prodt_ctgry_key</th>\n",
       "      <th></th>\n",
       "      <th></th>\n",
       "    </tr>\n",
       "  </thead>\n",
       "  <tbody>\n",
       "    <tr>\n",
       "      <th>-5.0</th>\n",
       "      <td>NaN</td>\n",
       "      <td>VIS</td>\n",
       "    </tr>\n",
       "    <tr>\n",
       "      <th>-4.0</th>\n",
       "      <td>1304.906442</td>\n",
       "      <td>DEN</td>\n",
       "    </tr>\n",
       "    <tr>\n",
       "      <th>-3.0</th>\n",
       "      <td>2587.878470</td>\n",
       "      <td>BEH</td>\n",
       "    </tr>\n",
       "    <tr>\n",
       "      <th>-2.0</th>\n",
       "      <td>2748.882665</td>\n",
       "      <td>PHM</td>\n",
       "    </tr>\n",
       "    <tr>\n",
       "      <th>-1.0</th>\n",
       "      <td>10367.570521</td>\n",
       "      <td>MED</td>\n",
       "    </tr>\n",
       "  </tbody>\n",
       "</table>\n",
       "</div>"
      ],
      "text/plain": [
       "                     elgbl_chrg_amt_sum PRODT_CLSS_TY\n",
       "clm_prodt_ctgry_key                                  \n",
       "-5.0                                NaN           VIS\n",
       "-4.0                        1304.906442           DEN\n",
       "-3.0                        2587.878470           BEH\n",
       "-2.0                        2748.882665           PHM\n",
       "-1.0                       10367.570521           MED"
      ]
     },
     "execution_count": 56,
     "metadata": {},
     "output_type": "execute_result"
    }
   ],
   "source": [
    "costs_gb"
   ]
  },
  {
   "cell_type": "markdown",
   "metadata": {},
   "source": [
    "## counts"
   ]
  },
  {
   "cell_type": "code",
   "execution_count": 84,
   "metadata": {},
   "outputs": [],
   "source": [
    "sql = \"\"\"\n",
    "select count(distinct INDIV_ENTERPRISE_ID) as Count_id, \n",
    "    CLM_PRODT_CTGRY_KEY as Prod_type\n",
    "from rawdata.clm_svc_fact\n",
    "group by CLM_PRODT_CTGRY_KEY\n",
    "--limit 50;\n",
    "\"\"\""
   ]
  },
  {
   "cell_type": "code",
   "execution_count": 85,
   "metadata": {},
   "outputs": [],
   "source": [
    "counts =  pd.read_sql(sql,con)"
   ]
  },
  {
   "cell_type": "code",
   "execution_count": 86,
   "metadata": {},
   "outputs": [
    {
     "data": {
      "text/html": [
       "<div>\n",
       "<style scoped>\n",
       "    .dataframe tbody tr th:only-of-type {\n",
       "        vertical-align: middle;\n",
       "    }\n",
       "\n",
       "    .dataframe tbody tr th {\n",
       "        vertical-align: top;\n",
       "    }\n",
       "\n",
       "    .dataframe thead th {\n",
       "        text-align: right;\n",
       "    }\n",
       "</style>\n",
       "<table border=\"1\" class=\"dataframe\">\n",
       "  <thead>\n",
       "    <tr style=\"text-align: right;\">\n",
       "      <th></th>\n",
       "      <th>count_id</th>\n",
       "      <th>prod_type</th>\n",
       "    </tr>\n",
       "  </thead>\n",
       "  <tbody>\n",
       "    <tr>\n",
       "      <th>0</th>\n",
       "      <td>3547369</td>\n",
       "      <td>-2.0</td>\n",
       "    </tr>\n",
       "    <tr>\n",
       "      <th>1</th>\n",
       "      <td>4651813</td>\n",
       "      <td>-1.0</td>\n",
       "    </tr>\n",
       "    <tr>\n",
       "      <th>2</th>\n",
       "      <td>418210</td>\n",
       "      <td>-3.0</td>\n",
       "    </tr>\n",
       "    <tr>\n",
       "      <th>3</th>\n",
       "      <td>265029</td>\n",
       "      <td>-5.0</td>\n",
       "    </tr>\n",
       "    <tr>\n",
       "      <th>4</th>\n",
       "      <td>1602717</td>\n",
       "      <td>-4.0</td>\n",
       "    </tr>\n",
       "  </tbody>\n",
       "</table>\n",
       "</div>"
      ],
      "text/plain": [
       "   count_id  prod_type\n",
       "0   3547369       -2.0\n",
       "1   4651813       -1.0\n",
       "2    418210       -3.0\n",
       "3    265029       -5.0\n",
       "4   1602717       -4.0"
      ]
     },
     "execution_count": 86,
     "metadata": {},
     "output_type": "execute_result"
    }
   ],
   "source": [
    "counts"
   ]
  },
  {
   "cell_type": "markdown",
   "metadata": {},
   "source": [
    "## averaging"
   ]
  },
  {
   "cell_type": "markdown",
   "metadata": {},
   "source": [
    "so do not have to bother with pandas groupby"
   ]
  },
  {
   "cell_type": "code",
   "execution_count": 102,
   "metadata": {},
   "outputs": [],
   "source": [
    "sql=\"\"\"\n",
    "select p.CLM_PRODT_CTGRY_KEY, avg(p.ELGBL_CHRG_AMT_SUM) as avg_ELGBL_CHRG_AMT_ID_SUM\n",
    "from (select INDIV_ENTERPRISE_ID, CLM_PRODT_CTGRY_KEY,\n",
    "        sum(ELGBL_CHRG_AMT) as ELGBL_CHRG_AMT_SUM\n",
    "        from rawdata.clm_svc_fact\n",
    "        group by INDIV_ENTERPRISE_ID,CLM_PRODT_CTGRY_KEY)p\n",
    "    group by p.CLM_PRODT_CTGRY_KEY\n",
    "--limit 50;\n",
    "\"\"\""
   ]
  },
  {
   "cell_type": "code",
   "execution_count": 103,
   "metadata": {},
   "outputs": [],
   "source": [
    "avgs =  pd.read_sql(sql,con)"
   ]
  },
  {
   "cell_type": "code",
   "execution_count": 104,
   "metadata": {},
   "outputs": [
    {
     "data": {
      "text/html": [
       "<div>\n",
       "<style scoped>\n",
       "    .dataframe tbody tr th:only-of-type {\n",
       "        vertical-align: middle;\n",
       "    }\n",
       "\n",
       "    .dataframe tbody tr th {\n",
       "        vertical-align: top;\n",
       "    }\n",
       "\n",
       "    .dataframe thead th {\n",
       "        text-align: right;\n",
       "    }\n",
       "</style>\n",
       "<table border=\"1\" class=\"dataframe\">\n",
       "  <thead>\n",
       "    <tr style=\"text-align: right;\">\n",
       "      <th></th>\n",
       "      <th>clm_prodt_ctgry_key</th>\n",
       "      <th>avg_elgbl_chrg_amt_id_sum</th>\n",
       "    </tr>\n",
       "  </thead>\n",
       "  <tbody>\n",
       "    <tr>\n",
       "      <th>0</th>\n",
       "      <td>-3.0</td>\n",
       "      <td>2587.87</td>\n",
       "    </tr>\n",
       "    <tr>\n",
       "      <th>1</th>\n",
       "      <td>-1.0</td>\n",
       "      <td>10367.57</td>\n",
       "    </tr>\n",
       "    <tr>\n",
       "      <th>2</th>\n",
       "      <td>-4.0</td>\n",
       "      <td>1304.90</td>\n",
       "    </tr>\n",
       "    <tr>\n",
       "      <th>3</th>\n",
       "      <td>-5.0</td>\n",
       "      <td>NaN</td>\n",
       "    </tr>\n",
       "    <tr>\n",
       "      <th>4</th>\n",
       "      <td>-2.0</td>\n",
       "      <td>2748.88</td>\n",
       "    </tr>\n",
       "  </tbody>\n",
       "</table>\n",
       "</div>"
      ],
      "text/plain": [
       "   clm_prodt_ctgry_key  avg_elgbl_chrg_amt_id_sum\n",
       "0                 -3.0                    2587.87\n",
       "1                 -1.0                   10367.57\n",
       "2                 -4.0                    1304.90\n",
       "3                 -5.0                        NaN\n",
       "4                 -2.0                    2748.88"
      ]
     },
     "execution_count": 104,
     "metadata": {},
     "output_type": "execute_result"
    }
   ],
   "source": [
    "avgs"
   ]
  },
  {
   "cell_type": "markdown",
   "metadata": {},
   "source": [
    "## export"
   ]
  },
  {
   "cell_type": "code",
   "execution_count": 124,
   "metadata": {},
   "outputs": [],
   "source": [
    "sql = \"\"\"\n",
    "select INDIV_ENTERPRISE_ID, CLM_PRODT_CTGRY_KEY, ELGBL_CHRG_AMT, SVC_BEG_DT_KEY\n",
    "from rawdata.clm_svc_fact\n",
    "where CLM_PRODT_CTGRY_KEY = -1.0\n",
    "or CLM_PRODT_CTGRY_KEY = -2.0\n",
    "--limit 50;\n",
    "\"\"\""
   ]
  },
  {
   "cell_type": "code",
   "execution_count": 125,
   "metadata": {},
   "outputs": [],
   "source": [
    "cost =  pd.read_sql(sql,con)"
   ]
  },
  {
   "cell_type": "code",
   "execution_count": 126,
   "metadata": {},
   "outputs": [
    {
     "data": {
      "text/plain": [
       "(50, 4)"
      ]
     },
     "execution_count": 126,
     "metadata": {},
     "output_type": "execute_result"
    }
   ],
   "source": [
    "cost.shape"
   ]
  },
  {
   "cell_type": "code",
   "execution_count": 127,
   "metadata": {},
   "outputs": [
    {
     "data": {
      "text/html": [
       "<div>\n",
       "<style scoped>\n",
       "    .dataframe tbody tr th:only-of-type {\n",
       "        vertical-align: middle;\n",
       "    }\n",
       "\n",
       "    .dataframe tbody tr th {\n",
       "        vertical-align: top;\n",
       "    }\n",
       "\n",
       "    .dataframe thead th {\n",
       "        text-align: right;\n",
       "    }\n",
       "</style>\n",
       "<table border=\"1\" class=\"dataframe\">\n",
       "  <thead>\n",
       "    <tr style=\"text-align: right;\">\n",
       "      <th></th>\n",
       "      <th>indiv_enterprise_id</th>\n",
       "      <th>clm_prodt_ctgry_key</th>\n",
       "      <th>elgbl_chrg_amt</th>\n",
       "      <th>svc_beg_dt_key</th>\n",
       "    </tr>\n",
       "  </thead>\n",
       "  <tbody>\n",
       "    <tr>\n",
       "      <th>0</th>\n",
       "      <td>40.0</td>\n",
       "      <td>-1.0</td>\n",
       "      <td>2.75</td>\n",
       "      <td>1.000000e+11</td>\n",
       "    </tr>\n",
       "    <tr>\n",
       "      <th>1</th>\n",
       "      <td>40.0</td>\n",
       "      <td>-1.0</td>\n",
       "      <td>1.84</td>\n",
       "      <td>1.000000e+11</td>\n",
       "    </tr>\n",
       "    <tr>\n",
       "      <th>2</th>\n",
       "      <td>40.0</td>\n",
       "      <td>-1.0</td>\n",
       "      <td>153.45</td>\n",
       "      <td>1.000000e+11</td>\n",
       "    </tr>\n",
       "    <tr>\n",
       "      <th>3</th>\n",
       "      <td>40.0</td>\n",
       "      <td>-1.0</td>\n",
       "      <td>2.57</td>\n",
       "      <td>1.000000e+11</td>\n",
       "    </tr>\n",
       "    <tr>\n",
       "      <th>4</th>\n",
       "      <td>40.0</td>\n",
       "      <td>-2.0</td>\n",
       "      <td>5.73</td>\n",
       "      <td>1.000000e+11</td>\n",
       "    </tr>\n",
       "  </tbody>\n",
       "</table>\n",
       "</div>"
      ],
      "text/plain": [
       "   indiv_enterprise_id  clm_prodt_ctgry_key  elgbl_chrg_amt  svc_beg_dt_key\n",
       "0                 40.0                 -1.0            2.75    1.000000e+11\n",
       "1                 40.0                 -1.0            1.84    1.000000e+11\n",
       "2                 40.0                 -1.0          153.45    1.000000e+11\n",
       "3                 40.0                 -1.0            2.57    1.000000e+11\n",
       "4                 40.0                 -2.0            5.73    1.000000e+11"
      ]
     },
     "execution_count": 127,
     "metadata": {},
     "output_type": "execute_result"
    }
   ],
   "source": [
    "cost.head()"
   ]
  },
  {
   "cell_type": "markdown",
   "metadata": {},
   "source": [
    "## med cost by ctgry year"
   ]
  },
  {
   "cell_type": "markdown",
   "metadata": {},
   "source": [
    "sql = \"\"\"\n",
    "select cd.INDIV_ENTERPRISE_ID, cd.CLM_PRODT_CTGRY_KEY, sum(cd.ELGBL_CHRG_AMT) as costsum,cd.cal_yr \n",
    "from(select c.INDIV_ENTERPRISE_ID, c.CLM_PRODT_CTGRY_KEY, c.ELGBL_CHRG_AMT, c.SVC_BEG_DT_KEY,d.dt_key, d.cal_yr\n",
    "  from rawdata.clm_svc_fact c, rawdata.dt_dim d\n",
    "    where (c.CLM_PRODT_CTGRY_KEY = -1.0\n",
    "       or c.CLM_PRODT_CTGRY_KEY = -2.0)\n",
    "       and c.SVC_BEG_DT_KEY = d.dt_key\n",
    "       order by c.INDIV_ENTERPRISE_ID, c.CLM_PRODT_CTGRY_KEY,d.cal_yr\n",
    "  limit 1000\n",
    "  ) cd\n",
    "group by cd.INDIV_ENTERPRISE_ID, cd.CLM_PRODT_CTGRY_KEY, cd.cal_yr\n",
    "\"\"\""
   ]
  },
  {
   "cell_type": "code",
   "execution_count": 34,
   "metadata": {},
   "outputs": [],
   "source": [
    "sql = \"\"\"\n",
    "select \n",
    "    cd.INDIV_ENTERPRISE_ID, \n",
    "    cd.CLM_PRODT_CTGRY_KEY, \n",
    "    sum(cd.ELGBL_CHRG_AMT) as costsum,\n",
    "    cd.cal_yr \n",
    "from(select \n",
    "        c.INDIV_ENTERPRISE_ID, \n",
    "        c.CLM_PRODT_CTGRY_KEY, \n",
    "        c.ELGBL_CHRG_AMT, \n",
    "        c.SVC_BEG_DT_KEY,\n",
    "        d.dt_key, \n",
    "        d.cal_yr\n",
    "      from rawdata.clm_svc_fact c \n",
    "      left join rawdata.dt_dim d\n",
    "      on (c.SVC_BEG_DT_KEY = d.dt_key)\n",
    "        where (c.CLM_PRODT_CTGRY_KEY = -1.0\n",
    "           or c.CLM_PRODT_CTGRY_KEY = -2.0)\n",
    "      order by c.INDIV_ENTERPRISE_ID, c.CLM_PRODT_CTGRY_KEY,d.cal_yr\n",
    "      limit 1000\n",
    "      ) cd\n",
    "group by cd.INDIV_ENTERPRISE_ID, cd.CLM_PRODT_CTGRY_KEY, cd.cal_yr\n",
    "\"\"\""
   ]
  },
  {
   "cell_type": "code",
   "execution_count": null,
   "metadata": {},
   "outputs": [],
   "source": []
  },
  {
   "cell_type": "markdown",
   "metadata": {},
   "source": [
    "probably don't need two SELECT?\n",
    "This won't work as you have to tell GROUP BY what to do with other columns not aggregated\n",
    "sql=\"\"\"\n",
    "select \n",
    "    c.INDIV_ENTERPRISE_ID, \n",
    "    c.CLM_PRODT_CTGRY_KEY, \n",
    "    sum(c.ELGBL_CHRG_AMT) as costsum, \n",
    "    c.SVC_BEG_DT_KEY,\n",
    "    d.dt_key, \n",
    "    d.cal_yr\n",
    "from rawdata.clm_svc_fact c \n",
    "left join rawdata.dt_dim d\n",
    "on (c.SVC_BEG_DT_KEY = d.dt_key)\n",
    "where (c.CLM_PRODT_CTGRY_KEY = -1.0\n",
    "   or c.CLM_PRODT_CTGRY_KEY = -2.0)\n",
    "order by c.INDIV_ENTERPRISE_ID, c.CLM_PRODT_CTGRY_KEY,d.cal_yr\n",
    "group by c.INDIV_ENTERPRISE_ID, c.CLM_PRODT_CTGRY_KEY, d.cal_yr\n",
    "limit 1000\n",
    "\"\"\"\n"
   ]
  },
  {
   "cell_type": "code",
   "execution_count": 35,
   "metadata": {},
   "outputs": [],
   "source": [
    "cost_y =  pd.read_sql(sql,con)"
   ]
  },
  {
   "cell_type": "code",
   "execution_count": 36,
   "metadata": {},
   "outputs": [
    {
     "data": {
      "text/html": [
       "<div>\n",
       "<style scoped>\n",
       "    .dataframe tbody tr th:only-of-type {\n",
       "        vertical-align: middle;\n",
       "    }\n",
       "\n",
       "    .dataframe tbody tr th {\n",
       "        vertical-align: top;\n",
       "    }\n",
       "\n",
       "    .dataframe thead th {\n",
       "        text-align: right;\n",
       "    }\n",
       "</style>\n",
       "<table border=\"1\" class=\"dataframe\">\n",
       "  <thead>\n",
       "    <tr style=\"text-align: right;\">\n",
       "      <th></th>\n",
       "      <th>indiv_enterprise_id</th>\n",
       "      <th>clm_prodt_ctgry_key</th>\n",
       "      <th>costsum</th>\n",
       "      <th>cal_yr</th>\n",
       "    </tr>\n",
       "  </thead>\n",
       "  <tbody>\n",
       "    <tr>\n",
       "      <th>0</th>\n",
       "      <td>9.0</td>\n",
       "      <td>-2.0</td>\n",
       "      <td>NaN</td>\n",
       "      <td>2017.0</td>\n",
       "    </tr>\n",
       "    <tr>\n",
       "      <th>1</th>\n",
       "      <td>9.0</td>\n",
       "      <td>-2.0</td>\n",
       "      <td>NaN</td>\n",
       "      <td>2018.0</td>\n",
       "    </tr>\n",
       "    <tr>\n",
       "      <th>2</th>\n",
       "      <td>9.0</td>\n",
       "      <td>-1.0</td>\n",
       "      <td>15556.37</td>\n",
       "      <td>2016.0</td>\n",
       "    </tr>\n",
       "    <tr>\n",
       "      <th>3</th>\n",
       "      <td>9.0</td>\n",
       "      <td>-1.0</td>\n",
       "      <td>1197.42</td>\n",
       "      <td>2018.0</td>\n",
       "    </tr>\n",
       "    <tr>\n",
       "      <th>4</th>\n",
       "      <td>12.0</td>\n",
       "      <td>-2.0</td>\n",
       "      <td>158.50</td>\n",
       "      <td>2018.0</td>\n",
       "    </tr>\n",
       "  </tbody>\n",
       "</table>\n",
       "</div>"
      ],
      "text/plain": [
       "   indiv_enterprise_id  clm_prodt_ctgry_key   costsum  cal_yr\n",
       "0                  9.0                 -2.0       NaN  2017.0\n",
       "1                  9.0                 -2.0       NaN  2018.0\n",
       "2                  9.0                 -1.0  15556.37  2016.0\n",
       "3                  9.0                 -1.0   1197.42  2018.0\n",
       "4                 12.0                 -2.0    158.50  2018.0"
      ]
     },
     "execution_count": 36,
     "metadata": {},
     "output_type": "execute_result"
    }
   ],
   "source": [
    "cost_y.head()"
   ]
  },
  {
   "cell_type": "code",
   "execution_count": null,
   "metadata": {},
   "outputs": [],
   "source": [
    "cost.indiv_enterprise_id = cost.indiv_enterprise_id.astype(int).astype(str)\n",
    "cost.clm_prodt_ctgry_key = cost.clm_prodt_ctgry_key.astype(int).astype(str)\n",
    "cost.cal_yr = cost.cal_yr.astype(int).astype(str)\n",
    "cost.costsum = cost.costsum.round(2)"
   ]
  },
  {
   "cell_type": "code",
   "execution_count": null,
   "metadata": {},
   "outputs": [],
   "source": [
    "cost.groupby(['clm_prodt_ctgry_key','cal_yr'])['costsum'].describe()"
   ]
  },
  {
   "cell_type": "markdown",
   "metadata": {},
   "source": [
    "### PMPM $400 for med cost"
   ]
  },
  {
   "cell_type": "code",
   "execution_count": 15,
   "metadata": {},
   "outputs": [],
   "source": [
    "sql = \"\"\"\n",
    "select \n",
    "    cd.INDIV_ENTERPRISE_ID, \n",
    "    cd.CLM_PRODT_CTGRY_KEY, \n",
    "    sum(cd.ELGBL_CHRG_AMT) as costsum,\n",
    "    cd.yrmm\n",
    "from(\n",
    "    select \n",
    "        c.INDIV_ENTERPRISE_ID, \n",
    "        c.CLM_PRODT_CTGRY_KEY, \n",
    "        c.ELGBL_CHRG_AMT, \n",
    "        c.SVC_BEG_DT_KEY,\n",
    "        d.dt_key, \n",
    "        d.cal_dt,\n",
    "        to_char(d.cal_dt,'YYYY-MM') as yrmm\n",
    "      from rawdata.clm_svc_fact c \n",
    "          left join rawdata.dt_dim d\n",
    "          on (c.SVC_BEG_DT_KEY = d.dt_key)\n",
    "      where (c.CLM_PRODT_CTGRY_KEY = -1.0\n",
    "             or c.CLM_PRODT_CTGRY_KEY = -2.0)\n",
    "      order by c.INDIV_ENTERPRISE_ID, c.CLM_PRODT_CTGRY_KEY,yrmm\n",
    "      --limit 1000\n",
    "      ) cd\n",
    "group by cd.INDIV_ENTERPRISE_ID, cd.CLM_PRODT_CTGRY_KEY, cd.yrmm\n",
    "\"\"\""
   ]
  },
  {
   "cell_type": "markdown",
   "metadata": {},
   "source": [
    "probably don't need two SELECT?\n",
    "This won't work as you have to tell GROUP BY what to do with other columns not aggregated\n",
    "sql = \"\"\"\n",
    "select \n",
    "    c.INDIV_ENTERPRISE_ID, \n",
    "    c.CLM_PRODT_CTGRY_KEY, \n",
    "    sum(c.ELGBL_CHRG_AMT) as costsum, \n",
    "    c.SVC_BEG_DT_KEY,\n",
    "    d.dt_key, \n",
    "    to_char(d.cal_dt,'YYYY-MM') as yrmm\n",
    "from rawdata.clm_svc_fact c \n",
    "  left join rawdata.dt_dim d\n",
    "  on (c.SVC_BEG_DT_KEY = d.dt_key)\n",
    "--where (c.CLM_PRODT_CTGRY_KEY = -1.0\n",
    "--     or c.CLM_PRODT_CTGRY_KEY = -2.0)\n",
    "--order by c.INDIV_ENTERPRISE_ID, c.CLM_PRODT_CTGRY_KEY,yrmm\n",
    "group by c.INDIV_ENTERPRISE_ID, c.CLM_PRODT_CTGRY_KEY, yrmm\n",
    "limit 1000\n",
    "\"\"\""
   ]
  },
  {
   "cell_type": "code",
   "execution_count": 16,
   "metadata": {},
   "outputs": [],
   "source": [
    "cost =  pd.read_sql(sql,con)"
   ]
  },
  {
   "cell_type": "code",
   "execution_count": 17,
   "metadata": {},
   "outputs": [
    {
     "data": {
      "text/plain": [
       "(65258343, 4)"
      ]
     },
     "execution_count": 17,
     "metadata": {},
     "output_type": "execute_result"
    }
   ],
   "source": [
    "cost.shape"
   ]
  },
  {
   "cell_type": "code",
   "execution_count": 18,
   "metadata": {},
   "outputs": [
    {
     "data": {
      "text/html": [
       "<div>\n",
       "<style scoped>\n",
       "    .dataframe tbody tr th:only-of-type {\n",
       "        vertical-align: middle;\n",
       "    }\n",
       "\n",
       "    .dataframe tbody tr th {\n",
       "        vertical-align: top;\n",
       "    }\n",
       "\n",
       "    .dataframe thead th {\n",
       "        text-align: right;\n",
       "    }\n",
       "</style>\n",
       "<table border=\"1\" class=\"dataframe\">\n",
       "  <thead>\n",
       "    <tr style=\"text-align: right;\">\n",
       "      <th></th>\n",
       "      <th>indiv_enterprise_id</th>\n",
       "      <th>clm_prodt_ctgry_key</th>\n",
       "      <th>costsum</th>\n",
       "      <th>yrmm</th>\n",
       "    </tr>\n",
       "  </thead>\n",
       "  <tbody>\n",
       "    <tr>\n",
       "      <th>0</th>\n",
       "      <td>395753.0</td>\n",
       "      <td>-2.0</td>\n",
       "      <td>0.00</td>\n",
       "      <td>2016-10</td>\n",
       "    </tr>\n",
       "    <tr>\n",
       "      <th>1</th>\n",
       "      <td>18047852.0</td>\n",
       "      <td>-2.0</td>\n",
       "      <td>15.46</td>\n",
       "      <td>2016-03</td>\n",
       "    </tr>\n",
       "    <tr>\n",
       "      <th>2</th>\n",
       "      <td>42557610.0</td>\n",
       "      <td>-2.0</td>\n",
       "      <td>124.99</td>\n",
       "      <td>2017-09</td>\n",
       "    </tr>\n",
       "    <tr>\n",
       "      <th>3</th>\n",
       "      <td>70183436.0</td>\n",
       "      <td>-1.0</td>\n",
       "      <td>400.27</td>\n",
       "      <td>2018-04</td>\n",
       "    </tr>\n",
       "    <tr>\n",
       "      <th>4</th>\n",
       "      <td>72069137.0</td>\n",
       "      <td>-2.0</td>\n",
       "      <td>20.82</td>\n",
       "      <td>2017-07</td>\n",
       "    </tr>\n",
       "    <tr>\n",
       "      <th>5</th>\n",
       "      <td>2383203.0</td>\n",
       "      <td>-2.0</td>\n",
       "      <td>NaN</td>\n",
       "      <td>2018-05</td>\n",
       "    </tr>\n",
       "    <tr>\n",
       "      <th>6</th>\n",
       "      <td>4480693.0</td>\n",
       "      <td>-1.0</td>\n",
       "      <td>236.52</td>\n",
       "      <td>2016-03</td>\n",
       "    </tr>\n",
       "    <tr>\n",
       "      <th>7</th>\n",
       "      <td>12043840.0</td>\n",
       "      <td>-2.0</td>\n",
       "      <td>6.85</td>\n",
       "      <td>2016-04</td>\n",
       "    </tr>\n",
       "    <tr>\n",
       "      <th>8</th>\n",
       "      <td>23497420.0</td>\n",
       "      <td>-2.0</td>\n",
       "      <td>30.48</td>\n",
       "      <td>2018-03</td>\n",
       "    </tr>\n",
       "    <tr>\n",
       "      <th>9</th>\n",
       "      <td>59306003.0</td>\n",
       "      <td>-2.0</td>\n",
       "      <td>19.79</td>\n",
       "      <td>2017-08</td>\n",
       "    </tr>\n",
       "    <tr>\n",
       "      <th>10</th>\n",
       "      <td>65267099.0</td>\n",
       "      <td>-2.0</td>\n",
       "      <td>42.46</td>\n",
       "      <td>2016-01</td>\n",
       "    </tr>\n",
       "    <tr>\n",
       "      <th>11</th>\n",
       "      <td>47552760.0</td>\n",
       "      <td>-2.0</td>\n",
       "      <td>462.21</td>\n",
       "      <td>2015-11</td>\n",
       "    </tr>\n",
       "    <tr>\n",
       "      <th>12</th>\n",
       "      <td>78343833.0</td>\n",
       "      <td>-1.0</td>\n",
       "      <td>99.37</td>\n",
       "      <td>2016-10</td>\n",
       "    </tr>\n",
       "    <tr>\n",
       "      <th>13</th>\n",
       "      <td>294087421.0</td>\n",
       "      <td>-2.0</td>\n",
       "      <td>142.51</td>\n",
       "      <td>2017-10</td>\n",
       "    </tr>\n",
       "    <tr>\n",
       "      <th>14</th>\n",
       "      <td>78063758.0</td>\n",
       "      <td>-2.0</td>\n",
       "      <td>NaN</td>\n",
       "      <td>2017-03</td>\n",
       "    </tr>\n",
       "    <tr>\n",
       "      <th>15</th>\n",
       "      <td>4877119.0</td>\n",
       "      <td>-2.0</td>\n",
       "      <td>NaN</td>\n",
       "      <td>2017-09</td>\n",
       "    </tr>\n",
       "    <tr>\n",
       "      <th>16</th>\n",
       "      <td>13287523.0</td>\n",
       "      <td>-1.0</td>\n",
       "      <td>46.95</td>\n",
       "      <td>2015-10</td>\n",
       "    </tr>\n",
       "    <tr>\n",
       "      <th>17</th>\n",
       "      <td>35372221.0</td>\n",
       "      <td>-1.0</td>\n",
       "      <td>353.13</td>\n",
       "      <td>2017-08</td>\n",
       "    </tr>\n",
       "    <tr>\n",
       "      <th>18</th>\n",
       "      <td>5540993.0</td>\n",
       "      <td>-2.0</td>\n",
       "      <td>217.79</td>\n",
       "      <td>2015-07</td>\n",
       "    </tr>\n",
       "    <tr>\n",
       "      <th>19</th>\n",
       "      <td>893761975.0</td>\n",
       "      <td>-2.0</td>\n",
       "      <td>4.00</td>\n",
       "      <td>2016-05</td>\n",
       "    </tr>\n",
       "  </tbody>\n",
       "</table>\n",
       "</div>"
      ],
      "text/plain": [
       "    indiv_enterprise_id  clm_prodt_ctgry_key  costsum     yrmm\n",
       "0              395753.0                 -2.0     0.00  2016-10\n",
       "1            18047852.0                 -2.0    15.46  2016-03\n",
       "2            42557610.0                 -2.0   124.99  2017-09\n",
       "3            70183436.0                 -1.0   400.27  2018-04\n",
       "4            72069137.0                 -2.0    20.82  2017-07\n",
       "5             2383203.0                 -2.0      NaN  2018-05\n",
       "6             4480693.0                 -1.0   236.52  2016-03\n",
       "7            12043840.0                 -2.0     6.85  2016-04\n",
       "8            23497420.0                 -2.0    30.48  2018-03\n",
       "9            59306003.0                 -2.0    19.79  2017-08\n",
       "10           65267099.0                 -2.0    42.46  2016-01\n",
       "11           47552760.0                 -2.0   462.21  2015-11\n",
       "12           78343833.0                 -1.0    99.37  2016-10\n",
       "13          294087421.0                 -2.0   142.51  2017-10\n",
       "14           78063758.0                 -2.0      NaN  2017-03\n",
       "15            4877119.0                 -2.0      NaN  2017-09\n",
       "16           13287523.0                 -1.0    46.95  2015-10\n",
       "17           35372221.0                 -1.0   353.13  2017-08\n",
       "18            5540993.0                 -2.0   217.79  2015-07\n",
       "19          893761975.0                 -2.0     4.00  2016-05"
      ]
     },
     "execution_count": 18,
     "metadata": {},
     "output_type": "execute_result"
    }
   ],
   "source": [
    "cost.head(20)"
   ]
  },
  {
   "cell_type": "code",
   "execution_count": 37,
   "metadata": {},
   "outputs": [
    {
     "data": {
      "text/plain": [
       "4843027"
      ]
     },
     "execution_count": 37,
     "metadata": {},
     "output_type": "execute_result"
    }
   ],
   "source": [
    "cost.indiv_enterprise_id.nunique()"
   ]
  },
  {
   "cell_type": "code",
   "execution_count": 20,
   "metadata": {},
   "outputs": [
    {
     "data": {
      "text/plain": [
       "indiv_enterprise_id    float64\n",
       "clm_prodt_ctgry_key    float64\n",
       "costsum                float64\n",
       "yrmm                    object\n",
       "dtype: object"
      ]
     },
     "execution_count": 20,
     "metadata": {},
     "output_type": "execute_result"
    }
   ],
   "source": [
    "cost.dtypes"
   ]
  },
  {
   "cell_type": "code",
   "execution_count": 21,
   "metadata": {},
   "outputs": [],
   "source": [
    "cost.indiv_enterprise_id = cost.indiv_enterprise_id.astype(int).astype(str)\n",
    "cost.clm_prodt_ctgry_key = cost.clm_prodt_ctgry_key.astype(int).astype(str)\n",
    "#cost.yrmm = cost.yrmm.astype(str)\n",
    "cost.costsum = cost.costsum.round(2)"
   ]
  },
  {
   "cell_type": "code",
   "execution_count": 22,
   "metadata": {},
   "outputs": [],
   "source": [
    "cost.to_csv(\"/gnshealthcare/shared/nli/dataframe/r36m/person_year_month_ctgry_cost.csv\",index=False)"
   ]
  },
  {
   "cell_type": "code",
   "execution_count": 26,
   "metadata": {},
   "outputs": [
    {
     "data": {
      "text/plain": [
       "966.0495443826981"
      ]
     },
     "execution_count": 26,
     "metadata": {},
     "output_type": "execute_result"
    }
   ],
   "source": [
    "cost.costsum.mean()"
   ]
  },
  {
   "cell_type": "code",
   "execution_count": 24,
   "metadata": {},
   "outputs": [
    {
     "data": {
      "text/html": [
       "<div>\n",
       "<style scoped>\n",
       "    .dataframe tbody tr th:only-of-type {\n",
       "        vertical-align: middle;\n",
       "    }\n",
       "\n",
       "    .dataframe tbody tr th {\n",
       "        vertical-align: top;\n",
       "    }\n",
       "\n",
       "    .dataframe thead th {\n",
       "        text-align: right;\n",
       "    }\n",
       "</style>\n",
       "<table border=\"1\" class=\"dataframe\">\n",
       "  <thead>\n",
       "    <tr style=\"text-align: right;\">\n",
       "      <th></th>\n",
       "      <th>indiv_enterprise_id</th>\n",
       "      <th>clm_prodt_ctgry_key</th>\n",
       "      <th>costsum</th>\n",
       "      <th>yrmm</th>\n",
       "    </tr>\n",
       "  </thead>\n",
       "  <tbody>\n",
       "    <tr>\n",
       "      <th>0</th>\n",
       "      <td>395753</td>\n",
       "      <td>-2</td>\n",
       "      <td>0.00</td>\n",
       "      <td>2016-10</td>\n",
       "    </tr>\n",
       "    <tr>\n",
       "      <th>1</th>\n",
       "      <td>18047852</td>\n",
       "      <td>-2</td>\n",
       "      <td>15.46</td>\n",
       "      <td>2016-03</td>\n",
       "    </tr>\n",
       "    <tr>\n",
       "      <th>2</th>\n",
       "      <td>42557610</td>\n",
       "      <td>-2</td>\n",
       "      <td>124.99</td>\n",
       "      <td>2017-09</td>\n",
       "    </tr>\n",
       "    <tr>\n",
       "      <th>3</th>\n",
       "      <td>70183436</td>\n",
       "      <td>-1</td>\n",
       "      <td>400.27</td>\n",
       "      <td>2018-04</td>\n",
       "    </tr>\n",
       "    <tr>\n",
       "      <th>4</th>\n",
       "      <td>72069137</td>\n",
       "      <td>-2</td>\n",
       "      <td>20.82</td>\n",
       "      <td>2017-07</td>\n",
       "    </tr>\n",
       "  </tbody>\n",
       "</table>\n",
       "</div>"
      ],
      "text/plain": [
       "  indiv_enterprise_id clm_prodt_ctgry_key  costsum     yrmm\n",
       "0              395753                  -2     0.00  2016-10\n",
       "1            18047852                  -2    15.46  2016-03\n",
       "2            42557610                  -2   124.99  2017-09\n",
       "3            70183436                  -1   400.27  2018-04\n",
       "4            72069137                  -2    20.82  2017-07"
      ]
     },
     "execution_count": 24,
     "metadata": {},
     "output_type": "execute_result"
    }
   ],
   "source": [
    "cost.head()"
   ]
  },
  {
   "cell_type": "code",
   "execution_count": 25,
   "metadata": {
    "scrolled": true
   },
   "outputs": [
    {
     "data": {
      "text/html": [
       "<div>\n",
       "<style scoped>\n",
       "    .dataframe tbody tr th:only-of-type {\n",
       "        vertical-align: middle;\n",
       "    }\n",
       "\n",
       "    .dataframe tbody tr th {\n",
       "        vertical-align: top;\n",
       "    }\n",
       "\n",
       "    .dataframe thead th {\n",
       "        text-align: right;\n",
       "    }\n",
       "</style>\n",
       "<table border=\"1\" class=\"dataframe\">\n",
       "  <thead>\n",
       "    <tr style=\"text-align: right;\">\n",
       "      <th></th>\n",
       "      <th></th>\n",
       "      <th>count</th>\n",
       "      <th>mean</th>\n",
       "      <th>std</th>\n",
       "      <th>min</th>\n",
       "      <th>25%</th>\n",
       "      <th>50%</th>\n",
       "      <th>75%</th>\n",
       "      <th>max</th>\n",
       "    </tr>\n",
       "    <tr>\n",
       "      <th>clm_prodt_ctgry_key</th>\n",
       "      <th>yrmm</th>\n",
       "      <th></th>\n",
       "      <th></th>\n",
       "      <th></th>\n",
       "      <th></th>\n",
       "      <th></th>\n",
       "      <th></th>\n",
       "      <th></th>\n",
       "      <th></th>\n",
       "    </tr>\n",
       "  </thead>\n",
       "  <tbody>\n",
       "    <tr>\n",
       "      <th rowspan=\"36\" valign=\"top\">-1</th>\n",
       "      <th>2015-07</th>\n",
       "      <td>804929.0</td>\n",
       "      <td>1390.497872</td>\n",
       "      <td>12024.135904</td>\n",
       "      <td>-17540.74</td>\n",
       "      <td>104.4000</td>\n",
       "      <td>213.550</td>\n",
       "      <td>545.0900</td>\n",
       "      <td>5089234.75</td>\n",
       "    </tr>\n",
       "    <tr>\n",
       "      <th>2015-08</th>\n",
       "      <td>888947.0</td>\n",
       "      <td>1424.076657</td>\n",
       "      <td>10277.897146</td>\n",
       "      <td>-16232.08</td>\n",
       "      <td>107.1800</td>\n",
       "      <td>219.380</td>\n",
       "      <td>559.3300</td>\n",
       "      <td>2833136.66</td>\n",
       "    </tr>\n",
       "    <tr>\n",
       "      <th>2015-09</th>\n",
       "      <td>909937.0</td>\n",
       "      <td>1425.641531</td>\n",
       "      <td>11445.813398</td>\n",
       "      <td>-2070.00</td>\n",
       "      <td>99.0000</td>\n",
       "      <td>210.930</td>\n",
       "      <td>555.7300</td>\n",
       "      <td>4296582.35</td>\n",
       "    </tr>\n",
       "    <tr>\n",
       "      <th>2015-10</th>\n",
       "      <td>1010048.0</td>\n",
       "      <td>1364.702502</td>\n",
       "      <td>12181.102663</td>\n",
       "      <td>-4182.86</td>\n",
       "      <td>85.6300</td>\n",
       "      <td>196.190</td>\n",
       "      <td>523.5700</td>\n",
       "      <td>6327924.73</td>\n",
       "    </tr>\n",
       "    <tr>\n",
       "      <th>2015-11</th>\n",
       "      <td>925953.0</td>\n",
       "      <td>1395.964540</td>\n",
       "      <td>12172.309797</td>\n",
       "      <td>-64344.43</td>\n",
       "      <td>93.6400</td>\n",
       "      <td>203.810</td>\n",
       "      <td>538.0100</td>\n",
       "      <td>5606207.24</td>\n",
       "    </tr>\n",
       "    <tr>\n",
       "      <th>2015-12</th>\n",
       "      <td>921620.0</td>\n",
       "      <td>1529.646924</td>\n",
       "      <td>10684.136781</td>\n",
       "      <td>-635.68</td>\n",
       "      <td>104.0000</td>\n",
       "      <td>219.770</td>\n",
       "      <td>595.2700</td>\n",
       "      <td>4609109.99</td>\n",
       "    </tr>\n",
       "    <tr>\n",
       "      <th>2016-01</th>\n",
       "      <td>859576.0</td>\n",
       "      <td>1464.255843</td>\n",
       "      <td>13101.161156</td>\n",
       "      <td>-8323.64</td>\n",
       "      <td>104.1500</td>\n",
       "      <td>210.180</td>\n",
       "      <td>542.6500</td>\n",
       "      <td>5547112.35</td>\n",
       "    </tr>\n",
       "    <tr>\n",
       "      <th>2016-02</th>\n",
       "      <td>897546.0</td>\n",
       "      <td>1485.409588</td>\n",
       "      <td>15943.509781</td>\n",
       "      <td>-8772.17</td>\n",
       "      <td>104.4025</td>\n",
       "      <td>210.440</td>\n",
       "      <td>546.8275</td>\n",
       "      <td>11018204.33</td>\n",
       "    </tr>\n",
       "    <tr>\n",
       "      <th>2016-03</th>\n",
       "      <td>935823.0</td>\n",
       "      <td>1498.994533</td>\n",
       "      <td>36700.223269</td>\n",
       "      <td>-12252.53</td>\n",
       "      <td>106.7600</td>\n",
       "      <td>219.000</td>\n",
       "      <td>575.9500</td>\n",
       "      <td>32910422.94</td>\n",
       "    </tr>\n",
       "    <tr>\n",
       "      <th>2016-04</th>\n",
       "      <td>878279.0</td>\n",
       "      <td>1422.153208</td>\n",
       "      <td>9460.128154</td>\n",
       "      <td>-19491.02</td>\n",
       "      <td>106.1400</td>\n",
       "      <td>217.980</td>\n",
       "      <td>571.0000</td>\n",
       "      <td>2110501.50</td>\n",
       "    </tr>\n",
       "    <tr>\n",
       "      <th>2016-05</th>\n",
       "      <td>869941.0</td>\n",
       "      <td>1490.336397</td>\n",
       "      <td>14911.058556</td>\n",
       "      <td>-2257.10</td>\n",
       "      <td>107.1800</td>\n",
       "      <td>221.010</td>\n",
       "      <td>581.0000</td>\n",
       "      <td>8755378.67</td>\n",
       "    </tr>\n",
       "    <tr>\n",
       "      <th>2016-06</th>\n",
       "      <td>880364.0</td>\n",
       "      <td>1486.763275</td>\n",
       "      <td>10335.193421</td>\n",
       "      <td>-116475.96</td>\n",
       "      <td>109.6600</td>\n",
       "      <td>227.160</td>\n",
       "      <td>590.1800</td>\n",
       "      <td>2364137.29</td>\n",
       "    </tr>\n",
       "    <tr>\n",
       "      <th>2016-07</th>\n",
       "      <td>827544.0</td>\n",
       "      <td>1530.391417</td>\n",
       "      <td>34351.340255</td>\n",
       "      <td>-57727.87</td>\n",
       "      <td>108.2100</td>\n",
       "      <td>224.040</td>\n",
       "      <td>578.5700</td>\n",
       "      <td>29056386.06</td>\n",
       "    </tr>\n",
       "    <tr>\n",
       "      <th>2016-08</th>\n",
       "      <td>922804.0</td>\n",
       "      <td>1446.391135</td>\n",
       "      <td>13711.450119</td>\n",
       "      <td>-1322.38</td>\n",
       "      <td>110.1300</td>\n",
       "      <td>229.450</td>\n",
       "      <td>578.7400</td>\n",
       "      <td>6418148.22</td>\n",
       "    </tr>\n",
       "    <tr>\n",
       "      <th>2016-09</th>\n",
       "      <td>913418.0</td>\n",
       "      <td>1444.082575</td>\n",
       "      <td>20292.108712</td>\n",
       "      <td>-5473.35</td>\n",
       "      <td>99.1100</td>\n",
       "      <td>214.560</td>\n",
       "      <td>559.4100</td>\n",
       "      <td>14574645.67</td>\n",
       "    </tr>\n",
       "    <tr>\n",
       "      <th>2016-10</th>\n",
       "      <td>959904.0</td>\n",
       "      <td>1361.069261</td>\n",
       "      <td>25483.266615</td>\n",
       "      <td>-58300.26</td>\n",
       "      <td>85.3700</td>\n",
       "      <td>198.080</td>\n",
       "      <td>518.5500</td>\n",
       "      <td>22900370.06</td>\n",
       "    </tr>\n",
       "    <tr>\n",
       "      <th>2016-11</th>\n",
       "      <td>930648.0</td>\n",
       "      <td>1460.611860</td>\n",
       "      <td>21952.590482</td>\n",
       "      <td>-207.33</td>\n",
       "      <td>96.5900</td>\n",
       "      <td>211.750</td>\n",
       "      <td>551.4100</td>\n",
       "      <td>15764016.21</td>\n",
       "    </tr>\n",
       "    <tr>\n",
       "      <th>2016-12</th>\n",
       "      <td>904144.0</td>\n",
       "      <td>1542.122812</td>\n",
       "      <td>10983.973126</td>\n",
       "      <td>-1848.00</td>\n",
       "      <td>106.0000</td>\n",
       "      <td>224.840</td>\n",
       "      <td>599.8100</td>\n",
       "      <td>3570868.34</td>\n",
       "    </tr>\n",
       "    <tr>\n",
       "      <th>2017-01</th>\n",
       "      <td>941538.0</td>\n",
       "      <td>1470.368551</td>\n",
       "      <td>14216.875450</td>\n",
       "      <td>-9788.46</td>\n",
       "      <td>108.2100</td>\n",
       "      <td>217.890</td>\n",
       "      <td>553.2500</td>\n",
       "      <td>5210470.65</td>\n",
       "    </tr>\n",
       "    <tr>\n",
       "      <th>2017-02</th>\n",
       "      <td>922160.0</td>\n",
       "      <td>1393.664672</td>\n",
       "      <td>13748.581642</td>\n",
       "      <td>-1401.03</td>\n",
       "      <td>106.5600</td>\n",
       "      <td>212.490</td>\n",
       "      <td>539.6600</td>\n",
       "      <td>7549816.52</td>\n",
       "    </tr>\n",
       "    <tr>\n",
       "      <th>2017-03</th>\n",
       "      <td>988097.0</td>\n",
       "      <td>1483.136345</td>\n",
       "      <td>12454.045378</td>\n",
       "      <td>-2029.20</td>\n",
       "      <td>109.6600</td>\n",
       "      <td>224.630</td>\n",
       "      <td>581.8000</td>\n",
       "      <td>6039877.47</td>\n",
       "    </tr>\n",
       "    <tr>\n",
       "      <th>2017-04</th>\n",
       "      <td>918414.0</td>\n",
       "      <td>1494.255478</td>\n",
       "      <td>14878.186194</td>\n",
       "      <td>-7305.30</td>\n",
       "      <td>107.2700</td>\n",
       "      <td>219.510</td>\n",
       "      <td>568.7100</td>\n",
       "      <td>5567432.92</td>\n",
       "    </tr>\n",
       "    <tr>\n",
       "      <th>2017-05</th>\n",
       "      <td>957878.0</td>\n",
       "      <td>1534.534934</td>\n",
       "      <td>12847.522088</td>\n",
       "      <td>-1144.30</td>\n",
       "      <td>110.1600</td>\n",
       "      <td>229.800</td>\n",
       "      <td>599.3500</td>\n",
       "      <td>4376278.03</td>\n",
       "    </tr>\n",
       "    <tr>\n",
       "      <th>2017-06</th>\n",
       "      <td>947151.0</td>\n",
       "      <td>1567.689450</td>\n",
       "      <td>13172.583968</td>\n",
       "      <td>-2380.86</td>\n",
       "      <td>112.4200</td>\n",
       "      <td>232.540</td>\n",
       "      <td>601.0200</td>\n",
       "      <td>4903085.40</td>\n",
       "    </tr>\n",
       "    <tr>\n",
       "      <th>2017-07</th>\n",
       "      <td>901783.0</td>\n",
       "      <td>1496.360585</td>\n",
       "      <td>10026.428635</td>\n",
       "      <td>-4313.22</td>\n",
       "      <td>110.0500</td>\n",
       "      <td>228.340</td>\n",
       "      <td>583.6600</td>\n",
       "      <td>1737292.38</td>\n",
       "    </tr>\n",
       "    <tr>\n",
       "      <th>2017-08</th>\n",
       "      <td>987799.0</td>\n",
       "      <td>1472.118838</td>\n",
       "      <td>10436.500239</td>\n",
       "      <td>-1052.20</td>\n",
       "      <td>112.5500</td>\n",
       "      <td>232.810</td>\n",
       "      <td>587.3400</td>\n",
       "      <td>3574466.19</td>\n",
       "    </tr>\n",
       "    <tr>\n",
       "      <th>2017-09</th>\n",
       "      <td>944046.0</td>\n",
       "      <td>1434.631135</td>\n",
       "      <td>9491.242776</td>\n",
       "      <td>-3598.57</td>\n",
       "      <td>99.0900</td>\n",
       "      <td>215.000</td>\n",
       "      <td>558.3800</td>\n",
       "      <td>1401980.00</td>\n",
       "    </tr>\n",
       "    <tr>\n",
       "      <th>2017-10</th>\n",
       "      <td>1087271.0</td>\n",
       "      <td>1387.567191</td>\n",
       "      <td>9565.967375</td>\n",
       "      <td>-315442.52</td>\n",
       "      <td>90.9200</td>\n",
       "      <td>209.320</td>\n",
       "      <td>549.1800</td>\n",
       "      <td>2258864.79</td>\n",
       "    </tr>\n",
       "    <tr>\n",
       "      <th>2017-11</th>\n",
       "      <td>1033788.0</td>\n",
       "      <td>1449.802440</td>\n",
       "      <td>10274.762077</td>\n",
       "      <td>-451.78</td>\n",
       "      <td>101.1600</td>\n",
       "      <td>219.000</td>\n",
       "      <td>570.0000</td>\n",
       "      <td>3987464.42</td>\n",
       "    </tr>\n",
       "    <tr>\n",
       "      <th>2017-12</th>\n",
       "      <td>999523.0</td>\n",
       "      <td>1525.803958</td>\n",
       "      <td>10616.304112</td>\n",
       "      <td>-1419.18</td>\n",
       "      <td>108.2700</td>\n",
       "      <td>224.370</td>\n",
       "      <td>595.8150</td>\n",
       "      <td>3403842.86</td>\n",
       "    </tr>\n",
       "    <tr>\n",
       "      <th>2018-01</th>\n",
       "      <td>1086579.0</td>\n",
       "      <td>1402.306760</td>\n",
       "      <td>10239.620691</td>\n",
       "      <td>-1184.00</td>\n",
       "      <td>109.6600</td>\n",
       "      <td>220.000</td>\n",
       "      <td>554.4700</td>\n",
       "      <td>3863457.51</td>\n",
       "    </tr>\n",
       "    <tr>\n",
       "      <th>2018-02</th>\n",
       "      <td>1025713.0</td>\n",
       "      <td>1374.075332</td>\n",
       "      <td>10801.766243</td>\n",
       "      <td>0.00</td>\n",
       "      <td>109.6600</td>\n",
       "      <td>218.050</td>\n",
       "      <td>551.2800</td>\n",
       "      <td>4322085.00</td>\n",
       "    </tr>\n",
       "    <tr>\n",
       "      <th>2018-03</th>\n",
       "      <td>1024903.0</td>\n",
       "      <td>1442.819150</td>\n",
       "      <td>8870.411372</td>\n",
       "      <td>0.00</td>\n",
       "      <td>112.3100</td>\n",
       "      <td>229.980</td>\n",
       "      <td>594.6050</td>\n",
       "      <td>1429946.61</td>\n",
       "    </tr>\n",
       "    <tr>\n",
       "      <th>2018-04</th>\n",
       "      <td>993761.0</td>\n",
       "      <td>1348.772198</td>\n",
       "      <td>7716.546468</td>\n",
       "      <td>0.00</td>\n",
       "      <td>111.3300</td>\n",
       "      <td>227.690</td>\n",
       "      <td>586.0000</td>\n",
       "      <td>1597315.68</td>\n",
       "    </tr>\n",
       "    <tr>\n",
       "      <th>2018-05</th>\n",
       "      <td>988143.0</td>\n",
       "      <td>1198.581349</td>\n",
       "      <td>6316.257601</td>\n",
       "      <td>-362.18</td>\n",
       "      <td>110.9100</td>\n",
       "      <td>227.080</td>\n",
       "      <td>575.4800</td>\n",
       "      <td>1236263.50</td>\n",
       "    </tr>\n",
       "    <tr>\n",
       "      <th>2018-06</th>\n",
       "      <td>749230.0</td>\n",
       "      <td>699.923296</td>\n",
       "      <td>2901.577773</td>\n",
       "      <td>0.00</td>\n",
       "      <td>96.9300</td>\n",
       "      <td>188.510</td>\n",
       "      <td>429.9875</td>\n",
       "      <td>340032.39</td>\n",
       "    </tr>\n",
       "    <tr>\n",
       "      <th rowspan=\"37\" valign=\"top\">-2</th>\n",
       "      <th>2015-07</th>\n",
       "      <td>567636.0</td>\n",
       "      <td>284.171929</td>\n",
       "      <td>1342.511246</td>\n",
       "      <td>0.00</td>\n",
       "      <td>10.6700</td>\n",
       "      <td>40.210</td>\n",
       "      <td>189.9000</td>\n",
       "      <td>99242.34</td>\n",
       "    </tr>\n",
       "    <tr>\n",
       "      <th>2015-08</th>\n",
       "      <td>626120.0</td>\n",
       "      <td>309.853254</td>\n",
       "      <td>1474.734048</td>\n",
       "      <td>-8099.00</td>\n",
       "      <td>11.8200</td>\n",
       "      <td>45.590</td>\n",
       "      <td>212.4200</td>\n",
       "      <td>125356.22</td>\n",
       "    </tr>\n",
       "    <tr>\n",
       "      <th>2015-09</th>\n",
       "      <td>632189.0</td>\n",
       "      <td>310.940346</td>\n",
       "      <td>1476.997397</td>\n",
       "      <td>-10151.57</td>\n",
       "      <td>11.7600</td>\n",
       "      <td>44.780</td>\n",
       "      <td>208.7000</td>\n",
       "      <td>130069.60</td>\n",
       "    </tr>\n",
       "    <tr>\n",
       "      <th>2015-10</th>\n",
       "      <td>650560.0</td>\n",
       "      <td>317.203191</td>\n",
       "      <td>1520.301741</td>\n",
       "      <td>-68.61</td>\n",
       "      <td>11.7900</td>\n",
       "      <td>45.200</td>\n",
       "      <td>211.3200</td>\n",
       "      <td>197415.38</td>\n",
       "    </tr>\n",
       "    <tr>\n",
       "      <th>2015-11</th>\n",
       "      <td>640481.0</td>\n",
       "      <td>302.870077</td>\n",
       "      <td>1454.294114</td>\n",
       "      <td>0.00</td>\n",
       "      <td>11.3000</td>\n",
       "      <td>43.350</td>\n",
       "      <td>204.0800</td>\n",
       "      <td>120612.18</td>\n",
       "    </tr>\n",
       "    <tr>\n",
       "      <th>2015-12</th>\n",
       "      <td>669287.0</td>\n",
       "      <td>331.586171</td>\n",
       "      <td>1497.428976</td>\n",
       "      <td>0.00</td>\n",
       "      <td>12.0200</td>\n",
       "      <td>46.180</td>\n",
       "      <td>217.3650</td>\n",
       "      <td>128211.66</td>\n",
       "    </tr>\n",
       "    <tr>\n",
       "      <th>2016-01</th>\n",
       "      <td>632308.0</td>\n",
       "      <td>278.008019</td>\n",
       "      <td>1359.751158</td>\n",
       "      <td>0.00</td>\n",
       "      <td>9.6300</td>\n",
       "      <td>37.980</td>\n",
       "      <td>177.1625</td>\n",
       "      <td>140304.27</td>\n",
       "    </tr>\n",
       "    <tr>\n",
       "      <th>2016-02</th>\n",
       "      <td>654224.0</td>\n",
       "      <td>284.823767</td>\n",
       "      <td>1406.354222</td>\n",
       "      <td>0.00</td>\n",
       "      <td>9.5000</td>\n",
       "      <td>38.460</td>\n",
       "      <td>179.8400</td>\n",
       "      <td>172291.28</td>\n",
       "    </tr>\n",
       "    <tr>\n",
       "      <th>2016-03</th>\n",
       "      <td>673669.0</td>\n",
       "      <td>308.421612</td>\n",
       "      <td>1545.260936</td>\n",
       "      <td>-31.69</td>\n",
       "      <td>9.8600</td>\n",
       "      <td>41.390</td>\n",
       "      <td>196.8400</td>\n",
       "      <td>172187.13</td>\n",
       "    </tr>\n",
       "    <tr>\n",
       "      <th>2016-04</th>\n",
       "      <td>647915.0</td>\n",
       "      <td>309.147737</td>\n",
       "      <td>1503.226810</td>\n",
       "      <td>-13.82</td>\n",
       "      <td>9.3800</td>\n",
       "      <td>39.170</td>\n",
       "      <td>195.5950</td>\n",
       "      <td>172181.79</td>\n",
       "    </tr>\n",
       "    <tr>\n",
       "      <th>2016-05</th>\n",
       "      <td>646251.0</td>\n",
       "      <td>312.288886</td>\n",
       "      <td>1511.464010</td>\n",
       "      <td>0.00</td>\n",
       "      <td>9.1500</td>\n",
       "      <td>38.470</td>\n",
       "      <td>196.2250</td>\n",
       "      <td>172335.29</td>\n",
       "    </tr>\n",
       "    <tr>\n",
       "      <th>2016-06</th>\n",
       "      <td>638842.0</td>\n",
       "      <td>325.567816</td>\n",
       "      <td>1546.261217</td>\n",
       "      <td>-48.83</td>\n",
       "      <td>9.1400</td>\n",
       "      <td>38.490</td>\n",
       "      <td>198.9475</td>\n",
       "      <td>172184.48</td>\n",
       "    </tr>\n",
       "    <tr>\n",
       "      <th>2016-07</th>\n",
       "      <td>616803.0</td>\n",
       "      <td>316.288834</td>\n",
       "      <td>1464.500669</td>\n",
       "      <td>-2139.05</td>\n",
       "      <td>9.0300</td>\n",
       "      <td>37.130</td>\n",
       "      <td>194.6200</td>\n",
       "      <td>172305.43</td>\n",
       "    </tr>\n",
       "    <tr>\n",
       "      <th>2016-08</th>\n",
       "      <td>645411.0</td>\n",
       "      <td>331.411515</td>\n",
       "      <td>1486.064381</td>\n",
       "      <td>-1469.23</td>\n",
       "      <td>9.3500</td>\n",
       "      <td>39.130</td>\n",
       "      <td>206.1100</td>\n",
       "      <td>172337.65</td>\n",
       "    </tr>\n",
       "    <tr>\n",
       "      <th>2016-09</th>\n",
       "      <td>636913.0</td>\n",
       "      <td>316.039332</td>\n",
       "      <td>1435.191935</td>\n",
       "      <td>-74.40</td>\n",
       "      <td>10.9900</td>\n",
       "      <td>40.640</td>\n",
       "      <td>189.4200</td>\n",
       "      <td>172187.65</td>\n",
       "    </tr>\n",
       "    <tr>\n",
       "      <th>2016-10</th>\n",
       "      <td>643816.0</td>\n",
       "      <td>312.625550</td>\n",
       "      <td>1415.414531</td>\n",
       "      <td>-2511.84</td>\n",
       "      <td>11.7100</td>\n",
       "      <td>42.350</td>\n",
       "      <td>191.5000</td>\n",
       "      <td>172385.56</td>\n",
       "    </tr>\n",
       "    <tr>\n",
       "      <th>2016-11</th>\n",
       "      <td>651593.0</td>\n",
       "      <td>322.108194</td>\n",
       "      <td>1455.320735</td>\n",
       "      <td>-5772.97</td>\n",
       "      <td>11.8600</td>\n",
       "      <td>43.000</td>\n",
       "      <td>193.9100</td>\n",
       "      <td>172266.25</td>\n",
       "    </tr>\n",
       "    <tr>\n",
       "      <th>2016-12</th>\n",
       "      <td>672208.0</td>\n",
       "      <td>330.800876</td>\n",
       "      <td>1525.553045</td>\n",
       "      <td>-16147.15</td>\n",
       "      <td>12.0300</td>\n",
       "      <td>44.870</td>\n",
       "      <td>201.8300</td>\n",
       "      <td>344436.81</td>\n",
       "    </tr>\n",
       "    <tr>\n",
       "      <th>2017-01</th>\n",
       "      <td>675947.0</td>\n",
       "      <td>280.589779</td>\n",
       "      <td>1313.261739</td>\n",
       "      <td>-5.56</td>\n",
       "      <td>11.6000</td>\n",
       "      <td>40.650</td>\n",
       "      <td>162.6100</td>\n",
       "      <td>180571.98</td>\n",
       "    </tr>\n",
       "    <tr>\n",
       "      <th>2017-02</th>\n",
       "      <td>665954.0</td>\n",
       "      <td>284.723617</td>\n",
       "      <td>1348.652217</td>\n",
       "      <td>-360.73</td>\n",
       "      <td>11.0900</td>\n",
       "      <td>39.260</td>\n",
       "      <td>158.0400</td>\n",
       "      <td>172669.06</td>\n",
       "    </tr>\n",
       "    <tr>\n",
       "      <th>2017-03</th>\n",
       "      <td>713777.0</td>\n",
       "      <td>305.654783</td>\n",
       "      <td>1441.788146</td>\n",
       "      <td>0.00</td>\n",
       "      <td>10.6700</td>\n",
       "      <td>40.520</td>\n",
       "      <td>169.7500</td>\n",
       "      <td>172210.41</td>\n",
       "    </tr>\n",
       "    <tr>\n",
       "      <th>2017-04</th>\n",
       "      <td>682888.0</td>\n",
       "      <td>294.538757</td>\n",
       "      <td>1340.077123</td>\n",
       "      <td>0.00</td>\n",
       "      <td>10.4600</td>\n",
       "      <td>38.670</td>\n",
       "      <td>162.8000</td>\n",
       "      <td>132726.76</td>\n",
       "    </tr>\n",
       "    <tr>\n",
       "      <th>2017-05</th>\n",
       "      <td>700284.0</td>\n",
       "      <td>320.021216</td>\n",
       "      <td>1511.760180</td>\n",
       "      <td>0.00</td>\n",
       "      <td>11.4000</td>\n",
       "      <td>41.390</td>\n",
       "      <td>172.9500</td>\n",
       "      <td>254288.46</td>\n",
       "    </tr>\n",
       "    <tr>\n",
       "      <th>2017-06</th>\n",
       "      <td>685439.0</td>\n",
       "      <td>326.826565</td>\n",
       "      <td>1550.134955</td>\n",
       "      <td>-4586.86</td>\n",
       "      <td>11.2800</td>\n",
       "      <td>41.640</td>\n",
       "      <td>174.2650</td>\n",
       "      <td>229648.00</td>\n",
       "    </tr>\n",
       "    <tr>\n",
       "      <th>2017-07</th>\n",
       "      <td>669336.0</td>\n",
       "      <td>318.558739</td>\n",
       "      <td>1416.052597</td>\n",
       "      <td>0.00</td>\n",
       "      <td>11.2700</td>\n",
       "      <td>41.320</td>\n",
       "      <td>171.6225</td>\n",
       "      <td>128132.00</td>\n",
       "    </tr>\n",
       "    <tr>\n",
       "      <th>2017-08</th>\n",
       "      <td>690620.0</td>\n",
       "      <td>333.871705</td>\n",
       "      <td>1610.859449</td>\n",
       "      <td>0.00</td>\n",
       "      <td>11.9700</td>\n",
       "      <td>44.480</td>\n",
       "      <td>183.5900</td>\n",
       "      <td>447892.82</td>\n",
       "    </tr>\n",
       "    <tr>\n",
       "      <th>2017-09</th>\n",
       "      <td>672768.0</td>\n",
       "      <td>315.906139</td>\n",
       "      <td>1424.402905</td>\n",
       "      <td>-796.33</td>\n",
       "      <td>11.1700</td>\n",
       "      <td>41.720</td>\n",
       "      <td>170.8200</td>\n",
       "      <td>182574.42</td>\n",
       "    </tr>\n",
       "    <tr>\n",
       "      <th>2017-10</th>\n",
       "      <td>702367.0</td>\n",
       "      <td>330.398687</td>\n",
       "      <td>1524.394068</td>\n",
       "      <td>-19951.43</td>\n",
       "      <td>11.6900</td>\n",
       "      <td>44.110</td>\n",
       "      <td>176.6200</td>\n",
       "      <td>197148.38</td>\n",
       "    </tr>\n",
       "    <tr>\n",
       "      <th>2017-11</th>\n",
       "      <td>701798.0</td>\n",
       "      <td>326.432647</td>\n",
       "      <td>1629.911882</td>\n",
       "      <td>-287.55</td>\n",
       "      <td>11.5300</td>\n",
       "      <td>43.510</td>\n",
       "      <td>173.6700</td>\n",
       "      <td>618416.32</td>\n",
       "    </tr>\n",
       "    <tr>\n",
       "      <th>2017-12</th>\n",
       "      <td>723296.0</td>\n",
       "      <td>324.779655</td>\n",
       "      <td>1476.402216</td>\n",
       "      <td>-2948.16</td>\n",
       "      <td>12.0700</td>\n",
       "      <td>46.340</td>\n",
       "      <td>177.8700</td>\n",
       "      <td>272014.00</td>\n",
       "    </tr>\n",
       "    <tr>\n",
       "      <th>2018-01</th>\n",
       "      <td>725745.0</td>\n",
       "      <td>302.426968</td>\n",
       "      <td>1522.774147</td>\n",
       "      <td>-7793.26</td>\n",
       "      <td>11.7500</td>\n",
       "      <td>44.980</td>\n",
       "      <td>155.7800</td>\n",
       "      <td>379128.09</td>\n",
       "    </tr>\n",
       "    <tr>\n",
       "      <th>2018-02</th>\n",
       "      <td>697378.0</td>\n",
       "      <td>296.008238</td>\n",
       "      <td>1508.812997</td>\n",
       "      <td>0.00</td>\n",
       "      <td>11.0700</td>\n",
       "      <td>41.410</td>\n",
       "      <td>153.2300</td>\n",
       "      <td>362455.56</td>\n",
       "    </tr>\n",
       "    <tr>\n",
       "      <th>2018-03</th>\n",
       "      <td>704748.0</td>\n",
       "      <td>358.668514</td>\n",
       "      <td>1702.061551</td>\n",
       "      <td>0.00</td>\n",
       "      <td>12.3700</td>\n",
       "      <td>46.560</td>\n",
       "      <td>179.7225</td>\n",
       "      <td>287570.88</td>\n",
       "    </tr>\n",
       "    <tr>\n",
       "      <th>2018-04</th>\n",
       "      <td>687880.0</td>\n",
       "      <td>320.789276</td>\n",
       "      <td>1638.118090</td>\n",
       "      <td>0.00</td>\n",
       "      <td>11.0900</td>\n",
       "      <td>40.750</td>\n",
       "      <td>157.9900</td>\n",
       "      <td>479282.16</td>\n",
       "    </tr>\n",
       "    <tr>\n",
       "      <th>2018-05</th>\n",
       "      <td>694073.0</td>\n",
       "      <td>329.062738</td>\n",
       "      <td>1693.491164</td>\n",
       "      <td>0.00</td>\n",
       "      <td>11.3500</td>\n",
       "      <td>41.990</td>\n",
       "      <td>162.8300</td>\n",
       "      <td>670991.12</td>\n",
       "    </tr>\n",
       "    <tr>\n",
       "      <th>2018-06</th>\n",
       "      <td>623793.0</td>\n",
       "      <td>343.281792</td>\n",
       "      <td>1826.807459</td>\n",
       "      <td>0.00</td>\n",
       "      <td>13.7100</td>\n",
       "      <td>46.270</td>\n",
       "      <td>174.2800</td>\n",
       "      <td>766836.09</td>\n",
       "    </tr>\n",
       "    <tr>\n",
       "      <th>2018-07</th>\n",
       "      <td>838.0</td>\n",
       "      <td>95.657434</td>\n",
       "      <td>237.905268</td>\n",
       "      <td>0.00</td>\n",
       "      <td>12.5800</td>\n",
       "      <td>26.105</td>\n",
       "      <td>69.1475</td>\n",
       "      <td>2925.03</td>\n",
       "    </tr>\n",
       "  </tbody>\n",
       "</table>\n",
       "</div>"
      ],
      "text/plain": [
       "                                 count         mean           std        min  \\\n",
       "clm_prodt_ctgry_key yrmm                                                       \n",
       "-1                  2015-07   804929.0  1390.497872  12024.135904  -17540.74   \n",
       "                    2015-08   888947.0  1424.076657  10277.897146  -16232.08   \n",
       "                    2015-09   909937.0  1425.641531  11445.813398   -2070.00   \n",
       "                    2015-10  1010048.0  1364.702502  12181.102663   -4182.86   \n",
       "                    2015-11   925953.0  1395.964540  12172.309797  -64344.43   \n",
       "                    2015-12   921620.0  1529.646924  10684.136781    -635.68   \n",
       "                    2016-01   859576.0  1464.255843  13101.161156   -8323.64   \n",
       "                    2016-02   897546.0  1485.409588  15943.509781   -8772.17   \n",
       "                    2016-03   935823.0  1498.994533  36700.223269  -12252.53   \n",
       "                    2016-04   878279.0  1422.153208   9460.128154  -19491.02   \n",
       "                    2016-05   869941.0  1490.336397  14911.058556   -2257.10   \n",
       "                    2016-06   880364.0  1486.763275  10335.193421 -116475.96   \n",
       "                    2016-07   827544.0  1530.391417  34351.340255  -57727.87   \n",
       "                    2016-08   922804.0  1446.391135  13711.450119   -1322.38   \n",
       "                    2016-09   913418.0  1444.082575  20292.108712   -5473.35   \n",
       "                    2016-10   959904.0  1361.069261  25483.266615  -58300.26   \n",
       "                    2016-11   930648.0  1460.611860  21952.590482    -207.33   \n",
       "                    2016-12   904144.0  1542.122812  10983.973126   -1848.00   \n",
       "                    2017-01   941538.0  1470.368551  14216.875450   -9788.46   \n",
       "                    2017-02   922160.0  1393.664672  13748.581642   -1401.03   \n",
       "                    2017-03   988097.0  1483.136345  12454.045378   -2029.20   \n",
       "                    2017-04   918414.0  1494.255478  14878.186194   -7305.30   \n",
       "                    2017-05   957878.0  1534.534934  12847.522088   -1144.30   \n",
       "                    2017-06   947151.0  1567.689450  13172.583968   -2380.86   \n",
       "                    2017-07   901783.0  1496.360585  10026.428635   -4313.22   \n",
       "                    2017-08   987799.0  1472.118838  10436.500239   -1052.20   \n",
       "                    2017-09   944046.0  1434.631135   9491.242776   -3598.57   \n",
       "                    2017-10  1087271.0  1387.567191   9565.967375 -315442.52   \n",
       "                    2017-11  1033788.0  1449.802440  10274.762077    -451.78   \n",
       "                    2017-12   999523.0  1525.803958  10616.304112   -1419.18   \n",
       "                    2018-01  1086579.0  1402.306760  10239.620691   -1184.00   \n",
       "                    2018-02  1025713.0  1374.075332  10801.766243       0.00   \n",
       "                    2018-03  1024903.0  1442.819150   8870.411372       0.00   \n",
       "                    2018-04   993761.0  1348.772198   7716.546468       0.00   \n",
       "                    2018-05   988143.0  1198.581349   6316.257601    -362.18   \n",
       "                    2018-06   749230.0   699.923296   2901.577773       0.00   \n",
       "-2                  2015-07   567636.0   284.171929   1342.511246       0.00   \n",
       "                    2015-08   626120.0   309.853254   1474.734048   -8099.00   \n",
       "                    2015-09   632189.0   310.940346   1476.997397  -10151.57   \n",
       "                    2015-10   650560.0   317.203191   1520.301741     -68.61   \n",
       "                    2015-11   640481.0   302.870077   1454.294114       0.00   \n",
       "                    2015-12   669287.0   331.586171   1497.428976       0.00   \n",
       "                    2016-01   632308.0   278.008019   1359.751158       0.00   \n",
       "                    2016-02   654224.0   284.823767   1406.354222       0.00   \n",
       "                    2016-03   673669.0   308.421612   1545.260936     -31.69   \n",
       "                    2016-04   647915.0   309.147737   1503.226810     -13.82   \n",
       "                    2016-05   646251.0   312.288886   1511.464010       0.00   \n",
       "                    2016-06   638842.0   325.567816   1546.261217     -48.83   \n",
       "                    2016-07   616803.0   316.288834   1464.500669   -2139.05   \n",
       "                    2016-08   645411.0   331.411515   1486.064381   -1469.23   \n",
       "                    2016-09   636913.0   316.039332   1435.191935     -74.40   \n",
       "                    2016-10   643816.0   312.625550   1415.414531   -2511.84   \n",
       "                    2016-11   651593.0   322.108194   1455.320735   -5772.97   \n",
       "                    2016-12   672208.0   330.800876   1525.553045  -16147.15   \n",
       "                    2017-01   675947.0   280.589779   1313.261739      -5.56   \n",
       "                    2017-02   665954.0   284.723617   1348.652217    -360.73   \n",
       "                    2017-03   713777.0   305.654783   1441.788146       0.00   \n",
       "                    2017-04   682888.0   294.538757   1340.077123       0.00   \n",
       "                    2017-05   700284.0   320.021216   1511.760180       0.00   \n",
       "                    2017-06   685439.0   326.826565   1550.134955   -4586.86   \n",
       "                    2017-07   669336.0   318.558739   1416.052597       0.00   \n",
       "                    2017-08   690620.0   333.871705   1610.859449       0.00   \n",
       "                    2017-09   672768.0   315.906139   1424.402905    -796.33   \n",
       "                    2017-10   702367.0   330.398687   1524.394068  -19951.43   \n",
       "                    2017-11   701798.0   326.432647   1629.911882    -287.55   \n",
       "                    2017-12   723296.0   324.779655   1476.402216   -2948.16   \n",
       "                    2018-01   725745.0   302.426968   1522.774147   -7793.26   \n",
       "                    2018-02   697378.0   296.008238   1508.812997       0.00   \n",
       "                    2018-03   704748.0   358.668514   1702.061551       0.00   \n",
       "                    2018-04   687880.0   320.789276   1638.118090       0.00   \n",
       "                    2018-05   694073.0   329.062738   1693.491164       0.00   \n",
       "                    2018-06   623793.0   343.281792   1826.807459       0.00   \n",
       "                    2018-07      838.0    95.657434    237.905268       0.00   \n",
       "\n",
       "                                  25%      50%       75%          max  \n",
       "clm_prodt_ctgry_key yrmm                                               \n",
       "-1                  2015-07  104.4000  213.550  545.0900   5089234.75  \n",
       "                    2015-08  107.1800  219.380  559.3300   2833136.66  \n",
       "                    2015-09   99.0000  210.930  555.7300   4296582.35  \n",
       "                    2015-10   85.6300  196.190  523.5700   6327924.73  \n",
       "                    2015-11   93.6400  203.810  538.0100   5606207.24  \n",
       "                    2015-12  104.0000  219.770  595.2700   4609109.99  \n",
       "                    2016-01  104.1500  210.180  542.6500   5547112.35  \n",
       "                    2016-02  104.4025  210.440  546.8275  11018204.33  \n",
       "                    2016-03  106.7600  219.000  575.9500  32910422.94  \n",
       "                    2016-04  106.1400  217.980  571.0000   2110501.50  \n",
       "                    2016-05  107.1800  221.010  581.0000   8755378.67  \n",
       "                    2016-06  109.6600  227.160  590.1800   2364137.29  \n",
       "                    2016-07  108.2100  224.040  578.5700  29056386.06  \n",
       "                    2016-08  110.1300  229.450  578.7400   6418148.22  \n",
       "                    2016-09   99.1100  214.560  559.4100  14574645.67  \n",
       "                    2016-10   85.3700  198.080  518.5500  22900370.06  \n",
       "                    2016-11   96.5900  211.750  551.4100  15764016.21  \n",
       "                    2016-12  106.0000  224.840  599.8100   3570868.34  \n",
       "                    2017-01  108.2100  217.890  553.2500   5210470.65  \n",
       "                    2017-02  106.5600  212.490  539.6600   7549816.52  \n",
       "                    2017-03  109.6600  224.630  581.8000   6039877.47  \n",
       "                    2017-04  107.2700  219.510  568.7100   5567432.92  \n",
       "                    2017-05  110.1600  229.800  599.3500   4376278.03  \n",
       "                    2017-06  112.4200  232.540  601.0200   4903085.40  \n",
       "                    2017-07  110.0500  228.340  583.6600   1737292.38  \n",
       "                    2017-08  112.5500  232.810  587.3400   3574466.19  \n",
       "                    2017-09   99.0900  215.000  558.3800   1401980.00  \n",
       "                    2017-10   90.9200  209.320  549.1800   2258864.79  \n",
       "                    2017-11  101.1600  219.000  570.0000   3987464.42  \n",
       "                    2017-12  108.2700  224.370  595.8150   3403842.86  \n",
       "                    2018-01  109.6600  220.000  554.4700   3863457.51  \n",
       "                    2018-02  109.6600  218.050  551.2800   4322085.00  \n",
       "                    2018-03  112.3100  229.980  594.6050   1429946.61  \n",
       "                    2018-04  111.3300  227.690  586.0000   1597315.68  \n",
       "                    2018-05  110.9100  227.080  575.4800   1236263.50  \n",
       "                    2018-06   96.9300  188.510  429.9875    340032.39  \n",
       "-2                  2015-07   10.6700   40.210  189.9000     99242.34  \n",
       "                    2015-08   11.8200   45.590  212.4200    125356.22  \n",
       "                    2015-09   11.7600   44.780  208.7000    130069.60  \n",
       "                    2015-10   11.7900   45.200  211.3200    197415.38  \n",
       "                    2015-11   11.3000   43.350  204.0800    120612.18  \n",
       "                    2015-12   12.0200   46.180  217.3650    128211.66  \n",
       "                    2016-01    9.6300   37.980  177.1625    140304.27  \n",
       "                    2016-02    9.5000   38.460  179.8400    172291.28  \n",
       "                    2016-03    9.8600   41.390  196.8400    172187.13  \n",
       "                    2016-04    9.3800   39.170  195.5950    172181.79  \n",
       "                    2016-05    9.1500   38.470  196.2250    172335.29  \n",
       "                    2016-06    9.1400   38.490  198.9475    172184.48  \n",
       "                    2016-07    9.0300   37.130  194.6200    172305.43  \n",
       "                    2016-08    9.3500   39.130  206.1100    172337.65  \n",
       "                    2016-09   10.9900   40.640  189.4200    172187.65  \n",
       "                    2016-10   11.7100   42.350  191.5000    172385.56  \n",
       "                    2016-11   11.8600   43.000  193.9100    172266.25  \n",
       "                    2016-12   12.0300   44.870  201.8300    344436.81  \n",
       "                    2017-01   11.6000   40.650  162.6100    180571.98  \n",
       "                    2017-02   11.0900   39.260  158.0400    172669.06  \n",
       "                    2017-03   10.6700   40.520  169.7500    172210.41  \n",
       "                    2017-04   10.4600   38.670  162.8000    132726.76  \n",
       "                    2017-05   11.4000   41.390  172.9500    254288.46  \n",
       "                    2017-06   11.2800   41.640  174.2650    229648.00  \n",
       "                    2017-07   11.2700   41.320  171.6225    128132.00  \n",
       "                    2017-08   11.9700   44.480  183.5900    447892.82  \n",
       "                    2017-09   11.1700   41.720  170.8200    182574.42  \n",
       "                    2017-10   11.6900   44.110  176.6200    197148.38  \n",
       "                    2017-11   11.5300   43.510  173.6700    618416.32  \n",
       "                    2017-12   12.0700   46.340  177.8700    272014.00  \n",
       "                    2018-01   11.7500   44.980  155.7800    379128.09  \n",
       "                    2018-02   11.0700   41.410  153.2300    362455.56  \n",
       "                    2018-03   12.3700   46.560  179.7225    287570.88  \n",
       "                    2018-04   11.0900   40.750  157.9900    479282.16  \n",
       "                    2018-05   11.3500   41.990  162.8300    670991.12  \n",
       "                    2018-06   13.7100   46.270  174.2800    766836.09  \n",
       "                    2018-07   12.5800   26.105   69.1475      2925.03  "
      ]
     },
     "execution_count": 25,
     "metadata": {},
     "output_type": "execute_result"
    }
   ],
   "source": [
    "cost.groupby(['clm_prodt_ctgry_key','yrmm'])['costsum'].describe()"
   ]
  },
  {
   "cell_type": "code",
   "execution_count": 27,
   "metadata": {},
   "outputs": [
    {
     "data": {
      "text/plain": [
       "<matplotlib.axes._subplots.AxesSubplot at 0x7f36a8cb2e90>"
      ]
     },
     "execution_count": 27,
     "metadata": {},
     "output_type": "execute_result"
    },
    {
     "data": {
      "image/png": "[encoded data removed]",
      "text/plain": [
       "<Figure size 432x288 with 1 Axes>"
      ]
     },
     "metadata": {},
     "output_type": "display_data"
    }
   ],
   "source": [
    "cost.groupby(['yrmm'])['costsum'].apply(lambda x: x.astype(float).mean()).plot()"
   ]
  },
  {
   "cell_type": "code",
   "execution_count": 59,
   "metadata": {},
   "outputs": [],
   "source": [
    "cost1yrmm = cost[cost.clm_prodt_ctgry_key=='-1'].groupby(['yrmm'])['costsum'].apply(lambda x: x.astype(float).mean()).to_frame()"
   ]
  },
  {
   "cell_type": "code",
   "execution_count": 60,
   "metadata": {},
   "outputs": [
    {
     "data": {
      "text/html": [
       "<div>\n",
       "<style scoped>\n",
       "    .dataframe tbody tr th:only-of-type {\n",
       "        vertical-align: middle;\n",
       "    }\n",
       "\n",
       "    .dataframe tbody tr th {\n",
       "        vertical-align: top;\n",
       "    }\n",
       "\n",
       "    .dataframe thead th {\n",
       "        text-align: right;\n",
       "    }\n",
       "</style>\n",
       "<table border=\"1\" class=\"dataframe\">\n",
       "  <thead>\n",
       "    <tr style=\"text-align: right;\">\n",
       "      <th></th>\n",
       "      <th>costsum</th>\n",
       "    </tr>\n",
       "    <tr>\n",
       "      <th>yrmm</th>\n",
       "      <th></th>\n",
       "    </tr>\n",
       "  </thead>\n",
       "  <tbody>\n",
       "    <tr>\n",
       "      <th>2015-07</th>\n",
       "      <td>1390.497872</td>\n",
       "    </tr>\n",
       "    <tr>\n",
       "      <th>2015-08</th>\n",
       "      <td>1424.076657</td>\n",
       "    </tr>\n",
       "    <tr>\n",
       "      <th>2015-09</th>\n",
       "      <td>1425.641531</td>\n",
       "    </tr>\n",
       "    <tr>\n",
       "      <th>2015-10</th>\n",
       "      <td>1364.702502</td>\n",
       "    </tr>\n",
       "    <tr>\n",
       "      <th>2015-11</th>\n",
       "      <td>1395.964540</td>\n",
       "    </tr>\n",
       "  </tbody>\n",
       "</table>\n",
       "</div>"
      ],
      "text/plain": [
       "             costsum\n",
       "yrmm                \n",
       "2015-07  1390.497872\n",
       "2015-08  1424.076657\n",
       "2015-09  1425.641531\n",
       "2015-10  1364.702502\n",
       "2015-11  1395.964540"
      ]
     },
     "execution_count": 60,
     "metadata": {},
     "output_type": "execute_result"
    }
   ],
   "source": [
    "cost1yrmm.head()"
   ]
  },
  {
   "cell_type": "code",
   "execution_count": 61,
   "metadata": {},
   "outputs": [],
   "source": [
    "eligcost1yrmm = eligcost[eligcost.clm_prodt_ctgry_key=='-1'].groupby(['yrmm'])['costsum'].apply(lambda x: x.astype(float).mean()).to_frame()"
   ]
  },
  {
   "cell_type": "code",
   "execution_count": 62,
   "metadata": {},
   "outputs": [
    {
     "data": {
      "text/html": [
       "<div>\n",
       "<style scoped>\n",
       "    .dataframe tbody tr th:only-of-type {\n",
       "        vertical-align: middle;\n",
       "    }\n",
       "\n",
       "    .dataframe tbody tr th {\n",
       "        vertical-align: top;\n",
       "    }\n",
       "\n",
       "    .dataframe thead th {\n",
       "        text-align: right;\n",
       "    }\n",
       "</style>\n",
       "<table border=\"1\" class=\"dataframe\">\n",
       "  <thead>\n",
       "    <tr style=\"text-align: right;\">\n",
       "      <th></th>\n",
       "      <th>costsum</th>\n",
       "    </tr>\n",
       "    <tr>\n",
       "      <th>yrmm</th>\n",
       "      <th></th>\n",
       "    </tr>\n",
       "  </thead>\n",
       "  <tbody>\n",
       "    <tr>\n",
       "      <th>2015-07</th>\n",
       "      <td>1195.073610</td>\n",
       "    </tr>\n",
       "    <tr>\n",
       "      <th>2015-08</th>\n",
       "      <td>1195.052793</td>\n",
       "    </tr>\n",
       "    <tr>\n",
       "      <th>2015-09</th>\n",
       "      <td>1214.790080</td>\n",
       "    </tr>\n",
       "    <tr>\n",
       "      <th>2015-10</th>\n",
       "      <td>1154.166175</td>\n",
       "    </tr>\n",
       "    <tr>\n",
       "      <th>2015-11</th>\n",
       "      <td>1214.451164</td>\n",
       "    </tr>\n",
       "  </tbody>\n",
       "</table>\n",
       "</div>"
      ],
      "text/plain": [
       "             costsum\n",
       "yrmm                \n",
       "2015-07  1195.073610\n",
       "2015-08  1195.052793\n",
       "2015-09  1214.790080\n",
       "2015-10  1154.166175\n",
       "2015-11  1214.451164"
      ]
     },
     "execution_count": 62,
     "metadata": {},
     "output_type": "execute_result"
    }
   ],
   "source": [
    "eligcost1yrmm.head()"
   ]
  },
  {
   "cell_type": "code",
   "execution_count": 64,
   "metadata": {},
   "outputs": [
    {
     "data": {
      "text/plain": [
       "795.7352313962022"
      ]
     },
     "execution_count": 64,
     "metadata": {},
     "output_type": "execute_result"
    }
   ],
   "source": [
    "eligcost1yrmm.costsum.mean()*0.63"
   ]
  },
  {
   "cell_type": "code",
   "execution_count": null,
   "metadata": {},
   "outputs": [],
   "source": []
  },
  {
   "cell_type": "code",
   "execution_count": 38,
   "metadata": {},
   "outputs": [
    {
     "data": {
      "text/plain": [
       "<matplotlib.axes._subplots.AxesSubplot at 0x7f36a8add6d0>"
      ]
     },
     "execution_count": 38,
     "metadata": {},
     "output_type": "execute_result"
    },
    {
     "data": {
      "image/png": "[encoded data removed]",
      "text/plain": [
       "<Figure size 432x288 with 1 Axes>"
      ]
     },
     "metadata": {},
     "output_type": "display_data"
    }
   ],
   "source": [
    "cost[cost.clm_prodt_ctgry_key=='-1'].groupby(['yrmm'])['costsum'].apply(lambda x: x.astype(float).mean()).plot()"
   ]
  },
  {
   "cell_type": "code",
   "execution_count": 39,
   "metadata": {},
   "outputs": [
    {
     "data": {
      "text/plain": [
       "<matplotlib.axes._subplots.AxesSubplot at 0x7f36a89d9c50>"
      ]
     },
     "execution_count": 39,
     "metadata": {},
     "output_type": "execute_result"
    },
    {
     "data": {
      "image/png": "[encoded data removed]",
      "text/plain": [
       "<Figure size 432x288 with 1 Axes>"
      ]
     },
     "metadata": {},
     "output_type": "display_data"
    }
   ],
   "source": [
    "cost[cost.clm_prodt_ctgry_key=='-2'].groupby(['yrmm'])['costsum'].apply(lambda x: x.astype(float).mean()).plot()"
   ]
  },
  {
   "cell_type": "code",
   "execution_count": 40,
   "metadata": {},
   "outputs": [
    {
     "data": {
      "text/plain": [
       "7553986"
      ]
     },
     "execution_count": 40,
     "metadata": {},
     "output_type": "execute_result"
    }
   ],
   "source": [
    "cost.costsum.isnull().sum()"
   ]
  },
  {
   "cell_type": "code",
   "execution_count": null,
   "metadata": {},
   "outputs": [],
   "source": []
  },
  {
   "cell_type": "code",
   "execution_count": 33,
   "metadata": {},
   "outputs": [],
   "source": [
    "#df0 = pd.read_csv(\"df0.csv\",dtype=str)"
   ]
  },
  {
   "cell_type": "code",
   "execution_count": 35,
   "metadata": {},
   "outputs": [
    {
     "data": {
      "text/plain": [
       "True     1616171\n",
       "False     922704\n",
       "Name: INDIV_ENTERPRISE_ID, dtype: int64"
      ]
     },
     "execution_count": 35,
     "metadata": {},
     "output_type": "execute_result"
    }
   ],
   "source": [
    "#df0.INDIV_ENTERPRISE_ID.isin(cost.indiv_enterprise_id).value_counts()"
   ]
  },
  {
   "cell_type": "code",
   "execution_count": 36,
   "metadata": {},
   "outputs": [],
   "source": [
    "df0id = df0.INDIV_ENTERPRISE_ID.unique()"
   ]
  },
  {
   "cell_type": "code",
   "execution_count": 37,
   "metadata": {},
   "outputs": [],
   "source": [
    "costid = cost.indiv_enterprise_id.unique()"
   ]
  },
  {
   "cell_type": "code",
   "execution_count": 39,
   "metadata": {},
   "outputs": [
    {
     "data": {
      "text/plain": [
       "(2538875, 4843027, 1616171)"
      ]
     },
     "execution_count": 39,
     "metadata": {},
     "output_type": "execute_result"
    }
   ],
   "source": [
    "len(df0id),len(costid),len(np.intersect1d(df0id,costid))"
   ]
  },
  {
   "cell_type": "code",
   "execution_count": 40,
   "metadata": {},
   "outputs": [],
   "source": [
    "eligcost = cost[cost.indiv_enterprise_id.isin(df0id)].copy()"
   ]
  },
  {
   "cell_type": "code",
   "execution_count": 41,
   "metadata": {},
   "outputs": [
    {
     "data": {
      "text/plain": [
       "1616171"
      ]
     },
     "execution_count": 41,
     "metadata": {},
     "output_type": "execute_result"
    }
   ],
   "source": [
    "eligcost.indiv_enterprise_id.nunique()"
   ]
  },
  {
   "cell_type": "code",
   "execution_count": 42,
   "metadata": {},
   "outputs": [
    {
     "data": {
      "text/plain": [
       "0.6365697405346856"
      ]
     },
     "execution_count": 42,
     "metadata": {},
     "output_type": "execute_result"
    }
   ],
   "source": [
    "1616171./2538875"
   ]
  },
  {
   "cell_type": "code",
   "execution_count": 49,
   "metadata": {},
   "outputs": [
    {
     "data": {
      "text/plain": [
       "<matplotlib.axes._subplots.AxesSubplot at 0x7f6b575108d0>"
      ]
     },
     "execution_count": 49,
     "metadata": {},
     "output_type": "execute_result"
    },
    {
     "data": {
      "image/png": "[encoded data removed]",
      "text/plain": [
       "<Figure size 432x288 with 1 Axes>"
      ]
     },
     "metadata": {},
     "output_type": "display_data"
    }
   ],
   "source": [
    "eligcost.groupby(['yrmm'])['costsum'].apply(lambda x: x.astype(float).mean()).plot()"
   ]
  },
  {
   "cell_type": "code",
   "execution_count": 50,
   "metadata": {},
   "outputs": [
    {
     "data": {
      "text/plain": [
       "<matplotlib.axes._subplots.AxesSubplot at 0x7f6b5ea5ca10>"
      ]
     },
     "execution_count": 50,
     "metadata": {},
     "output_type": "execute_result"
    },
    {
     "data": {
      "image/png": "[encoded data removed]",
      "text/plain": [
       "<Figure size 432x288 with 1 Axes>"
      ]
     },
     "metadata": {},
     "output_type": "display_data"
    }
   ],
   "source": [
    "eligcost[eligcost.clm_prodt_ctgry_key=='-1'].groupby(['yrmm'])['costsum'].apply(lambda x: x.astype(float).mean()).plot()"
   ]
  },
  {
   "cell_type": "code",
   "execution_count": 51,
   "metadata": {},
   "outputs": [
    {
     "data": {
      "text/plain": [
       "<matplotlib.axes._subplots.AxesSubplot at 0x7f6b575109d0>"
      ]
     },
     "execution_count": 51,
     "metadata": {},
     "output_type": "execute_result"
    },
    {
     "data": {
      "image/png": "[encoded data removed]",
      "text/plain": [
       "<Figure size 432x288 with 1 Axes>"
      ]
     },
     "metadata": {},
     "output_type": "display_data"
    }
   ],
   "source": [
    "eligcost[eligcost.clm_prodt_ctgry_key=='-2'].groupby(['yrmm'])['costsum'].apply(lambda x: x.astype(float).mean()).plot()"
   ]
  },
  {
   "cell_type": "code",
   "execution_count": null,
   "metadata": {},
   "outputs": [],
   "source": []
  },
  {
   "cell_type": "code",
   "execution_count": 44,
   "metadata": {},
   "outputs": [
    {
     "data": {
      "text/plain": [
       "<matplotlib.axes._subplots.AxesSubplot at 0x7f6b570e0e50>"
      ]
     },
     "execution_count": 44,
     "metadata": {},
     "output_type": "execute_result"
    },
    {
     "data": {
      "image/png": "[encoded data removed]",
      "text/plain": [
       "<Figure size 432x288 with 1 Axes>"
      ]
     },
     "metadata": {},
     "output_type": "display_data"
    }
   ],
   "source": [
    "eligcost.groupby(['yrmm'])['costsum'].apply(lambda x: x.astype(float).sum()/2538875).plot()"
   ]
  },
  {
   "cell_type": "code",
   "execution_count": 48,
   "metadata": {},
   "outputs": [
    {
     "data": {
      "text/plain": [
       "<matplotlib.axes._subplots.AxesSubplot at 0x7f6b5b135f10>"
      ]
     },
     "execution_count": 48,
     "metadata": {},
     "output_type": "execute_result"
    },
    {
     "data": {
      "image/png": "[encoded data removed]",
      "text/plain": [
       "<Figure size 432x288 with 1 Axes>"
      ]
     },
     "metadata": {},
     "output_type": "display_data"
    }
   ],
   "source": [
    "eligcost[eligcost.clm_prodt_ctgry_key=='-1'].groupby(['yrmm'])['costsum'].apply(lambda x: x.astype(float).sum()/2538875).plot()"
   ]
  },
  {
   "cell_type": "code",
   "execution_count": 47,
   "metadata": {},
   "outputs": [
    {
     "data": {
      "text/plain": [
       "<matplotlib.axes._subplots.AxesSubplot at 0x7f6b5a5dafd0>"
      ]
     },
     "execution_count": 47,
     "metadata": {},
     "output_type": "execute_result"
    },
    {
     "data": {
      "image/png": "[encoded data removed]",
      "text/plain": [
       "<Figure size 432x288 with 1 Axes>"
      ]
     },
     "metadata": {},
     "output_type": "display_data"
    }
   ],
   "source": [
    "eligcost[eligcost.clm_prodt_ctgry_key=='-2'].groupby(['yrmm'])['costsum'].apply(lambda x: x.astype(float).sum()/2538875).plot()"
   ]
  },
  {
   "cell_type": "code",
   "execution_count": null,
   "metadata": {},
   "outputs": [],
   "source": []
  },
  {
   "cell_type": "code",
   "execution_count": null,
   "metadata": {},
   "outputs": [],
   "source": []
  },
  {
   "cell_type": "markdown",
   "metadata": {},
   "source": [
    "# PMPM from Ken"
   ]
  },
  {
   "cell_type": "code",
   "execution_count": null,
   "metadata": {},
   "outputs": [],
   "source": [
    "sql=\"\"\"\n",
    "WITH e AS (\n",
    "\tSELECT\tperson_xref_key, \n",
    "\t\tSUBSTRING(year_month FROM 1 FOR 4) AS year, \n",
    "\t\tCOUNT(CASE WHEN member_mon_med IS true THEN 'true' ELSE NULL END) AS med_mon, \n",
    "\t\tCOUNT(CASE WHEN member_mon_rx IS true THEN 'true' ELSE NULL END) AS rx_mon \n",
    "\tFROM public.member_months \n",
    "\tGROUP BY person_xref_key, SUBSTRING(year_month FROM 1 FOR 4)\n",
    "), \n",
    "c AS ( \n",
    "\tSELECT \tindiv_enterprise_id, \n",
    "\t\tEXTRACT(year FROM cal_dt) AS year, \n",
    "\t\tSUM(elgbl_chrg_amt) year_charge \n",
    "\tFROM rawdata.clm_svc_fact c \n",
    "\tJOIN rawdata.dt_dim d \n",
    "\tON c.svc_beg_dt_key = d.dt_key \n",
    "\tJOIN rawdata.prodt_dim p \n",
    "\tON p.prodt_key = c.clm_prodt_ctgry_key \n",
    "\tWHERE p.prodt_clss_ty = 'PHM' \n",
    "\tGROUP BY indiv_enterprise_id, year \n",
    ") \n",
    "SELECT\tc.year, \n",
    "\tSUM(year_charge)/SUM(rx_mon) \n",
    "FROM e \n",
    "LEFT JOIN c \n",
    "ON e.person_xref_key = c.indiv_enterprise_id \n",
    "AND c.year = e.year \n",
    "GROUP BY c.year \n",
    "ORDER BY c.year ASC;\"\"\""
   ]
  },
  {
   "cell_type": "code",
   "execution_count": null,
   "metadata": {},
   "outputs": [],
   "source": []
  },
  {
   "cell_type": "code",
   "execution_count": null,
   "metadata": {},
   "outputs": [],
   "source": []
  },
  {
   "cell_type": "code",
   "execution_count": 15,
   "metadata": {},
   "outputs": [],
   "source": [
    "sql=\"\"\"\n",
    "WITH e AS (\n",
    "\tSELECT\tperson_xref_key, \n",
    "\t\tSUBSTRING(year_month FROM 1 FOR 4) AS year, \n",
    "\t\tCOUNT(CASE WHEN member_mon_med IS true THEN 'true' ELSE NULL END) AS med_mon, \n",
    "\t\tCOUNT(CASE WHEN member_mon_rx IS true THEN 'true' ELSE NULL END) AS rx_mon \n",
    "\tFROM public.member_months \n",
    "    where member_mon_eligible is true\n",
    "    and member_mon_med is true\n",
    "    and substring(year_month,1,4) in ('2016','2017')\n",
    "\tGROUP BY person_xref_key, SUBSTRING(year_month FROM 1 FOR 4) having count(*) = 12\n",
    "), \n",
    "c AS ( \n",
    "\tSELECT \tindiv_enterprise_id, \n",
    "\t\tEXTRACT(year FROM cal_dt) AS year, \n",
    "\t\tSUM(CASE WHEN elgbl_chrg_amt IS NULL THEN 0.0 ELSE elgbl_chrg_amt END) year_charge \n",
    "\t\t\n",
    "\tFROM rawdata.clm_svc_fact c \n",
    "\tJOIN rawdata.dt_dim d \n",
    "\tON c.svc_beg_dt_key = d.dt_key \n",
    "\tJOIN rawdata.prodt_dim p \n",
    "\tON p.prodt_key = c.clm_prodt_ctgry_key \n",
    "\tWHERE p.prodt_clss_ty = 'MED' \n",
    "\tGROUP BY indiv_enterprise_id, year \n",
    ") \n",
    "SELECT\tc.year, \n",
    "\tSUM(year_charge)/SUM(med_mon) \n",
    "FROM e \n",
    "LEFT JOIN c \n",
    "ON e.person_xref_key = c.indiv_enterprise_id \n",
    "AND c.year = e.year \n",
    "GROUP BY c.year \n",
    "ORDER BY c.year ASC;\n",
    "\"\"\""
   ]
  },
  {
   "cell_type": "code",
   "execution_count": 20,
   "metadata": {},
   "outputs": [],
   "source": [
    "sql=\"\"\"\n",
    "WITH e AS (\n",
    "\tSELECT\tperson_xref_key, \n",
    "\t\tSUBSTRING(year_month FROM 1 FOR 4) AS year, \n",
    "\t\tCOUNT(CASE WHEN member_mon_med IS true THEN 'true' ELSE NULL END) AS med_mon, \n",
    "\t\tCOUNT(CASE WHEN member_mon_rx IS true THEN 'true' ELSE NULL END) AS rx_mon \n",
    "\tFROM public.member_months \n",
    "    where member_mon_eligible is true\n",
    "    and member_mon_med is true\n",
    "    and member_mon_rx is true\n",
    "    and substring(year_month,1,4) in ('2016','2017')\n",
    "\tGROUP BY person_xref_key, SUBSTRING(year_month FROM 1 FOR 4) having count(*) = 12\n",
    "), \n",
    "c AS ( \n",
    "\tSELECT \tindiv_enterprise_id, \n",
    "\t\tEXTRACT(year FROM cal_dt) AS year, \n",
    "\t\tSUM(CASE WHEN elgbl_chrg_amt IS NULL THEN 0.0 ELSE elgbl_chrg_amt END) year_charge \n",
    "\t\t\n",
    "\tFROM rawdata.clm_svc_fact c \n",
    "\tJOIN rawdata.dt_dim d \n",
    "\tON c.svc_beg_dt_key = d.dt_key \n",
    "\tJOIN rawdata.prodt_dim p \n",
    "\tON p.prodt_key = c.clm_prodt_ctgry_key \n",
    "\tWHERE p.prodt_clss_ty = 'PHM' \n",
    "\tGROUP BY indiv_enterprise_id, year \n",
    ") \n",
    "SELECT\tc.year, \n",
    "\tSUM(year_charge)/SUM(rx_mon) \n",
    "FROM e \n",
    "LEFT JOIN c \n",
    "ON e.person_xref_key = c.indiv_enterprise_id \n",
    "AND c.year = e.year \n",
    "GROUP BY c.year \n",
    "ORDER BY c.year ASC;\n",
    "\"\"\""
   ]
  },
  {
   "cell_type": "code",
   "execution_count": 65,
   "metadata": {},
   "outputs": [],
   "source": [
    "#two year continous eligible\n",
    "sql=\"\"\"\n",
    "WITH e AS (\n",
    "SELECT  person_xref_key, \n",
    "24 AS elg_months FROM (\n",
    "SELECT  person_xref_key,\n",
    "BOOL_AND(member_mon_med)\n",
    "FROM public.member_months\n",
    "WHERE SUBSTRING(year_month, 1, 4) in ('2016', '2017')\n",
    "GROUP BY person_xref_key \n",
    "HAVING BOOL_AND(member_mon_med) IS true\n",
    ")\n",
    "),\n",
    "c AS (\n",
    "SELECT indiv_enterprise_id,\n",
    "SUM(CASE WHEN elgbl_chrg_amt IS NULL THEN 0.0 ELSE elgbl_chrg_amt END) year_charge\n",
    "FROM rawdata.clm_svc_fact c\n",
    "JOIN rawdata.dt_dim d\n",
    "ON c.svc_beg_dt_key = d.dt_key\n",
    "JOIN rawdata.prodt_dim p\n",
    "ON p.prodt_key = c.clm_prodt_ctgry_key\n",
    "WHERE p.prodt_clss_ty = 'MED'\n",
    "AND EXTRACT(year FROM d.cal_dt) IN ('2016', '2017')\n",
    "GROUP BY indiv_enterprise_id\n",
    ")\n",
    "SELECT SUM(year_charge)/SUM(elg_months)\n",
    "FROM e\n",
    "JOIN c\n",
    "ON e.person_xref_key = c.indiv_enterprise_id;\n",
    "\"\"\""
   ]
  },
  {
   "cell_type": "code",
   "execution_count": 68,
   "metadata": {},
   "outputs": [],
   "source": [
    "#two year continous eligible\n",
    "sql=\"\"\"\n",
    "WITH e AS (\n",
    "SELECT  person_xref_key, \n",
    "24 AS elg_months FROM (\n",
    "SELECT  person_xref_key,\n",
    "BOOL_AND(member_mon_med)\n",
    "FROM public.member_months\n",
    "WHERE SUBSTRING(year_month, 1, 4) in ('2016', '2017')\n",
    "GROUP BY person_xref_key \n",
    "HAVING BOOL_AND(member_mon_med) IS true\n",
    ")\n",
    "),\n",
    "c AS (\n",
    "SELECT indiv_enterprise_id,\n",
    "SUM(CASE WHEN elgbl_chrg_amt IS NULL THEN 0.0 ELSE elgbl_chrg_amt END) year_charge\n",
    "FROM rawdata.clm_svc_fact c\n",
    "JOIN rawdata.dt_dim d\n",
    "ON c.svc_beg_dt_key = d.dt_key\n",
    "JOIN rawdata.prodt_dim p\n",
    "ON p.prodt_key = c.clm_prodt_ctgry_key\n",
    "WHERE p.prodt_clss_ty = 'PHM'\n",
    "AND EXTRACT(year FROM d.cal_dt) IN ('2016', '2017')\n",
    "GROUP BY indiv_enterprise_id\n",
    ")\n",
    "SELECT SUM(year_charge)/SUM(elg_months)\n",
    "FROM e\n",
    "JOIN c\n",
    "ON e.person_xref_key = c.indiv_enterprise_id;\n",
    "\"\"\""
   ]
  },
  {
   "cell_type": "code",
   "execution_count": null,
   "metadata": {},
   "outputs": [],
   "source": []
  },
  {
   "cell_type": "code",
   "execution_count": 69,
   "metadata": {},
   "outputs": [],
   "source": [
    "cost =  pd.read_sql(sql,con)"
   ]
  },
  {
   "cell_type": "code",
   "execution_count": 70,
   "metadata": {},
   "outputs": [
    {
     "data": {
      "text/html": [
       "<div>\n",
       "<style scoped>\n",
       "    .dataframe tbody tr th:only-of-type {\n",
       "        vertical-align: middle;\n",
       "    }\n",
       "\n",
       "    .dataframe tbody tr th {\n",
       "        vertical-align: top;\n",
       "    }\n",
       "\n",
       "    .dataframe thead th {\n",
       "        text-align: right;\n",
       "    }\n",
       "</style>\n",
       "<table border=\"1\" class=\"dataframe\">\n",
       "  <thead>\n",
       "    <tr style=\"text-align: right;\">\n",
       "      <th></th>\n",
       "      <th>?column?</th>\n",
       "    </tr>\n",
       "  </thead>\n",
       "  <tbody>\n",
       "    <tr>\n",
       "      <th>0</th>\n",
       "      <td>95.4411</td>\n",
       "    </tr>\n",
       "  </tbody>\n",
       "</table>\n",
       "</div>"
      ],
      "text/plain": [
       "   ?column?\n",
       "0   95.4411"
      ]
     },
     "execution_count": 70,
     "metadata": {},
     "output_type": "execute_result"
    }
   ],
   "source": [
    "cost"
   ]
  },
  {
   "cell_type": "code",
   "execution_count": null,
   "metadata": {},
   "outputs": [],
   "source": [
    "cost.columns = ['year','PMPM_med']"
   ]
  },
  {
   "cell_type": "code",
   "execution_count": 19,
   "metadata": {},
   "outputs": [
    {
     "data": {
      "text/html": [
       "<div>\n",
       "<style scoped>\n",
       "    .dataframe tbody tr th:only-of-type {\n",
       "        vertical-align: middle;\n",
       "    }\n",
       "\n",
       "    .dataframe tbody tr th {\n",
       "        vertical-align: top;\n",
       "    }\n",
       "\n",
       "    .dataframe thead th {\n",
       "        text-align: right;\n",
       "    }\n",
       "</style>\n",
       "<table border=\"1\" class=\"dataframe\">\n",
       "  <thead>\n",
       "    <tr style=\"text-align: right;\">\n",
       "      <th></th>\n",
       "      <th>year</th>\n",
       "      <th>PMPM_med</th>\n",
       "    </tr>\n",
       "  </thead>\n",
       "  <tbody>\n",
       "    <tr>\n",
       "      <th>0</th>\n",
       "      <td>2016.0</td>\n",
       "      <td>493.2929</td>\n",
       "    </tr>\n",
       "    <tr>\n",
       "      <th>1</th>\n",
       "      <td>2017.0</td>\n",
       "      <td>493.1928</td>\n",
       "    </tr>\n",
       "    <tr>\n",
       "      <th>2</th>\n",
       "      <td>NaN</td>\n",
       "      <td>NaN</td>\n",
       "    </tr>\n",
       "  </tbody>\n",
       "</table>\n",
       "</div>"
      ],
      "text/plain": [
       "     year  PMPM_med\n",
       "0  2016.0  493.2929\n",
       "1  2017.0  493.1928\n",
       "2     NaN       NaN"
      ]
     },
     "execution_count": 19,
     "metadata": {},
     "output_type": "execute_result"
    }
   ],
   "source": [
    "cost.head()"
   ]
  },
  {
   "cell_type": "code",
   "execution_count": 23,
   "metadata": {},
   "outputs": [],
   "source": [
    "cost.columns = ['year','PMPM_rx']"
   ]
  },
  {
   "cell_type": "code",
   "execution_count": 24,
   "metadata": {},
   "outputs": [
    {
     "data": {
      "text/html": [
       "<div>\n",
       "<style scoped>\n",
       "    .dataframe tbody tr th:only-of-type {\n",
       "        vertical-align: middle;\n",
       "    }\n",
       "\n",
       "    .dataframe tbody tr th {\n",
       "        vertical-align: top;\n",
       "    }\n",
       "\n",
       "    .dataframe thead th {\n",
       "        text-align: right;\n",
       "    }\n",
       "</style>\n",
       "<table border=\"1\" class=\"dataframe\">\n",
       "  <thead>\n",
       "    <tr style=\"text-align: right;\">\n",
       "      <th></th>\n",
       "      <th>year</th>\n",
       "      <th>PMPM_rx</th>\n",
       "    </tr>\n",
       "  </thead>\n",
       "  <tbody>\n",
       "    <tr>\n",
       "      <th>0</th>\n",
       "      <td>2016.0</td>\n",
       "      <td>131.8167</td>\n",
       "    </tr>\n",
       "    <tr>\n",
       "      <th>1</th>\n",
       "      <td>2017.0</td>\n",
       "      <td>135.7479</td>\n",
       "    </tr>\n",
       "    <tr>\n",
       "      <th>2</th>\n",
       "      <td>NaN</td>\n",
       "      <td>NaN</td>\n",
       "    </tr>\n",
       "  </tbody>\n",
       "</table>\n",
       "</div>"
      ],
      "text/plain": [
       "     year   PMPM_rx\n",
       "0  2016.0  131.8167\n",
       "1  2017.0  135.7479\n",
       "2     NaN       NaN"
      ]
     },
     "execution_count": 24,
     "metadata": {},
     "output_type": "execute_result"
    }
   ],
   "source": [
    "cost.head()"
   ]
  },
  {
   "cell_type": "markdown",
   "metadata": {},
   "source": [
    "# lab"
   ]
  },
  {
   "cell_type": "code",
   "execution_count": 168,
   "metadata": {},
   "outputs": [],
   "source": [
    "sql = \"\"\"\n",
    "select * \n",
    "from rawdata.lab_fact\n",
    "where abnormal_rslt_cd is not NULL\n",
    "limit 100;\n",
    "\"\"\""
   ]
  },
  {
   "cell_type": "code",
   "execution_count": 169,
   "metadata": {},
   "outputs": [],
   "source": [
    "lab =  pd.read_sql(sql,con)"
   ]
  },
  {
   "cell_type": "code",
   "execution_count": 170,
   "metadata": {},
   "outputs": [
    {
     "data": {
      "text/plain": [
       "(100, 38)"
      ]
     },
     "execution_count": 170,
     "metadata": {},
     "output_type": "execute_result"
    }
   ],
   "source": [
    "lab.shape"
   ]
  },
  {
   "cell_type": "code",
   "execution_count": 171,
   "metadata": {},
   "outputs": [
    {
     "data": {
      "text/html": [
       "<div>\n",
       "<style scoped>\n",
       "    .dataframe tbody tr th:only-of-type {\n",
       "        vertical-align: middle;\n",
       "    }\n",
       "\n",
       "    .dataframe tbody tr th {\n",
       "        vertical-align: top;\n",
       "    }\n",
       "\n",
       "    .dataframe thead th {\n",
       "        text-align: right;\n",
       "    }\n",
       "</style>\n",
       "<table border=\"1\" class=\"dataframe\">\n",
       "  <thead>\n",
       "    <tr style=\"text-align: right;\">\n",
       "      <th></th>\n",
       "      <th>abnormal_rslt_cd</th>\n",
       "      <th>biometrcs_id</th>\n",
       "      <th>chnl_cd</th>\n",
       "      <th>chnl_src_cd</th>\n",
       "      <th>diag_1_cd</th>\n",
       "      <th>diag_2_cd</th>\n",
       "      <th>diag_3_cd</th>\n",
       "      <th>err_ind</th>\n",
       "      <th>event_key</th>\n",
       "      <th>gentd_lab_rslt_id</th>\n",
       "      <th>indiv_enterprise_id</th>\n",
       "      <th>lab_dirctr_prov_id</th>\n",
       "      <th>lab_dirctr_prov_key</th>\n",
       "      <th>lab_grp_loc_rslt_key</th>\n",
       "      <th>lab_grp_loinc_key</th>\n",
       "      <th>lab_loc_rslt_key</th>\n",
       "      <th>lab_rslt_fact_key</th>\n",
       "      <th>lab_test_nm</th>\n",
       "      <th>lab_test_rslt_num</th>\n",
       "      <th>membr_key</th>\n",
       "      <th>membr_regstn_key</th>\n",
       "      <th>model_mthd_key</th>\n",
       "      <th>msr_unt_desc</th>\n",
       "      <th>ordng_prov_id</th>\n",
       "      <th>ordng_prov_key</th>\n",
       "      <th>pcp_prov_id</th>\n",
       "      <th>pcp_prov_key</th>\n",
       "      <th>prodt_key</th>\n",
       "      <th>ref_rng_high_amt</th>\n",
       "      <th>ref_rng_low_amt</th>\n",
       "      <th>ref_rng_txt</th>\n",
       "      <th>rslt_dt_key</th>\n",
       "      <th>site_key</th>\n",
       "      <th>std_loinc_cd</th>\n",
       "      <th>svc_cd</th>\n",
       "      <th>svc_dt</th>\n",
       "      <th>svc_dt_key</th>\n",
       "      <th>vendr_key</th>\n",
       "    </tr>\n",
       "  </thead>\n",
       "  <tbody>\n",
       "    <tr>\n",
       "      <th>0</th>\n",
       "      <td>H</td>\n",
       "      <td>None</td>\n",
       "      <td>MULTI</td>\n",
       "      <td>EQE</td>\n",
       "      <td>Z0000</td>\n",
       "      <td>None</td>\n",
       "      <td>None</td>\n",
       "      <td>None</td>\n",
       "      <td>27.0</td>\n",
       "      <td>None</td>\n",
       "      <td>9.0</td>\n",
       "      <td>None</td>\n",
       "      <td>-99999.0</td>\n",
       "      <td>2.000437e+11</td>\n",
       "      <td>2.000330e+11</td>\n",
       "      <td>2.000614e+11</td>\n",
       "      <td>2.025164e+11</td>\n",
       "      <td>LIPID PANEL</td>\n",
       "      <td>111.0</td>\n",
       "      <td>3.000155e+11</td>\n",
       "      <td>None</td>\n",
       "      <td>2.000017e+11</td>\n",
       "      <td>MG/DL</td>\n",
       "      <td>3892804</td>\n",
       "      <td>2.002131e+11</td>\n",
       "      <td>3892804</td>\n",
       "      <td>2.002131e+11</td>\n",
       "      <td>1.000000e+11</td>\n",
       "      <td>99.0</td>\n",
       "      <td>0.0</td>\n",
       "      <td>0-99</td>\n",
       "      <td>1.000000e+11</td>\n",
       "      <td>-99999.0</td>\n",
       "      <td>13457-7</td>\n",
       "      <td>None</td>\n",
       "      <td>06-07-2018 00:00:00</td>\n",
       "      <td>1.000000e+11</td>\n",
       "      <td>1.000000e+11</td>\n",
       "    </tr>\n",
       "    <tr>\n",
       "      <th>1</th>\n",
       "      <td>A</td>\n",
       "      <td>None</td>\n",
       "      <td>MULTI</td>\n",
       "      <td>EQE</td>\n",
       "      <td>Z0000</td>\n",
       "      <td>None</td>\n",
       "      <td>None</td>\n",
       "      <td>None</td>\n",
       "      <td>27.0</td>\n",
       "      <td>None</td>\n",
       "      <td>9.0</td>\n",
       "      <td>None</td>\n",
       "      <td>-99999.0</td>\n",
       "      <td>2.000437e+11</td>\n",
       "      <td>2.000199e+11</td>\n",
       "      <td>2.000614e+11</td>\n",
       "      <td>2.025153e+11</td>\n",
       "      <td>UA/M W/RFLX CULTURE, ROUTINE</td>\n",
       "      <td>NaN</td>\n",
       "      <td>3.000155e+11</td>\n",
       "      <td>None</td>\n",
       "      <td>2.000017e+11</td>\n",
       "      <td>None</td>\n",
       "      <td>3892804</td>\n",
       "      <td>2.002131e+11</td>\n",
       "      <td>3892804</td>\n",
       "      <td>2.002131e+11</td>\n",
       "      <td>1.000000e+11</td>\n",
       "      <td>-99999.0</td>\n",
       "      <td>NaN</td>\n",
       "      <td>NEGATIVE</td>\n",
       "      <td>1.000000e+11</td>\n",
       "      <td>-99999.0</td>\n",
       "      <td>5799-2</td>\n",
       "      <td>None</td>\n",
       "      <td>06-08-2018 00:00:00</td>\n",
       "      <td>1.000000e+11</td>\n",
       "      <td>1.000000e+11</td>\n",
       "    </tr>\n",
       "    <tr>\n",
       "      <th>2</th>\n",
       "      <td>L</td>\n",
       "      <td>None</td>\n",
       "      <td>MULTI</td>\n",
       "      <td>EQE</td>\n",
       "      <td>Z0001</td>\n",
       "      <td>R030</td>\n",
       "      <td>Z13228</td>\n",
       "      <td>None</td>\n",
       "      <td>27.0</td>\n",
       "      <td>None</td>\n",
       "      <td>59.0</td>\n",
       "      <td>None</td>\n",
       "      <td>-99999.0</td>\n",
       "      <td>2.000440e+11</td>\n",
       "      <td>2.000198e+11</td>\n",
       "      <td>2.000868e+11</td>\n",
       "      <td>2.025203e+11</td>\n",
       "      <td>HEPATIC FUNCTION PANEL</td>\n",
       "      <td>0.1</td>\n",
       "      <td>3.009367e+11</td>\n",
       "      <td>None</td>\n",
       "      <td>2.000018e+11</td>\n",
       "      <td>MG/DL (CALC)</td>\n",
       "      <td>2549007P03</td>\n",
       "      <td>2.002216e+11</td>\n",
       "      <td>None</td>\n",
       "      <td>-9.999900e+04</td>\n",
       "      <td>1.000000e+11</td>\n",
       "      <td>1.2</td>\n",
       "      <td>0.2</td>\n",
       "      <td>0.2-1.2</td>\n",
       "      <td>1.000000e+11</td>\n",
       "      <td>-99999.0</td>\n",
       "      <td>1971-1</td>\n",
       "      <td>80076</td>\n",
       "      <td>06-09-2018 00:00:00</td>\n",
       "      <td>1.000000e+11</td>\n",
       "      <td>1.000000e+11</td>\n",
       "    </tr>\n",
       "    <tr>\n",
       "      <th>3</th>\n",
       "      <td>L</td>\n",
       "      <td>None</td>\n",
       "      <td>MULTI</td>\n",
       "      <td>EQE</td>\n",
       "      <td>Z0001</td>\n",
       "      <td>R030</td>\n",
       "      <td>Z13228</td>\n",
       "      <td>None</td>\n",
       "      <td>27.0</td>\n",
       "      <td>None</td>\n",
       "      <td>59.0</td>\n",
       "      <td>None</td>\n",
       "      <td>-99999.0</td>\n",
       "      <td>2.000437e+11</td>\n",
       "      <td>2.000330e+11</td>\n",
       "      <td>2.000868e+11</td>\n",
       "      <td>2.025203e+11</td>\n",
       "      <td>HDL CHOLESTEROL</td>\n",
       "      <td>41.0</td>\n",
       "      <td>3.009367e+11</td>\n",
       "      <td>None</td>\n",
       "      <td>2.000018e+11</td>\n",
       "      <td>MG/DL</td>\n",
       "      <td>2549007P03</td>\n",
       "      <td>2.002216e+11</td>\n",
       "      <td>None</td>\n",
       "      <td>-9.999900e+04</td>\n",
       "      <td>1.000000e+11</td>\n",
       "      <td>-99999.0</td>\n",
       "      <td>51.0</td>\n",
       "      <td>&gt;50</td>\n",
       "      <td>1.000000e+11</td>\n",
       "      <td>-99999.0</td>\n",
       "      <td>2085-9</td>\n",
       "      <td>80061</td>\n",
       "      <td>06-09-2018 00:00:00</td>\n",
       "      <td>1.000000e+11</td>\n",
       "      <td>1.000000e+11</td>\n",
       "    </tr>\n",
       "    <tr>\n",
       "      <th>4</th>\n",
       "      <td>A</td>\n",
       "      <td>None</td>\n",
       "      <td>MULTI</td>\n",
       "      <td>EQE</td>\n",
       "      <td>Z0001</td>\n",
       "      <td>R030</td>\n",
       "      <td>Z13228</td>\n",
       "      <td>None</td>\n",
       "      <td>27.0</td>\n",
       "      <td>None</td>\n",
       "      <td>59.0</td>\n",
       "      <td>None</td>\n",
       "      <td>-99999.0</td>\n",
       "      <td>2.000437e+11</td>\n",
       "      <td>2.000199e+11</td>\n",
       "      <td>2.000868e+11</td>\n",
       "      <td>2.025196e+11</td>\n",
       "      <td>URINALYSIS, COMPLETE</td>\n",
       "      <td>NaN</td>\n",
       "      <td>3.009367e+11</td>\n",
       "      <td>None</td>\n",
       "      <td>2.000018e+11</td>\n",
       "      <td>None</td>\n",
       "      <td>2549007P03</td>\n",
       "      <td>2.002216e+11</td>\n",
       "      <td>None</td>\n",
       "      <td>-9.999900e+04</td>\n",
       "      <td>1.000000e+11</td>\n",
       "      <td>-99999.0</td>\n",
       "      <td>NaN</td>\n",
       "      <td>NEGATIVE</td>\n",
       "      <td>1.000000e+11</td>\n",
       "      <td>-99999.0</td>\n",
       "      <td>5794-3</td>\n",
       "      <td>81001</td>\n",
       "      <td>06-09-2018 00:00:00</td>\n",
       "      <td>1.000000e+11</td>\n",
       "      <td>1.000000e+11</td>\n",
       "    </tr>\n",
       "  </tbody>\n",
       "</table>\n",
       "</div>"
      ],
      "text/plain": [
       "  abnormal_rslt_cd biometrcs_id chnl_cd chnl_src_cd diag_1_cd diag_2_cd  \\\n",
       "0                H         None   MULTI         EQE     Z0000      None   \n",
       "1                A         None   MULTI         EQE     Z0000      None   \n",
       "2                L         None   MULTI         EQE     Z0001      R030   \n",
       "3                L         None   MULTI         EQE     Z0001      R030   \n",
       "4                A         None   MULTI         EQE     Z0001      R030   \n",
       "\n",
       "  diag_3_cd err_ind  event_key gentd_lab_rslt_id  indiv_enterprise_id  \\\n",
       "0      None    None       27.0              None                  9.0   \n",
       "1      None    None       27.0              None                  9.0   \n",
       "2    Z13228    None       27.0              None                 59.0   \n",
       "3    Z13228    None       27.0              None                 59.0   \n",
       "4    Z13228    None       27.0              None                 59.0   \n",
       "\n",
       "  lab_dirctr_prov_id  lab_dirctr_prov_key  lab_grp_loc_rslt_key  \\\n",
       "0               None             -99999.0          2.000437e+11   \n",
       "1               None             -99999.0          2.000437e+11   \n",
       "2               None             -99999.0          2.000440e+11   \n",
       "3               None             -99999.0          2.000437e+11   \n",
       "4               None             -99999.0          2.000437e+11   \n",
       "\n",
       "   lab_grp_loinc_key  lab_loc_rslt_key  lab_rslt_fact_key  \\\n",
       "0       2.000330e+11      2.000614e+11       2.025164e+11   \n",
       "1       2.000199e+11      2.000614e+11       2.025153e+11   \n",
       "2       2.000198e+11      2.000868e+11       2.025203e+11   \n",
       "3       2.000330e+11      2.000868e+11       2.025203e+11   \n",
       "4       2.000199e+11      2.000868e+11       2.025196e+11   \n",
       "\n",
       "                    lab_test_nm  lab_test_rslt_num     membr_key  \\\n",
       "0                   LIPID PANEL              111.0  3.000155e+11   \n",
       "1  UA/M W/RFLX CULTURE, ROUTINE                NaN  3.000155e+11   \n",
       "2        HEPATIC FUNCTION PANEL                0.1  3.009367e+11   \n",
       "3               HDL CHOLESTEROL               41.0  3.009367e+11   \n",
       "4          URINALYSIS, COMPLETE                NaN  3.009367e+11   \n",
       "\n",
       "  membr_regstn_key  model_mthd_key  msr_unt_desc ordng_prov_id  \\\n",
       "0             None    2.000017e+11         MG/DL       3892804   \n",
       "1             None    2.000017e+11          None       3892804   \n",
       "2             None    2.000018e+11  MG/DL (CALC)    2549007P03   \n",
       "3             None    2.000018e+11         MG/DL    2549007P03   \n",
       "4             None    2.000018e+11          None    2549007P03   \n",
       "\n",
       "   ordng_prov_key pcp_prov_id  pcp_prov_key     prodt_key  ref_rng_high_amt  \\\n",
       "0    2.002131e+11     3892804  2.002131e+11  1.000000e+11              99.0   \n",
       "1    2.002131e+11     3892804  2.002131e+11  1.000000e+11          -99999.0   \n",
       "2    2.002216e+11        None -9.999900e+04  1.000000e+11               1.2   \n",
       "3    2.002216e+11        None -9.999900e+04  1.000000e+11          -99999.0   \n",
       "4    2.002216e+11        None -9.999900e+04  1.000000e+11          -99999.0   \n",
       "\n",
       "   ref_rng_low_amt ref_rng_txt   rslt_dt_key  site_key std_loinc_cd svc_cd  \\\n",
       "0              0.0        0-99  1.000000e+11  -99999.0      13457-7   None   \n",
       "1              NaN    NEGATIVE  1.000000e+11  -99999.0       5799-2   None   \n",
       "2              0.2     0.2-1.2  1.000000e+11  -99999.0       1971-1  80076   \n",
       "3             51.0         >50  1.000000e+11  -99999.0       2085-9  80061   \n",
       "4              NaN    NEGATIVE  1.000000e+11  -99999.0       5794-3  81001   \n",
       "\n",
       "                svc_dt    svc_dt_key     vendr_key  \n",
       "0  06-07-2018 00:00:00  1.000000e+11  1.000000e+11  \n",
       "1  06-08-2018 00:00:00  1.000000e+11  1.000000e+11  \n",
       "2  06-09-2018 00:00:00  1.000000e+11  1.000000e+11  \n",
       "3  06-09-2018 00:00:00  1.000000e+11  1.000000e+11  \n",
       "4  06-09-2018 00:00:00  1.000000e+11  1.000000e+11  "
      ]
     },
     "execution_count": 171,
     "metadata": {},
     "output_type": "execute_result"
    }
   ],
   "source": [
    "lab.head()"
   ]
  },
  {
   "cell_type": "code",
   "execution_count": 173,
   "metadata": {},
   "outputs": [
    {
     "data": {
      "text/plain": [
       "H     51\n",
       "L     35\n",
       "A     10\n",
       "H      2\n",
       "LL     1\n",
       "L      1\n",
       "Name: abnormal_rslt_cd, dtype: int64"
      ]
     },
     "execution_count": 173,
     "metadata": {},
     "output_type": "execute_result"
    }
   ],
   "source": [
    "lab.abnormal_rslt_cd.value_counts(dropna=False)"
   ]
  },
  {
   "cell_type": "code",
   "execution_count": 174,
   "metadata": {
    "scrolled": true
   },
   "outputs": [
    {
     "data": {
      "text/plain": [
       "13457-7    7\n",
       "6768-6     6\n",
       "2571-8     6\n",
       "2345-7     6\n",
       "43396-1    4\n",
       "786-4      4\n",
       "2085-9     4\n",
       "2986-8     4\n",
       "1971-1     3\n",
       "4548-4     3\n",
       "4544-3     2\n",
       "5799-2     2\n",
       "1968-7     2\n",
       "13967-5    2\n",
       "788-0      2\n",
       "718-7      2\n",
       "789-8      2\n",
       "3016-3     2\n",
       "2990-0     2\n",
       "751-8      1\n",
       "777-3      1\n",
       "5821-4     1\n",
       "3097-3     1\n",
       "5048-4     1\n",
       "25428-4    1\n",
       "5767-9     1\n",
       "2885-2     1\n",
       "2160-0     1\n",
       "33358-3    1\n",
       "8099-4     1\n",
       "8061-4     1\n",
       "17861-6    1\n",
       "6690-2     1\n",
       "2075-0     1\n",
       "2276-4     1\n",
       "5802-4     1\n",
       "14979-9    1\n",
       "742-7      1\n",
       "2472-9     1\n",
       "2458-8     1\n",
       "731-0      1\n",
       "53982-5    1\n",
       "30522-7    1\n",
       "4537-7     1\n",
       "5794-3     1\n",
       "2465-3     1\n",
       "785-6      1\n",
       "787-2      1\n",
       "5769-5     1\n",
       "5077-3     1\n",
       "5811-5     1\n",
       "2991-8     1\n",
       "62292-8    1\n",
       "1975-2     1\n",
       "Name: std_loinc_cd, dtype: int64"
      ]
     },
     "execution_count": 174,
     "metadata": {},
     "output_type": "execute_result"
    }
   ],
   "source": [
    "lab.std_loinc_cd.value_counts()"
   ]
  },
  {
   "cell_type": "markdown",
   "metadata": {},
   "source": [
    "# med eligibility"
   ]
  },
  {
   "cell_type": "markdown",
   "metadata": {},
   "source": [
    "sql=\"\"\"\n",
    "SELECT \n",
    "person_xref_key, COUNT(*) \n",
    "FROM public.member_months\n",
    "WHERE substring(year_month,1,4) = '2016' AND member_mon_med is true\n",
    "GROUP BY person_xref_key\n",
    "limit 100;\n",
    "\"\"\""
   ]
  },
  {
   "cell_type": "code",
   "execution_count": 29,
   "metadata": {},
   "outputs": [],
   "source": [
    "#Joel\n",
    "sql=\"\"\"\n",
    "select \n",
    "    person_xref_key,\n",
    "    --'Y' as continuously_enrolled, \n",
    "    substring(year_month,1,4) as cont_med_elig_year  \n",
    "from public.member_months \n",
    "where member_mon_eligible is true \n",
    "    and member_mon_med is true \n",
    "group by person_xref_key,substring(year_month,1,4) having count(*) = 12;\n",
    "\"\"\""
   ]
  },
  {
   "cell_type": "code",
   "execution_count": 30,
   "metadata": {},
   "outputs": [],
   "source": [
    "medelig = pd.read_sql(sql,con)"
   ]
  },
  {
   "cell_type": "code",
   "execution_count": 31,
   "metadata": {},
   "outputs": [
    {
     "data": {
      "text/plain": [
       "(7189406, 2)"
      ]
     },
     "execution_count": 31,
     "metadata": {},
     "output_type": "execute_result"
    }
   ],
   "source": [
    "medelig.shape"
   ]
  },
  {
   "cell_type": "code",
   "execution_count": 32,
   "metadata": {},
   "outputs": [
    {
     "data": {
      "text/html": [
       "<div>\n",
       "<style scoped>\n",
       "    .dataframe tbody tr th:only-of-type {\n",
       "        vertical-align: middle;\n",
       "    }\n",
       "\n",
       "    .dataframe tbody tr th {\n",
       "        vertical-align: top;\n",
       "    }\n",
       "\n",
       "    .dataframe thead th {\n",
       "        text-align: right;\n",
       "    }\n",
       "</style>\n",
       "<table border=\"1\" class=\"dataframe\">\n",
       "  <thead>\n",
       "    <tr style=\"text-align: right;\">\n",
       "      <th></th>\n",
       "      <th>person_xref_key</th>\n",
       "      <th>cont_med_elig_year</th>\n",
       "    </tr>\n",
       "  </thead>\n",
       "  <tbody>\n",
       "    <tr>\n",
       "      <th>0</th>\n",
       "      <td>57874466</td>\n",
       "      <td>2017</td>\n",
       "    </tr>\n",
       "    <tr>\n",
       "      <th>1</th>\n",
       "      <td>294916233</td>\n",
       "      <td>2017</td>\n",
       "    </tr>\n",
       "    <tr>\n",
       "      <th>2</th>\n",
       "      <td>24560075</td>\n",
       "      <td>2017</td>\n",
       "    </tr>\n",
       "    <tr>\n",
       "      <th>3</th>\n",
       "      <td>27202363</td>\n",
       "      <td>2016</td>\n",
       "    </tr>\n",
       "    <tr>\n",
       "      <th>4</th>\n",
       "      <td>76216714</td>\n",
       "      <td>2016</td>\n",
       "    </tr>\n",
       "  </tbody>\n",
       "</table>\n",
       "</div>"
      ],
      "text/plain": [
       "  person_xref_key cont_med_elig_year\n",
       "0        57874466               2017\n",
       "1       294916233               2017\n",
       "2        24560075               2017\n",
       "3        27202363               2016\n",
       "4        76216714               2016"
      ]
     },
     "execution_count": 32,
     "metadata": {},
     "output_type": "execute_result"
    }
   ],
   "source": [
    "medelig.head()"
   ]
  },
  {
   "cell_type": "code",
   "execution_count": 33,
   "metadata": {},
   "outputs": [
    {
     "data": {
      "text/plain": [
       "cont_med_elig_year\n",
       "2016    3480209\n",
       "2017    3709197\n",
       "Name: person_xref_key, dtype: int64"
      ]
     },
     "execution_count": 33,
     "metadata": {},
     "output_type": "execute_result"
    }
   ],
   "source": [
    "medelig.groupby(['cont_med_elig_year'])['person_xref_key'].nunique()"
   ]
  },
  {
   "cell_type": "code",
   "execution_count": 67,
   "metadata": {},
   "outputs": [],
   "source": [
    "medelig.set_index('person_xref_key',inplace=True)"
   ]
  },
  {
   "cell_type": "code",
   "execution_count": 68,
   "metadata": {},
   "outputs": [
    {
     "data": {
      "text/html": [
       "<div>\n",
       "<style scoped>\n",
       "    .dataframe tbody tr th:only-of-type {\n",
       "        vertical-align: middle;\n",
       "    }\n",
       "\n",
       "    .dataframe tbody tr th {\n",
       "        vertical-align: top;\n",
       "    }\n",
       "\n",
       "    .dataframe thead th {\n",
       "        text-align: right;\n",
       "    }\n",
       "</style>\n",
       "<table border=\"1\" class=\"dataframe\">\n",
       "  <thead>\n",
       "    <tr style=\"text-align: right;\">\n",
       "      <th></th>\n",
       "      <th>cont_med_elig_year</th>\n",
       "    </tr>\n",
       "    <tr>\n",
       "      <th>person_xref_key</th>\n",
       "      <th></th>\n",
       "    </tr>\n",
       "  </thead>\n",
       "  <tbody>\n",
       "    <tr>\n",
       "      <th>3452974</th>\n",
       "      <td>2016</td>\n",
       "    </tr>\n",
       "    <tr>\n",
       "      <th>3452974</th>\n",
       "      <td>2017</td>\n",
       "    </tr>\n",
       "    <tr>\n",
       "      <th>76314944</th>\n",
       "      <td>2017</td>\n",
       "    </tr>\n",
       "    <tr>\n",
       "      <th>6247683</th>\n",
       "      <td>2016</td>\n",
       "    </tr>\n",
       "    <tr>\n",
       "      <th>44696025</th>\n",
       "      <td>2016</td>\n",
       "    </tr>\n",
       "  </tbody>\n",
       "</table>\n",
       "</div>"
      ],
      "text/plain": [
       "                cont_med_elig_year\n",
       "person_xref_key                   \n",
       "3452974                       2016\n",
       "3452974                       2017\n",
       "76314944                      2017\n",
       "6247683                       2016\n",
       "44696025                      2016"
      ]
     },
     "execution_count": 68,
     "metadata": {},
     "output_type": "execute_result"
    }
   ],
   "source": [
    "medelig.head()"
   ]
  },
  {
   "cell_type": "code",
   "execution_count": 212,
   "metadata": {},
   "outputs": [
    {
     "data": {
      "text/plain": [
       "cont_med_elig_year    object\n",
       "dtype: object"
      ]
     },
     "execution_count": 212,
     "metadata": {},
     "output_type": "execute_result"
    }
   ],
   "source": [
    "medelig.dtypes"
   ]
  },
  {
   "cell_type": "code",
   "execution_count": 30,
   "metadata": {},
   "outputs": [
    {
     "data": {
      "text/plain": [
       "4415634"
      ]
     },
     "execution_count": 30,
     "metadata": {},
     "output_type": "execute_result"
    }
   ],
   "source": [
    "elig.person_xref_key.nunique()"
   ]
  },
  {
   "cell_type": "code",
   "execution_count": 33,
   "metadata": {},
   "outputs": [
    {
     "data": {
      "text/plain": [
       "Y    7189406\n",
       "Name: continuously_enrolled, dtype: int64"
      ]
     },
     "execution_count": 33,
     "metadata": {},
     "output_type": "execute_result"
    }
   ],
   "source": [
    "elig.continuously_enrolled.value_counts()"
   ]
  },
  {
   "cell_type": "code",
   "execution_count": 37,
   "metadata": {},
   "outputs": [],
   "source": [
    "elig16 = elig[elig.year=='2016'].copy()"
   ]
  },
  {
   "cell_type": "code",
   "execution_count": 38,
   "metadata": {},
   "outputs": [],
   "source": [
    "elig17 = elig[elig.year=='2017'].copy()"
   ]
  },
  {
   "cell_type": "code",
   "execution_count": 216,
   "metadata": {},
   "outputs": [
    {
     "data": {
      "text/plain": [
       "3709197"
      ]
     },
     "execution_count": 216,
     "metadata": {},
     "output_type": "execute_result"
    }
   ],
   "source": [
    "elig17.person_xref_key.nunique()"
   ]
  },
  {
   "cell_type": "code",
   "execution_count": 39,
   "metadata": {
    "scrolled": true
   },
   "outputs": [],
   "source": [
    "elig1617 = elig16[elig16.person_xref_key.isin(elig17.person_xref_key)].copy()"
   ]
  },
  {
   "cell_type": "code",
   "execution_count": 48,
   "metadata": {},
   "outputs": [],
   "source": [
    "elig1617.columns = ['origId','continuously_enrolled','cont_med_elig_year']"
   ]
  },
  {
   "cell_type": "code",
   "execution_count": 49,
   "metadata": {},
   "outputs": [
    {
     "data": {
      "text/html": [
       "<div>\n",
       "<style scoped>\n",
       "    .dataframe tbody tr th:only-of-type {\n",
       "        vertical-align: middle;\n",
       "    }\n",
       "\n",
       "    .dataframe tbody tr th {\n",
       "        vertical-align: top;\n",
       "    }\n",
       "\n",
       "    .dataframe thead th {\n",
       "        text-align: right;\n",
       "    }\n",
       "</style>\n",
       "<table border=\"1\" class=\"dataframe\">\n",
       "  <thead>\n",
       "    <tr style=\"text-align: right;\">\n",
       "      <th></th>\n",
       "      <th>origId</th>\n",
       "      <th>continuously_enrolled</th>\n",
       "      <th>cont_med_elig_year</th>\n",
       "    </tr>\n",
       "  </thead>\n",
       "  <tbody>\n",
       "    <tr>\n",
       "      <th>0</th>\n",
       "      <td>76314944</td>\n",
       "      <td>Y</td>\n",
       "      <td>2016</td>\n",
       "    </tr>\n",
       "    <tr>\n",
       "      <th>2</th>\n",
       "      <td>15678833</td>\n",
       "      <td>Y</td>\n",
       "      <td>2016</td>\n",
       "    </tr>\n",
       "    <tr>\n",
       "      <th>5</th>\n",
       "      <td>13828215</td>\n",
       "      <td>Y</td>\n",
       "      <td>2016</td>\n",
       "    </tr>\n",
       "    <tr>\n",
       "      <th>8</th>\n",
       "      <td>22171257</td>\n",
       "      <td>Y</td>\n",
       "      <td>2016</td>\n",
       "    </tr>\n",
       "    <tr>\n",
       "      <th>10</th>\n",
       "      <td>26394035</td>\n",
       "      <td>Y</td>\n",
       "      <td>2016</td>\n",
       "    </tr>\n",
       "  </tbody>\n",
       "</table>\n",
       "</div>"
      ],
      "text/plain": [
       "      origId continuously_enrolled cont_med_elig_year\n",
       "0   76314944                     Y               2016\n",
       "2   15678833                     Y               2016\n",
       "5   13828215                     Y               2016\n",
       "8   22171257                     Y               2016\n",
       "10  26394035                     Y               2016"
      ]
     },
     "execution_count": 49,
     "metadata": {},
     "output_type": "execute_result"
    }
   ],
   "source": [
    "elig1617.head()"
   ]
  },
  {
   "cell_type": "code",
   "execution_count": 40,
   "metadata": {},
   "outputs": [
    {
     "data": {
      "text/plain": [
       "(2773772, 3)"
      ]
     },
     "execution_count": 40,
     "metadata": {},
     "output_type": "execute_result"
    },
    {
     "data": {
      "text/plain": [
       "2773772"
      ]
     },
     "execution_count": 40,
     "metadata": {},
     "output_type": "execute_result"
    }
   ],
   "source": [
    "elig1617.shape\n",
    "elig1617.person_xref_key.nunique()"
   ]
  },
  {
   "cell_type": "code",
   "execution_count": 44,
   "metadata": {},
   "outputs": [
    {
     "data": {
      "text/html": [
       "<div>\n",
       "<style scoped>\n",
       "    .dataframe tbody tr th:only-of-type {\n",
       "        vertical-align: middle;\n",
       "    }\n",
       "\n",
       "    .dataframe tbody tr th {\n",
       "        vertical-align: top;\n",
       "    }\n",
       "\n",
       "    .dataframe thead th {\n",
       "        text-align: right;\n",
       "    }\n",
       "</style>\n",
       "<table border=\"1\" class=\"dataframe\">\n",
       "  <thead>\n",
       "    <tr style=\"text-align: right;\">\n",
       "      <th></th>\n",
       "      <th>person_xref_key</th>\n",
       "      <th>continuously_enrolled</th>\n",
       "      <th>year</th>\n",
       "    </tr>\n",
       "  </thead>\n",
       "  <tbody>\n",
       "    <tr>\n",
       "      <th>0</th>\n",
       "      <td>76314944</td>\n",
       "      <td>Y</td>\n",
       "      <td>2016</td>\n",
       "    </tr>\n",
       "    <tr>\n",
       "      <th>2</th>\n",
       "      <td>15678833</td>\n",
       "      <td>Y</td>\n",
       "      <td>2016</td>\n",
       "    </tr>\n",
       "    <tr>\n",
       "      <th>5</th>\n",
       "      <td>13828215</td>\n",
       "      <td>Y</td>\n",
       "      <td>2016</td>\n",
       "    </tr>\n",
       "    <tr>\n",
       "      <th>8</th>\n",
       "      <td>22171257</td>\n",
       "      <td>Y</td>\n",
       "      <td>2016</td>\n",
       "    </tr>\n",
       "    <tr>\n",
       "      <th>10</th>\n",
       "      <td>26394035</td>\n",
       "      <td>Y</td>\n",
       "      <td>2016</td>\n",
       "    </tr>\n",
       "  </tbody>\n",
       "</table>\n",
       "</div>"
      ],
      "text/plain": [
       "   person_xref_key continuously_enrolled  year\n",
       "0         76314944                     Y  2016\n",
       "2         15678833                     Y  2016\n",
       "5         13828215                     Y  2016\n",
       "8         22171257                     Y  2016\n",
       "10        26394035                     Y  2016"
      ]
     },
     "execution_count": 44,
     "metadata": {},
     "output_type": "execute_result"
    }
   ],
   "source": [
    "elig1617.head()"
   ]
  },
  {
   "cell_type": "code",
   "execution_count": 213,
   "metadata": {},
   "outputs": [
    {
     "data": {
      "text/plain": [
       "(2773772, 3)"
      ]
     },
     "execution_count": 213,
     "metadata": {},
     "output_type": "execute_result"
    },
    {
     "data": {
      "text/plain": [
       "2773772"
      ]
     },
     "execution_count": 213,
     "metadata": {},
     "output_type": "execute_result"
    }
   ],
   "source": [
    "elig1617.shape\n",
    "elig1617.origId.nunique()"
   ]
  },
  {
   "cell_type": "code",
   "execution_count": 214,
   "metadata": {},
   "outputs": [
    {
     "data": {
      "text/plain": [
       "origId                   object\n",
       "continuously_enrolled    object\n",
       "cont_med_elig_year       object\n",
       "dtype: object"
      ]
     },
     "execution_count": 214,
     "metadata": {},
     "output_type": "execute_result"
    }
   ],
   "source": [
    "elig1617.dtypes"
   ]
  },
  {
   "cell_type": "code",
   "execution_count": 41,
   "metadata": {},
   "outputs": [],
   "source": [
    "membr = pd.read_csv(\"MEDelig2016-2017membr_dt.csv\",dtype=str)"
   ]
  },
  {
   "cell_type": "code",
   "execution_count": 42,
   "metadata": {},
   "outputs": [
    {
     "data": {
      "text/html": [
       "<div>\n",
       "<style scoped>\n",
       "    .dataframe tbody tr th:only-of-type {\n",
       "        vertical-align: middle;\n",
       "    }\n",
       "\n",
       "    .dataframe tbody tr th {\n",
       "        vertical-align: top;\n",
       "    }\n",
       "\n",
       "    .dataframe thead th {\n",
       "        text-align: right;\n",
       "    }\n",
       "</style>\n",
       "<table border=\"1\" class=\"dataframe\">\n",
       "  <thead>\n",
       "    <tr style=\"text-align: right;\">\n",
       "      <th></th>\n",
       "      <th>INDIV_ENTERPRISE_ID</th>\n",
       "      <th>CONT_ELIG_START_DT</th>\n",
       "      <th>CONT_ELIG_END_DT</th>\n",
       "    </tr>\n",
       "  </thead>\n",
       "  <tbody>\n",
       "    <tr>\n",
       "      <th>0</th>\n",
       "      <td>79329325</td>\n",
       "      <td>2015-01-01</td>\n",
       "      <td>2023-03-07</td>\n",
       "    </tr>\n",
       "    <tr>\n",
       "      <th>1</th>\n",
       "      <td>93909200</td>\n",
       "      <td>2013-08-12</td>\n",
       "      <td>2023-06-15</td>\n",
       "    </tr>\n",
       "    <tr>\n",
       "      <th>2</th>\n",
       "      <td>39724235</td>\n",
       "      <td>2014-07-01</td>\n",
       "      <td>2023-06-15</td>\n",
       "    </tr>\n",
       "    <tr>\n",
       "      <th>3</th>\n",
       "      <td>12097852</td>\n",
       "      <td>2013-01-01</td>\n",
       "      <td>2023-09-23</td>\n",
       "    </tr>\n",
       "    <tr>\n",
       "      <th>4</th>\n",
       "      <td>29739328</td>\n",
       "      <td>2015-02-01</td>\n",
       "      <td>2023-09-23</td>\n",
       "    </tr>\n",
       "  </tbody>\n",
       "</table>\n",
       "</div>"
      ],
      "text/plain": [
       "  INDIV_ENTERPRISE_ID CONT_ELIG_START_DT CONT_ELIG_END_DT\n",
       "0            79329325         2015-01-01       2023-03-07\n",
       "1            93909200         2013-08-12       2023-06-15\n",
       "2            39724235         2014-07-01       2023-06-15\n",
       "3            12097852         2013-01-01       2023-09-23\n",
       "4            29739328         2015-02-01       2023-09-23"
      ]
     },
     "execution_count": 42,
     "metadata": {},
     "output_type": "execute_result"
    }
   ],
   "source": [
    "membr.head()"
   ]
  },
  {
   "cell_type": "code",
   "execution_count": 43,
   "metadata": {},
   "outputs": [
    {
     "data": {
      "text/plain": [
       "2496156"
      ]
     },
     "execution_count": 43,
     "metadata": {},
     "output_type": "execute_result"
    },
    {
     "data": {
      "text/plain": [
       "(2496156,)"
      ]
     },
     "execution_count": 43,
     "metadata": {},
     "output_type": "execute_result"
    }
   ],
   "source": [
    "membr.INDIV_ENTERPRISE_ID.nunique()\n",
    "membr.INDIV_ENTERPRISE_ID.shape"
   ]
  },
  {
   "cell_type": "code",
   "execution_count": 50,
   "metadata": {},
   "outputs": [
    {
     "data": {
      "text/plain": [
       "True     2447606\n",
       "False      48550\n",
       "Name: INDIV_ENTERPRISE_ID, dtype: int64"
      ]
     },
     "execution_count": 50,
     "metadata": {},
     "output_type": "execute_result"
    }
   ],
   "source": [
    "membr.INDIV_ENTERPRISE_ID.isin(elig1617.origId).value_counts()"
   ]
  },
  {
   "cell_type": "markdown",
   "metadata": {},
   "source": [
    "# rx elig"
   ]
  },
  {
   "cell_type": "code",
   "execution_count": 62,
   "metadata": {},
   "outputs": [],
   "source": [
    "sql=\"\"\"\n",
    "select \n",
    "    person_xref_key,\n",
    "    --'Y' as continuously_enrolled, \n",
    "    substring(year_month,1,4) as cont_rx_elig_year  \n",
    "from public.member_months \n",
    "where member_mon_eligible is true \n",
    "    and member_mon_rx is true \n",
    "group by person_xref_key,substring(year_month,1,4) having count(*) = 12;\n",
    "\"\"\""
   ]
  },
  {
   "cell_type": "code",
   "execution_count": 63,
   "metadata": {},
   "outputs": [],
   "source": [
    "rxelig = pd.read_sql(sql,con)"
   ]
  },
  {
   "cell_type": "code",
   "execution_count": 64,
   "metadata": {},
   "outputs": [
    {
     "data": {
      "text/plain": [
       "(2490635, 2)"
      ]
     },
     "execution_count": 64,
     "metadata": {},
     "output_type": "execute_result"
    },
    {
     "data": {
      "text/plain": [
       "1620702"
      ]
     },
     "execution_count": 64,
     "metadata": {},
     "output_type": "execute_result"
    },
    {
     "data": {
      "text/html": [
       "<div>\n",
       "<style scoped>\n",
       "    .dataframe tbody tr th:only-of-type {\n",
       "        vertical-align: middle;\n",
       "    }\n",
       "\n",
       "    .dataframe tbody tr th {\n",
       "        vertical-align: top;\n",
       "    }\n",
       "\n",
       "    .dataframe thead th {\n",
       "        text-align: right;\n",
       "    }\n",
       "</style>\n",
       "<table border=\"1\" class=\"dataframe\">\n",
       "  <thead>\n",
       "    <tr style=\"text-align: right;\">\n",
       "      <th></th>\n",
       "      <th>person_xref_key</th>\n",
       "      <th>cont_rx_elig_year</th>\n",
       "    </tr>\n",
       "  </thead>\n",
       "  <tbody>\n",
       "    <tr>\n",
       "      <th>0</th>\n",
       "      <td>44696025</td>\n",
       "      <td>2016</td>\n",
       "    </tr>\n",
       "    <tr>\n",
       "      <th>1</th>\n",
       "      <td>55960597</td>\n",
       "      <td>2016</td>\n",
       "    </tr>\n",
       "    <tr>\n",
       "      <th>2</th>\n",
       "      <td>55960597</td>\n",
       "      <td>2017</td>\n",
       "    </tr>\n",
       "    <tr>\n",
       "      <th>3</th>\n",
       "      <td>50137993</td>\n",
       "      <td>2017</td>\n",
       "    </tr>\n",
       "    <tr>\n",
       "      <th>4</th>\n",
       "      <td>38148155</td>\n",
       "      <td>2016</td>\n",
       "    </tr>\n",
       "  </tbody>\n",
       "</table>\n",
       "</div>"
      ],
      "text/plain": [
       "  person_xref_key cont_rx_elig_year\n",
       "0        44696025              2016\n",
       "1        55960597              2016\n",
       "2        55960597              2017\n",
       "3        50137993              2017\n",
       "4        38148155              2016"
      ]
     },
     "execution_count": 64,
     "metadata": {},
     "output_type": "execute_result"
    }
   ],
   "source": [
    "rxelig.shape\n",
    "rxelig.person_xref_key.nunique()\n",
    "rxelig.head()"
   ]
  },
  {
   "cell_type": "code",
   "execution_count": 69,
   "metadata": {},
   "outputs": [],
   "source": [
    "rxelig.set_index('person_xref_key',inplace=True)"
   ]
  },
  {
   "cell_type": "code",
   "execution_count": 70,
   "metadata": {},
   "outputs": [
    {
     "data": {
      "text/html": [
       "<div>\n",
       "<style scoped>\n",
       "    .dataframe tbody tr th:only-of-type {\n",
       "        vertical-align: middle;\n",
       "    }\n",
       "\n",
       "    .dataframe tbody tr th {\n",
       "        vertical-align: top;\n",
       "    }\n",
       "\n",
       "    .dataframe thead th {\n",
       "        text-align: right;\n",
       "    }\n",
       "</style>\n",
       "<table border=\"1\" class=\"dataframe\">\n",
       "  <thead>\n",
       "    <tr style=\"text-align: right;\">\n",
       "      <th></th>\n",
       "      <th>cont_rx_elig_year</th>\n",
       "    </tr>\n",
       "    <tr>\n",
       "      <th>person_xref_key</th>\n",
       "      <th></th>\n",
       "    </tr>\n",
       "  </thead>\n",
       "  <tbody>\n",
       "    <tr>\n",
       "      <th>44696025</th>\n",
       "      <td>2016</td>\n",
       "    </tr>\n",
       "    <tr>\n",
       "      <th>55960597</th>\n",
       "      <td>2016</td>\n",
       "    </tr>\n",
       "    <tr>\n",
       "      <th>55960597</th>\n",
       "      <td>2017</td>\n",
       "    </tr>\n",
       "    <tr>\n",
       "      <th>50137993</th>\n",
       "      <td>2017</td>\n",
       "    </tr>\n",
       "    <tr>\n",
       "      <th>38148155</th>\n",
       "      <td>2016</td>\n",
       "    </tr>\n",
       "  </tbody>\n",
       "</table>\n",
       "</div>"
      ],
      "text/plain": [
       "                cont_rx_elig_year\n",
       "person_xref_key                  \n",
       "44696025                     2016\n",
       "55960597                     2016\n",
       "55960597                     2017\n",
       "50137993                     2017\n",
       "38148155                     2016"
      ]
     },
     "execution_count": 70,
     "metadata": {},
     "output_type": "execute_result"
    }
   ],
   "source": [
    "rxelig.head()"
   ]
  },
  {
   "cell_type": "code",
   "execution_count": 71,
   "metadata": {},
   "outputs": [
    {
     "data": {
      "text/plain": [
       "(2490635, 1)"
      ]
     },
     "execution_count": 71,
     "metadata": {},
     "output_type": "execute_result"
    }
   ],
   "source": [
    "rxelig.shape"
   ]
  },
  {
   "cell_type": "code",
   "execution_count": 73,
   "metadata": {},
   "outputs": [],
   "source": [
    "elig = medelig.join(rxelig)"
   ]
  },
  {
   "cell_type": "code",
   "execution_count": 74,
   "metadata": {},
   "outputs": [
    {
     "data": {
      "text/plain": [
       "(8870642, 2)"
      ]
     },
     "execution_count": 74,
     "metadata": {},
     "output_type": "execute_result"
    }
   ],
   "source": [
    "elig.shape"
   ]
  },
  {
   "cell_type": "code",
   "execution_count": 76,
   "metadata": {},
   "outputs": [
    {
     "data": {
      "text/html": [
       "<div>\n",
       "<style scoped>\n",
       "    .dataframe tbody tr th:only-of-type {\n",
       "        vertical-align: middle;\n",
       "    }\n",
       "\n",
       "    .dataframe tbody tr th {\n",
       "        vertical-align: top;\n",
       "    }\n",
       "\n",
       "    .dataframe thead th {\n",
       "        text-align: right;\n",
       "    }\n",
       "</style>\n",
       "<table border=\"1\" class=\"dataframe\">\n",
       "  <thead>\n",
       "    <tr style=\"text-align: right;\">\n",
       "      <th></th>\n",
       "      <th>cont_med_elig_year</th>\n",
       "      <th>cont_rx_elig_year</th>\n",
       "    </tr>\n",
       "    <tr>\n",
       "      <th>person_xref_key</th>\n",
       "      <th></th>\n",
       "      <th></th>\n",
       "    </tr>\n",
       "  </thead>\n",
       "  <tbody>\n",
       "    <tr>\n",
       "      <th>0</th>\n",
       "      <td>2017</td>\n",
       "      <td>NaN</td>\n",
       "    </tr>\n",
       "    <tr>\n",
       "      <th>0</th>\n",
       "      <td>2016</td>\n",
       "      <td>NaN</td>\n",
       "    </tr>\n",
       "    <tr>\n",
       "      <th>1000</th>\n",
       "      <td>2016</td>\n",
       "      <td>2016</td>\n",
       "    </tr>\n",
       "    <tr>\n",
       "      <th>1000</th>\n",
       "      <td>2016</td>\n",
       "      <td>2017</td>\n",
       "    </tr>\n",
       "    <tr>\n",
       "      <th>1000</th>\n",
       "      <td>2017</td>\n",
       "      <td>2016</td>\n",
       "    </tr>\n",
       "    <tr>\n",
       "      <th>1000</th>\n",
       "      <td>2017</td>\n",
       "      <td>2017</td>\n",
       "    </tr>\n",
       "    <tr>\n",
       "      <th>10000032</th>\n",
       "      <td>2016</td>\n",
       "      <td>2016</td>\n",
       "    </tr>\n",
       "    <tr>\n",
       "      <th>10000032</th>\n",
       "      <td>2016</td>\n",
       "      <td>2017</td>\n",
       "    </tr>\n",
       "    <tr>\n",
       "      <th>10000032</th>\n",
       "      <td>2017</td>\n",
       "      <td>2016</td>\n",
       "    </tr>\n",
       "    <tr>\n",
       "      <th>10000032</th>\n",
       "      <td>2017</td>\n",
       "      <td>2017</td>\n",
       "    </tr>\n",
       "    <tr>\n",
       "      <th>10000033</th>\n",
       "      <td>2016</td>\n",
       "      <td>NaN</td>\n",
       "    </tr>\n",
       "    <tr>\n",
       "      <th>10000033</th>\n",
       "      <td>2017</td>\n",
       "      <td>NaN</td>\n",
       "    </tr>\n",
       "    <tr>\n",
       "      <th>10000055</th>\n",
       "      <td>2016</td>\n",
       "      <td>NaN</td>\n",
       "    </tr>\n",
       "    <tr>\n",
       "      <th>10000055</th>\n",
       "      <td>2017</td>\n",
       "      <td>NaN</td>\n",
       "    </tr>\n",
       "    <tr>\n",
       "      <th>10000058</th>\n",
       "      <td>2016</td>\n",
       "      <td>NaN</td>\n",
       "    </tr>\n",
       "    <tr>\n",
       "      <th>10000071</th>\n",
       "      <td>2016</td>\n",
       "      <td>NaN</td>\n",
       "    </tr>\n",
       "    <tr>\n",
       "      <th>10000071</th>\n",
       "      <td>2017</td>\n",
       "      <td>NaN</td>\n",
       "    </tr>\n",
       "    <tr>\n",
       "      <th>10000100</th>\n",
       "      <td>2016</td>\n",
       "      <td>NaN</td>\n",
       "    </tr>\n",
       "    <tr>\n",
       "      <th>10000100</th>\n",
       "      <td>2017</td>\n",
       "      <td>NaN</td>\n",
       "    </tr>\n",
       "    <tr>\n",
       "      <th>10000117</th>\n",
       "      <td>2016</td>\n",
       "      <td>NaN</td>\n",
       "    </tr>\n",
       "  </tbody>\n",
       "</table>\n",
       "</div>"
      ],
      "text/plain": [
       "                cont_med_elig_year cont_rx_elig_year\n",
       "person_xref_key                                     \n",
       "0                             2017               NaN\n",
       "0                             2016               NaN\n",
       "1000                          2016              2016\n",
       "1000                          2016              2017\n",
       "1000                          2017              2016\n",
       "1000                          2017              2017\n",
       "10000032                      2016              2016\n",
       "10000032                      2016              2017\n",
       "10000032                      2017              2016\n",
       "10000032                      2017              2017\n",
       "10000033                      2016               NaN\n",
       "10000033                      2017               NaN\n",
       "10000055                      2016               NaN\n",
       "10000055                      2017               NaN\n",
       "10000058                      2016               NaN\n",
       "10000071                      2016               NaN\n",
       "10000071                      2017               NaN\n",
       "10000100                      2016               NaN\n",
       "10000100                      2017               NaN\n",
       "10000117                      2016               NaN"
      ]
     },
     "execution_count": 76,
     "metadata": {},
     "output_type": "execute_result"
    }
   ],
   "source": [
    "elig.head(20)"
   ]
  },
  {
   "cell_type": "code",
   "execution_count": 77,
   "metadata": {},
   "outputs": [
    {
     "data": {
      "text/plain": [
       "(1198029, 2)"
      ]
     },
     "execution_count": 77,
     "metadata": {},
     "output_type": "execute_result"
    }
   ],
   "source": [
    "elig[(elig.cont_med_elig_year=='2016') & (elig.cont_rx_elig_year == '2016')].shape"
   ]
  },
  {
   "cell_type": "code",
   "execution_count": 78,
   "metadata": {},
   "outputs": [
    {
     "data": {
      "text/plain": [
       "(1223055, 2)"
      ]
     },
     "execution_count": 78,
     "metadata": {},
     "output_type": "execute_result"
    }
   ],
   "source": [
    "elig[(elig.cont_med_elig_year=='2017') & (elig.cont_rx_elig_year == '2017')].shape"
   ]
  },
  {
   "cell_type": "code",
   "execution_count": 79,
   "metadata": {},
   "outputs": [],
   "source": [
    "elig.to_csv(\"cont_med_rx_elig2016-2017.csv\")"
   ]
  },
  {
   "cell_type": "markdown",
   "metadata": {},
   "source": [
    "# prod lob"
   ]
  },
  {
   "cell_type": "code",
   "execution_count": 200,
   "metadata": {},
   "outputs": [],
   "source": [
    "sql = \"\"\"\n",
    "select *\n",
    "from public.eligibility\n",
    "where date_part('year',eligibility_effective_dt) <= '2017'\n",
    "  and date_part('year',eligibility_end_dt) >= '2017'\n",
    "  and x_product is not null\n",
    "  and x_lob is not null\n",
    "  and medical_coverage is true\n",
    "order by person_xref_key, eligibility_end_dt desc\n",
    "--limit 1000;\n",
    "\"\"\""
   ]
  },
  {
   "cell_type": "code",
   "execution_count": 201,
   "metadata": {},
   "outputs": [],
   "source": [
    "prod = pd.read_sql(sql,con)"
   ]
  },
  {
   "cell_type": "code",
   "execution_count": 202,
   "metadata": {},
   "outputs": [
    {
     "data": {
      "text/plain": [
       "(6781734, 10)"
      ]
     },
     "execution_count": 202,
     "metadata": {},
     "output_type": "execute_result"
    },
    {
     "data": {
      "text/plain": [
       "5562402"
      ]
     },
     "execution_count": 202,
     "metadata": {},
     "output_type": "execute_result"
    },
    {
     "data": {
      "text/html": [
       "<div>\n",
       "<style scoped>\n",
       "    .dataframe tbody tr th:only-of-type {\n",
       "        vertical-align: middle;\n",
       "    }\n",
       "\n",
       "    .dataframe tbody tr th {\n",
       "        vertical-align: top;\n",
       "    }\n",
       "\n",
       "    .dataframe thead th {\n",
       "        text-align: right;\n",
       "    }\n",
       "</style>\n",
       "<table border=\"1\" class=\"dataframe\">\n",
       "  <thead>\n",
       "    <tr style=\"text-align: right;\">\n",
       "      <th></th>\n",
       "      <th>person_id</th>\n",
       "      <th>first_name</th>\n",
       "      <th>last_name</th>\n",
       "      <th>person_xref_key</th>\n",
       "      <th>eligibility_effective_dt</th>\n",
       "      <th>eligibility_end_dt</th>\n",
       "      <th>rx_coverage</th>\n",
       "      <th>medical_coverage</th>\n",
       "      <th>x_lob</th>\n",
       "      <th>x_product</th>\n",
       "    </tr>\n",
       "  </thead>\n",
       "  <tbody>\n",
       "    <tr>\n",
       "      <th>0</th>\n",
       "      <td>1842731</td>\n",
       "      <td>None</td>\n",
       "      <td>None</td>\n",
       "      <td>0</td>\n",
       "      <td>2013-07-15</td>\n",
       "      <td>9999-12-31</td>\n",
       "      <td>False</td>\n",
       "      <td>True</td>\n",
       "      <td>COM</td>\n",
       "      <td>OAP</td>\n",
       "    </tr>\n",
       "    <tr>\n",
       "      <th>1</th>\n",
       "      <td>8094233</td>\n",
       "      <td>None</td>\n",
       "      <td>None</td>\n",
       "      <td>1000</td>\n",
       "      <td>2017-01-01</td>\n",
       "      <td>9999-12-31</td>\n",
       "      <td>True</td>\n",
       "      <td>True</td>\n",
       "      <td>COM</td>\n",
       "      <td>OAP</td>\n",
       "    </tr>\n",
       "    <tr>\n",
       "      <th>2</th>\n",
       "      <td>3345184</td>\n",
       "      <td>None</td>\n",
       "      <td>None</td>\n",
       "      <td>10000032</td>\n",
       "      <td>2017-01-01</td>\n",
       "      <td>2017-12-31</td>\n",
       "      <td>False</td>\n",
       "      <td>True</td>\n",
       "      <td>COM</td>\n",
       "      <td>OAP</td>\n",
       "    </tr>\n",
       "    <tr>\n",
       "      <th>3</th>\n",
       "      <td>5715887</td>\n",
       "      <td>None</td>\n",
       "      <td>None</td>\n",
       "      <td>10000033</td>\n",
       "      <td>2007-01-01</td>\n",
       "      <td>9999-12-31</td>\n",
       "      <td>False</td>\n",
       "      <td>True</td>\n",
       "      <td>COM</td>\n",
       "      <td>OAP</td>\n",
       "    </tr>\n",
       "    <tr>\n",
       "      <th>4</th>\n",
       "      <td>1294916</td>\n",
       "      <td>None</td>\n",
       "      <td>None</td>\n",
       "      <td>10000055</td>\n",
       "      <td>2013-08-12</td>\n",
       "      <td>9999-12-31</td>\n",
       "      <td>False</td>\n",
       "      <td>True</td>\n",
       "      <td>COM</td>\n",
       "      <td>OAP</td>\n",
       "    </tr>\n",
       "  </tbody>\n",
       "</table>\n",
       "</div>"
      ],
      "text/plain": [
       "   person_id first_name last_name person_xref_key eligibility_effective_dt  \\\n",
       "0    1842731       None      None               0               2013-07-15   \n",
       "1    8094233       None      None            1000               2017-01-01   \n",
       "2    3345184       None      None        10000032               2017-01-01   \n",
       "3    5715887       None      None        10000033               2007-01-01   \n",
       "4    1294916       None      None        10000055               2013-08-12   \n",
       "\n",
       "  eligibility_end_dt  rx_coverage  medical_coverage x_lob x_product  \n",
       "0         9999-12-31        False              True   COM       OAP  \n",
       "1         9999-12-31         True              True   COM       OAP  \n",
       "2         2017-12-31        False              True   COM       OAP  \n",
       "3         9999-12-31        False              True   COM       OAP  \n",
       "4         9999-12-31        False              True   COM       OAP  "
      ]
     },
     "execution_count": 202,
     "metadata": {},
     "output_type": "execute_result"
    }
   ],
   "source": [
    "prod.shape\n",
    "prod.person_xref_key.nunique()\n",
    "prod.head()"
   ]
  },
  {
   "cell_type": "code",
   "execution_count": 203,
   "metadata": {},
   "outputs": [
    {
     "data": {
      "text/html": [
       "<div>\n",
       "<style scoped>\n",
       "    .dataframe tbody tr th:only-of-type {\n",
       "        vertical-align: middle;\n",
       "    }\n",
       "\n",
       "    .dataframe tbody tr th {\n",
       "        vertical-align: top;\n",
       "    }\n",
       "\n",
       "    .dataframe thead th {\n",
       "        text-align: right;\n",
       "    }\n",
       "</style>\n",
       "<table border=\"1\" class=\"dataframe\">\n",
       "  <thead>\n",
       "    <tr style=\"text-align: right;\">\n",
       "      <th></th>\n",
       "      <th>person_id</th>\n",
       "      <th>first_name</th>\n",
       "      <th>last_name</th>\n",
       "      <th>person_xref_key</th>\n",
       "      <th>eligibility_effective_dt</th>\n",
       "      <th>eligibility_end_dt</th>\n",
       "      <th>rx_coverage</th>\n",
       "      <th>medical_coverage</th>\n",
       "      <th>x_lob</th>\n",
       "      <th>x_product</th>\n",
       "    </tr>\n",
       "  </thead>\n",
       "  <tbody>\n",
       "    <tr>\n",
       "      <th>1415657</th>\n",
       "      <td>875548</td>\n",
       "      <td>None</td>\n",
       "      <td>None</td>\n",
       "      <td>29376616</td>\n",
       "      <td>2016-07-01</td>\n",
       "      <td>2017-12-31</td>\n",
       "      <td>False</td>\n",
       "      <td>True</td>\n",
       "      <td>COM</td>\n",
       "      <td>OAP</td>\n",
       "    </tr>\n",
       "    <tr>\n",
       "      <th>1415658</th>\n",
       "      <td>875548</td>\n",
       "      <td>None</td>\n",
       "      <td>None</td>\n",
       "      <td>29376616</td>\n",
       "      <td>2016-07-01</td>\n",
       "      <td>2017-12-31</td>\n",
       "      <td>False</td>\n",
       "      <td>True</td>\n",
       "      <td>COM</td>\n",
       "      <td>PPO</td>\n",
       "    </tr>\n",
       "  </tbody>\n",
       "</table>\n",
       "</div>"
      ],
      "text/plain": [
       "         person_id first_name last_name person_xref_key  \\\n",
       "1415657     875548       None      None        29376616   \n",
       "1415658     875548       None      None        29376616   \n",
       "\n",
       "        eligibility_effective_dt eligibility_end_dt  rx_coverage  \\\n",
       "1415657               2016-07-01         2017-12-31        False   \n",
       "1415658               2016-07-01         2017-12-31        False   \n",
       "\n",
       "         medical_coverage x_lob x_product  \n",
       "1415657              True   COM       OAP  \n",
       "1415658              True   COM       PPO  "
      ]
     },
     "execution_count": 203,
     "metadata": {},
     "output_type": "execute_result"
    }
   ],
   "source": [
    "prod[prod.person_xref_key=='29376616']"
   ]
  },
  {
   "cell_type": "code",
   "execution_count": 204,
   "metadata": {},
   "outputs": [],
   "source": [
    "produniq = prod.drop_duplicates(['person_xref_key'],keep='first')[['person_xref_key','x_lob','x_product']].copy()"
   ]
  },
  {
   "cell_type": "code",
   "execution_count": 205,
   "metadata": {},
   "outputs": [
    {
     "data": {
      "text/html": [
       "<div>\n",
       "<style scoped>\n",
       "    .dataframe tbody tr th:only-of-type {\n",
       "        vertical-align: middle;\n",
       "    }\n",
       "\n",
       "    .dataframe tbody tr th {\n",
       "        vertical-align: top;\n",
       "    }\n",
       "\n",
       "    .dataframe thead th {\n",
       "        text-align: right;\n",
       "    }\n",
       "</style>\n",
       "<table border=\"1\" class=\"dataframe\">\n",
       "  <thead>\n",
       "    <tr style=\"text-align: right;\">\n",
       "      <th></th>\n",
       "      <th>person_xref_key</th>\n",
       "      <th>x_lob</th>\n",
       "      <th>x_product</th>\n",
       "    </tr>\n",
       "  </thead>\n",
       "  <tbody>\n",
       "    <tr>\n",
       "      <th>0</th>\n",
       "      <td>0</td>\n",
       "      <td>COM</td>\n",
       "      <td>OAP</td>\n",
       "    </tr>\n",
       "    <tr>\n",
       "      <th>1</th>\n",
       "      <td>1000</td>\n",
       "      <td>COM</td>\n",
       "      <td>OAP</td>\n",
       "    </tr>\n",
       "    <tr>\n",
       "      <th>2</th>\n",
       "      <td>10000032</td>\n",
       "      <td>COM</td>\n",
       "      <td>OAP</td>\n",
       "    </tr>\n",
       "    <tr>\n",
       "      <th>3</th>\n",
       "      <td>10000033</td>\n",
       "      <td>COM</td>\n",
       "      <td>OAP</td>\n",
       "    </tr>\n",
       "    <tr>\n",
       "      <th>4</th>\n",
       "      <td>10000055</td>\n",
       "      <td>COM</td>\n",
       "      <td>OAP</td>\n",
       "    </tr>\n",
       "  </tbody>\n",
       "</table>\n",
       "</div>"
      ],
      "text/plain": [
       "  person_xref_key x_lob x_product\n",
       "0               0   COM       OAP\n",
       "1            1000   COM       OAP\n",
       "2        10000032   COM       OAP\n",
       "3        10000033   COM       OAP\n",
       "4        10000055   COM       OAP"
      ]
     },
     "execution_count": 205,
     "metadata": {},
     "output_type": "execute_result"
    }
   ],
   "source": [
    "produniq.head()"
   ]
  },
  {
   "cell_type": "code",
   "execution_count": 206,
   "metadata": {},
   "outputs": [
    {
     "data": {
      "text/plain": [
       "person_xref_key    object\n",
       "x_lob              object\n",
       "x_product          object\n",
       "dtype: object"
      ]
     },
     "execution_count": 206,
     "metadata": {},
     "output_type": "execute_result"
    }
   ],
   "source": [
    "produniq.dtypes"
   ]
  },
  {
   "cell_type": "code",
   "execution_count": 207,
   "metadata": {},
   "outputs": [
    {
     "data": {
      "text/plain": [
       "5562402"
      ]
     },
     "execution_count": 207,
     "metadata": {},
     "output_type": "execute_result"
    }
   ],
   "source": [
    "produniq.person_xref_key.nunique()"
   ]
  },
  {
   "cell_type": "code",
   "execution_count": 208,
   "metadata": {},
   "outputs": [
    {
     "data": {
      "text/plain": [
       "COM    5497052\n",
       "MCR      65350\n",
       "Name: x_lob, dtype: int64"
      ]
     },
     "execution_count": 208,
     "metadata": {},
     "output_type": "execute_result"
    }
   ],
   "source": [
    "produniq.x_lob.value_counts()"
   ]
  },
  {
   "cell_type": "code",
   "execution_count": 209,
   "metadata": {},
   "outputs": [
    {
     "data": {
      "text/plain": [
       "OAP      3375303\n",
       "PPO      1391978\n",
       "OAPIN     524396\n",
       "HMO       176053\n",
       "IND        33760\n",
       "INDV       32098\n",
       "POS        15077\n",
       "OA         13737\n",
       "Name: x_product, dtype: int64"
      ]
     },
     "execution_count": 209,
     "metadata": {},
     "output_type": "execute_result"
    }
   ],
   "source": [
    "produniq.x_product.value_counts()"
   ]
  },
  {
   "cell_type": "code",
   "execution_count": 210,
   "metadata": {},
   "outputs": [
    {
     "data": {
      "text/plain": [
       "(5562402, 3)"
      ]
     },
     "execution_count": 210,
     "metadata": {},
     "output_type": "execute_result"
    }
   ],
   "source": [
    "produniq.shape"
   ]
  },
  {
   "cell_type": "code",
   "execution_count": 211,
   "metadata": {},
   "outputs": [
    {
     "data": {
      "text/plain": [
       "True     2763638\n",
       "False      10134\n",
       "Name: origId, dtype: int64"
      ]
     },
     "execution_count": 211,
     "metadata": {},
     "output_type": "execute_result"
    }
   ],
   "source": [
    "elig1617.origId.isin(produniq.person_xref_key).value_counts()"
   ]
  },
  {
   "cell_type": "code",
   "execution_count": 217,
   "metadata": {},
   "outputs": [
    {
     "data": {
      "text/html": [
       "<div>\n",
       "<style scoped>\n",
       "    .dataframe tbody tr th:only-of-type {\n",
       "        vertical-align: middle;\n",
       "    }\n",
       "\n",
       "    .dataframe tbody tr th {\n",
       "        vertical-align: top;\n",
       "    }\n",
       "\n",
       "    .dataframe thead th {\n",
       "        text-align: right;\n",
       "    }\n",
       "</style>\n",
       "<table border=\"1\" class=\"dataframe\">\n",
       "  <thead>\n",
       "    <tr style=\"text-align: right;\">\n",
       "      <th></th>\n",
       "      <th>person_xref_key</th>\n",
       "      <th>x_lob</th>\n",
       "      <th>x_product</th>\n",
       "    </tr>\n",
       "  </thead>\n",
       "  <tbody>\n",
       "    <tr>\n",
       "      <th>0</th>\n",
       "      <td>0</td>\n",
       "      <td>COM</td>\n",
       "      <td>OAP</td>\n",
       "    </tr>\n",
       "    <tr>\n",
       "      <th>1</th>\n",
       "      <td>1000</td>\n",
       "      <td>COM</td>\n",
       "      <td>OAP</td>\n",
       "    </tr>\n",
       "    <tr>\n",
       "      <th>2</th>\n",
       "      <td>10000032</td>\n",
       "      <td>COM</td>\n",
       "      <td>OAP</td>\n",
       "    </tr>\n",
       "    <tr>\n",
       "      <th>3</th>\n",
       "      <td>10000033</td>\n",
       "      <td>COM</td>\n",
       "      <td>OAP</td>\n",
       "    </tr>\n",
       "    <tr>\n",
       "      <th>4</th>\n",
       "      <td>10000055</td>\n",
       "      <td>COM</td>\n",
       "      <td>OAP</td>\n",
       "    </tr>\n",
       "  </tbody>\n",
       "</table>\n",
       "</div>"
      ],
      "text/plain": [
       "  person_xref_key x_lob x_product\n",
       "0               0   COM       OAP\n",
       "1            1000   COM       OAP\n",
       "2        10000032   COM       OAP\n",
       "3        10000033   COM       OAP\n",
       "4        10000055   COM       OAP"
      ]
     },
     "execution_count": 217,
     "metadata": {},
     "output_type": "execute_result"
    }
   ],
   "source": [
    "produniq.head()"
   ]
  },
  {
   "cell_type": "code",
   "execution_count": 218,
   "metadata": {},
   "outputs": [],
   "source": [
    "produniq.to_csv(\"x_lob_product_2017.csv\",index=False)"
   ]
  },
  {
   "cell_type": "markdown",
   "metadata": {},
   "source": [
    "# risk score"
   ]
  },
  {
   "cell_type": "code",
   "execution_count": 81,
   "metadata": {},
   "outputs": [],
   "source": [
    "sql=\"\"\"\n",
    "SELECT distinct person_xref_key, \n",
    "24 AS elg_months FROM (\n",
    "SELECT  person_xref_key,\n",
    "BOOL_AND(member_mon_med)\n",
    "FROM public.member_months\n",
    "WHERE SUBSTRING(year_month, 1, 4) in ('2016', '2017')\n",
    "GROUP BY person_xref_key \n",
    "HAVING BOOL_AND(member_mon_med) IS true)\n",
    "\"\"\""
   ]
  },
  {
   "cell_type": "code",
   "execution_count": 82,
   "metadata": {},
   "outputs": [],
   "source": [
    "eligcount = pd.read_sql(sql,con)"
   ]
  },
  {
   "cell_type": "code",
   "execution_count": 83,
   "metadata": {},
   "outputs": [
    {
     "data": {
      "text/html": [
       "<div>\n",
       "<style scoped>\n",
       "    .dataframe tbody tr th:only-of-type {\n",
       "        vertical-align: middle;\n",
       "    }\n",
       "\n",
       "    .dataframe tbody tr th {\n",
       "        vertical-align: top;\n",
       "    }\n",
       "\n",
       "    .dataframe thead th {\n",
       "        text-align: right;\n",
       "    }\n",
       "</style>\n",
       "<table border=\"1\" class=\"dataframe\">\n",
       "  <thead>\n",
       "    <tr style=\"text-align: right;\">\n",
       "      <th></th>\n",
       "      <th>person_xref_key</th>\n",
       "      <th>elg_months</th>\n",
       "    </tr>\n",
       "  </thead>\n",
       "  <tbody>\n",
       "    <tr>\n",
       "      <th>0</th>\n",
       "      <td>24560075</td>\n",
       "      <td>24</td>\n",
       "    </tr>\n",
       "    <tr>\n",
       "      <th>1</th>\n",
       "      <td>76482078</td>\n",
       "      <td>24</td>\n",
       "    </tr>\n",
       "    <tr>\n",
       "      <th>2</th>\n",
       "      <td>68434926</td>\n",
       "      <td>24</td>\n",
       "    </tr>\n",
       "    <tr>\n",
       "      <th>3</th>\n",
       "      <td>39073297</td>\n",
       "      <td>24</td>\n",
       "    </tr>\n",
       "    <tr>\n",
       "      <th>4</th>\n",
       "      <td>26610660</td>\n",
       "      <td>24</td>\n",
       "    </tr>\n",
       "  </tbody>\n",
       "</table>\n",
       "</div>"
      ],
      "text/plain": [
       "  person_xref_key  elg_months\n",
       "0        24560075          24\n",
       "1        76482078          24\n",
       "2        68434926          24\n",
       "3        39073297          24\n",
       "4        26610660          24"
      ]
     },
     "execution_count": 83,
     "metadata": {},
     "output_type": "execute_result"
    }
   ],
   "source": [
    "eligcount.head()"
   ]
  },
  {
   "cell_type": "code",
   "execution_count": 88,
   "metadata": {},
   "outputs": [
    {
     "data": {
      "text/plain": [
       "person_xref_key    object\n",
       "elg_months          int64\n",
       "dtype: object"
      ]
     },
     "execution_count": 88,
     "metadata": {},
     "output_type": "execute_result"
    }
   ],
   "source": [
    "eligcount.dtypes"
   ]
  },
  {
   "cell_type": "code",
   "execution_count": null,
   "metadata": {},
   "outputs": [],
   "source": []
  },
  {
   "cell_type": "code",
   "execution_count": 85,
   "metadata": {},
   "outputs": [],
   "source": [
    "df = pd.read_csv(\"V3_DF2.csv\",usecols=['INDIV_ENTERPRISE_ID'])"
   ]
  },
  {
   "cell_type": "code",
   "execution_count": 89,
   "metadata": {},
   "outputs": [
    {
     "data": {
      "text/plain": [
       "(2538857, 1)"
      ]
     },
     "execution_count": 89,
     "metadata": {},
     "output_type": "execute_result"
    },
    {
     "data": {
      "text/plain": [
       "INDIV_ENTERPRISE_ID    int64\n",
       "dtype: object"
      ]
     },
     "execution_count": 89,
     "metadata": {},
     "output_type": "execute_result"
    }
   ],
   "source": [
    "df.shape\n",
    "df.dtypes"
   ]
  },
  {
   "cell_type": "code",
   "execution_count": 91,
   "metadata": {},
   "outputs": [
    {
     "data": {
      "text/html": [
       "<div>\n",
       "<style scoped>\n",
       "    .dataframe tbody tr th:only-of-type {\n",
       "        vertical-align: middle;\n",
       "    }\n",
       "\n",
       "    .dataframe tbody tr th {\n",
       "        vertical-align: top;\n",
       "    }\n",
       "\n",
       "    .dataframe thead th {\n",
       "        text-align: right;\n",
       "    }\n",
       "</style>\n",
       "<table border=\"1\" class=\"dataframe\">\n",
       "  <thead>\n",
       "    <tr style=\"text-align: right;\">\n",
       "      <th></th>\n",
       "      <th>INDIV_ENTERPRISE_ID</th>\n",
       "    </tr>\n",
       "  </thead>\n",
       "  <tbody>\n",
       "    <tr>\n",
       "      <th>0</th>\n",
       "      <td>32811592</td>\n",
       "    </tr>\n",
       "    <tr>\n",
       "      <th>1</th>\n",
       "      <td>37565124</td>\n",
       "    </tr>\n",
       "    <tr>\n",
       "      <th>2</th>\n",
       "      <td>97536238</td>\n",
       "    </tr>\n",
       "    <tr>\n",
       "      <th>3</th>\n",
       "      <td>49810006</td>\n",
       "    </tr>\n",
       "    <tr>\n",
       "      <th>4</th>\n",
       "      <td>84487065</td>\n",
       "    </tr>\n",
       "  </tbody>\n",
       "</table>\n",
       "</div>"
      ],
      "text/plain": [
       "   INDIV_ENTERPRISE_ID\n",
       "0             32811592\n",
       "1             37565124\n",
       "2             97536238\n",
       "3             49810006\n",
       "4             84487065"
      ]
     },
     "execution_count": 91,
     "metadata": {},
     "output_type": "execute_result"
    }
   ],
   "source": [
    "df.head()"
   ]
  },
  {
   "cell_type": "code",
   "execution_count": 96,
   "metadata": {
    "scrolled": true
   },
   "outputs": [
    {
     "data": {
      "text/plain": [
       "2538857"
      ]
     },
     "execution_count": 96,
     "metadata": {},
     "output_type": "execute_result"
    }
   ],
   "source": [
    "len((set.intersection(set(df.INDIV_ENTERPRISE_ID.astype(int)),set(eligcount.person_xref_key.astype(int)))))"
   ]
  },
  {
   "cell_type": "code",
   "execution_count": null,
   "metadata": {},
   "outputs": [],
   "source": []
  },
  {
   "cell_type": "code",
   "execution_count": 68,
   "metadata": {},
   "outputs": [],
   "source": [
    "sql=\"\"\"\n",
    "WITH e AS (\n",
    "SELECT DISTINCT person_xref_key, \n",
    "24 AS elg_months FROM (\n",
    "SELECT  person_xref_key,\n",
    "BOOL_AND(member_mon_med)\n",
    "FROM public.member_months\n",
    "WHERE SUBSTRING(year_month, 1, 4) in ('2016', '2017')\n",
    "GROUP BY person_xref_key \n",
    "HAVING BOOL_AND(member_mon_med) IS true)\n",
    "),\n",
    "r AS (\n",
    "SELECT person_xref_key, result_date, risk_score_num\n",
    "FROM public.x_membr_risk_fact\n",
    "WHERE SUBSTRING(result_date, 1, 4) in ('2017')\n",
    "AND fact_id = 'CGN_FCT_276'\n",
    "AND membr_fact_valid_ind = 'Y'\n",
    ")\n",
    "SELECT r.person_xref_key, r.result_date, r.risk_score_num\n",
    "FROM r \n",
    "JOIN e \n",
    "ON e.person_xref_key = r.person_xref_key \n",
    "\n",
    "--limit 100;\n",
    "\"\"\""
   ]
  },
  {
   "cell_type": "code",
   "execution_count": 69,
   "metadata": {},
   "outputs": [],
   "source": [
    "elig = pd.read_sql(sql,con)"
   ]
  },
  {
   "cell_type": "code",
   "execution_count": 70,
   "metadata": {},
   "outputs": [
    {
     "data": {
      "text/plain": [
       "(254932, 3)"
      ]
     },
     "execution_count": 70,
     "metadata": {},
     "output_type": "execute_result"
    }
   ],
   "source": [
    "elig.shape"
   ]
  },
  {
   "cell_type": "code",
   "execution_count": 71,
   "metadata": {},
   "outputs": [
    {
     "data": {
      "text/plain": [
       "254608"
      ]
     },
     "execution_count": 71,
     "metadata": {},
     "output_type": "execute_result"
    }
   ],
   "source": [
    "elig.person_xref_key.nunique()"
   ]
  },
  {
   "cell_type": "code",
   "execution_count": 72,
   "metadata": {},
   "outputs": [
    {
     "data": {
      "text/html": [
       "<div>\n",
       "<style scoped>\n",
       "    .dataframe tbody tr th:only-of-type {\n",
       "        vertical-align: middle;\n",
       "    }\n",
       "\n",
       "    .dataframe tbody tr th {\n",
       "        vertical-align: top;\n",
       "    }\n",
       "\n",
       "    .dataframe thead th {\n",
       "        text-align: right;\n",
       "    }\n",
       "</style>\n",
       "<table border=\"1\" class=\"dataframe\">\n",
       "  <thead>\n",
       "    <tr style=\"text-align: right;\">\n",
       "      <th></th>\n",
       "      <th>person_xref_key</th>\n",
       "      <th>result_date</th>\n",
       "      <th>risk_score_num</th>\n",
       "    </tr>\n",
       "  </thead>\n",
       "  <tbody>\n",
       "    <tr>\n",
       "      <th>0</th>\n",
       "      <td>846661</td>\n",
       "      <td>2017-12-26</td>\n",
       "      <td>0.090626</td>\n",
       "    </tr>\n",
       "    <tr>\n",
       "      <th>1</th>\n",
       "      <td>74906016</td>\n",
       "      <td>2017-12-26</td>\n",
       "      <td>0.013609</td>\n",
       "    </tr>\n",
       "    <tr>\n",
       "      <th>2</th>\n",
       "      <td>14933972</td>\n",
       "      <td>2017-07-18</td>\n",
       "      <td>0.011490</td>\n",
       "    </tr>\n",
       "    <tr>\n",
       "      <th>3</th>\n",
       "      <td>64042565</td>\n",
       "      <td>2017-01-03</td>\n",
       "      <td>0.013265</td>\n",
       "    </tr>\n",
       "    <tr>\n",
       "      <th>4</th>\n",
       "      <td>47469782</td>\n",
       "      <td>2017-03-27</td>\n",
       "      <td>0.026940</td>\n",
       "    </tr>\n",
       "  </tbody>\n",
       "</table>\n",
       "</div>"
      ],
      "text/plain": [
       "  person_xref_key result_date  risk_score_num\n",
       "0          846661  2017-12-26        0.090626\n",
       "1        74906016  2017-12-26        0.013609\n",
       "2        14933972  2017-07-18        0.011490\n",
       "3        64042565  2017-01-03        0.013265\n",
       "4        47469782  2017-03-27        0.026940"
      ]
     },
     "execution_count": 72,
     "metadata": {},
     "output_type": "execute_result"
    }
   ],
   "source": [
    "elig.head()"
   ]
  },
  {
   "cell_type": "code",
   "execution_count": 73,
   "metadata": {},
   "outputs": [],
   "source": [
    "elig2 = elig[elig.risk_score_num>0.2].copy()"
   ]
  },
  {
   "cell_type": "code",
   "execution_count": 74,
   "metadata": {},
   "outputs": [
    {
     "data": {
      "text/plain": [
       "15712"
      ]
     },
     "execution_count": 74,
     "metadata": {},
     "output_type": "execute_result"
    }
   ],
   "source": [
    "elig2.person_xref_key.nunique()"
   ]
  },
  {
   "cell_type": "code",
   "execution_count": 76,
   "metadata": {},
   "outputs": [
    {
     "data": {
      "text/plain": [
       "0.061710551121724376"
      ]
     },
     "execution_count": 76,
     "metadata": {},
     "output_type": "execute_result"
    }
   ],
   "source": [
    "15712./254608"
   ]
  },
  {
   "cell_type": "code",
   "execution_count": 80,
   "metadata": {},
   "outputs": [
    {
     "data": {
      "text/plain": [
       "0.0917912503262705"
      ]
     },
     "execution_count": 80,
     "metadata": {},
     "output_type": "execute_result"
    }
   ],
   "source": [
    "254608./2773772"
   ]
  },
  {
   "cell_type": "markdown",
   "metadata": {},
   "source": [
    "# Oncology CM"
   ]
  },
  {
   "cell_type": "markdown",
   "metadata": {},
   "source": [
    "## risk level"
   ]
  },
  {
   "cell_type": "code",
   "execution_count": 108,
   "metadata": {},
   "outputs": [],
   "source": [
    "sql=\"\"\"\n",
    "select \n",
    "    count(distinct person_id),\n",
    "    csm_ty_cd,\n",
    "    dtl_onclgy_risk_lvl_cd\n",
    "from public.x_case_management\n",
    "where csm_ty_cd IN ('CMOC')\n",
    "group by csm_ty_cd,dtl_onclgy_risk_lvl_cd;\n",
    "\"\"\""
   ]
  },
  {
   "cell_type": "code",
   "execution_count": 109,
   "metadata": {},
   "outputs": [],
   "source": [
    "df = pd.read_sql(sql,con)"
   ]
  },
  {
   "cell_type": "code",
   "execution_count": 110,
   "metadata": {},
   "outputs": [
    {
     "data": {
      "text/plain": [
       "(6, 3)"
      ]
     },
     "execution_count": 110,
     "metadata": {},
     "output_type": "execute_result"
    }
   ],
   "source": [
    "df.shape"
   ]
  },
  {
   "cell_type": "code",
   "execution_count": 111,
   "metadata": {
    "scrolled": false
   },
   "outputs": [
    {
     "data": {
      "text/html": [
       "<div>\n",
       "<style scoped>\n",
       "    .dataframe tbody tr th:only-of-type {\n",
       "        vertical-align: middle;\n",
       "    }\n",
       "\n",
       "    .dataframe tbody tr th {\n",
       "        vertical-align: top;\n",
       "    }\n",
       "\n",
       "    .dataframe thead th {\n",
       "        text-align: right;\n",
       "    }\n",
       "</style>\n",
       "<table border=\"1\" class=\"dataframe\">\n",
       "  <thead>\n",
       "    <tr style=\"text-align: right;\">\n",
       "      <th></th>\n",
       "      <th>count</th>\n",
       "      <th>csm_ty_cd</th>\n",
       "      <th>dtl_onclgy_risk_lvl_cd</th>\n",
       "    </tr>\n",
       "  </thead>\n",
       "  <tbody>\n",
       "    <tr>\n",
       "      <th>2</th>\n",
       "      <td>175</td>\n",
       "      <td>CMOC</td>\n",
       "      <td>COMP</td>\n",
       "    </tr>\n",
       "    <tr>\n",
       "      <th>5</th>\n",
       "      <td>3227</td>\n",
       "      <td>CMOC</td>\n",
       "      <td>STR1</td>\n",
       "    </tr>\n",
       "    <tr>\n",
       "      <th>4</th>\n",
       "      <td>5886</td>\n",
       "      <td>CMOC</td>\n",
       "      <td>STR2</td>\n",
       "    </tr>\n",
       "    <tr>\n",
       "      <th>0</th>\n",
       "      <td>12519</td>\n",
       "      <td>CMOC</td>\n",
       "      <td>STR3</td>\n",
       "    </tr>\n",
       "    <tr>\n",
       "      <th>3</th>\n",
       "      <td>1387</td>\n",
       "      <td>CMOC</td>\n",
       "      <td>STR4</td>\n",
       "    </tr>\n",
       "    <tr>\n",
       "      <th>1</th>\n",
       "      <td>1847</td>\n",
       "      <td>CMOC</td>\n",
       "      <td>None</td>\n",
       "    </tr>\n",
       "  </tbody>\n",
       "</table>\n",
       "</div>"
      ],
      "text/plain": [
       "   count csm_ty_cd dtl_onclgy_risk_lvl_cd\n",
       "2    175      CMOC                   COMP\n",
       "5   3227      CMOC                   STR1\n",
       "4   5886      CMOC                   STR2\n",
       "0  12519      CMOC                   STR3\n",
       "3   1387      CMOC                   STR4\n",
       "1   1847      CMOC                   None"
      ]
     },
     "execution_count": 111,
     "metadata": {},
     "output_type": "execute_result"
    }
   ],
   "source": [
    "df.sort_values('dtl_onclgy_risk_lvl_cd').head(50)"
   ]
  },
  {
   "cell_type": "code",
   "execution_count": 105,
   "metadata": {},
   "outputs": [
    {
     "data": {
      "text/html": [
       "<div>\n",
       "<style scoped>\n",
       "    .dataframe tbody tr th:only-of-type {\n",
       "        vertical-align: middle;\n",
       "    }\n",
       "\n",
       "    .dataframe tbody tr th {\n",
       "        vertical-align: top;\n",
       "    }\n",
       "\n",
       "    .dataframe thead th {\n",
       "        text-align: right;\n",
       "    }\n",
       "</style>\n",
       "<table border=\"1\" class=\"dataframe\">\n",
       "  <thead>\n",
       "    <tr style=\"text-align: right;\">\n",
       "      <th></th>\n",
       "      <th>count</th>\n",
       "      <th>csm_ty_cd</th>\n",
       "      <th>dtl_onclgy_risk_lvl_cd</th>\n",
       "    </tr>\n",
       "  </thead>\n",
       "  <tbody>\n",
       "    <tr>\n",
       "      <th>4</th>\n",
       "      <td>3</td>\n",
       "      <td>CMON</td>\n",
       "      <td>STR1</td>\n",
       "    </tr>\n",
       "    <tr>\n",
       "      <th>3</th>\n",
       "      <td>3</td>\n",
       "      <td>CMON</td>\n",
       "      <td>STR2</td>\n",
       "    </tr>\n",
       "    <tr>\n",
       "      <th>1</th>\n",
       "      <td>113</td>\n",
       "      <td>CMON</td>\n",
       "      <td>STR3</td>\n",
       "    </tr>\n",
       "    <tr>\n",
       "      <th>2</th>\n",
       "      <td>34</td>\n",
       "      <td>CMON</td>\n",
       "      <td>STR4</td>\n",
       "    </tr>\n",
       "    <tr>\n",
       "      <th>0</th>\n",
       "      <td>10973</td>\n",
       "      <td>CMON</td>\n",
       "      <td>None</td>\n",
       "    </tr>\n",
       "  </tbody>\n",
       "</table>\n",
       "</div>"
      ],
      "text/plain": [
       "   count csm_ty_cd dtl_onclgy_risk_lvl_cd\n",
       "4      3      CMON                   STR1\n",
       "3      3      CMON                   STR2\n",
       "1    113      CMON                   STR3\n",
       "2     34      CMON                   STR4\n",
       "0  10973      CMON                   None"
      ]
     },
     "execution_count": 105,
     "metadata": {},
     "output_type": "execute_result"
    }
   ],
   "source": [
    "df.sort_values('dtl_onclgy_risk_lvl_cd').head(50)"
   ]
  },
  {
   "cell_type": "code",
   "execution_count": null,
   "metadata": {},
   "outputs": [],
   "source": []
  },
  {
   "cell_type": "markdown",
   "metadata": {},
   "source": [
    "## intensity level"
   ]
  },
  {
   "cell_type": "code",
   "execution_count": 90,
   "metadata": {},
   "outputs": [],
   "source": [
    "sql=\"\"\"\n",
    "select \n",
    "    count(distinct person_id),\n",
    "    csm_ty_cd,\n",
    "    csm_intsty_lvl_cd    \n",
    "from public.x_case_management\n",
    "where csm_ty_cd IN ('CMOC','CMON')\n",
    "group by csm_ty_cd,csm_intsty_lvl_cd;\n",
    "\"\"\""
   ]
  },
  {
   "cell_type": "code",
   "execution_count": 91,
   "metadata": {},
   "outputs": [],
   "source": [
    "df = pd.read_sql(sql,con)"
   ]
  },
  {
   "cell_type": "code",
   "execution_count": 92,
   "metadata": {},
   "outputs": [
    {
     "data": {
      "text/plain": [
       "(8, 3)"
      ]
     },
     "execution_count": 92,
     "metadata": {},
     "output_type": "execute_result"
    }
   ],
   "source": [
    "df.shape"
   ]
  },
  {
   "cell_type": "code",
   "execution_count": 93,
   "metadata": {},
   "outputs": [
    {
     "data": {
      "text/html": [
       "<div>\n",
       "<style scoped>\n",
       "    .dataframe tbody tr th:only-of-type {\n",
       "        vertical-align: middle;\n",
       "    }\n",
       "\n",
       "    .dataframe tbody tr th {\n",
       "        vertical-align: top;\n",
       "    }\n",
       "\n",
       "    .dataframe thead th {\n",
       "        text-align: right;\n",
       "    }\n",
       "</style>\n",
       "<table border=\"1\" class=\"dataframe\">\n",
       "  <thead>\n",
       "    <tr style=\"text-align: right;\">\n",
       "      <th></th>\n",
       "      <th>count</th>\n",
       "      <th>csm_ty_cd</th>\n",
       "      <th>csm_intsty_lvl_cd</th>\n",
       "    </tr>\n",
       "  </thead>\n",
       "  <tbody>\n",
       "    <tr>\n",
       "      <th>6</th>\n",
       "      <td>18</td>\n",
       "      <td>CMOC</td>\n",
       "      <td>0004</td>\n",
       "    </tr>\n",
       "    <tr>\n",
       "      <th>7</th>\n",
       "      <td>13</td>\n",
       "      <td>CMON</td>\n",
       "      <td>0004</td>\n",
       "    </tr>\n",
       "    <tr>\n",
       "      <th>0</th>\n",
       "      <td>8048</td>\n",
       "      <td>CMON</td>\n",
       "      <td>0005</td>\n",
       "    </tr>\n",
       "    <tr>\n",
       "      <th>2</th>\n",
       "      <td>11630</td>\n",
       "      <td>CMOC</td>\n",
       "      <td>0005</td>\n",
       "    </tr>\n",
       "    <tr>\n",
       "      <th>4</th>\n",
       "      <td>147</td>\n",
       "      <td>CMOC</td>\n",
       "      <td>0006</td>\n",
       "    </tr>\n",
       "    <tr>\n",
       "      <th>5</th>\n",
       "      <td>41</td>\n",
       "      <td>CMON</td>\n",
       "      <td>0006</td>\n",
       "    </tr>\n",
       "    <tr>\n",
       "      <th>1</th>\n",
       "      <td>3982</td>\n",
       "      <td>CMON</td>\n",
       "      <td>0007</td>\n",
       "    </tr>\n",
       "    <tr>\n",
       "      <th>3</th>\n",
       "      <td>12846</td>\n",
       "      <td>CMOC</td>\n",
       "      <td>0007</td>\n",
       "    </tr>\n",
       "  </tbody>\n",
       "</table>\n",
       "</div>"
      ],
      "text/plain": [
       "   count csm_ty_cd csm_intsty_lvl_cd\n",
       "6     18      CMOC              0004\n",
       "7     13      CMON              0004\n",
       "0   8048      CMON              0005\n",
       "2  11630      CMOC              0005\n",
       "4    147      CMOC              0006\n",
       "5     41      CMON              0006\n",
       "1   3982      CMON              0007\n",
       "3  12846      CMOC              0007"
      ]
     },
     "execution_count": 93,
     "metadata": {},
     "output_type": "execute_result"
    }
   ],
   "source": [
    "#df.sort_values('count',ascending=False).head(11)\n",
    "df.sort_values('csm_intsty_lvl_cd').head(50)"
   ]
  },
  {
   "cell_type": "code",
   "execution_count": null,
   "metadata": {},
   "outputs": [],
   "source": []
  }
 ],
 "metadata": {
  "kernelspec": {
   "display_name": "Python 3",
   "language": "python",
   "name": "python3"
  },
  "language_info": {
   "codemirror_mode": {
    "name": "ipython",
    "version": 3
   },
   "file_extension": ".py",
   "mimetype": "text/x-python",
   "name": "python",
   "nbconvert_exporter": "python",
   "pygments_lexer": "ipython3",
   "version": "3.6.6"
  },
  "toc": {
   "base_numbering": 1,
   "nav_menu": {},
   "number_sections": true,
   "sideBar": false,
   "skip_h1_title": false,
   "title_cell": "Table of Contents",
   "title_sidebar": "Contents",
   "toc_cell": false,
   "toc_position": {
    "height": "517px",
    "left": "288px",
    "top": "269.140625px",
    "width": "376px"
   },
   "toc_section_display": true,
   "toc_window_display": true
  }
 },
 "nbformat": 4,
 "nbformat_minor": 2
}
